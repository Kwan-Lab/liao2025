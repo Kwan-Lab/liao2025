{
 "cells": [
  {
   "cell_type": "markdown",
   "id": "db3ad7c5",
   "metadata": {},
   "source": [
    "notebook 05a produced this figure originally but we decided best to hierarchically cluster all DE genes from both Excit and CIN together to make cross-cell-type comparisions better"
   ]
  },
  {
   "cell_type": "code",
   "execution_count": 1,
   "id": "78352ecc",
   "metadata": {},
   "outputs": [
    {
     "name": "stdout",
     "output_type": "stream",
     "text": [
      "scanpy==1.10.3 anndata==0.8.0 umap==0.5.3 numpy==1.23.0 scipy==1.13.1 pandas==1.5.3 scikit-learn==1.5.0 statsmodels==0.13.5 igraph==0.11.6 pynndescent==0.5.8\n"
     ]
    }
   ],
   "source": [
    "# Built-in\n",
    "import os\n",
    "import math\n",
    "import itertools\n",
    "import multiprocessing\n",
    "import statistics\n",
    "\n",
    "# Analysis packages\n",
    "import scanpy as sc\n",
    "import anndata as ad\n",
    "from adpbulk import ADPBulk\n",
    "import numpy as np\n",
    "import pandas as pd\n",
    "import memento\n",
    "from statsmodels.compat import lzip\n",
    "from statsmodels.stats.multitest import multipletests\n",
    "import statsmodels.api as sm\n",
    "import statsmodels.stats.api as sms\n",
    "import scipy.stats as scipystats\n",
    "from sklearn.decomposition import PCA\n",
    "from sklearn import manifold\n",
    "import sklearn.cluster as clustering\n",
    "from tslearn.clustering import KShape\n",
    "import h5py\n",
    "\n",
    "# Plotting packages\n",
    "import matplotlib.pyplot as plt\n",
    "from matplotlib.lines import Line2D\n",
    "import matplotlib.cm as cm\n",
    "from matplotlib.colors import LinearSegmentedColormap, ListedColormap\n",
    "import matplotlib.patheffects as path_effects\n",
    "from pathlib import Path\n",
    "import seaborn as sns\n",
    "from adjustText import adjust_text\n",
    "\n",
    "# Set number of cores to use\n",
    "sc.settings.n_jobs = 8\n",
    "\n",
    "sc.logging.print_header()"
   ]
  },
  {
   "cell_type": "code",
   "execution_count": 2,
   "id": "be13931c",
   "metadata": {},
   "outputs": [],
   "source": [
    "pd.set_option('display.max_columns', 40)"
   ]
  },
  {
   "cell_type": "code",
   "execution_count": 3,
   "id": "5d2f938a",
   "metadata": {},
   "outputs": [],
   "source": [
    "# Set autoreload settings. With this code,\n",
    "# changing settings.py (see next cell) automatically loads the new settings in here too.\n",
    "%load_ext autoreload\n",
    "%autoreload 1\n",
    "\n",
    "# Modify settings from this file (figure path, subsetting settings, etc)\n",
    "# The file is located in this directory (settings.py)\n",
    "%aimport settings"
   ]
  },
  {
   "cell_type": "markdown",
   "id": "7cc18429",
   "metadata": {},
   "source": [
    "# Overhead"
   ]
  },
  {
   "cell_type": "code",
   "execution_count": 4,
   "id": "d10a261f",
   "metadata": {},
   "outputs": [
    {
     "data": {
      "image/png": "[encoded data removed]",
      "text/plain": [
       "<Figure size 864x144 with 1 Axes>"
      ]
     },
     "metadata": {
      "needs_background": "light"
     },
     "output_type": "display_data"
    }
   ],
   "source": [
    "# Define the extended color list\n",
    "colors_19 = [\n",
    "    \"#F4C700\", \"#8650F5\", \"#B00B00\", \"#FE6100\", \"#648FFF\",\n",
    "    \"#A9CFA4\", \"#A3B5CC\", \"#D8A4C7\", \"#A8DADC\", \"#FFDAB9\",\n",
    "    \"#E6E6FA\", \"#FFFACD\", \"#FFB6C1\", \"#F4A89A\", \"#D4F1B0\",\n",
    "    \"#98D2B5\", \"#C7EAF2\", \"#DAC0E2\", \"#D9E3A8\",\n",
    "]\n",
    "\n",
    "# Create a ListedColormap\n",
    "custom_cmap = ListedColormap(colors_19)\n",
    "\n",
    "# Display the colormap using a colorbar\n",
    "fig, ax = plt.subplots(figsize=(12, 2))\n",
    "fig.subplots_adjust(bottom=0.5)\n",
    "\n",
    "# Create a colorbar with the custom cmap\n",
    "cbar = plt.colorbar(\n",
    "    plt.cm.ScalarMappable(cmap=custom_cmap), \n",
    "    cax=ax, orientation='horizontal', ticks=[]\n",
    ")\n",
    "\n",
    "# Use the colors as category labels\n",
    "cbar.set_ticks([i / 22.0 for i in range(len(colors_19))])\n",
    "cbar.set_ticklabels([f'Category {i + 1}' for i in range(len(colors_19))])\n",
    "\n",
    "# Display the colorbar\n",
    "plt.show()"
   ]
  },
  {
   "cell_type": "code",
   "execution_count": 46,
   "id": "a2e27fd0",
   "metadata": {},
   "outputs": [],
   "source": [
    "grouped_colors = colors_19[0:3]\n",
    "grouped_color_order = ['PT', 'IT', 'CIN']"
   ]
  },
  {
   "cell_type": "code",
   "execution_count": 5,
   "id": "34df20e7",
   "metadata": {},
   "outputs": [],
   "source": [
    "cluster_colors = colors_19[0:5]\n",
    "color_order = ['L5-PT','IT','CIN-PV','CIN-SST','CIN-VIP']"
   ]
  },
  {
   "cell_type": "code",
   "execution_count": 6,
   "id": "9a15eb16",
   "metadata": {},
   "outputs": [
    {
     "data": {
      "text/plain": [
       "(-0.04, 2.04)"
      ]
     },
     "execution_count": 6,
     "metadata": {},
     "output_type": "execute_result"
    }
   ],
   "source": [
    "def extend_limits(t, buffer=0.02):\n",
    "    lower = t[0]\n",
    "    upper = t[1]\n",
    "    extension = buffer * (upper - lower)\n",
    "    return (lower - extension, upper + extension)\n",
    "extend_limits((0,2))"
   ]
  },
  {
   "cell_type": "code",
   "execution_count": 7,
   "id": "41bccc91",
   "metadata": {},
   "outputs": [
    {
     "data": {
      "text/plain": [
       "AnnData object with n_obs × n_vars = 264420 × 24181\n",
       "    obs: 'time', 'time_str', 'drug', 'sex', 'approx_reads_per_cell', 'date', 'label', 'batch', 'sample', 'n_genes_by_counts', 'log1p_n_genes_by_counts', 'total_counts', 'log1p_total_counts', 'n_counts', 'n_genes', 'doublet_score', 'log10_gene_counts', 'log10_UMI_counts', 'percent_mito', 'percent_ribo', 'leiden', 'id', 'name', 'color'\n",
       "    var: 'gene_name', 'gene_ids', 'feature_types', 'genome', 'non-unique_names', 'n_cells_by_counts', 'mean_counts', 'log1p_mean_counts', 'pct_dropout_by_counts', 'total_counts', 'log1p_total_counts', 'n_counts', 'n_cells', 'highly_variable', 'means', 'dispersions', 'dispersions_norm'\n",
       "    uns: 'dendrogram_leiden', 'hvg', 'label_colors', 'label_colors_dict', 'label_order', 'log1p', 'name_colors', 'rank_genes_groups', 'scrublet', 'stage_colors_dict', 'stage_order'\n",
       "    obsm: 'X_pca', 'X_umap'\n",
       "    layers: 'ds_norm_cts', 'raw-cts_pre-ds'\n",
       "    obsp: 'connectivities', 'distances'"
      ]
     },
     "execution_count": 7,
     "metadata": {},
     "output_type": "execute_result"
    }
   ],
   "source": [
    "adata = sc.read(\"post-wt-clustering-with-markers.h5ad\")\n",
    "adata"
   ]
  },
  {
   "cell_type": "code",
   "execution_count": 8,
   "id": "f61d2e54",
   "metadata": {},
   "outputs": [],
   "source": [
    "dendro_ordered_cluster_ids = adata.uns['dendrogram_leiden']['categories_ordered']"
   ]
  },
  {
   "cell_type": "code",
   "execution_count": 9,
   "id": "97e503ff",
   "metadata": {},
   "outputs": [],
   "source": [
    "drugs = [\"none\", \"Ket\", \"Psilo\"]\n",
    "times = adata.uns[\"stage_order\"]\n",
    "clusters = ['0','1','2','3','4','5','6','7','8','9','10','12']\n",
    "cluster_names = ['L2/3-IT','L6-CT','L4/5-IT','L4-IT',\n",
    "                 'Oligodendrocytes','L5/6-IT','Astrocytes','L5-PT','CIN-PV',\n",
    "                 'OPC','CIN-SST','CIN-VIP']"
   ]
  },
  {
   "cell_type": "code",
   "execution_count": 10,
   "id": "2ffe3869",
   "metadata": {},
   "outputs": [],
   "source": [
    "lump_excitatory = ['L2/3-IT','L6-CT','L4/5-IT','L4-IT','L5/6-IT','L5-PT']\n",
    "lump_cin = ['CIN-PV','CIN-SST','CIN-VIP']"
   ]
  },
  {
   "cell_type": "code",
   "execution_count": 11,
   "id": "70c31f1a",
   "metadata": {},
   "outputs": [],
   "source": [
    "trt_drugs = drugs[1:]\n",
    "trt_times = times[1:]"
   ]
  },
  {
   "cell_type": "code",
   "execution_count": 12,
   "id": "ddb155c3",
   "metadata": {},
   "outputs": [
    {
     "data": {
      "text/html": [
       "<div>\n",
       "<style scoped>\n",
       "    .dataframe tbody tr th:only-of-type {\n",
       "        vertical-align: middle;\n",
       "    }\n",
       "\n",
       "    .dataframe tbody tr th {\n",
       "        vertical-align: top;\n",
       "    }\n",
       "\n",
       "    .dataframe thead th {\n",
       "        text-align: right;\n",
       "    }\n",
       "</style>\n",
       "<table border=\"1\" class=\"dataframe\">\n",
       "  <thead>\n",
       "    <tr style=\"text-align: right;\">\n",
       "      <th></th>\n",
       "      <th>id</th>\n",
       "      <th>name</th>\n",
       "      <th>color</th>\n",
       "    </tr>\n",
       "  </thead>\n",
       "  <tbody>\n",
       "    <tr>\n",
       "      <th>1</th>\n",
       "      <td>1</td>\n",
       "      <td>L6-CT</td>\n",
       "      <td>#A9CFA4</td>\n",
       "    </tr>\n",
       "    <tr>\n",
       "      <th>7</th>\n",
       "      <td>7</td>\n",
       "      <td>L5-PT</td>\n",
       "      <td>#F4C700</td>\n",
       "    </tr>\n",
       "    <tr>\n",
       "      <th>2</th>\n",
       "      <td>2</td>\n",
       "      <td>L4/5-IT</td>\n",
       "      <td>#8650F5</td>\n",
       "    </tr>\n",
       "    <tr>\n",
       "      <th>3</th>\n",
       "      <td>3</td>\n",
       "      <td>L4-IT</td>\n",
       "      <td>#4F19BE</td>\n",
       "    </tr>\n",
       "    <tr>\n",
       "      <th>0</th>\n",
       "      <td>0</td>\n",
       "      <td>L2/3-IT</td>\n",
       "      <td>#7662A0</td>\n",
       "    </tr>\n",
       "    <tr>\n",
       "      <th>5</th>\n",
       "      <td>5</td>\n",
       "      <td>L5/6-IT</td>\n",
       "      <td>#BA98FF</td>\n",
       "    </tr>\n",
       "    <tr>\n",
       "      <th>11</th>\n",
       "      <td>12</td>\n",
       "      <td>CIN-VIP</td>\n",
       "      <td>#648FFF</td>\n",
       "    </tr>\n",
       "    <tr>\n",
       "      <th>8</th>\n",
       "      <td>8</td>\n",
       "      <td>CIN-PV</td>\n",
       "      <td>#B00B00</td>\n",
       "    </tr>\n",
       "    <tr>\n",
       "      <th>10</th>\n",
       "      <td>10</td>\n",
       "      <td>CIN-SST</td>\n",
       "      <td>#FE6100</td>\n",
       "    </tr>\n",
       "    <tr>\n",
       "      <th>4</th>\n",
       "      <td>4</td>\n",
       "      <td>Oligodendrocytes</td>\n",
       "      <td>#A3B5CC</td>\n",
       "    </tr>\n",
       "    <tr>\n",
       "      <th>6</th>\n",
       "      <td>6</td>\n",
       "      <td>Astrocytes</td>\n",
       "      <td>#D8A4C7</td>\n",
       "    </tr>\n",
       "    <tr>\n",
       "      <th>9</th>\n",
       "      <td>9</td>\n",
       "      <td>OPC</td>\n",
       "      <td>#A8DADC</td>\n",
       "    </tr>\n",
       "  </tbody>\n",
       "</table>\n",
       "</div>"
      ],
      "text/plain": [
       "    id              name    color\n",
       "1    1             L6-CT  #A9CFA4\n",
       "7    7             L5-PT  #F4C700\n",
       "2    2           L4/5-IT  #8650F5\n",
       "3    3             L4-IT  #4F19BE\n",
       "0    0           L2/3-IT  #7662A0\n",
       "5    5           L5/6-IT  #BA98FF\n",
       "11  12           CIN-VIP  #648FFF\n",
       "8    8            CIN-PV  #B00B00\n",
       "10  10           CIN-SST  #FE6100\n",
       "4    4  Oligodendrocytes  #A3B5CC\n",
       "6    6        Astrocytes  #D8A4C7\n",
       "9    9               OPC  #A8DADC"
      ]
     },
     "execution_count": 12,
     "metadata": {},
     "output_type": "execute_result"
    }
   ],
   "source": [
    "cluster_lookup = pd.DataFrame({'id':clusters, 'name':cluster_names})\n",
    "cluster_lookup['id'] = pd.Categorical(cluster_lookup['id'], categories=dendro_ordered_cluster_ids, ordered=True)\n",
    "cluster_lookup = cluster_lookup.sort_values('id')\n",
    "cluster_lookup['name'] = pd.Categorical(cluster_lookup['name'], categories=cluster_lookup['name'], ordered=True)\n",
    "cluster_lookup['color'] = adata.uns['name_colors']\n",
    "cluster_lookup"
   ]
  },
  {
   "cell_type": "code",
   "execution_count": 13,
   "id": "fc24d9c6",
   "metadata": {},
   "outputs": [],
   "source": [
    "heatmap_idx = cluster_lookup['name'].to_list()\n",
    "heatmap_cluster_labels = cluster_lookup.apply(lambda row: f\"({row['id']}) {row['name']}\", axis=1).to_list()"
   ]
  },
  {
   "cell_type": "code",
   "execution_count": 41,
   "id": "334c282d",
   "metadata": {},
   "outputs": [],
   "source": [
    "this_figure_dir = f'{settings.fig_path}/figure_7_pseudobulk'\n",
    "os.makedirs(this_figure_dir, exist_ok=True)"
   ]
  },
  {
   "cell_type": "markdown",
   "id": "06a75281",
   "metadata": {},
   "source": [
    "# Gather pseudobulk data"
   ]
  },
  {
   "cell_type": "code",
   "execution_count": 15,
   "id": "c1d78065",
   "metadata": {},
   "outputs": [
    {
     "data": {
      "text/plain": [
       "(array([ 1,  2,  4, 24, 72]), ['Ket', 'Psilo'])"
      ]
     },
     "execution_count": 15,
     "metadata": {},
     "output_type": "execute_result"
    }
   ],
   "source": [
    "trt_times, trt_drugs"
   ]
  },
  {
   "cell_type": "code",
   "execution_count": 21,
   "id": "2faf8000",
   "metadata": {},
   "outputs": [],
   "source": [
    "PT_results = []\n",
    "for time, drug in itertools.product(trt_times, trt_drugs):\n",
    "    deg_results = pd.read_csv(os.path.join(settings.fig_path, \n",
    "                             f'figure_3/pseudobulk_clusters_counts/DEGs_{time}h_{drug}.csv'))\n",
    "    sig_results = deg_results[deg_results['FDR'] < 0.05].copy()\n",
    "    sig_results['time'] = time\n",
    "    sig_results['drug'] = drug\n",
    "    sig_results['celltype'] = 'PT'\n",
    "    PT_results.append(sig_results)\n",
    "    \n",
    "PT_results = pd.concat(PT_results)"
   ]
  },
  {
   "cell_type": "code",
   "execution_count": 22,
   "id": "f44ea5ea",
   "metadata": {},
   "outputs": [],
   "source": [
    "IT_results = []\n",
    "for time, drug in itertools.product(trt_times, trt_drugs):\n",
    "    deg_results = pd.read_csv(os.path.join(settings.fig_path, \n",
    "                             f'figure_4/pseudobulk_clusters_counts/DEGs_{time}h_{drug}.csv'))\n",
    "    sig_results = deg_results[deg_results['FDR'] < 0.05].copy()\n",
    "    sig_results['time'] = time\n",
    "    sig_results['drug'] = drug\n",
    "    sig_results['celltype'] = 'IT'\n",
    "    IT_results.append(sig_results)\n",
    "    \n",
    "IT_results = pd.concat(IT_results)"
   ]
  },
  {
   "cell_type": "code",
   "execution_count": 25,
   "id": "8be3af6b",
   "metadata": {},
   "outputs": [],
   "source": [
    "CIN_results = []\n",
    "for time, drug in itertools.product(trt_times, trt_drugs):\n",
    "    deg_results = pd.read_csv(os.path.join(settings.fig_path, \n",
    "                             f'figure_5/pseudobulk_clusters_counts/DEGs_CIN_{time}h_{drug}.csv'))\n",
    "    sig_results = deg_results[deg_results['FDR'] < 0.05].copy()\n",
    "    sig_results['time'] = time\n",
    "    sig_results['drug'] = drug\n",
    "    sig_results['celltype'] = 'CIN'\n",
    "    CIN_results.append(sig_results)\n",
    "    \n",
    "CIN_results = pd.concat(CIN_results)"
   ]
  },
  {
   "cell_type": "code",
   "execution_count": 38,
   "id": "d61e9d10",
   "metadata": {},
   "outputs": [
    {
     "data": {
      "text/html": [
       "<div>\n",
       "<style scoped>\n",
       "    .dataframe tbody tr th:only-of-type {\n",
       "        vertical-align: middle;\n",
       "    }\n",
       "\n",
       "    .dataframe tbody tr th {\n",
       "        vertical-align: top;\n",
       "    }\n",
       "\n",
       "    .dataframe thead th {\n",
       "        text-align: right;\n",
       "    }\n",
       "</style>\n",
       "<table border=\"1\" class=\"dataframe\">\n",
       "  <thead>\n",
       "    <tr style=\"text-align: right;\">\n",
       "      <th></th>\n",
       "      <th>index</th>\n",
       "      <th>logFC</th>\n",
       "      <th>logCPM</th>\n",
       "      <th>LR</th>\n",
       "      <th>PValue</th>\n",
       "      <th>ctrl.logCPM</th>\n",
       "      <th>cKO.logCPM</th>\n",
       "      <th>gene_name</th>\n",
       "      <th>FDR</th>\n",
       "      <th>time</th>\n",
       "      <th>drug</th>\n",
       "      <th>celltype</th>\n",
       "    </tr>\n",
       "  </thead>\n",
       "  <tbody>\n",
       "    <tr>\n",
       "      <th>0</th>\n",
       "      <td>0</td>\n",
       "      <td>-1.261840</td>\n",
       "      <td>5.334446</td>\n",
       "      <td>54.317854</td>\n",
       "      <td>1.705452e-13</td>\n",
       "      <td>5.564965</td>\n",
       "      <td>4.332361</td>\n",
       "      <td>Coq10b</td>\n",
       "      <td>2.338687e-09</td>\n",
       "      <td>1</td>\n",
       "      <td>Psilo</td>\n",
       "      <td>PT</td>\n",
       "    </tr>\n",
       "    <tr>\n",
       "      <th>1</th>\n",
       "      <td>1</td>\n",
       "      <td>0.834914</td>\n",
       "      <td>7.001861</td>\n",
       "      <td>51.748880</td>\n",
       "      <td>6.307279e-13</td>\n",
       "      <td>6.714294</td>\n",
       "      <td>7.553997</td>\n",
       "      <td>Lyst</td>\n",
       "      <td>3.498436e-09</td>\n",
       "      <td>1</td>\n",
       "      <td>Psilo</td>\n",
       "      <td>PT</td>\n",
       "    </tr>\n",
       "    <tr>\n",
       "      <th>2</th>\n",
       "      <td>2</td>\n",
       "      <td>0.845340</td>\n",
       "      <td>7.428300</td>\n",
       "      <td>51.369056</td>\n",
       "      <td>7.653547e-13</td>\n",
       "      <td>7.135461</td>\n",
       "      <td>7.984226</td>\n",
       "      <td>Cop1</td>\n",
       "      <td>3.498436e-09</td>\n",
       "      <td>1</td>\n",
       "      <td>Psilo</td>\n",
       "      <td>PT</td>\n",
       "    </tr>\n",
       "    <tr>\n",
       "      <th>3</th>\n",
       "      <td>3</td>\n",
       "      <td>2.354544</td>\n",
       "      <td>3.460013</td>\n",
       "      <td>50.360874</td>\n",
       "      <td>1.279193e-12</td>\n",
       "      <td>2.207548</td>\n",
       "      <td>4.628963</td>\n",
       "      <td>AC163685.1</td>\n",
       "      <td>4.385395e-09</td>\n",
       "      <td>1</td>\n",
       "      <td>Psilo</td>\n",
       "      <td>PT</td>\n",
       "    </tr>\n",
       "    <tr>\n",
       "      <th>4</th>\n",
       "      <td>4</td>\n",
       "      <td>0.683456</td>\n",
       "      <td>7.285308</td>\n",
       "      <td>47.430143</td>\n",
       "      <td>5.699943e-12</td>\n",
       "      <td>7.061059</td>\n",
       "      <td>7.745355</td>\n",
       "      <td>Map4k3</td>\n",
       "      <td>1.563266e-08</td>\n",
       "      <td>1</td>\n",
       "      <td>Psilo</td>\n",
       "      <td>PT</td>\n",
       "    </tr>\n",
       "    <tr>\n",
       "      <th>...</th>\n",
       "      <td>...</td>\n",
       "      <td>...</td>\n",
       "      <td>...</td>\n",
       "      <td>...</td>\n",
       "      <td>...</td>\n",
       "      <td>...</td>\n",
       "      <td>...</td>\n",
       "      <td>...</td>\n",
       "      <td>...</td>\n",
       "      <td>...</td>\n",
       "      <td>...</td>\n",
       "      <td>...</td>\n",
       "    </tr>\n",
       "    <tr>\n",
       "      <th>1693</th>\n",
       "      <td>1693</td>\n",
       "      <td>-0.537762</td>\n",
       "      <td>3.727613</td>\n",
       "      <td>7.502071</td>\n",
       "      <td>6.162809e-03</td>\n",
       "      <td>3.841264</td>\n",
       "      <td>3.329736</td>\n",
       "      <td>Dnajb12</td>\n",
       "      <td>4.988456e-02</td>\n",
       "      <td>1</td>\n",
       "      <td>Psilo</td>\n",
       "      <td>PT</td>\n",
       "    </tr>\n",
       "    <tr>\n",
       "      <th>1694</th>\n",
       "      <td>1694</td>\n",
       "      <td>-0.877977</td>\n",
       "      <td>2.573374</td>\n",
       "      <td>7.501139</td>\n",
       "      <td>6.165998e-03</td>\n",
       "      <td>2.736532</td>\n",
       "      <td>1.812805</td>\n",
       "      <td>Gm13427</td>\n",
       "      <td>4.988456e-02</td>\n",
       "      <td>1</td>\n",
       "      <td>Psilo</td>\n",
       "      <td>PT</td>\n",
       "    </tr>\n",
       "    <tr>\n",
       "      <th>1695</th>\n",
       "      <td>1695</td>\n",
       "      <td>-0.251670</td>\n",
       "      <td>7.709314</td>\n",
       "      <td>7.498078</td>\n",
       "      <td>6.176486e-03</td>\n",
       "      <td>7.771599</td>\n",
       "      <td>7.522569</td>\n",
       "      <td>Gm4258</td>\n",
       "      <td>4.993995e-02</td>\n",
       "      <td>1</td>\n",
       "      <td>Psilo</td>\n",
       "      <td>PT</td>\n",
       "    </tr>\n",
       "    <tr>\n",
       "      <th>1696</th>\n",
       "      <td>1696</td>\n",
       "      <td>0.321815</td>\n",
       "      <td>8.713042</td>\n",
       "      <td>7.496698</td>\n",
       "      <td>6.181222e-03</td>\n",
       "      <td>8.609635</td>\n",
       "      <td>8.933148</td>\n",
       "      <td>Fras1</td>\n",
       "      <td>4.994028e-02</td>\n",
       "      <td>1</td>\n",
       "      <td>Psilo</td>\n",
       "      <td>PT</td>\n",
       "    </tr>\n",
       "    <tr>\n",
       "      <th>1697</th>\n",
       "      <td>1697</td>\n",
       "      <td>-1.213618</td>\n",
       "      <td>0.919868</td>\n",
       "      <td>7.495944</td>\n",
       "      <td>6.183810e-03</td>\n",
       "      <td>1.056518</td>\n",
       "      <td>0.070900</td>\n",
       "      <td>Myo3b</td>\n",
       "      <td>4.994028e-02</td>\n",
       "      <td>1</td>\n",
       "      <td>Psilo</td>\n",
       "      <td>PT</td>\n",
       "    </tr>\n",
       "  </tbody>\n",
       "</table>\n",
       "<p>1698 rows × 12 columns</p>\n",
       "</div>"
      ],
      "text/plain": [
       "      index     logFC    logCPM         LR        PValue  ctrl.logCPM  \\\n",
       "0         0 -1.261840  5.334446  54.317854  1.705452e-13     5.564965   \n",
       "1         1  0.834914  7.001861  51.748880  6.307279e-13     6.714294   \n",
       "2         2  0.845340  7.428300  51.369056  7.653547e-13     7.135461   \n",
       "3         3  2.354544  3.460013  50.360874  1.279193e-12     2.207548   \n",
       "4         4  0.683456  7.285308  47.430143  5.699943e-12     7.061059   \n",
       "...     ...       ...       ...        ...           ...          ...   \n",
       "1693   1693 -0.537762  3.727613   7.502071  6.162809e-03     3.841264   \n",
       "1694   1694 -0.877977  2.573374   7.501139  6.165998e-03     2.736532   \n",
       "1695   1695 -0.251670  7.709314   7.498078  6.176486e-03     7.771599   \n",
       "1696   1696  0.321815  8.713042   7.496698  6.181222e-03     8.609635   \n",
       "1697   1697 -1.213618  0.919868   7.495944  6.183810e-03     1.056518   \n",
       "\n",
       "      cKO.logCPM   gene_name           FDR  time   drug celltype  \n",
       "0       4.332361      Coq10b  2.338687e-09     1  Psilo       PT  \n",
       "1       7.553997        Lyst  3.498436e-09     1  Psilo       PT  \n",
       "2       7.984226        Cop1  3.498436e-09     1  Psilo       PT  \n",
       "3       4.628963  AC163685.1  4.385395e-09     1  Psilo       PT  \n",
       "4       7.745355      Map4k3  1.563266e-08     1  Psilo       PT  \n",
       "...          ...         ...           ...   ...    ...      ...  \n",
       "1693    3.329736     Dnajb12  4.988456e-02     1  Psilo       PT  \n",
       "1694    1.812805     Gm13427  4.988456e-02     1  Psilo       PT  \n",
       "1695    7.522569      Gm4258  4.993995e-02     1  Psilo       PT  \n",
       "1696    8.933148       Fras1  4.994028e-02     1  Psilo       PT  \n",
       "1697    0.070900       Myo3b  4.994028e-02     1  Psilo       PT  \n",
       "\n",
       "[1698 rows x 12 columns]"
      ]
     },
     "execution_count": 38,
     "metadata": {},
     "output_type": "execute_result"
    }
   ],
   "source": [
    "pseudobulk_results = pd.concat([PT_results, IT_results, CIN_results])\n",
    "pseudobulk_results = pseudobulk_results.drop(\"Unnamed: 0\", axis=1)\n",
    "pb_copy = pseudobulk_results.copy()\n",
    "pseudobulk_results = {}\n",
    "# for name, group in pseudobulk_results_groups:\n",
    "for drug, time, celltype in itertools.product(trt_drugs, trt_times, ['PT','IT','CIN']):\n",
    "    thing = pb_copy[(pb_copy['drug'] == drug) &\n",
    "                                       (pb_copy['time'] == time) &\n",
    "                                       (pb_copy['celltype'] == celltype)]\n",
    "    pseudobulk_results[drug,time,celltype] = thing.sort_values('FDR', ascending=True).reset_index()\n",
    "    \n",
    "del pb_copy\n",
    "pseudobulk_results['Psilo',1,'PT']"
   ]
  },
  {
   "cell_type": "code",
   "execution_count": 39,
   "id": "438b901d",
   "metadata": {},
   "outputs": [],
   "source": [
    "def cosine_similarity(A, B, value_column='logFC'):\n",
    "    A_df = A[['gene_name', value_column]]\n",
    "    B_df = B[['gene_name', value_column]]\n",
    "    union_folds = A_df.merge(B_df, on='gene_name', how='outer').fillna(0)\n",
    "    A_folds = union_folds[f'{value_column}_x'].to_numpy()\n",
    "    B_folds = union_folds[f'{value_column}_y'].to_numpy()\n",
    "    return np.dot(A_folds, B_folds) / (np.linalg.norm(A_folds) * np.linalg.norm(B_folds))"
   ]
  },
  {
   "cell_type": "code",
   "execution_count": 40,
   "id": "61113954",
   "metadata": {},
   "outputs": [
    {
     "name": "stdout",
     "output_type": "stream",
     "text": [
      "CPU times: user 85.3 ms, sys: 3.89 ms, total: 89.2 ms\n",
      "Wall time: 88.9 ms\n"
     ]
    },
    {
     "name": "stderr",
     "output_type": "stream",
     "text": [
      "/tmp/ipykernel_3146715/1391136982.py:7: RuntimeWarning: invalid value encountered in double_scalars\n",
      "  return np.dot(A_folds, B_folds) / (np.linalg.norm(A_folds) * np.linalg.norm(B_folds))\n",
      "/tmp/ipykernel_3146715/1391136982.py:7: RuntimeWarning: invalid value encountered in double_scalars\n",
      "  return np.dot(A_folds, B_folds) / (np.linalg.norm(A_folds) * np.linalg.norm(B_folds))\n"
     ]
    }
   ],
   "source": [
    "%%time\n",
    "\n",
    "interdrug_dict = {tup:{} for tup in list(itertools.product(trt_times, ['PT','IT','CIN']))}\n",
    "\n",
    "# for key, data in itertools.islice(interdrug_dict.items(), 3):\n",
    "for key, data in interdrug_dict.items():\n",
    "    sig_psilo_set = pseudobulk_results['Psilo', key[0], key[1]]\n",
    "    sig_ket_set = pseudobulk_results['Ket', key[0], key[1]]\n",
    "        \n",
    "    data['num_psilo_DE'] = sig_psilo_set.shape[0]\n",
    "    data['num_ket_DE'] = sig_ket_set.shape[0]\n",
    "    data['num_shared_DE'] = sig_psilo_set.merge(sig_ket_set, how='inner', on='gene_name').shape[0]\n",
    "    data['similarity'] = cosine_similarity(sig_psilo_set, sig_ket_set)"
   ]
  },
  {
   "cell_type": "code",
   "execution_count": 42,
   "id": "4081475e",
   "metadata": {},
   "outputs": [
    {
     "data": {
      "text/html": [
       "<div>\n",
       "<style scoped>\n",
       "    .dataframe tbody tr th:only-of-type {\n",
       "        vertical-align: middle;\n",
       "    }\n",
       "\n",
       "    .dataframe tbody tr th {\n",
       "        vertical-align: top;\n",
       "    }\n",
       "\n",
       "    .dataframe thead th {\n",
       "        text-align: right;\n",
       "    }\n",
       "</style>\n",
       "<table border=\"1\" class=\"dataframe\">\n",
       "  <thead>\n",
       "    <tr style=\"text-align: right;\">\n",
       "      <th></th>\n",
       "      <th>time</th>\n",
       "      <th>celltype</th>\n",
       "      <th>num_psilo_DE</th>\n",
       "      <th>num_ket_DE</th>\n",
       "      <th>num_shared_DE</th>\n",
       "      <th>similarity</th>\n",
       "    </tr>\n",
       "  </thead>\n",
       "  <tbody>\n",
       "    <tr>\n",
       "      <th>0</th>\n",
       "      <td>1</td>\n",
       "      <td>PT</td>\n",
       "      <td>1698</td>\n",
       "      <td>25</td>\n",
       "      <td>21</td>\n",
       "      <td>0.103690</td>\n",
       "    </tr>\n",
       "    <tr>\n",
       "      <th>1</th>\n",
       "      <td>1</td>\n",
       "      <td>IT</td>\n",
       "      <td>3401</td>\n",
       "      <td>59</td>\n",
       "      <td>45</td>\n",
       "      <td>0.111269</td>\n",
       "    </tr>\n",
       "    <tr>\n",
       "      <th>2</th>\n",
       "      <td>1</td>\n",
       "      <td>CIN</td>\n",
       "      <td>2222</td>\n",
       "      <td>4</td>\n",
       "      <td>4</td>\n",
       "      <td>0.073586</td>\n",
       "    </tr>\n",
       "    <tr>\n",
       "      <th>3</th>\n",
       "      <td>2</td>\n",
       "      <td>PT</td>\n",
       "      <td>108</td>\n",
       "      <td>331</td>\n",
       "      <td>76</td>\n",
       "      <td>0.364300</td>\n",
       "    </tr>\n",
       "    <tr>\n",
       "      <th>4</th>\n",
       "      <td>2</td>\n",
       "      <td>IT</td>\n",
       "      <td>84</td>\n",
       "      <td>711</td>\n",
       "      <td>71</td>\n",
       "      <td>0.295174</td>\n",
       "    </tr>\n",
       "  </tbody>\n",
       "</table>\n",
       "</div>"
      ],
      "text/plain": [
       "   time celltype  num_psilo_DE  num_ket_DE  num_shared_DE  similarity\n",
       "0     1       PT          1698          25             21    0.103690\n",
       "1     1       IT          3401          59             45    0.111269\n",
       "2     1      CIN          2222           4              4    0.073586\n",
       "3     2       PT           108         331             76    0.364300\n",
       "4     2       IT            84         711             71    0.295174"
      ]
     },
     "execution_count": 42,
     "metadata": {},
     "output_type": "execute_result"
    }
   ],
   "source": [
    "interdrug_list = [\n",
    "    {'time':key[0], 'celltype':key[1], \n",
    "     'num_psilo_DE':data['num_psilo_DE'], 'num_ket_DE':data['num_ket_DE'], \n",
    "     'num_shared_DE':data['num_shared_DE'], \n",
    "     'similarity':data['similarity']}\n",
    "    for key,data in interdrug_dict.items()\n",
    "]\n",
    "interdrug_df = pd.DataFrame(interdrug_list)\n",
    "interdrug_df.to_csv(os.path.join(this_figure_dir, 'interdrug_similarity_comprehensive_data.csv'))\n",
    "interdrug_df.head()"
   ]
  },
  {
   "cell_type": "code",
   "execution_count": 44,
   "id": "91a4698d",
   "metadata": {},
   "outputs": [
    {
     "data": {
      "text/plain": [
       "time              0\n",
       "celltype          0\n",
       "num_psilo_DE      0\n",
       "num_ket_DE        0\n",
       "num_shared_DE     0\n",
       "similarity        2\n",
       "psilo_fraction    0\n",
       "ket_fraction      2\n",
       "one               0\n",
       "dtype: int64"
      ]
     },
     "execution_count": 44,
     "metadata": {},
     "output_type": "execute_result"
    }
   ],
   "source": [
    "interdrug_df['psilo_fraction'] = interdrug_df['num_shared_DE'] / interdrug_df['num_psilo_DE']\n",
    "interdrug_df['ket_fraction'] = interdrug_df['num_shared_DE'] / interdrug_df['num_ket_DE']\n",
    "interdrug_df['one'] = 1.0\n",
    "interdrug_df.isna().sum()"
   ]
  },
  {
   "cell_type": "code",
   "execution_count": 45,
   "id": "27e371db",
   "metadata": {},
   "outputs": [],
   "source": [
    "def myround(x, base=5):\n",
    "    return base * round(x/base)"
   ]
  },
  {
   "cell_type": "markdown",
   "id": "b49b00a1",
   "metadata": {},
   "source": [
    "# Plot"
   ]
  },
  {
   "cell_type": "code",
   "execution_count": 53,
   "id": "cb20e31c",
   "metadata": {},
   "outputs": [
    {
     "data": {
      "image/png": "[encoded data removed]",
      "text/plain": [
       "<Figure size 648x864 with 10 Axes>"
      ]
     },
     "metadata": {},
     "output_type": "display_data"
    }
   ],
   "source": [
    "def plot_axis(data, axes_row):\n",
    "    BAR_WIDTH = 0.6\n",
    "    LINE_WIDTH = 2.0\n",
    "    sns.barplot(\n",
    "        data=data,\n",
    "        x='num_ket_DE', y='celltype', hue='celltype',\n",
    "        palette=grouped_colors, hue_order=grouped_color_order,\n",
    "        fill=False, width=BAR_WIDTH, linewidth=LINE_WIDTH,\n",
    "        ax=axes_row[0],\n",
    "    )\n",
    "    sns.barplot(\n",
    "        data=data,\n",
    "        x = -data['num_psilo_DE'], y='celltype', hue='celltype',\n",
    "        palette=grouped_colors, hue_order=grouped_color_order,\n",
    "        fill=False, width=BAR_WIDTH, linewidth=LINE_WIDTH,\n",
    "        ax=axes_row[0],\n",
    "    )\n",
    "\n",
    "    sns.barplot(\n",
    "        data=data,\n",
    "        x='num_shared_DE', y='celltype', hue='celltype',\n",
    "        palette=grouped_colors, hue_order=grouped_color_order,\n",
    "        fill=True, width=BAR_WIDTH, linewidth=LINE_WIDTH,\n",
    "        ax=axes_row[0],\n",
    "    )\n",
    "    sns.barplot(\n",
    "        data=data,\n",
    "        x= -data['num_shared_DE'], y='celltype', hue='celltype',\n",
    "        palette=grouped_colors, hue_order=grouped_color_order,\n",
    "        fill=True, width=BAR_WIDTH, linewidth=LINE_WIDTH,\n",
    "        ax=axes_row[0],\n",
    "    )\n",
    "    \n",
    "    sns.barplot(\n",
    "        data=data,\n",
    "        x='similarity', y='celltype', hue='celltype',\n",
    "        palette=grouped_colors, hue_order=grouped_color_order,\n",
    "        fill=False, width=BAR_WIDTH, linewidth=LINE_WIDTH,\n",
    "        ax=axes_row[1],\n",
    "    )\n",
    "    \n",
    "gs_kw = dict(width_ratios=[3,1],)    \n",
    "fig, axes = plt.subplots(5, 2, figsize=(9,12), gridspec_kw=gs_kw,\n",
    "                        sharey='row', sharex='col')\n",
    "fig.set_facecolor('white')\n",
    "\n",
    "sns.despine(fig=fig, top=True, right=True, left=True, bottom=False)\n",
    "for ax in axes.flatten():\n",
    "    ax.set_xticks([])\n",
    "    ax.axvline(0, linestyle='-', color='black', linewidth=1)\n",
    "\n",
    "    for ax_index, time in enumerate(trt_times):\n",
    "        plot_axis(interdrug_df.query(f'time == {time}'), axes[ax_index])\n",
    "\n",
    "max_de_size = interdrug_df[['num_psilo_DE','num_ket_DE']].max().max()\n",
    "de_size_ticks = np.arange(myround(-max_de_size, base=1000), myround(max_de_size, base=1000)+1, 1000)\n",
    "axes[-1][0].set_xticks(de_size_ticks, labels=np.abs(de_size_ticks))\n",
    "axes[-1][-1].set_xticks(np.arange(0.1, interdrug_df['similarity'].max(), 0.1))\n",
    "\n",
    "fig.savefig(f\"{this_figure_dir}/interdrug_similarity_comprehensive.png\")\n",
    "fig.savefig(f\"{this_figure_dir}/interdrug_similarity_comprehensive.pdf\")"
   ]
  },
  {
   "cell_type": "markdown",
   "id": "60e6b2f9",
   "metadata": {},
   "source": [
    "## fractions of gene counts"
   ]
  },
  {
   "cell_type": "code",
   "execution_count": 56,
   "id": "95de271f",
   "metadata": {},
   "outputs": [
    {
     "data": {
      "image/png": "[encoded data removed]",
      "text/plain": [
       "<Figure size 648x864 with 10 Axes>"
      ]
     },
     "metadata": {},
     "output_type": "display_data"
    }
   ],
   "source": [
    "def plot_axis(data, axes_row):\n",
    "    BAR_WIDTH = 0.6\n",
    "    LINE_WIDTH = 2.0\n",
    "    sns.barplot(\n",
    "        data=data,\n",
    "        x='one', y='celltype', hue='celltype',\n",
    "        palette=grouped_colors, hue_order=grouped_color_order,\n",
    "        fill=False, width=BAR_WIDTH, linewidth=LINE_WIDTH,\n",
    "        ax=axes_row[0],\n",
    "    )\n",
    "    sns.barplot(\n",
    "        data=data,\n",
    "        x = -data['one'], y='celltype', hue='celltype',\n",
    "        palette=grouped_colors, hue_order=grouped_color_order,\n",
    "        fill=False, width=BAR_WIDTH, linewidth=LINE_WIDTH,\n",
    "        ax=axes_row[0],\n",
    "    )\n",
    "\n",
    "    sns.barplot(\n",
    "        data=data,\n",
    "        x='ket_fraction', y='celltype', hue='celltype',\n",
    "        palette=grouped_colors, hue_order=grouped_color_order,\n",
    "        fill=True, width=BAR_WIDTH, linewidth=LINE_WIDTH,\n",
    "        ax=axes_row[0],\n",
    "    )\n",
    "    sns.barplot(\n",
    "        data=data,\n",
    "        x= -data['psilo_fraction'], y='celltype', hue='celltype',\n",
    "        palette=grouped_colors, hue_order=grouped_color_order,\n",
    "        fill=True, width=BAR_WIDTH, linewidth=LINE_WIDTH,\n",
    "        ax=axes_row[0],\n",
    "    )\n",
    "    \n",
    "    sns.barplot(\n",
    "        data=data,\n",
    "        x='similarity', y='celltype', hue='celltype',\n",
    "        palette=grouped_colors, hue_order=grouped_color_order,\n",
    "        fill=False, width=BAR_WIDTH, linewidth=LINE_WIDTH,\n",
    "        ax=axes_row[1],\n",
    "    )\n",
    "    \n",
    "gs_kw = dict(width_ratios=[3,1],)    \n",
    "fig, axes = plt.subplots(5, 2, figsize=(9,12), gridspec_kw=gs_kw,\n",
    "                        sharey='row', sharex='col')\n",
    "fig.set_facecolor('white')\n",
    "\n",
    "sns.despine(fig=fig, top=True, right=True, left=True, bottom=False)\n",
    "for ax in axes.flatten():\n",
    "    ax.set_xticks([])\n",
    "    ax.axvline(0, linestyle='-', color='black', linewidth=1)\n",
    "\n",
    "    for ax_index, time in enumerate(trt_times):\n",
    "        plot_axis(interdrug_df.query(f'time == {time}'), axes[ax_index])\n",
    "\n",
    "frac_max = 1.0\n",
    "de_frac_ticks = np.linspace(-frac_max, frac_max, 9)\n",
    "axes[-1][0].set_xticks(de_frac_ticks, labels=np.abs(de_frac_ticks))\n",
    "axes[-1][-1].set_xticks(np.arange(0.1, interdrug_df['similarity'].max(), 0.1))\n",
    "\n",
    "# max_de_size = interdrug_df[['num_psilo_DE','num_ket_DE']].max().max()\n",
    "# de_size_ticks = np.arange(myround(-max_de_size, base=1000), myround(max_de_size, base=1000)+1, 1000)\n",
    "# axes[-1][0].set_xticks(de_size_ticks, labels=np.abs(de_size_ticks))\n",
    "# axes[-1][-1].set_xticks(np.arange(0.1, interdrug_df['similarity'].max(), 0.1))\n",
    "\n",
    "fig.savefig(f\"{this_figure_dir}/interdrug_similarity_comprehensive_fractions.png\")\n",
    "fig.savefig(f\"{this_figure_dir}/interdrug_similarity_comprehensive_fractions.pdf\")"
   ]
  },
  {
   "cell_type": "markdown",
   "id": "82804f41",
   "metadata": {},
   "source": [
    "## Whitespace between drugs, fill cosine sim bar"
   ]
  },
  {
   "cell_type": "code",
   "execution_count": 64,
   "id": "8ad42b92",
   "metadata": {},
   "outputs": [
    {
     "data": {
      "image/png": "[encoded data removed]",
      "text/plain": [
       "<Figure size 648x864 with 15 Axes>"
      ]
     },
     "metadata": {},
     "output_type": "display_data"
    }
   ],
   "source": [
    "def plot_axis(data, axes_row):\n",
    "    BAR_WIDTH = 0.6\n",
    "    LINE_WIDTH = 2.0\n",
    "    sns.barplot(\n",
    "        data=data,\n",
    "        x='one', y='celltype', hue='celltype',\n",
    "        palette=grouped_colors, hue_order=grouped_color_order,\n",
    "        fill=False, width=BAR_WIDTH, linewidth=LINE_WIDTH,\n",
    "        ax=axes_row[1],\n",
    "    )\n",
    "    sns.barplot(\n",
    "        data=data,\n",
    "        x = -data['one'], y='celltype', hue='celltype',\n",
    "        palette=grouped_colors, hue_order=grouped_color_order,\n",
    "        fill=False, width=BAR_WIDTH, linewidth=LINE_WIDTH,\n",
    "        ax=axes_row[0],\n",
    "    )\n",
    "\n",
    "    sns.barplot(\n",
    "        data=data,\n",
    "        x='ket_fraction', y='celltype', hue='celltype',\n",
    "        palette=grouped_colors, hue_order=grouped_color_order,\n",
    "        fill=True, width=BAR_WIDTH, linewidth=LINE_WIDTH,\n",
    "        ax=axes_row[1],\n",
    "    )\n",
    "    sns.barplot(\n",
    "        data=data,\n",
    "        x= -data['psilo_fraction'], y='celltype', hue='celltype',\n",
    "        palette=grouped_colors, hue_order=grouped_color_order,\n",
    "        fill=True, width=BAR_WIDTH, linewidth=LINE_WIDTH,\n",
    "        ax=axes_row[0],\n",
    "    )\n",
    "    \n",
    "    sns.barplot(\n",
    "        data=data,\n",
    "        x='similarity', y='celltype', hue='celltype',\n",
    "        palette=grouped_colors, hue_order=grouped_color_order,\n",
    "        fill=True, width=BAR_WIDTH, linewidth=LINE_WIDTH,\n",
    "        ax=axes_row[-1],\n",
    "    )\n",
    "    \n",
    "gs_kw = dict(width_ratios=[1.5, 1.5, 1], hspace=0.5)    \n",
    "fig, axes = plt.subplots(5, 3, figsize=(9,12), gridspec_kw=gs_kw,\n",
    "                        sharey='row', sharex='col')\n",
    "fig.set_facecolor('white')\n",
    "\n",
    "sns.despine(fig=fig, top=True, right=True, left=True, bottom=False)\n",
    "for ax in axes.flatten():\n",
    "    ax.set_xticks([])\n",
    "    ax.axvline(0, linestyle='-', color='black', linewidth=2)\n",
    "\n",
    "    for ax_index, time in enumerate(trt_times):\n",
    "        plot_axis(interdrug_df.query(f'time == {time}'), axes[ax_index])\n",
    "\n",
    "frac_max = 1.0\n",
    "de_frac_ticks = np.linspace(0.0, frac_max, 5)\n",
    "axes[-1][0].set_xticks(-de_frac_ticks, labels=np.abs(de_frac_ticks))\n",
    "axes[-1][1].set_xticks(de_frac_ticks, labels=np.abs(de_frac_ticks))\n",
    "axes[-1][-1].set_xticks(np.arange(0.1, interdrug_df['similarity'].max(), 0.1))\n",
    "\n",
    "# max_de_size = interdrug_df[['num_psilo_DE','num_ket_DE']].max().max()\n",
    "# de_size_ticks = np.arange(myround(-max_de_size, base=1000), myround(max_de_size, base=1000)+1, 1000)\n",
    "# axes[-1][0].set_xticks(de_size_ticks, labels=np.abs(de_size_ticks))\n",
    "# axes[-1][-1].set_xticks(np.arange(0.1, interdrug_df['similarity'].max(), 0.1))\n",
    "\n",
    "axes[-1][0].set_xlabel('Psilocybin')\n",
    "axes[-1][1].set_xlabel('Ketamine')\n",
    "\n",
    "fig.savefig(f\"{this_figure_dir}/interdrug_similarity_comprehensive_fractions_gap.png\")\n",
    "fig.savefig(f\"{this_figure_dir}/interdrug_similarity_comprehensive_fractions_gap.pdf\")"
   ]
  },
  {
   "cell_type": "code",
   "execution_count": null,
   "id": "9a659723",
   "metadata": {},
   "outputs": [],
   "source": []
  }
 ],
 "metadata": {
  "kernelspec": {
   "display_name": "Python 3 (ipykernel)",
   "language": "python",
   "name": "python3"
  },
  "language_info": {
   "codemirror_mode": {
    "name": "ipython",
    "version": 3
   },
   "file_extension": ".py",
   "mimetype": "text/x-python",
   "name": "python",
   "nbconvert_exporter": "python",
   "pygments_lexer": "ipython3",
   "version": "3.9.7"
  }
 },
 "nbformat": 4,
 "nbformat_minor": 5
}

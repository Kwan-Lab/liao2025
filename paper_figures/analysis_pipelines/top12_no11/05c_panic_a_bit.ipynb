{
 "cells": [
  {
   "cell_type": "code",
   "execution_count": 1,
   "id": "bece1317",
   "metadata": {},
   "outputs": [
    {
     "name": "stdout",
     "output_type": "stream",
     "text": [
      "scanpy==1.10.3 anndata==0.8.0 umap==0.5.3 numpy==1.23.0 scipy==1.13.1 pandas==1.5.3 scikit-learn==1.5.0 statsmodels==0.13.5 igraph==0.11.6 pynndescent==0.5.8\n"
     ]
    }
   ],
   "source": [
    "# Built-in\n",
    "import os\n",
    "import math\n",
    "import itertools\n",
    "import multiprocessing\n",
    "import statistics\n",
    "\n",
    "# Analysis packages\n",
    "import scanpy as sc\n",
    "import anndata as ad\n",
    "from adpbulk import ADPBulk\n",
    "import numpy as np\n",
    "import pandas as pd\n",
    "import memento\n",
    "from statsmodels.compat import lzip\n",
    "from statsmodels.stats.multitest import multipletests\n",
    "import statsmodels.api as sm\n",
    "import statsmodels.stats.api as sms\n",
    "import scipy.stats as scipystats\n",
    "from sklearn.decomposition import PCA\n",
    "from sklearn import manifold\n",
    "import sklearn.cluster as clustering\n",
    "from tslearn.clustering import KShape\n",
    "import h5py\n",
    "\n",
    "# Plotting packages\n",
    "import matplotlib.pyplot as plt\n",
    "from matplotlib.lines import Line2D\n",
    "import matplotlib.cm as cm\n",
    "from matplotlib.colors import LinearSegmentedColormap, ListedColormap\n",
    "import matplotlib.patheffects as path_effects\n",
    "from pathlib import Path\n",
    "import seaborn as sns\n",
    "from adjustText import adjust_text\n",
    "\n",
    "# Set number of cores to use\n",
    "sc.settings.n_jobs = 8\n",
    "\n",
    "sc.logging.print_header()"
   ]
  },
  {
   "cell_type": "code",
   "execution_count": 2,
   "id": "c59ec70a",
   "metadata": {},
   "outputs": [],
   "source": [
    "pd.set_option('display.max_columns', 40)"
   ]
  },
  {
   "cell_type": "code",
   "execution_count": 3,
   "id": "786f7ddf",
   "metadata": {},
   "outputs": [],
   "source": [
    "# Set autoreload settings. With this code,\n",
    "# changing settings.py (see next cell) automatically loads the new settings in here too.\n",
    "%load_ext autoreload\n",
    "%autoreload 1\n",
    "\n",
    "# Modify settings from this file (figure path, subsetting settings, etc)\n",
    "# The file is located in this directory (settings.py)\n",
    "%aimport settings"
   ]
  },
  {
   "cell_type": "markdown",
   "id": "5dbd595f",
   "metadata": {},
   "source": [
    "# Overhead"
   ]
  },
  {
   "cell_type": "code",
   "execution_count": 4,
   "id": "f1f8de49",
   "metadata": {},
   "outputs": [
    {
     "data": {
      "image/png": "[encoded data removed]",
      "text/plain": [
       "<Figure size 864x144 with 1 Axes>"
      ]
     },
     "metadata": {
      "needs_background": "light"
     },
     "output_type": "display_data"
    }
   ],
   "source": [
    "# Define the extended color list\n",
    "colors_19 = [\n",
    "    \"#F4C700\", \"#8650F5\", \"#B00B00\", \"#FE6100\", \"#648FFF\",\n",
    "    \"#A9CFA4\", \"#A3B5CC\", \"#D8A4C7\", \"#A8DADC\", \"#FFDAB9\",\n",
    "    \"#E6E6FA\", \"#FFFACD\", \"#FFB6C1\", \"#F4A89A\", \"#D4F1B0\",\n",
    "    \"#98D2B5\", \"#C7EAF2\", \"#DAC0E2\", \"#D9E3A8\",\n",
    "]\n",
    "\n",
    "# Create a ListedColormap\n",
    "custom_cmap = ListedColormap(colors_19)\n",
    "\n",
    "# Display the colormap using a colorbar\n",
    "fig, ax = plt.subplots(figsize=(12, 2))\n",
    "fig.subplots_adjust(bottom=0.5)\n",
    "\n",
    "# Create a colorbar with the custom cmap\n",
    "cbar = plt.colorbar(\n",
    "    plt.cm.ScalarMappable(cmap=custom_cmap), \n",
    "    cax=ax, orientation='horizontal', ticks=[]\n",
    ")\n",
    "\n",
    "# Use the colors as category labels\n",
    "cbar.set_ticks([i / 22.0 for i in range(len(colors_19))])\n",
    "cbar.set_ticklabels([f'Category {i + 1}' for i in range(len(colors_19))])\n",
    "\n",
    "# Display the colorbar\n",
    "plt.show()"
   ]
  },
  {
   "cell_type": "code",
   "execution_count": 5,
   "id": "5c68312b",
   "metadata": {},
   "outputs": [],
   "source": [
    "cluster_colors = colors_19[0:5]\n",
    "color_order = ['L5-PT','IT','CIN-PV','CIN-SST','CIN-VIP']"
   ]
  },
  {
   "cell_type": "code",
   "execution_count": 6,
   "id": "66198c4a",
   "metadata": {},
   "outputs": [
    {
     "data": {
      "text/plain": [
       "(-0.04, 2.04)"
      ]
     },
     "execution_count": 6,
     "metadata": {},
     "output_type": "execute_result"
    }
   ],
   "source": [
    "def extend_limits(t, buffer=0.02):\n",
    "    lower = t[0]\n",
    "    upper = t[1]\n",
    "    extension = buffer * (upper - lower)\n",
    "    return (lower - extension, upper + extension)\n",
    "extend_limits((0,2))"
   ]
  },
  {
   "cell_type": "code",
   "execution_count": 7,
   "id": "ea399cdd",
   "metadata": {},
   "outputs": [
    {
     "data": {
      "text/plain": [
       "AnnData object with n_obs × n_vars = 264420 × 24181\n",
       "    obs: 'time', 'time_str', 'drug', 'sex', 'approx_reads_per_cell', 'date', 'label', 'batch', 'sample', 'n_genes_by_counts', 'log1p_n_genes_by_counts', 'total_counts', 'log1p_total_counts', 'n_counts', 'n_genes', 'doublet_score', 'log10_gene_counts', 'log10_UMI_counts', 'percent_mito', 'percent_ribo', 'leiden', 'id', 'name', 'color'\n",
       "    var: 'gene_name', 'gene_ids', 'feature_types', 'genome', 'non-unique_names', 'n_cells_by_counts', 'mean_counts', 'log1p_mean_counts', 'pct_dropout_by_counts', 'total_counts', 'log1p_total_counts', 'n_counts', 'n_cells', 'highly_variable', 'means', 'dispersions', 'dispersions_norm'\n",
       "    uns: 'dendrogram_leiden', 'hvg', 'label_colors', 'label_colors_dict', 'label_order', 'log1p', 'name_colors', 'rank_genes_groups', 'scrublet', 'stage_colors_dict', 'stage_order'\n",
       "    obsm: 'X_pca', 'X_umap'\n",
       "    layers: 'ds_norm_cts', 'raw-cts_pre-ds'\n",
       "    obsp: 'connectivities', 'distances'"
      ]
     },
     "execution_count": 7,
     "metadata": {},
     "output_type": "execute_result"
    }
   ],
   "source": [
    "adata = sc.read(\"post-wt-clustering-with-markers.h5ad\")\n",
    "adata"
   ]
  },
  {
   "cell_type": "code",
   "execution_count": 8,
   "id": "8e48ae61",
   "metadata": {},
   "outputs": [],
   "source": [
    "dendro_ordered_cluster_ids = adata.uns['dendrogram_leiden']['categories_ordered']"
   ]
  },
  {
   "cell_type": "code",
   "execution_count": null,
   "id": "ccada1e8",
   "metadata": {},
   "outputs": [],
   "source": []
  },
  {
   "cell_type": "code",
   "execution_count": 9,
   "id": "492ef75b",
   "metadata": {},
   "outputs": [],
   "source": [
    "drugs = [\"none\", \"Ket\", \"Psilo\"]\n",
    "times = adata.uns[\"stage_order\"]\n",
    "clusters = ['0','1','2','3','4','5','6','7','8','9','10','12']\n",
    "cluster_names = ['L2/3-IT','L6-CT','L4/5-IT','L4-IT',\n",
    "                 'Oligodendrocytes','L5/6-IT','Astrocytes','L5-PT','CIN-PV',\n",
    "                 'OPC','CIN-SST','CIN-VIP']"
   ]
  },
  {
   "cell_type": "code",
   "execution_count": 10,
   "id": "db95987d",
   "metadata": {},
   "outputs": [],
   "source": [
    "lump_excitatory = ['L2/3-IT','L6-CT','L4/5-IT','L4-IT','L5/6-IT','L5-PT']\n",
    "lump_cin = ['CIN-PV','CIN-SST','CIN-VIP']"
   ]
  },
  {
   "cell_type": "code",
   "execution_count": 11,
   "id": "47efb40e",
   "metadata": {},
   "outputs": [],
   "source": [
    "trt_drugs = drugs[1:]\n",
    "trt_times = times[1:]"
   ]
  },
  {
   "cell_type": "code",
   "execution_count": 20,
   "id": "6f6b7d50",
   "metadata": {},
   "outputs": [
    {
     "data": {
      "text/html": [
       "<div>\n",
       "<style scoped>\n",
       "    .dataframe tbody tr th:only-of-type {\n",
       "        vertical-align: middle;\n",
       "    }\n",
       "\n",
       "    .dataframe tbody tr th {\n",
       "        vertical-align: top;\n",
       "    }\n",
       "\n",
       "    .dataframe thead th {\n",
       "        text-align: right;\n",
       "    }\n",
       "</style>\n",
       "<table border=\"1\" class=\"dataframe\">\n",
       "  <thead>\n",
       "    <tr style=\"text-align: right;\">\n",
       "      <th></th>\n",
       "      <th>id</th>\n",
       "      <th>name</th>\n",
       "      <th>color</th>\n",
       "    </tr>\n",
       "  </thead>\n",
       "  <tbody>\n",
       "    <tr>\n",
       "      <th>1</th>\n",
       "      <td>1</td>\n",
       "      <td>L6-CT</td>\n",
       "      <td>#A9CFA4</td>\n",
       "    </tr>\n",
       "    <tr>\n",
       "      <th>7</th>\n",
       "      <td>7</td>\n",
       "      <td>L5-PT</td>\n",
       "      <td>#F4C700</td>\n",
       "    </tr>\n",
       "    <tr>\n",
       "      <th>2</th>\n",
       "      <td>2</td>\n",
       "      <td>L4/5-IT</td>\n",
       "      <td>#8650F5</td>\n",
       "    </tr>\n",
       "    <tr>\n",
       "      <th>3</th>\n",
       "      <td>3</td>\n",
       "      <td>L4-IT</td>\n",
       "      <td>#8650F5</td>\n",
       "    </tr>\n",
       "    <tr>\n",
       "      <th>0</th>\n",
       "      <td>0</td>\n",
       "      <td>L2/3-IT</td>\n",
       "      <td>#8650F5</td>\n",
       "    </tr>\n",
       "    <tr>\n",
       "      <th>5</th>\n",
       "      <td>5</td>\n",
       "      <td>L5/6-IT</td>\n",
       "      <td>#8650F5</td>\n",
       "    </tr>\n",
       "    <tr>\n",
       "      <th>11</th>\n",
       "      <td>12</td>\n",
       "      <td>CIN-VIP</td>\n",
       "      <td>#648FFF</td>\n",
       "    </tr>\n",
       "    <tr>\n",
       "      <th>8</th>\n",
       "      <td>8</td>\n",
       "      <td>CIN-PV</td>\n",
       "      <td>#B00B00</td>\n",
       "    </tr>\n",
       "    <tr>\n",
       "      <th>10</th>\n",
       "      <td>10</td>\n",
       "      <td>CIN-SST</td>\n",
       "      <td>#FE6100</td>\n",
       "    </tr>\n",
       "    <tr>\n",
       "      <th>4</th>\n",
       "      <td>4</td>\n",
       "      <td>Oligodendrocytes</td>\n",
       "      <td>#A3B5CC</td>\n",
       "    </tr>\n",
       "    <tr>\n",
       "      <th>6</th>\n",
       "      <td>6</td>\n",
       "      <td>Astrocytes</td>\n",
       "      <td>#D8A4C7</td>\n",
       "    </tr>\n",
       "    <tr>\n",
       "      <th>9</th>\n",
       "      <td>9</td>\n",
       "      <td>OPC</td>\n",
       "      <td>#A8DADC</td>\n",
       "    </tr>\n",
       "  </tbody>\n",
       "</table>\n",
       "</div>"
      ],
      "text/plain": [
       "    id              name    color\n",
       "1    1             L6-CT  #A9CFA4\n",
       "7    7             L5-PT  #F4C700\n",
       "2    2           L4/5-IT  #8650F5\n",
       "3    3             L4-IT  #8650F5\n",
       "0    0           L2/3-IT  #8650F5\n",
       "5    5           L5/6-IT  #8650F5\n",
       "11  12           CIN-VIP  #648FFF\n",
       "8    8            CIN-PV  #B00B00\n",
       "10  10           CIN-SST  #FE6100\n",
       "4    4  Oligodendrocytes  #A3B5CC\n",
       "6    6        Astrocytes  #D8A4C7\n",
       "9    9               OPC  #A8DADC"
      ]
     },
     "execution_count": 20,
     "metadata": {},
     "output_type": "execute_result"
    }
   ],
   "source": [
    "cluster_lookup = pd.DataFrame({'id':clusters, 'name':cluster_names})\n",
    "cluster_lookup['id'] = pd.Categorical(cluster_lookup['id'], categories=dendro_ordered_cluster_ids, ordered=True)\n",
    "cluster_lookup = cluster_lookup.sort_values('id')\n",
    "cluster_lookup['name'] = pd.Categorical(cluster_lookup['name'], categories=cluster_lookup['name'], ordered=True)\n",
    "cluster_lookup['color'] = adata.uns['name_colors']\n",
    "cluster_lookup"
   ]
  },
  {
   "cell_type": "code",
   "execution_count": 14,
   "id": "400c77ec",
   "metadata": {},
   "outputs": [],
   "source": [
    "heatmap_idx = cluster_lookup['name'].to_list()\n",
    "heatmap_cluster_labels = cluster_lookup.apply(lambda row: f\"({row['id']}) {row['name']}\", axis=1).to_list()"
   ]
  },
  {
   "cell_type": "code",
   "execution_count": 15,
   "id": "96180d31",
   "metadata": {},
   "outputs": [],
   "source": [
    "def process_combination(drug, cluster, time):\n",
    "    subset_memento = pd.read_excel(\n",
    "        os.path.join(settings.data_path, f\"memento_initial_DE_{drug}_{time}h.xlsx\"),\n",
    "        sheet_name=f'Cluster {cluster}',\n",
    "        index_col=0\n",
    "    )\n",
    "    subset_memento = subset_memento.reset_index(drop=True)\n",
    "    subset_memento = subset_memento[['gene', 'de_coef', 'de_se', 'de_pval', 'de_pval_adj']]\n",
    "    \n",
    "    subset_memento['drug'] = drug\n",
    "    subset_memento['cluster'] = cluster\n",
    "    subset_memento['time'] = time\n",
    "    return subset_memento"
   ]
  },
  {
   "cell_type": "code",
   "execution_count": 16,
   "id": "00f82ab9",
   "metadata": {},
   "outputs": [
    {
     "data": {
      "application/vnd.jupyter.widget-view+json": {
       "model_id": "b5fdbe6bcc4c4679b3555d17a3a26359",
       "version_major": 2,
       "version_minor": 0
      },
      "text/plain": [
       "  0%|          | 0/120 [00:00<?, ?it/s]"
      ]
     },
     "metadata": {},
     "output_type": "display_data"
    },
    {
     "name": "stdout",
     "output_type": "stream",
     "text": [
      "(1412444, 8)\n"
     ]
    },
    {
     "data": {
      "text/html": [
       "<div>\n",
       "<style scoped>\n",
       "    .dataframe tbody tr th:only-of-type {\n",
       "        vertical-align: middle;\n",
       "    }\n",
       "\n",
       "    .dataframe tbody tr th {\n",
       "        vertical-align: top;\n",
       "    }\n",
       "\n",
       "    .dataframe thead th {\n",
       "        text-align: right;\n",
       "    }\n",
       "</style>\n",
       "<table border=\"1\" class=\"dataframe\">\n",
       "  <thead>\n",
       "    <tr style=\"text-align: right;\">\n",
       "      <th></th>\n",
       "      <th>gene</th>\n",
       "      <th>de_coef</th>\n",
       "      <th>de_se</th>\n",
       "      <th>de_pval</th>\n",
       "      <th>de_pval_adj</th>\n",
       "      <th>drug</th>\n",
       "      <th>cluster</th>\n",
       "      <th>time</th>\n",
       "    </tr>\n",
       "  </thead>\n",
       "  <tbody>\n",
       "    <tr>\n",
       "      <th>0</th>\n",
       "      <td>Prrc2b</td>\n",
       "      <td>0.162677</td>\n",
       "      <td>0.015609</td>\n",
       "      <td>4.414582e-10</td>\n",
       "      <td>0.000005</td>\n",
       "      <td>Ket</td>\n",
       "      <td>0</td>\n",
       "      <td>1</td>\n",
       "    </tr>\n",
       "    <tr>\n",
       "      <th>1</th>\n",
       "      <td>Slc4a4</td>\n",
       "      <td>-0.124186</td>\n",
       "      <td>0.011237</td>\n",
       "      <td>1.556089e-09</td>\n",
       "      <td>0.000010</td>\n",
       "      <td>Ket</td>\n",
       "      <td>0</td>\n",
       "      <td>1</td>\n",
       "    </tr>\n",
       "    <tr>\n",
       "      <th>2</th>\n",
       "      <td>Map4</td>\n",
       "      <td>-0.179530</td>\n",
       "      <td>0.017800</td>\n",
       "      <td>4.780192e-08</td>\n",
       "      <td>0.000198</td>\n",
       "      <td>Ket</td>\n",
       "      <td>0</td>\n",
       "      <td>1</td>\n",
       "    </tr>\n",
       "    <tr>\n",
       "      <th>3</th>\n",
       "      <td>Maml3</td>\n",
       "      <td>0.218901</td>\n",
       "      <td>0.012652</td>\n",
       "      <td>7.577917e-08</td>\n",
       "      <td>0.000236</td>\n",
       "      <td>Ket</td>\n",
       "      <td>0</td>\n",
       "      <td>1</td>\n",
       "    </tr>\n",
       "    <tr>\n",
       "      <th>4</th>\n",
       "      <td>Btg2</td>\n",
       "      <td>-0.846753</td>\n",
       "      <td>0.069693</td>\n",
       "      <td>6.139451e-06</td>\n",
       "      <td>0.001071</td>\n",
       "      <td>Ket</td>\n",
       "      <td>0</td>\n",
       "      <td>1</td>\n",
       "    </tr>\n",
       "  </tbody>\n",
       "</table>\n",
       "</div>"
      ],
      "text/plain": [
       "     gene   de_coef     de_se       de_pval  de_pval_adj drug cluster  time\n",
       "0  Prrc2b  0.162677  0.015609  4.414582e-10     0.000005  Ket       0     1\n",
       "1  Slc4a4 -0.124186  0.011237  1.556089e-09     0.000010  Ket       0     1\n",
       "2    Map4 -0.179530  0.017800  4.780192e-08     0.000198  Ket       0     1\n",
       "3   Maml3  0.218901  0.012652  7.577917e-08     0.000236  Ket       0     1\n",
       "4    Btg2 -0.846753  0.069693  6.139451e-06     0.001071  Ket       0     1"
      ]
     },
     "execution_count": 16,
     "metadata": {},
     "output_type": "execute_result"
    }
   ],
   "source": [
    "from tqdm.contrib.itertools import product as progressbar_product\n",
    "combination_mementos = [\n",
    "    process_combination(drug,cluster,time) \n",
    "    for drug,cluster,time\n",
    "    in progressbar_product(trt_drugs,clusters,trt_times)\n",
    "#     if not (cluster=='4' and drug=='Psilo')\n",
    "]\n",
    "memento_full = pd.concat(combination_mementos)\n",
    "print(memento_full.shape)\n",
    "memento_full.head()"
   ]
  },
  {
   "cell_type": "code",
   "execution_count": 61,
   "id": "ad610232",
   "metadata": {},
   "outputs": [],
   "source": [
    "def process_IT_combination(drug, time):\n",
    "    combination_memento = pd.read_excel(\n",
    "        os.path.join(settings.fig_path, f\"figure_4/memento_DE_{drug}_{time}h.xlsx\"),\n",
    "    )\n",
    "    combination_memento = combination_memento[['gene', 'de_coef', 'de_se', 'de_pval', 'de_pval_adj']]    \n",
    "    combination_memento['drug'] = drug\n",
    "    combination_memento['time'] = time\n",
    "    return combination_memento"
   ]
  },
  {
   "cell_type": "code",
   "execution_count": 62,
   "id": "75e71720",
   "metadata": {},
   "outputs": [
    {
     "data": {
      "application/vnd.jupyter.widget-view+json": {
       "model_id": "14178d8a498545e1beddbfd6265031ba",
       "version_major": 2,
       "version_minor": 0
      },
      "text/plain": [
       "  0%|          | 0/10 [00:00<?, ?it/s]"
      ]
     },
     "metadata": {},
     "output_type": "display_data"
    },
    {
     "name": "stdout",
     "output_type": "stream",
     "text": [
      "(126472, 7)\n"
     ]
    },
    {
     "data": {
      "text/html": [
       "<div>\n",
       "<style scoped>\n",
       "    .dataframe tbody tr th:only-of-type {\n",
       "        vertical-align: middle;\n",
       "    }\n",
       "\n",
       "    .dataframe tbody tr th {\n",
       "        vertical-align: top;\n",
       "    }\n",
       "\n",
       "    .dataframe thead th {\n",
       "        text-align: right;\n",
       "    }\n",
       "</style>\n",
       "<table border=\"1\" class=\"dataframe\">\n",
       "  <thead>\n",
       "    <tr style=\"text-align: right;\">\n",
       "      <th></th>\n",
       "      <th>gene</th>\n",
       "      <th>de_coef</th>\n",
       "      <th>de_se</th>\n",
       "      <th>de_pval</th>\n",
       "      <th>de_pval_adj</th>\n",
       "      <th>drug</th>\n",
       "      <th>time</th>\n",
       "    </tr>\n",
       "  </thead>\n",
       "  <tbody>\n",
       "    <tr>\n",
       "      <th>0</th>\n",
       "      <td>Lpgat1</td>\n",
       "      <td>0.123609</td>\n",
       "      <td>0.008061</td>\n",
       "      <td>1.527522e-10</td>\n",
       "      <td>0.000002</td>\n",
       "      <td>Ket</td>\n",
       "      <td>1</td>\n",
       "    </tr>\n",
       "    <tr>\n",
       "      <th>1</th>\n",
       "      <td>Mkx</td>\n",
       "      <td>-0.108052</td>\n",
       "      <td>0.006298</td>\n",
       "      <td>2.079828e-09</td>\n",
       "      <td>0.000013</td>\n",
       "      <td>Ket</td>\n",
       "      <td>1</td>\n",
       "    </tr>\n",
       "    <tr>\n",
       "      <th>2</th>\n",
       "      <td>Lrrc49</td>\n",
       "      <td>0.152214</td>\n",
       "      <td>0.009209</td>\n",
       "      <td>5.000465e-09</td>\n",
       "      <td>0.000016</td>\n",
       "      <td>Ket</td>\n",
       "      <td>1</td>\n",
       "    </tr>\n",
       "    <tr>\n",
       "      <th>3</th>\n",
       "      <td>Tesc</td>\n",
       "      <td>0.220526</td>\n",
       "      <td>0.025597</td>\n",
       "      <td>4.714644e-09</td>\n",
       "      <td>0.000016</td>\n",
       "      <td>Ket</td>\n",
       "      <td>1</td>\n",
       "    </tr>\n",
       "    <tr>\n",
       "      <th>4</th>\n",
       "      <td>Mapk11</td>\n",
       "      <td>0.208848</td>\n",
       "      <td>0.015645</td>\n",
       "      <td>9.215292e-09</td>\n",
       "      <td>0.000023</td>\n",
       "      <td>Ket</td>\n",
       "      <td>1</td>\n",
       "    </tr>\n",
       "  </tbody>\n",
       "</table>\n",
       "</div>"
      ],
      "text/plain": [
       "     gene   de_coef     de_se       de_pval  de_pval_adj drug  time\n",
       "0  Lpgat1  0.123609  0.008061  1.527522e-10     0.000002  Ket     1\n",
       "1     Mkx -0.108052  0.006298  2.079828e-09     0.000013  Ket     1\n",
       "2  Lrrc49  0.152214  0.009209  5.000465e-09     0.000016  Ket     1\n",
       "3    Tesc  0.220526  0.025597  4.714644e-09     0.000016  Ket     1\n",
       "4  Mapk11  0.208848  0.015645  9.215292e-09     0.000023  Ket     1"
      ]
     },
     "execution_count": 62,
     "metadata": {},
     "output_type": "execute_result"
    }
   ],
   "source": [
    "from tqdm.contrib.itertools import product as progressbar_product\n",
    "combination_mementos = [\n",
    "    process_IT_combination(drug,time) \n",
    "    for drug,time\n",
    "    in progressbar_product(trt_drugs,trt_times)\n",
    "]\n",
    "memento_IT = pd.concat(combination_mementos)\n",
    "print(memento_IT.shape)\n",
    "memento_IT.head()"
   ]
  },
  {
   "cell_type": "markdown",
   "id": "54e19ac1",
   "metadata": {},
   "source": [
    "# fig S1b -  Num DE genes (memento and IT lump)"
   ]
  },
  {
   "cell_type": "code",
   "execution_count": 53,
   "id": "78183cb4",
   "metadata": {},
   "outputs": [],
   "source": [
    "num_de_df = memento_full.merge(cluster_lookup, how='left', left_on='cluster', right_on='id')\n",
    "num_de_df = num_de_df[(num_de_df['name'].isin(['L5-PT','CIN-VIP','CIN-PV','CIN-SST'])) &\n",
    "                      (num_de_df['de_pval_adj'] < 0.05)]\n",
    "num_de_df['name'] = num_de_df['name'].cat.remove_unused_categories()\n",
    "num_de_df = num_de_df.groupby(['drug','time','name']).size().reset_index(name='num_memento_deg')"
   ]
  },
  {
   "cell_type": "code",
   "execution_count": 65,
   "id": "cf70188d",
   "metadata": {},
   "outputs": [
    {
     "data": {
      "text/html": [
       "<div>\n",
       "<style scoped>\n",
       "    .dataframe tbody tr th:only-of-type {\n",
       "        vertical-align: middle;\n",
       "    }\n",
       "\n",
       "    .dataframe tbody tr th {\n",
       "        vertical-align: top;\n",
       "    }\n",
       "\n",
       "    .dataframe thead th {\n",
       "        text-align: right;\n",
       "    }\n",
       "</style>\n",
       "<table border=\"1\" class=\"dataframe\">\n",
       "  <thead>\n",
       "    <tr style=\"text-align: right;\">\n",
       "      <th></th>\n",
       "      <th>drug</th>\n",
       "      <th>time</th>\n",
       "      <th>name</th>\n",
       "      <th>num_memento_deg</th>\n",
       "    </tr>\n",
       "  </thead>\n",
       "  <tbody>\n",
       "    <tr>\n",
       "      <th>0</th>\n",
       "      <td>Ket</td>\n",
       "      <td>1</td>\n",
       "      <td>IT</td>\n",
       "      <td>7554</td>\n",
       "    </tr>\n",
       "    <tr>\n",
       "      <th>1</th>\n",
       "      <td>Ket</td>\n",
       "      <td>2</td>\n",
       "      <td>IT</td>\n",
       "      <td>8410</td>\n",
       "    </tr>\n",
       "    <tr>\n",
       "      <th>2</th>\n",
       "      <td>Ket</td>\n",
       "      <td>4</td>\n",
       "      <td>IT</td>\n",
       "      <td>9038</td>\n",
       "    </tr>\n",
       "    <tr>\n",
       "      <th>3</th>\n",
       "      <td>Ket</td>\n",
       "      <td>24</td>\n",
       "      <td>IT</td>\n",
       "      <td>5307</td>\n",
       "    </tr>\n",
       "    <tr>\n",
       "      <th>4</th>\n",
       "      <td>Ket</td>\n",
       "      <td>72</td>\n",
       "      <td>IT</td>\n",
       "      <td>7929</td>\n",
       "    </tr>\n",
       "    <tr>\n",
       "      <th>5</th>\n",
       "      <td>Psilo</td>\n",
       "      <td>1</td>\n",
       "      <td>IT</td>\n",
       "      <td>10370</td>\n",
       "    </tr>\n",
       "    <tr>\n",
       "      <th>6</th>\n",
       "      <td>Psilo</td>\n",
       "      <td>2</td>\n",
       "      <td>IT</td>\n",
       "      <td>6374</td>\n",
       "    </tr>\n",
       "    <tr>\n",
       "      <th>7</th>\n",
       "      <td>Psilo</td>\n",
       "      <td>4</td>\n",
       "      <td>IT</td>\n",
       "      <td>7271</td>\n",
       "    </tr>\n",
       "    <tr>\n",
       "      <th>8</th>\n",
       "      <td>Psilo</td>\n",
       "      <td>24</td>\n",
       "      <td>IT</td>\n",
       "      <td>6791</td>\n",
       "    </tr>\n",
       "    <tr>\n",
       "      <th>9</th>\n",
       "      <td>Psilo</td>\n",
       "      <td>72</td>\n",
       "      <td>IT</td>\n",
       "      <td>8776</td>\n",
       "    </tr>\n",
       "  </tbody>\n",
       "</table>\n",
       "</div>"
      ],
      "text/plain": [
       "    drug  time name  num_memento_deg\n",
       "0    Ket     1   IT             7554\n",
       "1    Ket     2   IT             8410\n",
       "2    Ket     4   IT             9038\n",
       "3    Ket    24   IT             5307\n",
       "4    Ket    72   IT             7929\n",
       "5  Psilo     1   IT            10370\n",
       "6  Psilo     2   IT             6374\n",
       "7  Psilo     4   IT             7271\n",
       "8  Psilo    24   IT             6791\n",
       "9  Psilo    72   IT             8776"
      ]
     },
     "execution_count": 65,
     "metadata": {},
     "output_type": "execute_result"
    }
   ],
   "source": [
    "num_it_de_df = memento_IT.assign(name='IT')\n",
    "num_it_de_df = num_it_de_df[num_it_de_df['de_pval_adj'] < 0.05]\n",
    "num_it_de_df = num_it_de_df.groupby(['drug','time','name']).size().reset_index(name='num_memento_deg')\n",
    "num_it_de_df"
   ]
  },
  {
   "cell_type": "code",
   "execution_count": 68,
   "id": "b61e8f3c",
   "metadata": {},
   "outputs": [],
   "source": [
    "joined_num_des = pd.concat([num_de_df, num_it_de_df]).reset_index(drop=True)\n",
    "joined_num_des.to_csv(f'{settings.fig_path}/memento_num_de_genes.csv', index=False)"
   ]
  },
  {
   "cell_type": "code",
   "execution_count": 71,
   "id": "33f2b760",
   "metadata": {},
   "outputs": [
    {
     "data": {
      "text/plain": [
       "<AxesSubplot: xlabel='time', ylabel='num_memento_deg'>"
      ]
     },
     "execution_count": 71,
     "metadata": {},
     "output_type": "execute_result"
    },
    {
     "data": {
      "image/png": "[encoded data removed]",
      "text/plain": [
       "<Figure size 432x288 with 1 Axes>"
      ]
     },
     "metadata": {
      "needs_background": "light"
     },
     "output_type": "display_data"
    }
   ],
   "source": [
    "sns.barplot(data=joined_num_des.query('drug == \"Ket\"'), \n",
    "            x='time', y='num_memento_deg', \n",
    "            hue='name', hue_order=['L5-PT','IT','CIN-PV','CIN-SST','CIN-VIP'])"
   ]
  },
  {
   "cell_type": "code",
   "execution_count": null,
   "id": "04a70b26",
   "metadata": {},
   "outputs": [],
   "source": []
  }
 ],
 "metadata": {
  "kernelspec": {
   "display_name": "Python 3 (ipykernel)",
   "language": "python",
   "name": "python3"
  },
  "language_info": {
   "codemirror_mode": {
    "name": "ipython",
    "version": 3
   },
   "file_extension": ".py",
   "mimetype": "text/x-python",
   "name": "python",
   "nbconvert_exporter": "python",
   "pygments_lexer": "ipython3",
   "version": "3.9.7"
  }
 },
 "nbformat": 4,
 "nbformat_minor": 5
}

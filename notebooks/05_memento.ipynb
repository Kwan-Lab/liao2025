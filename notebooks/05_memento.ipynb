{
 "cells": [
  {
   "cell_type": "code",
   "execution_count": 1,
   "id": "e1a6fbc5",
   "metadata": {},
   "outputs": [
    {
     "name": "stdout",
     "output_type": "stream",
     "text": [
      "scanpy==1.9.1 anndata==0.8.0 umap==0.5.3 numpy==1.23.5 scipy==1.10.0 pandas==1.5.3 scikit-learn==0.24.2 statsmodels==0.13.5 python-igraph==0.10.2 pynndescent==0.5.8\n"
     ]
    }
   ],
   "source": [
    "# Built-in\n",
    "import os\n",
    "import itertools\n",
    "\n",
    "# Analysis packages\n",
    "import scanpy as sc\n",
    "import numpy as np\n",
    "import pandas as pd\n",
    "import sqlalchemy\n",
    "import memento\n",
    "from statsmodels.stats.multitest import multipletests\n",
    "\n",
    "# Plotting packages\n",
    "import matplotlib.pyplot as plt\n",
    "import seaborn as sb\n",
    "\n",
    "# Set number of cores to use\n",
    "sc.settings.n_jobs = 4\n",
    "\n",
    "sc.logging.print_header()"
   ]
  },
  {
   "cell_type": "code",
   "execution_count": 2,
   "id": "d873e924",
   "metadata": {},
   "outputs": [],
   "source": [
    "# Set autoreload settings. With this code,\n",
    "# changing settings.py (see next cell) automatically loads the new settings in here too.\n",
    "%load_ext autoreload\n",
    "%autoreload 1"
   ]
  },
  {
   "cell_type": "code",
   "execution_count": 1,
   "id": "4e2302cf",
   "metadata": {},
   "outputs": [
    {
     "name": "stderr",
     "output_type": "stream",
     "text": [
      "UsageError: Line magic function `%aimport` not found.\n"
     ]
    }
   ],
   "source": [
    "# Modify settings from this file (figure path, subsetting settings, etc)\n",
    "# The file is located in this directory (settings.py)\n",
    "%aimport settings"
   ]
  },
  {
   "cell_type": "code",
   "execution_count": 4,
   "id": "d8cd9b89",
   "metadata": {
    "scrolled": false
   },
   "outputs": [
    {
     "data": {
      "text/plain": [
       "AnnData object with n_obs × n_vars = 299193 × 24181\n",
       "    obs: 'time', 'time_str', 'drug', 'sex', 'approx_reads_per_cell', 'date', 'label', 'batch', 'sample', 'n_genes_by_counts', 'log1p_n_genes_by_counts', 'total_counts', 'log1p_total_counts', 'n_counts', 'n_genes', 'doublet_score', 'log10_gene_counts', 'log10_UMI_counts', 'percent_mito', 'percent_ribo', 'leiden'\n",
       "    var: 'gene_name', 'gene_ids', 'feature_types', 'genome', 'non-unique_names', 'n_cells_by_counts', 'mean_counts', 'log1p_mean_counts', 'pct_dropout_by_counts', 'total_counts', 'log1p_total_counts', 'n_counts', 'n_cells', 'highly_variable', 'means', 'dispersions', 'dispersions_norm'\n",
       "    uns: 'hvg', 'label_colors', 'label_colors_dict', 'label_order', 'log1p', 'scrublet', 'stage_colors_dict', 'stage_order'\n",
       "    obsm: 'X_pca', 'X_umap'\n",
       "    layers: 'ds_norm_cts', 'raw-cts_pre-ds'\n",
       "    obsp: 'connectivities', 'distances'"
      ]
     },
     "execution_count": 4,
     "metadata": {},
     "output_type": "execute_result"
    }
   ],
   "source": [
    "# read in count matrices post nuclei and gene quality control\n",
    "adata = sc.read( f\"{settings.fig_path}/post-wt-clustering.h5ad\")\n",
    "adata"
   ]
  },
  {
   "cell_type": "code",
   "execution_count": 5,
   "id": "4fcf2fc3",
   "metadata": {},
   "outputs": [
    {
     "data": {
      "text/html": [
       "<div>\n",
       "<style scoped>\n",
       "    .dataframe tbody tr th:only-of-type {\n",
       "        vertical-align: middle;\n",
       "    }\n",
       "\n",
       "    .dataframe tbody tr th {\n",
       "        vertical-align: top;\n",
       "    }\n",
       "\n",
       "    .dataframe thead th {\n",
       "        text-align: right;\n",
       "    }\n",
       "</style>\n",
       "<table border=\"1\" class=\"dataframe\">\n",
       "  <thead>\n",
       "    <tr style=\"text-align: right;\">\n",
       "      <th></th>\n",
       "      <th>time</th>\n",
       "      <th>time_str</th>\n",
       "      <th>drug</th>\n",
       "      <th>sex</th>\n",
       "      <th>approx_reads_per_cell</th>\n",
       "      <th>date</th>\n",
       "      <th>label</th>\n",
       "      <th>batch</th>\n",
       "      <th>sample</th>\n",
       "      <th>n_genes_by_counts</th>\n",
       "      <th>...</th>\n",
       "      <th>total_counts</th>\n",
       "      <th>log1p_total_counts</th>\n",
       "      <th>n_counts</th>\n",
       "      <th>n_genes</th>\n",
       "      <th>doublet_score</th>\n",
       "      <th>log10_gene_counts</th>\n",
       "      <th>log10_UMI_counts</th>\n",
       "      <th>percent_mito</th>\n",
       "      <th>percent_ribo</th>\n",
       "      <th>leiden</th>\n",
       "    </tr>\n",
       "  </thead>\n",
       "  <tbody>\n",
       "    <tr>\n",
       "      <th>AAACCCAAGTAGACAT-1-0h_none_F_346</th>\n",
       "      <td>0</td>\n",
       "      <td>0</td>\n",
       "      <td>none</td>\n",
       "      <td>F</td>\n",
       "      <td>25K</td>\n",
       "      <td>4/5/22</td>\n",
       "      <td>0h_none_F_346</td>\n",
       "      <td>6155</td>\n",
       "      <td>0</td>\n",
       "      <td>3991</td>\n",
       "      <td>...</td>\n",
       "      <td>17264.0</td>\n",
       "      <td>9.756436</td>\n",
       "      <td>17264.0</td>\n",
       "      <td>4020</td>\n",
       "      <td>0.018405</td>\n",
       "      <td>3.604334</td>\n",
       "      <td>4.245093</td>\n",
       "      <td>0.002502</td>\n",
       "      <td>0.001479</td>\n",
       "      <td>1</td>\n",
       "    </tr>\n",
       "    <tr>\n",
       "      <th>AAACCCAAGTATCCTG-1-0h_none_F_346</th>\n",
       "      <td>0</td>\n",
       "      <td>0</td>\n",
       "      <td>none</td>\n",
       "      <td>F</td>\n",
       "      <td>25K</td>\n",
       "      <td>4/5/22</td>\n",
       "      <td>0h_none_F_346</td>\n",
       "      <td>6155</td>\n",
       "      <td>0</td>\n",
       "      <td>3357</td>\n",
       "      <td>...</td>\n",
       "      <td>8862.0</td>\n",
       "      <td>9.089641</td>\n",
       "      <td>8862.0</td>\n",
       "      <td>3383</td>\n",
       "      <td>0.007324</td>\n",
       "      <td>3.529302</td>\n",
       "      <td>3.968296</td>\n",
       "      <td>0.000215</td>\n",
       "      <td>0.002689</td>\n",
       "      <td>8</td>\n",
       "    </tr>\n",
       "    <tr>\n",
       "      <th>AAACCCACAAGGATGC-1-0h_none_F_346</th>\n",
       "      <td>0</td>\n",
       "      <td>0</td>\n",
       "      <td>none</td>\n",
       "      <td>F</td>\n",
       "      <td>25K</td>\n",
       "      <td>4/5/22</td>\n",
       "      <td>0h_none_F_346</td>\n",
       "      <td>6155</td>\n",
       "      <td>0</td>\n",
       "      <td>3930</td>\n",
       "      <td>...</td>\n",
       "      <td>12117.0</td>\n",
       "      <td>9.402448</td>\n",
       "      <td>12120.0</td>\n",
       "      <td>3951</td>\n",
       "      <td>0.011114</td>\n",
       "      <td>3.596927</td>\n",
       "      <td>4.089269</td>\n",
       "      <td>0.000244</td>\n",
       "      <td>0.001547</td>\n",
       "      <td>11</td>\n",
       "    </tr>\n",
       "    <tr>\n",
       "      <th>AAACCCACAATTAGGA-1-0h_none_F_346</th>\n",
       "      <td>0</td>\n",
       "      <td>0</td>\n",
       "      <td>none</td>\n",
       "      <td>F</td>\n",
       "      <td>25K</td>\n",
       "      <td>4/5/22</td>\n",
       "      <td>0h_none_F_346</td>\n",
       "      <td>6155</td>\n",
       "      <td>0</td>\n",
       "      <td>4313</td>\n",
       "      <td>...</td>\n",
       "      <td>18289.0</td>\n",
       "      <td>9.814110</td>\n",
       "      <td>18289.0</td>\n",
       "      <td>4334</td>\n",
       "      <td>0.051054</td>\n",
       "      <td>3.636889</td>\n",
       "      <td>4.274758</td>\n",
       "      <td>0.000212</td>\n",
       "      <td>0.001115</td>\n",
       "      <td>0</td>\n",
       "    </tr>\n",
       "    <tr>\n",
       "      <th>AAACCCACAGCCGTCA-1-0h_none_F_346</th>\n",
       "      <td>0</td>\n",
       "      <td>0</td>\n",
       "      <td>none</td>\n",
       "      <td>F</td>\n",
       "      <td>25K</td>\n",
       "      <td>4/5/22</td>\n",
       "      <td>0h_none_F_346</td>\n",
       "      <td>6155</td>\n",
       "      <td>0</td>\n",
       "      <td>1375</td>\n",
       "      <td>...</td>\n",
       "      <td>2398.0</td>\n",
       "      <td>7.782807</td>\n",
       "      <td>2398.0</td>\n",
       "      <td>1392</td>\n",
       "      <td>0.008281</td>\n",
       "      <td>3.143639</td>\n",
       "      <td>3.389698</td>\n",
       "      <td>0.003669</td>\n",
       "      <td>0.004892</td>\n",
       "      <td>13</td>\n",
       "    </tr>\n",
       "    <tr>\n",
       "      <th>...</th>\n",
       "      <td>...</td>\n",
       "      <td>...</td>\n",
       "      <td>...</td>\n",
       "      <td>...</td>\n",
       "      <td>...</td>\n",
       "      <td>...</td>\n",
       "      <td>...</td>\n",
       "      <td>...</td>\n",
       "      <td>...</td>\n",
       "      <td>...</td>\n",
       "      <td>...</td>\n",
       "      <td>...</td>\n",
       "      <td>...</td>\n",
       "      <td>...</td>\n",
       "      <td>...</td>\n",
       "      <td>...</td>\n",
       "      <td>...</td>\n",
       "      <td>...</td>\n",
       "      <td>...</td>\n",
       "      <td>...</td>\n",
       "      <td>...</td>\n",
       "    </tr>\n",
       "    <tr>\n",
       "      <th>TTTGTTGGTATGTGTC-1-72h_Ket_M_334</th>\n",
       "      <td>72</td>\n",
       "      <td>72</td>\n",
       "      <td>Ket</td>\n",
       "      <td>M</td>\n",
       "      <td>25K</td>\n",
       "      <td>4/19/22</td>\n",
       "      <td>72h_Ket_M_334</td>\n",
       "      <td>6163</td>\n",
       "      <td>41</td>\n",
       "      <td>3421</td>\n",
       "      <td>...</td>\n",
       "      <td>13477.0</td>\n",
       "      <td>9.508814</td>\n",
       "      <td>13477.0</td>\n",
       "      <td>3454</td>\n",
       "      <td>0.014776</td>\n",
       "      <td>3.538322</td>\n",
       "      <td>4.142921</td>\n",
       "      <td>0.001079</td>\n",
       "      <td>0.002087</td>\n",
       "      <td>0</td>\n",
       "    </tr>\n",
       "    <tr>\n",
       "      <th>TTTGTTGGTCGGCACT-1-72h_Ket_M_334</th>\n",
       "      <td>72</td>\n",
       "      <td>72</td>\n",
       "      <td>Ket</td>\n",
       "      <td>M</td>\n",
       "      <td>25K</td>\n",
       "      <td>4/19/22</td>\n",
       "      <td>72h_Ket_M_334</td>\n",
       "      <td>6163</td>\n",
       "      <td>41</td>\n",
       "      <td>887</td>\n",
       "      <td>...</td>\n",
       "      <td>1497.0</td>\n",
       "      <td>7.311886</td>\n",
       "      <td>1498.0</td>\n",
       "      <td>898</td>\n",
       "      <td>0.020126</td>\n",
       "      <td>2.953760</td>\n",
       "      <td>3.191451</td>\n",
       "      <td>0.003218</td>\n",
       "      <td>0.003861</td>\n",
       "      <td>4</td>\n",
       "    </tr>\n",
       "    <tr>\n",
       "      <th>TTTGTTGTCCTAAACG-1-72h_Ket_M_334</th>\n",
       "      <td>72</td>\n",
       "      <td>72</td>\n",
       "      <td>Ket</td>\n",
       "      <td>M</td>\n",
       "      <td>25K</td>\n",
       "      <td>4/19/22</td>\n",
       "      <td>72h_Ket_M_334</td>\n",
       "      <td>6163</td>\n",
       "      <td>41</td>\n",
       "      <td>1111</td>\n",
       "      <td>...</td>\n",
       "      <td>2052.0</td>\n",
       "      <td>7.627058</td>\n",
       "      <td>2052.0</td>\n",
       "      <td>1119</td>\n",
       "      <td>0.016110</td>\n",
       "      <td>3.048830</td>\n",
       "      <td>3.326950</td>\n",
       "      <td>0.000942</td>\n",
       "      <td>0.003297</td>\n",
       "      <td>4</td>\n",
       "    </tr>\n",
       "    <tr>\n",
       "      <th>TTTGTTGTCGACGCGT-1-72h_Ket_M_334</th>\n",
       "      <td>72</td>\n",
       "      <td>72</td>\n",
       "      <td>Ket</td>\n",
       "      <td>M</td>\n",
       "      <td>25K</td>\n",
       "      <td>4/19/22</td>\n",
       "      <td>72h_Ket_M_334</td>\n",
       "      <td>6163</td>\n",
       "      <td>41</td>\n",
       "      <td>4010</td>\n",
       "      <td>...</td>\n",
       "      <td>15712.0</td>\n",
       "      <td>9.662244</td>\n",
       "      <td>15712.0</td>\n",
       "      <td>4041</td>\n",
       "      <td>0.028529</td>\n",
       "      <td>3.606596</td>\n",
       "      <td>4.207366</td>\n",
       "      <td>0.000186</td>\n",
       "      <td>0.002047</td>\n",
       "      <td>1</td>\n",
       "    </tr>\n",
       "    <tr>\n",
       "      <th>TTTGTTGTCGGAGTAG-1-72h_Ket_M_334</th>\n",
       "      <td>72</td>\n",
       "      <td>72</td>\n",
       "      <td>Ket</td>\n",
       "      <td>M</td>\n",
       "      <td>25K</td>\n",
       "      <td>4/19/22</td>\n",
       "      <td>72h_Ket_M_334</td>\n",
       "      <td>6163</td>\n",
       "      <td>41</td>\n",
       "      <td>3034</td>\n",
       "      <td>...</td>\n",
       "      <td>8333.0</td>\n",
       "      <td>9.028099</td>\n",
       "      <td>8333.0</td>\n",
       "      <td>3068</td>\n",
       "      <td>0.050989</td>\n",
       "      <td>3.486855</td>\n",
       "      <td>3.930032</td>\n",
       "      <td>0.000352</td>\n",
       "      <td>0.003994</td>\n",
       "      <td>3</td>\n",
       "    </tr>\n",
       "  </tbody>\n",
       "</table>\n",
       "<p>299193 rows × 21 columns</p>\n",
       "</div>"
      ],
      "text/plain": [
       "                                  time time_str  drug sex  \\\n",
       "AAACCCAAGTAGACAT-1-0h_none_F_346     0        0  none   F   \n",
       "AAACCCAAGTATCCTG-1-0h_none_F_346     0        0  none   F   \n",
       "AAACCCACAAGGATGC-1-0h_none_F_346     0        0  none   F   \n",
       "AAACCCACAATTAGGA-1-0h_none_F_346     0        0  none   F   \n",
       "AAACCCACAGCCGTCA-1-0h_none_F_346     0        0  none   F   \n",
       "...                                ...      ...   ...  ..   \n",
       "TTTGTTGGTATGTGTC-1-72h_Ket_M_334    72       72   Ket   M   \n",
       "TTTGTTGGTCGGCACT-1-72h_Ket_M_334    72       72   Ket   M   \n",
       "TTTGTTGTCCTAAACG-1-72h_Ket_M_334    72       72   Ket   M   \n",
       "TTTGTTGTCGACGCGT-1-72h_Ket_M_334    72       72   Ket   M   \n",
       "TTTGTTGTCGGAGTAG-1-72h_Ket_M_334    72       72   Ket   M   \n",
       "\n",
       "                                 approx_reads_per_cell     date  \\\n",
       "AAACCCAAGTAGACAT-1-0h_none_F_346                   25K   4/5/22   \n",
       "AAACCCAAGTATCCTG-1-0h_none_F_346                   25K   4/5/22   \n",
       "AAACCCACAAGGATGC-1-0h_none_F_346                   25K   4/5/22   \n",
       "AAACCCACAATTAGGA-1-0h_none_F_346                   25K   4/5/22   \n",
       "AAACCCACAGCCGTCA-1-0h_none_F_346                   25K   4/5/22   \n",
       "...                                                ...      ...   \n",
       "TTTGTTGGTATGTGTC-1-72h_Ket_M_334                   25K  4/19/22   \n",
       "TTTGTTGGTCGGCACT-1-72h_Ket_M_334                   25K  4/19/22   \n",
       "TTTGTTGTCCTAAACG-1-72h_Ket_M_334                   25K  4/19/22   \n",
       "TTTGTTGTCGACGCGT-1-72h_Ket_M_334                   25K  4/19/22   \n",
       "TTTGTTGTCGGAGTAG-1-72h_Ket_M_334                   25K  4/19/22   \n",
       "\n",
       "                                          label batch sample  \\\n",
       "AAACCCAAGTAGACAT-1-0h_none_F_346  0h_none_F_346  6155      0   \n",
       "AAACCCAAGTATCCTG-1-0h_none_F_346  0h_none_F_346  6155      0   \n",
       "AAACCCACAAGGATGC-1-0h_none_F_346  0h_none_F_346  6155      0   \n",
       "AAACCCACAATTAGGA-1-0h_none_F_346  0h_none_F_346  6155      0   \n",
       "AAACCCACAGCCGTCA-1-0h_none_F_346  0h_none_F_346  6155      0   \n",
       "...                                         ...   ...    ...   \n",
       "TTTGTTGGTATGTGTC-1-72h_Ket_M_334  72h_Ket_M_334  6163     41   \n",
       "TTTGTTGGTCGGCACT-1-72h_Ket_M_334  72h_Ket_M_334  6163     41   \n",
       "TTTGTTGTCCTAAACG-1-72h_Ket_M_334  72h_Ket_M_334  6163     41   \n",
       "TTTGTTGTCGACGCGT-1-72h_Ket_M_334  72h_Ket_M_334  6163     41   \n",
       "TTTGTTGTCGGAGTAG-1-72h_Ket_M_334  72h_Ket_M_334  6163     41   \n",
       "\n",
       "                                  n_genes_by_counts  ...  total_counts  \\\n",
       "AAACCCAAGTAGACAT-1-0h_none_F_346               3991  ...       17264.0   \n",
       "AAACCCAAGTATCCTG-1-0h_none_F_346               3357  ...        8862.0   \n",
       "AAACCCACAAGGATGC-1-0h_none_F_346               3930  ...       12117.0   \n",
       "AAACCCACAATTAGGA-1-0h_none_F_346               4313  ...       18289.0   \n",
       "AAACCCACAGCCGTCA-1-0h_none_F_346               1375  ...        2398.0   \n",
       "...                                             ...  ...           ...   \n",
       "TTTGTTGGTATGTGTC-1-72h_Ket_M_334               3421  ...       13477.0   \n",
       "TTTGTTGGTCGGCACT-1-72h_Ket_M_334                887  ...        1497.0   \n",
       "TTTGTTGTCCTAAACG-1-72h_Ket_M_334               1111  ...        2052.0   \n",
       "TTTGTTGTCGACGCGT-1-72h_Ket_M_334               4010  ...       15712.0   \n",
       "TTTGTTGTCGGAGTAG-1-72h_Ket_M_334               3034  ...        8333.0   \n",
       "\n",
       "                                  log1p_total_counts  n_counts  n_genes  \\\n",
       "AAACCCAAGTAGACAT-1-0h_none_F_346            9.756436   17264.0     4020   \n",
       "AAACCCAAGTATCCTG-1-0h_none_F_346            9.089641    8862.0     3383   \n",
       "AAACCCACAAGGATGC-1-0h_none_F_346            9.402448   12120.0     3951   \n",
       "AAACCCACAATTAGGA-1-0h_none_F_346            9.814110   18289.0     4334   \n",
       "AAACCCACAGCCGTCA-1-0h_none_F_346            7.782807    2398.0     1392   \n",
       "...                                              ...       ...      ...   \n",
       "TTTGTTGGTATGTGTC-1-72h_Ket_M_334            9.508814   13477.0     3454   \n",
       "TTTGTTGGTCGGCACT-1-72h_Ket_M_334            7.311886    1498.0      898   \n",
       "TTTGTTGTCCTAAACG-1-72h_Ket_M_334            7.627058    2052.0     1119   \n",
       "TTTGTTGTCGACGCGT-1-72h_Ket_M_334            9.662244   15712.0     4041   \n",
       "TTTGTTGTCGGAGTAG-1-72h_Ket_M_334            9.028099    8333.0     3068   \n",
       "\n",
       "                                  doublet_score  log10_gene_counts  \\\n",
       "AAACCCAAGTAGACAT-1-0h_none_F_346       0.018405           3.604334   \n",
       "AAACCCAAGTATCCTG-1-0h_none_F_346       0.007324           3.529302   \n",
       "AAACCCACAAGGATGC-1-0h_none_F_346       0.011114           3.596927   \n",
       "AAACCCACAATTAGGA-1-0h_none_F_346       0.051054           3.636889   \n",
       "AAACCCACAGCCGTCA-1-0h_none_F_346       0.008281           3.143639   \n",
       "...                                         ...                ...   \n",
       "TTTGTTGGTATGTGTC-1-72h_Ket_M_334       0.014776           3.538322   \n",
       "TTTGTTGGTCGGCACT-1-72h_Ket_M_334       0.020126           2.953760   \n",
       "TTTGTTGTCCTAAACG-1-72h_Ket_M_334       0.016110           3.048830   \n",
       "TTTGTTGTCGACGCGT-1-72h_Ket_M_334       0.028529           3.606596   \n",
       "TTTGTTGTCGGAGTAG-1-72h_Ket_M_334       0.050989           3.486855   \n",
       "\n",
       "                                  log10_UMI_counts  percent_mito  \\\n",
       "AAACCCAAGTAGACAT-1-0h_none_F_346          4.245093      0.002502   \n",
       "AAACCCAAGTATCCTG-1-0h_none_F_346          3.968296      0.000215   \n",
       "AAACCCACAAGGATGC-1-0h_none_F_346          4.089269      0.000244   \n",
       "AAACCCACAATTAGGA-1-0h_none_F_346          4.274758      0.000212   \n",
       "AAACCCACAGCCGTCA-1-0h_none_F_346          3.389698      0.003669   \n",
       "...                                            ...           ...   \n",
       "TTTGTTGGTATGTGTC-1-72h_Ket_M_334          4.142921      0.001079   \n",
       "TTTGTTGGTCGGCACT-1-72h_Ket_M_334          3.191451      0.003218   \n",
       "TTTGTTGTCCTAAACG-1-72h_Ket_M_334          3.326950      0.000942   \n",
       "TTTGTTGTCGACGCGT-1-72h_Ket_M_334          4.207366      0.000186   \n",
       "TTTGTTGTCGGAGTAG-1-72h_Ket_M_334          3.930032      0.000352   \n",
       "\n",
       "                                  percent_ribo  leiden  \n",
       "AAACCCAAGTAGACAT-1-0h_none_F_346      0.001479       1  \n",
       "AAACCCAAGTATCCTG-1-0h_none_F_346      0.002689       8  \n",
       "AAACCCACAAGGATGC-1-0h_none_F_346      0.001547      11  \n",
       "AAACCCACAATTAGGA-1-0h_none_F_346      0.001115       0  \n",
       "AAACCCACAGCCGTCA-1-0h_none_F_346      0.004892      13  \n",
       "...                                        ...     ...  \n",
       "TTTGTTGGTATGTGTC-1-72h_Ket_M_334      0.002087       0  \n",
       "TTTGTTGGTCGGCACT-1-72h_Ket_M_334      0.003861       4  \n",
       "TTTGTTGTCCTAAACG-1-72h_Ket_M_334      0.003297       4  \n",
       "TTTGTTGTCGACGCGT-1-72h_Ket_M_334      0.002047       1  \n",
       "TTTGTTGTCGGAGTAG-1-72h_Ket_M_334      0.003994       3  \n",
       "\n",
       "[299193 rows x 21 columns]"
      ]
     },
     "execution_count": 5,
     "metadata": {},
     "output_type": "execute_result"
    }
   ],
   "source": [
    "adata.obs"
   ]
  },
  {
   "cell_type": "markdown",
   "id": "e73838f6",
   "metadata": {},
   "source": [
    "# Load Sequencing Saturation"
   ]
  },
  {
   "cell_type": "code",
   "execution_count": 6,
   "id": "2997da80",
   "metadata": {},
   "outputs": [
    {
     "data": {
      "text/html": [
       "<div>\n",
       "<style scoped>\n",
       "    .dataframe tbody tr th:only-of-type {\n",
       "        vertical-align: middle;\n",
       "    }\n",
       "\n",
       "    .dataframe tbody tr th {\n",
       "        vertical-align: top;\n",
       "    }\n",
       "\n",
       "    .dataframe thead th {\n",
       "        text-align: right;\n",
       "    }\n",
       "</style>\n",
       "<table border=\"1\" class=\"dataframe\">\n",
       "  <thead>\n",
       "    <tr style=\"text-align: right;\">\n",
       "      <th></th>\n",
       "      <th>label</th>\n",
       "      <th>Seq ID</th>\n",
       "    </tr>\n",
       "  </thead>\n",
       "  <tbody>\n",
       "    <tr>\n",
       "      <th>0</th>\n",
       "      <td>0h_none_F_346</td>\n",
       "      <td>6155-CL-1</td>\n",
       "    </tr>\n",
       "    <tr>\n",
       "      <th>1</th>\n",
       "      <td>0h_none_F_347</td>\n",
       "      <td>6128-CL-1</td>\n",
       "    </tr>\n",
       "    <tr>\n",
       "      <th>2</th>\n",
       "      <td>0h_none_F_465</td>\n",
       "      <td>6881-CL-1</td>\n",
       "    </tr>\n",
       "    <tr>\n",
       "      <th>3</th>\n",
       "      <td>0h_none_F_467</td>\n",
       "      <td>6881-CL-2</td>\n",
       "    </tr>\n",
       "    <tr>\n",
       "      <th>5</th>\n",
       "      <td>0h_none_M_291</td>\n",
       "      <td>5889-CL-1</td>\n",
       "    </tr>\n",
       "  </tbody>\n",
       "</table>\n",
       "</div>"
      ],
      "text/plain": [
       "           label     Seq ID\n",
       "0  0h_none_F_346  6155-CL-1\n",
       "1  0h_none_F_347  6128-CL-1\n",
       "2  0h_none_F_465  6881-CL-1\n",
       "3  0h_none_F_467  6881-CL-2\n",
       "5  0h_none_M_291  5889-CL-1"
      ]
     },
     "execution_count": 6,
     "metadata": {},
     "output_type": "execute_result"
    }
   ],
   "source": [
    "samples = pd.read_csv(\"../PsiloKet snRNA Seq (2022-11-19).csv\").astype({\"Mouse ID\": str})\n",
    "# Select samples with NO reason for exclusion\n",
    "samples = samples[samples[\"Reason for Exclusion\"].isna()]\n",
    "\n",
    "# Swapped sex\n",
    "samples.loc[np.isin(samples['Mouse ID'], [\"470\"]), 'Sex'] = 'M'\n",
    "\n",
    "samples[\"label\"] = samples[\"Timepoint\"] + \"_\" + samples[\"Drug\"] + \"_\" + samples[\"Sex\"] + \"_\" + samples[\"Mouse ID\"]\n",
    "# Only keep necessary columns\n",
    "samples = samples[[\"label\", \"Seq ID\"]]\n",
    "samples.head()"
   ]
  },
  {
   "cell_type": "code",
   "execution_count": 7,
   "id": "0a713e8b",
   "metadata": {},
   "outputs": [
    {
     "data": {
      "text/html": [
       "<div>\n",
       "<style scoped>\n",
       "    .dataframe tbody tr th:only-of-type {\n",
       "        vertical-align: middle;\n",
       "    }\n",
       "\n",
       "    .dataframe tbody tr th {\n",
       "        vertical-align: top;\n",
       "    }\n",
       "\n",
       "    .dataframe thead th {\n",
       "        text-align: right;\n",
       "    }\n",
       "</style>\n",
       "<table border=\"1\" class=\"dataframe\">\n",
       "  <thead>\n",
       "    <tr style=\"text-align: right;\">\n",
       "      <th></th>\n",
       "      <th>Sequencing Saturation</th>\n",
       "    </tr>\n",
       "    <tr>\n",
       "      <th>Sample</th>\n",
       "      <th></th>\n",
       "    </tr>\n",
       "  </thead>\n",
       "  <tbody>\n",
       "    <tr>\n",
       "      <th>6155-CL-1</th>\n",
       "      <td>0.405</td>\n",
       "    </tr>\n",
       "    <tr>\n",
       "      <th>6128-CL-1</th>\n",
       "      <td>0.634</td>\n",
       "    </tr>\n",
       "    <tr>\n",
       "      <th>6881-CL-1</th>\n",
       "      <td>0.527</td>\n",
       "    </tr>\n",
       "    <tr>\n",
       "      <th>6881-CL-2</th>\n",
       "      <td>0.497</td>\n",
       "    </tr>\n",
       "    <tr>\n",
       "      <th>5905-CL-1</th>\n",
       "      <td>0.853</td>\n",
       "    </tr>\n",
       "  </tbody>\n",
       "</table>\n",
       "</div>"
      ],
      "text/plain": [
       "           Sequencing Saturation\n",
       "Sample                          \n",
       "6155-CL-1                  0.405\n",
       "6128-CL-1                  0.634\n",
       "6881-CL-1                  0.527\n",
       "6881-CL-2                  0.497\n",
       "5905-CL-1                  0.853"
      ]
     },
     "execution_count": 7,
     "metadata": {},
     "output_type": "execute_result"
    }
   ],
   "source": [
    "# Read sequencing saturation\n",
    "metrics = pd.read_csv(\"../10x_metrics.csv\").set_index(\"Sample\")\n",
    "# Convert 40.5% to 0.405\n",
    "metrics[\"Sequencing Saturation\"] = metrics[\"Sequencing Saturation\"].str.rstrip('%').astype('float') / 100.0\n",
    "# Using only the columns we care about\n",
    "metrics = metrics[[\"Sequencing Saturation\"]]\n",
    "metrics.head()"
   ]
  },
  {
   "cell_type": "code",
   "execution_count": 8,
   "id": "b9c4f4f2",
   "metadata": {},
   "outputs": [
    {
     "data": {
      "text/html": [
       "<div>\n",
       "<style scoped>\n",
       "    .dataframe tbody tr th:only-of-type {\n",
       "        vertical-align: middle;\n",
       "    }\n",
       "\n",
       "    .dataframe tbody tr th {\n",
       "        vertical-align: top;\n",
       "    }\n",
       "\n",
       "    .dataframe thead th {\n",
       "        text-align: right;\n",
       "    }\n",
       "</style>\n",
       "<table border=\"1\" class=\"dataframe\">\n",
       "  <thead>\n",
       "    <tr style=\"text-align: right;\">\n",
       "      <th></th>\n",
       "      <th>time</th>\n",
       "      <th>time_str</th>\n",
       "      <th>drug</th>\n",
       "      <th>sex</th>\n",
       "      <th>approx_reads_per_cell</th>\n",
       "      <th>date</th>\n",
       "      <th>label</th>\n",
       "      <th>batch</th>\n",
       "      <th>sample</th>\n",
       "      <th>n_genes_by_counts</th>\n",
       "      <th>...</th>\n",
       "      <th>n_genes</th>\n",
       "      <th>doublet_score</th>\n",
       "      <th>log10_gene_counts</th>\n",
       "      <th>log10_UMI_counts</th>\n",
       "      <th>percent_mito</th>\n",
       "      <th>percent_ribo</th>\n",
       "      <th>leiden</th>\n",
       "      <th>Seq ID</th>\n",
       "      <th>Sequencing Saturation</th>\n",
       "      <th>capture_rate</th>\n",
       "    </tr>\n",
       "    <tr>\n",
       "      <th>index</th>\n",
       "      <th></th>\n",
       "      <th></th>\n",
       "      <th></th>\n",
       "      <th></th>\n",
       "      <th></th>\n",
       "      <th></th>\n",
       "      <th></th>\n",
       "      <th></th>\n",
       "      <th></th>\n",
       "      <th></th>\n",
       "      <th></th>\n",
       "      <th></th>\n",
       "      <th></th>\n",
       "      <th></th>\n",
       "      <th></th>\n",
       "      <th></th>\n",
       "      <th></th>\n",
       "      <th></th>\n",
       "      <th></th>\n",
       "      <th></th>\n",
       "      <th></th>\n",
       "    </tr>\n",
       "  </thead>\n",
       "  <tbody>\n",
       "    <tr>\n",
       "      <th>AAACCCAAGTAGACAT-1-0h_none_F_346</th>\n",
       "      <td>0</td>\n",
       "      <td>0</td>\n",
       "      <td>none</td>\n",
       "      <td>F</td>\n",
       "      <td>25K</td>\n",
       "      <td>4/5/22</td>\n",
       "      <td>0h_none_F_346</td>\n",
       "      <td>6155</td>\n",
       "      <td>0</td>\n",
       "      <td>3991</td>\n",
       "      <td>...</td>\n",
       "      <td>4020</td>\n",
       "      <td>0.018405</td>\n",
       "      <td>3.604334</td>\n",
       "      <td>4.245093</td>\n",
       "      <td>0.002502</td>\n",
       "      <td>0.001479</td>\n",
       "      <td>1</td>\n",
       "      <td>6155-CL-1</td>\n",
       "      <td>0.405</td>\n",
       "      <td>0.10125</td>\n",
       "    </tr>\n",
       "    <tr>\n",
       "      <th>AAACCCAAGTATCCTG-1-0h_none_F_346</th>\n",
       "      <td>0</td>\n",
       "      <td>0</td>\n",
       "      <td>none</td>\n",
       "      <td>F</td>\n",
       "      <td>25K</td>\n",
       "      <td>4/5/22</td>\n",
       "      <td>0h_none_F_346</td>\n",
       "      <td>6155</td>\n",
       "      <td>0</td>\n",
       "      <td>3357</td>\n",
       "      <td>...</td>\n",
       "      <td>3383</td>\n",
       "      <td>0.007324</td>\n",
       "      <td>3.529302</td>\n",
       "      <td>3.968296</td>\n",
       "      <td>0.000215</td>\n",
       "      <td>0.002689</td>\n",
       "      <td>8</td>\n",
       "      <td>6155-CL-1</td>\n",
       "      <td>0.405</td>\n",
       "      <td>0.10125</td>\n",
       "    </tr>\n",
       "    <tr>\n",
       "      <th>AAACCCACAAGGATGC-1-0h_none_F_346</th>\n",
       "      <td>0</td>\n",
       "      <td>0</td>\n",
       "      <td>none</td>\n",
       "      <td>F</td>\n",
       "      <td>25K</td>\n",
       "      <td>4/5/22</td>\n",
       "      <td>0h_none_F_346</td>\n",
       "      <td>6155</td>\n",
       "      <td>0</td>\n",
       "      <td>3930</td>\n",
       "      <td>...</td>\n",
       "      <td>3951</td>\n",
       "      <td>0.011114</td>\n",
       "      <td>3.596927</td>\n",
       "      <td>4.089269</td>\n",
       "      <td>0.000244</td>\n",
       "      <td>0.001547</td>\n",
       "      <td>11</td>\n",
       "      <td>6155-CL-1</td>\n",
       "      <td>0.405</td>\n",
       "      <td>0.10125</td>\n",
       "    </tr>\n",
       "    <tr>\n",
       "      <th>AAACCCACAATTAGGA-1-0h_none_F_346</th>\n",
       "      <td>0</td>\n",
       "      <td>0</td>\n",
       "      <td>none</td>\n",
       "      <td>F</td>\n",
       "      <td>25K</td>\n",
       "      <td>4/5/22</td>\n",
       "      <td>0h_none_F_346</td>\n",
       "      <td>6155</td>\n",
       "      <td>0</td>\n",
       "      <td>4313</td>\n",
       "      <td>...</td>\n",
       "      <td>4334</td>\n",
       "      <td>0.051054</td>\n",
       "      <td>3.636889</td>\n",
       "      <td>4.274758</td>\n",
       "      <td>0.000212</td>\n",
       "      <td>0.001115</td>\n",
       "      <td>0</td>\n",
       "      <td>6155-CL-1</td>\n",
       "      <td>0.405</td>\n",
       "      <td>0.10125</td>\n",
       "    </tr>\n",
       "    <tr>\n",
       "      <th>AAACCCACAGCCGTCA-1-0h_none_F_346</th>\n",
       "      <td>0</td>\n",
       "      <td>0</td>\n",
       "      <td>none</td>\n",
       "      <td>F</td>\n",
       "      <td>25K</td>\n",
       "      <td>4/5/22</td>\n",
       "      <td>0h_none_F_346</td>\n",
       "      <td>6155</td>\n",
       "      <td>0</td>\n",
       "      <td>1375</td>\n",
       "      <td>...</td>\n",
       "      <td>1392</td>\n",
       "      <td>0.008281</td>\n",
       "      <td>3.143639</td>\n",
       "      <td>3.389698</td>\n",
       "      <td>0.003669</td>\n",
       "      <td>0.004892</td>\n",
       "      <td>13</td>\n",
       "      <td>6155-CL-1</td>\n",
       "      <td>0.405</td>\n",
       "      <td>0.10125</td>\n",
       "    </tr>\n",
       "    <tr>\n",
       "      <th>...</th>\n",
       "      <td>...</td>\n",
       "      <td>...</td>\n",
       "      <td>...</td>\n",
       "      <td>...</td>\n",
       "      <td>...</td>\n",
       "      <td>...</td>\n",
       "      <td>...</td>\n",
       "      <td>...</td>\n",
       "      <td>...</td>\n",
       "      <td>...</td>\n",
       "      <td>...</td>\n",
       "      <td>...</td>\n",
       "      <td>...</td>\n",
       "      <td>...</td>\n",
       "      <td>...</td>\n",
       "      <td>...</td>\n",
       "      <td>...</td>\n",
       "      <td>...</td>\n",
       "      <td>...</td>\n",
       "      <td>...</td>\n",
       "      <td>...</td>\n",
       "    </tr>\n",
       "    <tr>\n",
       "      <th>TTTGTTGGTATGTGTC-1-72h_Ket_M_334</th>\n",
       "      <td>72</td>\n",
       "      <td>72</td>\n",
       "      <td>Ket</td>\n",
       "      <td>M</td>\n",
       "      <td>25K</td>\n",
       "      <td>4/19/22</td>\n",
       "      <td>72h_Ket_M_334</td>\n",
       "      <td>6163</td>\n",
       "      <td>41</td>\n",
       "      <td>3421</td>\n",
       "      <td>...</td>\n",
       "      <td>3454</td>\n",
       "      <td>0.014776</td>\n",
       "      <td>3.538322</td>\n",
       "      <td>4.142921</td>\n",
       "      <td>0.001079</td>\n",
       "      <td>0.002087</td>\n",
       "      <td>0</td>\n",
       "      <td>6163-CL-4</td>\n",
       "      <td>0.431</td>\n",
       "      <td>0.10775</td>\n",
       "    </tr>\n",
       "    <tr>\n",
       "      <th>TTTGTTGGTCGGCACT-1-72h_Ket_M_334</th>\n",
       "      <td>72</td>\n",
       "      <td>72</td>\n",
       "      <td>Ket</td>\n",
       "      <td>M</td>\n",
       "      <td>25K</td>\n",
       "      <td>4/19/22</td>\n",
       "      <td>72h_Ket_M_334</td>\n",
       "      <td>6163</td>\n",
       "      <td>41</td>\n",
       "      <td>887</td>\n",
       "      <td>...</td>\n",
       "      <td>898</td>\n",
       "      <td>0.020126</td>\n",
       "      <td>2.953760</td>\n",
       "      <td>3.191451</td>\n",
       "      <td>0.003218</td>\n",
       "      <td>0.003861</td>\n",
       "      <td>4</td>\n",
       "      <td>6163-CL-4</td>\n",
       "      <td>0.431</td>\n",
       "      <td>0.10775</td>\n",
       "    </tr>\n",
       "    <tr>\n",
       "      <th>TTTGTTGTCCTAAACG-1-72h_Ket_M_334</th>\n",
       "      <td>72</td>\n",
       "      <td>72</td>\n",
       "      <td>Ket</td>\n",
       "      <td>M</td>\n",
       "      <td>25K</td>\n",
       "      <td>4/19/22</td>\n",
       "      <td>72h_Ket_M_334</td>\n",
       "      <td>6163</td>\n",
       "      <td>41</td>\n",
       "      <td>1111</td>\n",
       "      <td>...</td>\n",
       "      <td>1119</td>\n",
       "      <td>0.016110</td>\n",
       "      <td>3.048830</td>\n",
       "      <td>3.326950</td>\n",
       "      <td>0.000942</td>\n",
       "      <td>0.003297</td>\n",
       "      <td>4</td>\n",
       "      <td>6163-CL-4</td>\n",
       "      <td>0.431</td>\n",
       "      <td>0.10775</td>\n",
       "    </tr>\n",
       "    <tr>\n",
       "      <th>TTTGTTGTCGACGCGT-1-72h_Ket_M_334</th>\n",
       "      <td>72</td>\n",
       "      <td>72</td>\n",
       "      <td>Ket</td>\n",
       "      <td>M</td>\n",
       "      <td>25K</td>\n",
       "      <td>4/19/22</td>\n",
       "      <td>72h_Ket_M_334</td>\n",
       "      <td>6163</td>\n",
       "      <td>41</td>\n",
       "      <td>4010</td>\n",
       "      <td>...</td>\n",
       "      <td>4041</td>\n",
       "      <td>0.028529</td>\n",
       "      <td>3.606596</td>\n",
       "      <td>4.207366</td>\n",
       "      <td>0.000186</td>\n",
       "      <td>0.002047</td>\n",
       "      <td>1</td>\n",
       "      <td>6163-CL-4</td>\n",
       "      <td>0.431</td>\n",
       "      <td>0.10775</td>\n",
       "    </tr>\n",
       "    <tr>\n",
       "      <th>TTTGTTGTCGGAGTAG-1-72h_Ket_M_334</th>\n",
       "      <td>72</td>\n",
       "      <td>72</td>\n",
       "      <td>Ket</td>\n",
       "      <td>M</td>\n",
       "      <td>25K</td>\n",
       "      <td>4/19/22</td>\n",
       "      <td>72h_Ket_M_334</td>\n",
       "      <td>6163</td>\n",
       "      <td>41</td>\n",
       "      <td>3034</td>\n",
       "      <td>...</td>\n",
       "      <td>3068</td>\n",
       "      <td>0.050989</td>\n",
       "      <td>3.486855</td>\n",
       "      <td>3.930032</td>\n",
       "      <td>0.000352</td>\n",
       "      <td>0.003994</td>\n",
       "      <td>3</td>\n",
       "      <td>6163-CL-4</td>\n",
       "      <td>0.431</td>\n",
       "      <td>0.10775</td>\n",
       "    </tr>\n",
       "  </tbody>\n",
       "</table>\n",
       "<p>299193 rows × 24 columns</p>\n",
       "</div>"
      ],
      "text/plain": [
       "                                  time time_str  drug sex  \\\n",
       "index                                                       \n",
       "AAACCCAAGTAGACAT-1-0h_none_F_346     0        0  none   F   \n",
       "AAACCCAAGTATCCTG-1-0h_none_F_346     0        0  none   F   \n",
       "AAACCCACAAGGATGC-1-0h_none_F_346     0        0  none   F   \n",
       "AAACCCACAATTAGGA-1-0h_none_F_346     0        0  none   F   \n",
       "AAACCCACAGCCGTCA-1-0h_none_F_346     0        0  none   F   \n",
       "...                                ...      ...   ...  ..   \n",
       "TTTGTTGGTATGTGTC-1-72h_Ket_M_334    72       72   Ket   M   \n",
       "TTTGTTGGTCGGCACT-1-72h_Ket_M_334    72       72   Ket   M   \n",
       "TTTGTTGTCCTAAACG-1-72h_Ket_M_334    72       72   Ket   M   \n",
       "TTTGTTGTCGACGCGT-1-72h_Ket_M_334    72       72   Ket   M   \n",
       "TTTGTTGTCGGAGTAG-1-72h_Ket_M_334    72       72   Ket   M   \n",
       "\n",
       "                                 approx_reads_per_cell     date  \\\n",
       "index                                                             \n",
       "AAACCCAAGTAGACAT-1-0h_none_F_346                   25K   4/5/22   \n",
       "AAACCCAAGTATCCTG-1-0h_none_F_346                   25K   4/5/22   \n",
       "AAACCCACAAGGATGC-1-0h_none_F_346                   25K   4/5/22   \n",
       "AAACCCACAATTAGGA-1-0h_none_F_346                   25K   4/5/22   \n",
       "AAACCCACAGCCGTCA-1-0h_none_F_346                   25K   4/5/22   \n",
       "...                                                ...      ...   \n",
       "TTTGTTGGTATGTGTC-1-72h_Ket_M_334                   25K  4/19/22   \n",
       "TTTGTTGGTCGGCACT-1-72h_Ket_M_334                   25K  4/19/22   \n",
       "TTTGTTGTCCTAAACG-1-72h_Ket_M_334                   25K  4/19/22   \n",
       "TTTGTTGTCGACGCGT-1-72h_Ket_M_334                   25K  4/19/22   \n",
       "TTTGTTGTCGGAGTAG-1-72h_Ket_M_334                   25K  4/19/22   \n",
       "\n",
       "                                          label batch sample  \\\n",
       "index                                                          \n",
       "AAACCCAAGTAGACAT-1-0h_none_F_346  0h_none_F_346  6155      0   \n",
       "AAACCCAAGTATCCTG-1-0h_none_F_346  0h_none_F_346  6155      0   \n",
       "AAACCCACAAGGATGC-1-0h_none_F_346  0h_none_F_346  6155      0   \n",
       "AAACCCACAATTAGGA-1-0h_none_F_346  0h_none_F_346  6155      0   \n",
       "AAACCCACAGCCGTCA-1-0h_none_F_346  0h_none_F_346  6155      0   \n",
       "...                                         ...   ...    ...   \n",
       "TTTGTTGGTATGTGTC-1-72h_Ket_M_334  72h_Ket_M_334  6163     41   \n",
       "TTTGTTGGTCGGCACT-1-72h_Ket_M_334  72h_Ket_M_334  6163     41   \n",
       "TTTGTTGTCCTAAACG-1-72h_Ket_M_334  72h_Ket_M_334  6163     41   \n",
       "TTTGTTGTCGACGCGT-1-72h_Ket_M_334  72h_Ket_M_334  6163     41   \n",
       "TTTGTTGTCGGAGTAG-1-72h_Ket_M_334  72h_Ket_M_334  6163     41   \n",
       "\n",
       "                                  n_genes_by_counts  ...  n_genes  \\\n",
       "index                                                ...            \n",
       "AAACCCAAGTAGACAT-1-0h_none_F_346               3991  ...     4020   \n",
       "AAACCCAAGTATCCTG-1-0h_none_F_346               3357  ...     3383   \n",
       "AAACCCACAAGGATGC-1-0h_none_F_346               3930  ...     3951   \n",
       "AAACCCACAATTAGGA-1-0h_none_F_346               4313  ...     4334   \n",
       "AAACCCACAGCCGTCA-1-0h_none_F_346               1375  ...     1392   \n",
       "...                                             ...  ...      ...   \n",
       "TTTGTTGGTATGTGTC-1-72h_Ket_M_334               3421  ...     3454   \n",
       "TTTGTTGGTCGGCACT-1-72h_Ket_M_334                887  ...      898   \n",
       "TTTGTTGTCCTAAACG-1-72h_Ket_M_334               1111  ...     1119   \n",
       "TTTGTTGTCGACGCGT-1-72h_Ket_M_334               4010  ...     4041   \n",
       "TTTGTTGTCGGAGTAG-1-72h_Ket_M_334               3034  ...     3068   \n",
       "\n",
       "                                  doublet_score  log10_gene_counts  \\\n",
       "index                                                                \n",
       "AAACCCAAGTAGACAT-1-0h_none_F_346       0.018405           3.604334   \n",
       "AAACCCAAGTATCCTG-1-0h_none_F_346       0.007324           3.529302   \n",
       "AAACCCACAAGGATGC-1-0h_none_F_346       0.011114           3.596927   \n",
       "AAACCCACAATTAGGA-1-0h_none_F_346       0.051054           3.636889   \n",
       "AAACCCACAGCCGTCA-1-0h_none_F_346       0.008281           3.143639   \n",
       "...                                         ...                ...   \n",
       "TTTGTTGGTATGTGTC-1-72h_Ket_M_334       0.014776           3.538322   \n",
       "TTTGTTGGTCGGCACT-1-72h_Ket_M_334       0.020126           2.953760   \n",
       "TTTGTTGTCCTAAACG-1-72h_Ket_M_334       0.016110           3.048830   \n",
       "TTTGTTGTCGACGCGT-1-72h_Ket_M_334       0.028529           3.606596   \n",
       "TTTGTTGTCGGAGTAG-1-72h_Ket_M_334       0.050989           3.486855   \n",
       "\n",
       "                                  log10_UMI_counts  percent_mito  \\\n",
       "index                                                              \n",
       "AAACCCAAGTAGACAT-1-0h_none_F_346          4.245093      0.002502   \n",
       "AAACCCAAGTATCCTG-1-0h_none_F_346          3.968296      0.000215   \n",
       "AAACCCACAAGGATGC-1-0h_none_F_346          4.089269      0.000244   \n",
       "AAACCCACAATTAGGA-1-0h_none_F_346          4.274758      0.000212   \n",
       "AAACCCACAGCCGTCA-1-0h_none_F_346          3.389698      0.003669   \n",
       "...                                            ...           ...   \n",
       "TTTGTTGGTATGTGTC-1-72h_Ket_M_334          4.142921      0.001079   \n",
       "TTTGTTGGTCGGCACT-1-72h_Ket_M_334          3.191451      0.003218   \n",
       "TTTGTTGTCCTAAACG-1-72h_Ket_M_334          3.326950      0.000942   \n",
       "TTTGTTGTCGACGCGT-1-72h_Ket_M_334          4.207366      0.000186   \n",
       "TTTGTTGTCGGAGTAG-1-72h_Ket_M_334          3.930032      0.000352   \n",
       "\n",
       "                                  percent_ribo  leiden     Seq ID  \\\n",
       "index                                                               \n",
       "AAACCCAAGTAGACAT-1-0h_none_F_346      0.001479       1  6155-CL-1   \n",
       "AAACCCAAGTATCCTG-1-0h_none_F_346      0.002689       8  6155-CL-1   \n",
       "AAACCCACAAGGATGC-1-0h_none_F_346      0.001547      11  6155-CL-1   \n",
       "AAACCCACAATTAGGA-1-0h_none_F_346      0.001115       0  6155-CL-1   \n",
       "AAACCCACAGCCGTCA-1-0h_none_F_346      0.004892      13  6155-CL-1   \n",
       "...                                        ...     ...        ...   \n",
       "TTTGTTGGTATGTGTC-1-72h_Ket_M_334      0.002087       0  6163-CL-4   \n",
       "TTTGTTGGTCGGCACT-1-72h_Ket_M_334      0.003861       4  6163-CL-4   \n",
       "TTTGTTGTCCTAAACG-1-72h_Ket_M_334      0.003297       4  6163-CL-4   \n",
       "TTTGTTGTCGACGCGT-1-72h_Ket_M_334      0.002047       1  6163-CL-4   \n",
       "TTTGTTGTCGGAGTAG-1-72h_Ket_M_334      0.003994       3  6163-CL-4   \n",
       "\n",
       "                                  Sequencing Saturation  capture_rate  \n",
       "index                                                                  \n",
       "AAACCCAAGTAGACAT-1-0h_none_F_346                  0.405       0.10125  \n",
       "AAACCCAAGTATCCTG-1-0h_none_F_346                  0.405       0.10125  \n",
       "AAACCCACAAGGATGC-1-0h_none_F_346                  0.405       0.10125  \n",
       "AAACCCACAATTAGGA-1-0h_none_F_346                  0.405       0.10125  \n",
       "AAACCCACAGCCGTCA-1-0h_none_F_346                  0.405       0.10125  \n",
       "...                                                 ...           ...  \n",
       "TTTGTTGGTATGTGTC-1-72h_Ket_M_334                  0.431       0.10775  \n",
       "TTTGTTGGTCGGCACT-1-72h_Ket_M_334                  0.431       0.10775  \n",
       "TTTGTTGTCCTAAACG-1-72h_Ket_M_334                  0.431       0.10775  \n",
       "TTTGTTGTCGACGCGT-1-72h_Ket_M_334                  0.431       0.10775  \n",
       "TTTGTTGTCGGAGTAG-1-72h_Ket_M_334                  0.431       0.10775  \n",
       "\n",
       "[299193 rows x 24 columns]"
      ]
     },
     "execution_count": 8,
     "metadata": {},
     "output_type": "execute_result"
    }
   ],
   "source": [
    "# Add Seq ID to adata.obs\n",
    "adata.obs = (adata.obs.reset_index() # Reset index into a column so that it is not lost\n",
    "             .merge(samples, how='left', on=\"label\") # Add Seq ID\n",
    "             .merge(metrics, how='left', left_on=\"Seq ID\", right_index=True) # Add Sequencing Saturation\n",
    "             .set_index(\"index\")) # Re-add index\n",
    "\n",
    "# 0.25 as specified by memento docs for 10x v3\n",
    "adata.obs['capture_rate'] = 0.25 * adata.obs['Sequencing Saturation']\n",
    "adata.obs"
   ]
  },
  {
   "cell_type": "markdown",
   "id": "c017c71d",
   "metadata": {},
   "source": [
    "# Simple Memento Test"
   ]
  },
  {
   "cell_type": "code",
   "execution_count": 12,
   "id": "212577c8",
   "metadata": {},
   "outputs": [
    {
     "name": "stderr",
     "output_type": "stream",
     "text": [
      "/tmp/ipykernel_818131/3097586924.py:9: ImplicitModificationWarning: Trying to modify attribute `.obs` of view, initializing view as actual.\n",
      "  subset.obs[\"stim\"] = (subset.obs[\"drug\"] == drug).astype(int)\n"
     ]
    }
   ],
   "source": [
    "cluster = \"0\"\n",
    "drug = \"Ket\"\n",
    "time = \"24\"\n",
    "\n",
    "subset = adata[(adata.obs[\"leiden\"] == cluster) &\n",
    "               (np.isin(adata.obs[\"drug\"], [drug, \"none\"])) &\n",
    "               (np.isin(adata.obs[\"time_str\"], [time, \"0\"]))]\n",
    "\n",
    "subset.obs[\"stim\"] = (subset.obs[\"drug\"] == drug).astype(int)\n"
   ]
  },
  {
   "cell_type": "code",
   "execution_count": null,
   "id": "2f4ca5d4",
   "metadata": {},
   "outputs": [],
   "source": [
    "result_1d = memento.binary_test_1d(adata=subset,\n",
    "                                   # Multiple by 0.25 because this is 10x v3\n",
    "                                   capture_rate=0.25 * subset.obs[\"Sequencing Saturation\"].mean(),\n",
    "                                   treatment_col=\"stim\",\n",
    "                                   num_cpus=36,\n",
    "                                   num_boot=5000\n",
    "                                  )"
   ]
  },
  {
   "cell_type": "code",
   "execution_count": 12,
   "id": "39b79b61",
   "metadata": {},
   "outputs": [
    {
     "data": {
      "text/plain": [
       "<matplotlib.collections.PathCollection at 0x14c02e940400>"
      ]
     },
     "execution_count": 12,
     "metadata": {},
     "output_type": "execute_result"
    },
    {
     "data": {
      "image/png": "[encoded data removed]",
      "text/plain": [
       "<Figure size 432x288 with 1 Axes>"
      ]
     },
     "metadata": {
      "needs_background": "light"
     },
     "output_type": "display_data"
    }
   ],
   "source": [
    "plt.scatter(result_1d.de_coef, result_1d.dv_coef, s=1)"
   ]
  },
  {
   "cell_type": "code",
   "execution_count": 15,
   "id": "a743366f",
   "metadata": {},
   "outputs": [
    {
     "data": {
      "text/html": [
       "<div>\n",
       "<style scoped>\n",
       "    .dataframe tbody tr th:only-of-type {\n",
       "        vertical-align: middle;\n",
       "    }\n",
       "\n",
       "    .dataframe tbody tr th {\n",
       "        vertical-align: top;\n",
       "    }\n",
       "\n",
       "    .dataframe thead th {\n",
       "        text-align: right;\n",
       "    }\n",
       "</style>\n",
       "<table border=\"1\" class=\"dataframe\">\n",
       "  <thead>\n",
       "    <tr style=\"text-align: right;\">\n",
       "      <th></th>\n",
       "      <th>gene</th>\n",
       "      <th>tx</th>\n",
       "      <th>de_coef</th>\n",
       "      <th>de_se</th>\n",
       "      <th>de_pval</th>\n",
       "      <th>dv_coef</th>\n",
       "      <th>dv_se</th>\n",
       "      <th>dv_pval</th>\n",
       "    </tr>\n",
       "  </thead>\n",
       "  <tbody>\n",
       "    <tr>\n",
       "      <th>4805</th>\n",
       "      <td>Prrt1</td>\n",
       "      <td>stim</td>\n",
       "      <td>0.251938</td>\n",
       "      <td>0.023796</td>\n",
       "      <td>0.000036</td>\n",
       "      <td>0.106884</td>\n",
       "      <td>0.015846</td>\n",
       "      <td>0.000010</td>\n",
       "    </tr>\n",
       "    <tr>\n",
       "      <th>10870</th>\n",
       "      <td>Tox3</td>\n",
       "      <td>stim</td>\n",
       "      <td>0.293353</td>\n",
       "      <td>0.036692</td>\n",
       "      <td>0.000040</td>\n",
       "      <td>0.117051</td>\n",
       "      <td>0.020486</td>\n",
       "      <td>0.000067</td>\n",
       "    </tr>\n",
       "    <tr>\n",
       "      <th>3676</th>\n",
       "      <td>Cdh9</td>\n",
       "      <td>stim</td>\n",
       "      <td>0.185941</td>\n",
       "      <td>0.033702</td>\n",
       "      <td>0.001223</td>\n",
       "      <td>0.125046</td>\n",
       "      <td>0.021129</td>\n",
       "      <td>0.000070</td>\n",
       "    </tr>\n",
       "    <tr>\n",
       "      <th>11702</th>\n",
       "      <td>Mir6236</td>\n",
       "      <td>stim</td>\n",
       "      <td>0.461904</td>\n",
       "      <td>0.037989</td>\n",
       "      <td>0.000004</td>\n",
       "      <td>0.140997</td>\n",
       "      <td>0.020863</td>\n",
       "      <td>0.000073</td>\n",
       "    </tr>\n",
       "    <tr>\n",
       "      <th>5635</th>\n",
       "      <td>Glis3</td>\n",
       "      <td>stim</td>\n",
       "      <td>0.225014</td>\n",
       "      <td>0.039924</td>\n",
       "      <td>0.000135</td>\n",
       "      <td>0.106514</td>\n",
       "      <td>0.021599</td>\n",
       "      <td>0.000077</td>\n",
       "    </tr>\n",
       "    <tr>\n",
       "      <th>251</th>\n",
       "      <td>Ttll4</td>\n",
       "      <td>stim</td>\n",
       "      <td>0.150106</td>\n",
       "      <td>0.028152</td>\n",
       "      <td>0.000185</td>\n",
       "      <td>0.077590</td>\n",
       "      <td>0.015985</td>\n",
       "      <td>0.000106</td>\n",
       "    </tr>\n",
       "    <tr>\n",
       "      <th>5880</th>\n",
       "      <td>Commd3</td>\n",
       "      <td>stim</td>\n",
       "      <td>0.201146</td>\n",
       "      <td>0.032343</td>\n",
       "      <td>0.000641</td>\n",
       "      <td>0.094739</td>\n",
       "      <td>0.017269</td>\n",
       "      <td>0.000115</td>\n",
       "    </tr>\n",
       "    <tr>\n",
       "      <th>11192</th>\n",
       "      <td>Dpy19l1</td>\n",
       "      <td>stim</td>\n",
       "      <td>0.126862</td>\n",
       "      <td>0.021959</td>\n",
       "      <td>0.000054</td>\n",
       "      <td>0.080206</td>\n",
       "      <td>0.015589</td>\n",
       "      <td>0.000156</td>\n",
       "    </tr>\n",
       "    <tr>\n",
       "      <th>4621</th>\n",
       "      <td>Zfp945</td>\n",
       "      <td>stim</td>\n",
       "      <td>0.202027</td>\n",
       "      <td>0.032570</td>\n",
       "      <td>0.000596</td>\n",
       "      <td>0.085832</td>\n",
       "      <td>0.017339</td>\n",
       "      <td>0.000166</td>\n",
       "    </tr>\n",
       "    <tr>\n",
       "      <th>9466</th>\n",
       "      <td>Gpr162</td>\n",
       "      <td>stim</td>\n",
       "      <td>0.217832</td>\n",
       "      <td>0.034328</td>\n",
       "      <td>0.000199</td>\n",
       "      <td>0.126487</td>\n",
       "      <td>0.019527</td>\n",
       "      <td>0.000182</td>\n",
       "    </tr>\n",
       "    <tr>\n",
       "      <th>748</th>\n",
       "      <td>Gm48749</td>\n",
       "      <td>stim</td>\n",
       "      <td>0.341739</td>\n",
       "      <td>0.043283</td>\n",
       "      <td>0.000027</td>\n",
       "      <td>0.117157</td>\n",
       "      <td>0.021264</td>\n",
       "      <td>0.000229</td>\n",
       "    </tr>\n",
       "    <tr>\n",
       "      <th>2448</th>\n",
       "      <td>Gm20063</td>\n",
       "      <td>stim</td>\n",
       "      <td>0.112038</td>\n",
       "      <td>0.019864</td>\n",
       "      <td>0.001274</td>\n",
       "      <td>0.081296</td>\n",
       "      <td>0.018550</td>\n",
       "      <td>0.000265</td>\n",
       "    </tr>\n",
       "    <tr>\n",
       "      <th>411</th>\n",
       "      <td>Nckap5</td>\n",
       "      <td>stim</td>\n",
       "      <td>0.205404</td>\n",
       "      <td>0.031563</td>\n",
       "      <td>0.000087</td>\n",
       "      <td>0.091906</td>\n",
       "      <td>0.018650</td>\n",
       "      <td>0.000269</td>\n",
       "    </tr>\n",
       "    <tr>\n",
       "      <th>1960</th>\n",
       "      <td>Mllt6</td>\n",
       "      <td>stim</td>\n",
       "      <td>0.176001</td>\n",
       "      <td>0.030746</td>\n",
       "      <td>0.000065</td>\n",
       "      <td>0.092150</td>\n",
       "      <td>0.016596</td>\n",
       "      <td>0.000274</td>\n",
       "    </tr>\n",
       "    <tr>\n",
       "      <th>2148</th>\n",
       "      <td>Gga3</td>\n",
       "      <td>stim</td>\n",
       "      <td>0.145100</td>\n",
       "      <td>0.028790</td>\n",
       "      <td>0.000359</td>\n",
       "      <td>0.078590</td>\n",
       "      <td>0.017897</td>\n",
       "      <td>0.000307</td>\n",
       "    </tr>\n",
       "    <tr>\n",
       "      <th>3947</th>\n",
       "      <td>Mei1</td>\n",
       "      <td>stim</td>\n",
       "      <td>0.140281</td>\n",
       "      <td>0.027374</td>\n",
       "      <td>0.000271</td>\n",
       "      <td>0.074397</td>\n",
       "      <td>0.015764</td>\n",
       "      <td>0.000313</td>\n",
       "    </tr>\n",
       "    <tr>\n",
       "      <th>11062</th>\n",
       "      <td>Tsnax</td>\n",
       "      <td>stim</td>\n",
       "      <td>0.084808</td>\n",
       "      <td>0.023826</td>\n",
       "      <td>0.001270</td>\n",
       "      <td>0.086248</td>\n",
       "      <td>0.016388</td>\n",
       "      <td>0.000342</td>\n",
       "    </tr>\n",
       "    <tr>\n",
       "      <th>343</th>\n",
       "      <td>Rnpepl1</td>\n",
       "      <td>stim</td>\n",
       "      <td>0.143737</td>\n",
       "      <td>0.057596</td>\n",
       "      <td>0.012997</td>\n",
       "      <td>0.088843</td>\n",
       "      <td>0.022764</td>\n",
       "      <td>0.000346</td>\n",
       "    </tr>\n",
       "    <tr>\n",
       "      <th>1455</th>\n",
       "      <td>Gm8098</td>\n",
       "      <td>stim</td>\n",
       "      <td>0.029640</td>\n",
       "      <td>0.026588</td>\n",
       "      <td>0.265747</td>\n",
       "      <td>0.060262</td>\n",
       "      <td>0.014282</td>\n",
       "      <td>0.000347</td>\n",
       "    </tr>\n",
       "    <tr>\n",
       "      <th>12019</th>\n",
       "      <td>Ar</td>\n",
       "      <td>stim</td>\n",
       "      <td>0.076591</td>\n",
       "      <td>0.021530</td>\n",
       "      <td>0.001571</td>\n",
       "      <td>0.073920</td>\n",
       "      <td>0.016534</td>\n",
       "      <td>0.000347</td>\n",
       "    </tr>\n",
       "  </tbody>\n",
       "</table>\n",
       "</div>"
      ],
      "text/plain": [
       "          gene    tx   de_coef     de_se   de_pval   dv_coef     dv_se  \\\n",
       "4805     Prrt1  stim  0.251938  0.023796  0.000036  0.106884  0.015846   \n",
       "10870     Tox3  stim  0.293353  0.036692  0.000040  0.117051  0.020486   \n",
       "3676      Cdh9  stim  0.185941  0.033702  0.001223  0.125046  0.021129   \n",
       "11702  Mir6236  stim  0.461904  0.037989  0.000004  0.140997  0.020863   \n",
       "5635     Glis3  stim  0.225014  0.039924  0.000135  0.106514  0.021599   \n",
       "251      Ttll4  stim  0.150106  0.028152  0.000185  0.077590  0.015985   \n",
       "5880    Commd3  stim  0.201146  0.032343  0.000641  0.094739  0.017269   \n",
       "11192  Dpy19l1  stim  0.126862  0.021959  0.000054  0.080206  0.015589   \n",
       "4621    Zfp945  stim  0.202027  0.032570  0.000596  0.085832  0.017339   \n",
       "9466    Gpr162  stim  0.217832  0.034328  0.000199  0.126487  0.019527   \n",
       "748    Gm48749  stim  0.341739  0.043283  0.000027  0.117157  0.021264   \n",
       "2448   Gm20063  stim  0.112038  0.019864  0.001274  0.081296  0.018550   \n",
       "411     Nckap5  stim  0.205404  0.031563  0.000087  0.091906  0.018650   \n",
       "1960     Mllt6  stim  0.176001  0.030746  0.000065  0.092150  0.016596   \n",
       "2148      Gga3  stim  0.145100  0.028790  0.000359  0.078590  0.017897   \n",
       "3947      Mei1  stim  0.140281  0.027374  0.000271  0.074397  0.015764   \n",
       "11062    Tsnax  stim  0.084808  0.023826  0.001270  0.086248  0.016388   \n",
       "343    Rnpepl1  stim  0.143737  0.057596  0.012997  0.088843  0.022764   \n",
       "1455    Gm8098  stim  0.029640  0.026588  0.265747  0.060262  0.014282   \n",
       "12019       Ar  stim  0.076591  0.021530  0.001571  0.073920  0.016534   \n",
       "\n",
       "        dv_pval  \n",
       "4805   0.000010  \n",
       "10870  0.000067  \n",
       "3676   0.000070  \n",
       "11702  0.000073  \n",
       "5635   0.000077  \n",
       "251    0.000106  \n",
       "5880   0.000115  \n",
       "11192  0.000156  \n",
       "4621   0.000166  \n",
       "9466   0.000182  \n",
       "748    0.000229  \n",
       "2448   0.000265  \n",
       "411    0.000269  \n",
       "1960   0.000274  \n",
       "2148   0.000307  \n",
       "3947   0.000313  \n",
       "11062  0.000342  \n",
       "343    0.000346  \n",
       "1455   0.000347  \n",
       "12019  0.000347  "
      ]
     },
     "execution_count": 15,
     "metadata": {},
     "output_type": "execute_result"
    }
   ],
   "source": [
    "result_1d.query('dv_coef > 0 & de_coef > 0').sort_values('dv_pval').head(20)"
   ]
  },
  {
   "cell_type": "code",
   "execution_count": 13,
   "id": "e447ebd4",
   "metadata": {},
   "outputs": [
    {
     "data": {
      "text/html": [
       "<div>\n",
       "<style scoped>\n",
       "    .dataframe tbody tr th:only-of-type {\n",
       "        vertical-align: middle;\n",
       "    }\n",
       "\n",
       "    .dataframe tbody tr th {\n",
       "        vertical-align: top;\n",
       "    }\n",
       "\n",
       "    .dataframe thead th {\n",
       "        text-align: right;\n",
       "    }\n",
       "</style>\n",
       "<table border=\"1\" class=\"dataframe\">\n",
       "  <thead>\n",
       "    <tr style=\"text-align: right;\">\n",
       "      <th></th>\n",
       "      <th>gene</th>\n",
       "      <th>tx</th>\n",
       "      <th>de_coef</th>\n",
       "      <th>de_se</th>\n",
       "      <th>de_pval</th>\n",
       "      <th>dv_coef</th>\n",
       "      <th>dv_se</th>\n",
       "      <th>dv_pval</th>\n",
       "    </tr>\n",
       "  </thead>\n",
       "  <tbody>\n",
       "    <tr>\n",
       "      <th>11780</th>\n",
       "      <td>Gm47135</td>\n",
       "      <td>stim</td>\n",
       "      <td>0.497295</td>\n",
       "      <td>0.038087</td>\n",
       "      <td>0.000002</td>\n",
       "      <td>0.206461</td>\n",
       "      <td>0.019586</td>\n",
       "      <td>0.000442</td>\n",
       "    </tr>\n",
       "    <tr>\n",
       "      <th>11702</th>\n",
       "      <td>Mir6236</td>\n",
       "      <td>stim</td>\n",
       "      <td>0.461904</td>\n",
       "      <td>0.037989</td>\n",
       "      <td>0.000004</td>\n",
       "      <td>0.140997</td>\n",
       "      <td>0.020863</td>\n",
       "      <td>0.000073</td>\n",
       "    </tr>\n",
       "    <tr>\n",
       "      <th>4656</th>\n",
       "      <td>Snhg9</td>\n",
       "      <td>stim</td>\n",
       "      <td>0.548097</td>\n",
       "      <td>0.059458</td>\n",
       "      <td>0.000010</td>\n",
       "      <td>0.077624</td>\n",
       "      <td>0.020967</td>\n",
       "      <td>0.001252</td>\n",
       "    </tr>\n",
       "    <tr>\n",
       "      <th>11247</th>\n",
       "      <td>Ubash3b</td>\n",
       "      <td>stim</td>\n",
       "      <td>0.301352</td>\n",
       "      <td>0.053882</td>\n",
       "      <td>0.000011</td>\n",
       "      <td>0.018123</td>\n",
       "      <td>0.021357</td>\n",
       "      <td>0.391522</td>\n",
       "    </tr>\n",
       "    <tr>\n",
       "      <th>2000</th>\n",
       "      <td>Hap1</td>\n",
       "      <td>stim</td>\n",
       "      <td>0.278887</td>\n",
       "      <td>0.032621</td>\n",
       "      <td>0.000012</td>\n",
       "      <td>0.091407</td>\n",
       "      <td>0.017412</td>\n",
       "      <td>0.001151</td>\n",
       "    </tr>\n",
       "    <tr>\n",
       "      <th>4696</th>\n",
       "      <td>Rgs11</td>\n",
       "      <td>stim</td>\n",
       "      <td>0.200326</td>\n",
       "      <td>0.031492</td>\n",
       "      <td>0.000014</td>\n",
       "      <td>0.076004</td>\n",
       "      <td>0.017735</td>\n",
       "      <td>0.002009</td>\n",
       "    </tr>\n",
       "    <tr>\n",
       "      <th>545</th>\n",
       "      <td>Gas5</td>\n",
       "      <td>stim</td>\n",
       "      <td>0.202062</td>\n",
       "      <td>0.029320</td>\n",
       "      <td>0.000015</td>\n",
       "      <td>0.098989</td>\n",
       "      <td>0.017634</td>\n",
       "      <td>0.001270</td>\n",
       "    </tr>\n",
       "    <tr>\n",
       "      <th>2749</th>\n",
       "      <td>Itgb8</td>\n",
       "      <td>stim</td>\n",
       "      <td>0.240954</td>\n",
       "      <td>0.026973</td>\n",
       "      <td>0.000015</td>\n",
       "      <td>0.076869</td>\n",
       "      <td>0.013516</td>\n",
       "      <td>0.001475</td>\n",
       "    </tr>\n",
       "    <tr>\n",
       "      <th>4353</th>\n",
       "      <td>Slc15a2</td>\n",
       "      <td>stim</td>\n",
       "      <td>0.799119</td>\n",
       "      <td>0.060106</td>\n",
       "      <td>0.000020</td>\n",
       "      <td>0.068403</td>\n",
       "      <td>0.021726</td>\n",
       "      <td>0.002999</td>\n",
       "    </tr>\n",
       "    <tr>\n",
       "      <th>5901</th>\n",
       "      <td>Spopl</td>\n",
       "      <td>stim</td>\n",
       "      <td>0.157156</td>\n",
       "      <td>0.022660</td>\n",
       "      <td>0.000021</td>\n",
       "      <td>0.045686</td>\n",
       "      <td>0.015516</td>\n",
       "      <td>0.005799</td>\n",
       "    </tr>\n",
       "    <tr>\n",
       "      <th>7237</th>\n",
       "      <td>Col11a1</td>\n",
       "      <td>stim</td>\n",
       "      <td>0.228953</td>\n",
       "      <td>0.035815</td>\n",
       "      <td>0.000024</td>\n",
       "      <td>0.090501</td>\n",
       "      <td>0.018248</td>\n",
       "      <td>0.001792</td>\n",
       "    </tr>\n",
       "    <tr>\n",
       "      <th>7825</th>\n",
       "      <td>Atp6v0b</td>\n",
       "      <td>stim</td>\n",
       "      <td>0.182405</td>\n",
       "      <td>0.023349</td>\n",
       "      <td>0.000025</td>\n",
       "      <td>0.044093</td>\n",
       "      <td>0.016129</td>\n",
       "      <td>0.008198</td>\n",
       "    </tr>\n",
       "    <tr>\n",
       "      <th>748</th>\n",
       "      <td>Gm48749</td>\n",
       "      <td>stim</td>\n",
       "      <td>0.341739</td>\n",
       "      <td>0.043283</td>\n",
       "      <td>0.000027</td>\n",
       "      <td>0.117157</td>\n",
       "      <td>0.021264</td>\n",
       "      <td>0.000229</td>\n",
       "    </tr>\n",
       "    <tr>\n",
       "      <th>265</th>\n",
       "      <td>Ptprn</td>\n",
       "      <td>stim</td>\n",
       "      <td>0.092497</td>\n",
       "      <td>0.010158</td>\n",
       "      <td>0.000028</td>\n",
       "      <td>-1.497591</td>\n",
       "      <td>0.645117</td>\n",
       "      <td>0.041392</td>\n",
       "    </tr>\n",
       "    <tr>\n",
       "      <th>439</th>\n",
       "      <td>Rbbp5</td>\n",
       "      <td>stim</td>\n",
       "      <td>0.201902</td>\n",
       "      <td>0.033585</td>\n",
       "      <td>0.000032</td>\n",
       "      <td>0.064237</td>\n",
       "      <td>0.016906</td>\n",
       "      <td>0.001008</td>\n",
       "    </tr>\n",
       "    <tr>\n",
       "      <th>8866</th>\n",
       "      <td>Col26a1</td>\n",
       "      <td>stim</td>\n",
       "      <td>0.254061</td>\n",
       "      <td>0.046696</td>\n",
       "      <td>0.000033</td>\n",
       "      <td>0.082497</td>\n",
       "      <td>0.022007</td>\n",
       "      <td>0.001105</td>\n",
       "    </tr>\n",
       "    <tr>\n",
       "      <th>4805</th>\n",
       "      <td>Prrt1</td>\n",
       "      <td>stim</td>\n",
       "      <td>0.251938</td>\n",
       "      <td>0.023796</td>\n",
       "      <td>0.000036</td>\n",
       "      <td>0.106884</td>\n",
       "      <td>0.015846</td>\n",
       "      <td>0.000010</td>\n",
       "    </tr>\n",
       "    <tr>\n",
       "      <th>11924</th>\n",
       "      <td>Gm7916</td>\n",
       "      <td>stim</td>\n",
       "      <td>0.803446</td>\n",
       "      <td>0.111085</td>\n",
       "      <td>0.000037</td>\n",
       "      <td>-0.241245</td>\n",
       "      <td>0.047704</td>\n",
       "      <td>0.000055</td>\n",
       "    </tr>\n",
       "    <tr>\n",
       "      <th>9422</th>\n",
       "      <td>Rasgef1a</td>\n",
       "      <td>stim</td>\n",
       "      <td>0.088888</td>\n",
       "      <td>0.010399</td>\n",
       "      <td>0.000039</td>\n",
       "      <td>-1.153816</td>\n",
       "      <td>0.482084</td>\n",
       "      <td>0.028994</td>\n",
       "    </tr>\n",
       "    <tr>\n",
       "      <th>12213</th>\n",
       "      <td>Kdm5d</td>\n",
       "      <td>stim</td>\n",
       "      <td>0.391916</td>\n",
       "      <td>0.041614</td>\n",
       "      <td>0.000039</td>\n",
       "      <td>0.077993</td>\n",
       "      <td>0.019415</td>\n",
       "      <td>0.002304</td>\n",
       "    </tr>\n",
       "  </tbody>\n",
       "</table>\n",
       "</div>"
      ],
      "text/plain": [
       "           gene    tx   de_coef     de_se   de_pval   dv_coef     dv_se  \\\n",
       "11780   Gm47135  stim  0.497295  0.038087  0.000002  0.206461  0.019586   \n",
       "11702   Mir6236  stim  0.461904  0.037989  0.000004  0.140997  0.020863   \n",
       "4656      Snhg9  stim  0.548097  0.059458  0.000010  0.077624  0.020967   \n",
       "11247   Ubash3b  stim  0.301352  0.053882  0.000011  0.018123  0.021357   \n",
       "2000       Hap1  stim  0.278887  0.032621  0.000012  0.091407  0.017412   \n",
       "4696      Rgs11  stim  0.200326  0.031492  0.000014  0.076004  0.017735   \n",
       "545        Gas5  stim  0.202062  0.029320  0.000015  0.098989  0.017634   \n",
       "2749      Itgb8  stim  0.240954  0.026973  0.000015  0.076869  0.013516   \n",
       "4353    Slc15a2  stim  0.799119  0.060106  0.000020  0.068403  0.021726   \n",
       "5901      Spopl  stim  0.157156  0.022660  0.000021  0.045686  0.015516   \n",
       "7237    Col11a1  stim  0.228953  0.035815  0.000024  0.090501  0.018248   \n",
       "7825    Atp6v0b  stim  0.182405  0.023349  0.000025  0.044093  0.016129   \n",
       "748     Gm48749  stim  0.341739  0.043283  0.000027  0.117157  0.021264   \n",
       "265       Ptprn  stim  0.092497  0.010158  0.000028 -1.497591  0.645117   \n",
       "439       Rbbp5  stim  0.201902  0.033585  0.000032  0.064237  0.016906   \n",
       "8866    Col26a1  stim  0.254061  0.046696  0.000033  0.082497  0.022007   \n",
       "4805      Prrt1  stim  0.251938  0.023796  0.000036  0.106884  0.015846   \n",
       "11924    Gm7916  stim  0.803446  0.111085  0.000037 -0.241245  0.047704   \n",
       "9422   Rasgef1a  stim  0.088888  0.010399  0.000039 -1.153816  0.482084   \n",
       "12213     Kdm5d  stim  0.391916  0.041614  0.000039  0.077993  0.019415   \n",
       "\n",
       "        dv_pval  \n",
       "11780  0.000442  \n",
       "11702  0.000073  \n",
       "4656   0.001252  \n",
       "11247  0.391522  \n",
       "2000   0.001151  \n",
       "4696   0.002009  \n",
       "545    0.001270  \n",
       "2749   0.001475  \n",
       "4353   0.002999  \n",
       "5901   0.005799  \n",
       "7237   0.001792  \n",
       "7825   0.008198  \n",
       "748    0.000229  \n",
       "265    0.041392  \n",
       "439    0.001008  \n",
       "8866   0.001105  \n",
       "4805   0.000010  \n",
       "11924  0.000055  \n",
       "9422   0.028994  \n",
       "12213  0.002304  "
      ]
     },
     "execution_count": 13,
     "metadata": {},
     "output_type": "execute_result"
    }
   ],
   "source": [
    "result_1d.query('de_coef > 0').sort_values('de_pval').head(20)"
   ]
  },
  {
   "cell_type": "markdown",
   "id": "9ecd81a8",
   "metadata": {},
   "source": [
    "# Memento with covariates Test"
   ]
  },
  {
   "cell_type": "code",
   "execution_count": 58,
   "id": "d31bf239",
   "metadata": {},
   "outputs": [
    {
     "name": "stderr",
     "output_type": "stream",
     "text": [
      "/tmp/ipykernel_818131/404895686.py:11: ImplicitModificationWarning: Trying to modify attribute `.obs` of view, initializing view as actual.\n",
      "  data.obs[\"stim\"] = (data.obs[\"drug\"] == drug).astype(int)\n"
     ]
    }
   ],
   "source": [
    "cluster = \"0\"\n",
    "drug = \"Ket\"\n",
    "time = \"2\"\n",
    "cols = [\"stim\", \"sex\", \"batch\"]\n",
    "\n",
    "data = adata.copy()\n",
    "data = data[(data.obs[\"leiden\"] == cluster) &\n",
    "            (np.isin(data.obs[\"drug\"], [drug, \"none\"])) &\n",
    "            (np.isin(data.obs[\"time_str\"], [time, \"0\"]))]\n",
    "\n",
    "data.obs[\"stim\"] = (data.obs[\"drug\"] == drug).astype(int)\n",
    "# For pd.factorize to work correctly\n",
    "# FIXME (fixed in non-test code below)\n",
    "# This does not modify the actual sparse matrix, so it essentially shuffles the data\n",
    "data.obs = data.obs.sort_values(by=\"stim\", ascending=True)"
   ]
  },
  {
   "cell_type": "code",
   "execution_count": 59,
   "id": "3f77def4",
   "metadata": {},
   "outputs": [],
   "source": [
    "for col in cols[1:]:\n",
    "    data.obs[col] = pd.factorize(data.obs[col])[0].astype(float)\n",
    "#     data.obs[col] = data.obs[col].astype(\"category\")"
   ]
  },
  {
   "cell_type": "code",
   "execution_count": 60,
   "id": "609ff20c",
   "metadata": {},
   "outputs": [],
   "source": [
    "data.obs['capture_rate'] = 0.25 * data.obs['Sequencing Saturation']\n",
    "memento.setup_memento(data, q_column='capture_rate')"
   ]
  },
  {
   "cell_type": "code",
   "execution_count": 11,
   "id": "0f314cdb",
   "metadata": {},
   "outputs": [
    {
     "data": {
      "text/html": [
       "<div>\n",
       "<style scoped>\n",
       "    .dataframe tbody tr th:only-of-type {\n",
       "        vertical-align: middle;\n",
       "    }\n",
       "\n",
       "    .dataframe tbody tr th {\n",
       "        vertical-align: top;\n",
       "    }\n",
       "\n",
       "    .dataframe thead th {\n",
       "        text-align: right;\n",
       "    }\n",
       "</style>\n",
       "<table border=\"1\" class=\"dataframe\">\n",
       "  <thead>\n",
       "    <tr style=\"text-align: right;\">\n",
       "      <th></th>\n",
       "      <th>time</th>\n",
       "      <th>time_str</th>\n",
       "      <th>drug</th>\n",
       "      <th>sex</th>\n",
       "      <th>approx_reads_per_cell</th>\n",
       "      <th>date</th>\n",
       "      <th>label</th>\n",
       "      <th>batch</th>\n",
       "      <th>n_targets</th>\n",
       "      <th>n_bootstraps</th>\n",
       "      <th>...</th>\n",
       "      <th>log10_gene_counts</th>\n",
       "      <th>log10_UMI_counts</th>\n",
       "      <th>percent_mito</th>\n",
       "      <th>percent_ribo</th>\n",
       "      <th>leiden</th>\n",
       "      <th>Seq ID</th>\n",
       "      <th>Sequencing Saturation</th>\n",
       "      <th>stim</th>\n",
       "      <th>capture_rate</th>\n",
       "      <th>memento_size_factor</th>\n",
       "    </tr>\n",
       "    <tr>\n",
       "      <th>index</th>\n",
       "      <th></th>\n",
       "      <th></th>\n",
       "      <th></th>\n",
       "      <th></th>\n",
       "      <th></th>\n",
       "      <th></th>\n",
       "      <th></th>\n",
       "      <th></th>\n",
       "      <th></th>\n",
       "      <th></th>\n",
       "      <th></th>\n",
       "      <th></th>\n",
       "      <th></th>\n",
       "      <th></th>\n",
       "      <th></th>\n",
       "      <th></th>\n",
       "      <th></th>\n",
       "      <th></th>\n",
       "      <th></th>\n",
       "      <th></th>\n",
       "      <th></th>\n",
       "    </tr>\n",
       "  </thead>\n",
       "  <tbody>\n",
       "    <tr>\n",
       "      <th>AAACCCATCCTCAGAA-0h_none_F_346</th>\n",
       "      <td>0</td>\n",
       "      <td>0</td>\n",
       "      <td>none</td>\n",
       "      <td>0.0</td>\n",
       "      <td>25K</td>\n",
       "      <td>4/5/22</td>\n",
       "      <td>0h_none_F_346</td>\n",
       "      <td>0.0</td>\n",
       "      <td>0</td>\n",
       "      <td>0</td>\n",
       "      <td>...</td>\n",
       "      <td>3.497344</td>\n",
       "      <td>4.021107</td>\n",
       "      <td>0.000191</td>\n",
       "      <td>0.001238</td>\n",
       "      <td>3</td>\n",
       "      <td>6155-CL-1</td>\n",
       "      <td>0.405</td>\n",
       "      <td>0</td>\n",
       "      <td>0.10125</td>\n",
       "      <td>1.017056</td>\n",
       "    </tr>\n",
       "    <tr>\n",
       "      <th>GTAATCGGTCACTAGT-0h_none_M_469</th>\n",
       "      <td>0</td>\n",
       "      <td>0</td>\n",
       "      <td>none</td>\n",
       "      <td>1.0</td>\n",
       "      <td>25K</td>\n",
       "      <td>NaN</td>\n",
       "      <td>0h_none_M_469</td>\n",
       "      <td>1.0</td>\n",
       "      <td>0</td>\n",
       "      <td>0</td>\n",
       "      <td>...</td>\n",
       "      <td>3.529302</td>\n",
       "      <td>4.048520</td>\n",
       "      <td>0.000000</td>\n",
       "      <td>0.002772</td>\n",
       "      <td>3</td>\n",
       "      <td>6887-CL-1</td>\n",
       "      <td>0.526</td>\n",
       "      <td>0</td>\n",
       "      <td>0.13150</td>\n",
       "      <td>1.197569</td>\n",
       "    </tr>\n",
       "    <tr>\n",
       "      <th>GTAACACCACATAACC-0h_none_M_469</th>\n",
       "      <td>0</td>\n",
       "      <td>0</td>\n",
       "      <td>none</td>\n",
       "      <td>1.0</td>\n",
       "      <td>25K</td>\n",
       "      <td>NaN</td>\n",
       "      <td>0h_none_M_469</td>\n",
       "      <td>1.0</td>\n",
       "      <td>0</td>\n",
       "      <td>0</td>\n",
       "      <td>...</td>\n",
       "      <td>3.646306</td>\n",
       "      <td>4.355030</td>\n",
       "      <td>0.000177</td>\n",
       "      <td>0.000883</td>\n",
       "      <td>3</td>\n",
       "      <td>6887-CL-1</td>\n",
       "      <td>0.526</td>\n",
       "      <td>0</td>\n",
       "      <td>0.13150</td>\n",
       "      <td>0.973362</td>\n",
       "    </tr>\n",
       "    <tr>\n",
       "      <th>GGTTGTATCCATCTCG-0h_none_M_469</th>\n",
       "      <td>0</td>\n",
       "      <td>0</td>\n",
       "      <td>none</td>\n",
       "      <td>1.0</td>\n",
       "      <td>25K</td>\n",
       "      <td>NaN</td>\n",
       "      <td>0h_none_M_469</td>\n",
       "      <td>1.0</td>\n",
       "      <td>0</td>\n",
       "      <td>0</td>\n",
       "      <td>...</td>\n",
       "      <td>3.470116</td>\n",
       "      <td>3.992023</td>\n",
       "      <td>0.000102</td>\n",
       "      <td>0.001732</td>\n",
       "      <td>3</td>\n",
       "      <td>6887-CL-1</td>\n",
       "      <td>0.526</td>\n",
       "      <td>0</td>\n",
       "      <td>0.13150</td>\n",
       "      <td>1.096864</td>\n",
       "    </tr>\n",
       "    <tr>\n",
       "      <th>GGTTGTACATCCGGTG-0h_none_M_469</th>\n",
       "      <td>0</td>\n",
       "      <td>0</td>\n",
       "      <td>none</td>\n",
       "      <td>1.0</td>\n",
       "      <td>25K</td>\n",
       "      <td>NaN</td>\n",
       "      <td>0h_none_M_469</td>\n",
       "      <td>1.0</td>\n",
       "      <td>0</td>\n",
       "      <td>0</td>\n",
       "      <td>...</td>\n",
       "      <td>3.563955</td>\n",
       "      <td>4.134751</td>\n",
       "      <td>0.000953</td>\n",
       "      <td>0.001320</td>\n",
       "      <td>3</td>\n",
       "      <td>6887-CL-1</td>\n",
       "      <td>0.526</td>\n",
       "      <td>0</td>\n",
       "      <td>0.13150</td>\n",
       "      <td>1.019394</td>\n",
       "    </tr>\n",
       "  </tbody>\n",
       "</table>\n",
       "<p>5 rows × 52 columns</p>\n",
       "</div>"
      ],
      "text/plain": [
       "                                time time_str  drug  sex  \\\n",
       "index                                                      \n",
       "AAACCCATCCTCAGAA-0h_none_F_346     0        0  none  0.0   \n",
       "GTAATCGGTCACTAGT-0h_none_M_469     0        0  none  1.0   \n",
       "GTAACACCACATAACC-0h_none_M_469     0        0  none  1.0   \n",
       "GGTTGTATCCATCTCG-0h_none_M_469     0        0  none  1.0   \n",
       "GGTTGTACATCCGGTG-0h_none_M_469     0        0  none  1.0   \n",
       "\n",
       "                               approx_reads_per_cell    date          label  \\\n",
       "index                                                                         \n",
       "AAACCCATCCTCAGAA-0h_none_F_346                   25K  4/5/22  0h_none_F_346   \n",
       "GTAATCGGTCACTAGT-0h_none_M_469                   25K     NaN  0h_none_M_469   \n",
       "GTAACACCACATAACC-0h_none_M_469                   25K     NaN  0h_none_M_469   \n",
       "GGTTGTATCCATCTCG-0h_none_M_469                   25K     NaN  0h_none_M_469   \n",
       "GGTTGTACATCCGGTG-0h_none_M_469                   25K     NaN  0h_none_M_469   \n",
       "\n",
       "                                batch  n_targets  n_bootstraps  ...  \\\n",
       "index                                                           ...   \n",
       "AAACCCATCCTCAGAA-0h_none_F_346    0.0          0             0  ...   \n",
       "GTAATCGGTCACTAGT-0h_none_M_469    1.0          0             0  ...   \n",
       "GTAACACCACATAACC-0h_none_M_469    1.0          0             0  ...   \n",
       "GGTTGTATCCATCTCG-0h_none_M_469    1.0          0             0  ...   \n",
       "GGTTGTACATCCGGTG-0h_none_M_469    1.0          0             0  ...   \n",
       "\n",
       "                                log10_gene_counts  log10_UMI_counts  \\\n",
       "index                                                                 \n",
       "AAACCCATCCTCAGAA-0h_none_F_346           3.497344          4.021107   \n",
       "GTAATCGGTCACTAGT-0h_none_M_469           3.529302          4.048520   \n",
       "GTAACACCACATAACC-0h_none_M_469           3.646306          4.355030   \n",
       "GGTTGTATCCATCTCG-0h_none_M_469           3.470116          3.992023   \n",
       "GGTTGTACATCCGGTG-0h_none_M_469           3.563955          4.134751   \n",
       "\n",
       "                                percent_mito  percent_ribo  leiden     Seq ID  \\\n",
       "index                                                                           \n",
       "AAACCCATCCTCAGAA-0h_none_F_346      0.000191      0.001238       3  6155-CL-1   \n",
       "GTAATCGGTCACTAGT-0h_none_M_469      0.000000      0.002772       3  6887-CL-1   \n",
       "GTAACACCACATAACC-0h_none_M_469      0.000177      0.000883       3  6887-CL-1   \n",
       "GGTTGTATCCATCTCG-0h_none_M_469      0.000102      0.001732       3  6887-CL-1   \n",
       "GGTTGTACATCCGGTG-0h_none_M_469      0.000953      0.001320       3  6887-CL-1   \n",
       "\n",
       "                                Sequencing Saturation  stim  capture_rate  \\\n",
       "index                                                                       \n",
       "AAACCCATCCTCAGAA-0h_none_F_346                  0.405     0       0.10125   \n",
       "GTAATCGGTCACTAGT-0h_none_M_469                  0.526     0       0.13150   \n",
       "GTAACACCACATAACC-0h_none_M_469                  0.526     0       0.13150   \n",
       "GGTTGTATCCATCTCG-0h_none_M_469                  0.526     0       0.13150   \n",
       "GGTTGTACATCCGGTG-0h_none_M_469                  0.526     0       0.13150   \n",
       "\n",
       "                                memento_size_factor  \n",
       "index                                                \n",
       "AAACCCATCCTCAGAA-0h_none_F_346             1.017056  \n",
       "GTAATCGGTCACTAGT-0h_none_M_469             1.197569  \n",
       "GTAACACCACATAACC-0h_none_M_469             0.973362  \n",
       "GGTTGTATCCATCTCG-0h_none_M_469             1.096864  \n",
       "GGTTGTACATCCGGTG-0h_none_M_469             1.019394  \n",
       "\n",
       "[5 rows x 52 columns]"
      ]
     },
     "execution_count": 11,
     "metadata": {},
     "output_type": "execute_result"
    }
   ],
   "source": [
    "data.obs.head()"
   ]
  },
  {
   "cell_type": "code",
   "execution_count": 49,
   "id": "c138d45e",
   "metadata": {},
   "outputs": [],
   "source": [
    "memento.create_groups(data, label_columns=cols)"
   ]
  },
  {
   "cell_type": "code",
   "execution_count": 50,
   "id": "5492f421",
   "metadata": {},
   "outputs": [],
   "source": [
    "memento.compute_1d_moments(data)"
   ]
  },
  {
   "cell_type": "code",
   "execution_count": 14,
   "id": "f31b5c64",
   "metadata": {},
   "outputs": [
    {
     "data": {
      "text/plain": [
       "(6719, 11248)"
      ]
     },
     "execution_count": 14,
     "metadata": {},
     "output_type": "execute_result"
    }
   ],
   "source": [
    "data.shape"
   ]
  },
  {
   "cell_type": "code",
   "execution_count": 15,
   "id": "45282dcb",
   "metadata": {},
   "outputs": [
    {
     "data": {
      "text/html": [
       "<div>\n",
       "<style scoped>\n",
       "    .dataframe tbody tr th:only-of-type {\n",
       "        vertical-align: middle;\n",
       "    }\n",
       "\n",
       "    .dataframe tbody tr th {\n",
       "        vertical-align: top;\n",
       "    }\n",
       "\n",
       "    .dataframe thead th {\n",
       "        text-align: right;\n",
       "    }\n",
       "</style>\n",
       "<table border=\"1\" class=\"dataframe\">\n",
       "  <thead>\n",
       "    <tr style=\"text-align: right;\">\n",
       "      <th></th>\n",
       "      <th>stim</th>\n",
       "      <th>sex</th>\n",
       "      <th>batch</th>\n",
       "    </tr>\n",
       "  </thead>\n",
       "  <tbody>\n",
       "    <tr>\n",
       "      <th>sg^0^0.0^0.0</th>\n",
       "      <td>0</td>\n",
       "      <td>0.0</td>\n",
       "      <td>0.0</td>\n",
       "    </tr>\n",
       "    <tr>\n",
       "      <th>sg^0^1.0^1.0</th>\n",
       "      <td>0</td>\n",
       "      <td>1.0</td>\n",
       "      <td>1.0</td>\n",
       "    </tr>\n",
       "    <tr>\n",
       "      <th>sg^0^0.0^2.0</th>\n",
       "      <td>0</td>\n",
       "      <td>0.0</td>\n",
       "      <td>2.0</td>\n",
       "    </tr>\n",
       "    <tr>\n",
       "      <th>sg^0^1.0^3.0</th>\n",
       "      <td>0</td>\n",
       "      <td>1.0</td>\n",
       "      <td>3.0</td>\n",
       "    </tr>\n",
       "    <tr>\n",
       "      <th>sg^0^0.0^4.0</th>\n",
       "      <td>0</td>\n",
       "      <td>0.0</td>\n",
       "      <td>4.0</td>\n",
       "    </tr>\n",
       "    <tr>\n",
       "      <th>sg^0^0.0^5.0</th>\n",
       "      <td>0</td>\n",
       "      <td>0.0</td>\n",
       "      <td>5.0</td>\n",
       "    </tr>\n",
       "    <tr>\n",
       "      <th>sg^1^1.0^6.0</th>\n",
       "      <td>1</td>\n",
       "      <td>1.0</td>\n",
       "      <td>6.0</td>\n",
       "    </tr>\n",
       "    <tr>\n",
       "      <th>sg^1^1.0^7.0</th>\n",
       "      <td>1</td>\n",
       "      <td>1.0</td>\n",
       "      <td>7.0</td>\n",
       "    </tr>\n",
       "    <tr>\n",
       "      <th>sg^1^0.0^7.0</th>\n",
       "      <td>1</td>\n",
       "      <td>0.0</td>\n",
       "      <td>7.0</td>\n",
       "    </tr>\n",
       "    <tr>\n",
       "      <th>sg^1^0.0^8.0</th>\n",
       "      <td>1</td>\n",
       "      <td>0.0</td>\n",
       "      <td>8.0</td>\n",
       "    </tr>\n",
       "  </tbody>\n",
       "</table>\n",
       "</div>"
      ],
      "text/plain": [
       "              stim  sex  batch\n",
       "sg^0^0.0^0.0     0  0.0    0.0\n",
       "sg^0^1.0^1.0     0  1.0    1.0\n",
       "sg^0^0.0^2.0     0  0.0    2.0\n",
       "sg^0^1.0^3.0     0  1.0    3.0\n",
       "sg^0^0.0^4.0     0  0.0    4.0\n",
       "sg^0^0.0^5.0     0  0.0    5.0\n",
       "sg^1^1.0^6.0     1  1.0    6.0\n",
       "sg^1^1.0^7.0     1  1.0    7.0\n",
       "sg^1^0.0^7.0     1  0.0    7.0\n",
       "sg^1^0.0^8.0     1  0.0    8.0"
      ]
     },
     "execution_count": 15,
     "metadata": {},
     "output_type": "execute_result"
    }
   ],
   "source": [
    "sample_meta = memento.get_groups(data)\n",
    "treatment_df = sample_meta[['stim']]\n",
    "covariates_df = sample_meta.drop('stim', axis=1)\n",
    "sample_meta"
   ]
  },
  {
   "cell_type": "code",
   "execution_count": 16,
   "id": "2c3c9ecb",
   "metadata": {},
   "outputs": [
    {
     "name": "stderr",
     "output_type": "stream",
     "text": [
      "[Parallel(n_jobs=36)]: Using backend LokyBackend with 36 concurrent workers.\n",
      "[Parallel(n_jobs=36)]: Done 128 tasks      | elapsed:   28.6s\n",
      "[Parallel(n_jobs=36)]: Done 378 tasks      | elapsed:   33.6s\n",
      "[Parallel(n_jobs=36)]: Done 728 tasks      | elapsed:   40.1s\n",
      "[Parallel(n_jobs=36)]: Done 1178 tasks      | elapsed:   48.6s\n",
      "[Parallel(n_jobs=36)]: Done 1728 tasks      | elapsed:   58.9s\n",
      "[Parallel(n_jobs=36)]: Done 2378 tasks      | elapsed:  1.2min\n",
      "[Parallel(n_jobs=36)]: Done 3128 tasks      | elapsed:  1.4min\n",
      "[Parallel(n_jobs=36)]: Done 3978 tasks      | elapsed:  1.7min\n",
      "[Parallel(n_jobs=36)]: Done 4928 tasks      | elapsed:  1.9min\n",
      "[Parallel(n_jobs=36)]: Done 5978 tasks      | elapsed:  2.3min\n",
      "[Parallel(n_jobs=36)]: Done 7128 tasks      | elapsed:  2.6min\n",
      "[Parallel(n_jobs=36)]: Done 8378 tasks      | elapsed:  3.0min\n",
      "[Parallel(n_jobs=36)]: Done 9728 tasks      | elapsed:  3.3min\n",
      "[Parallel(n_jobs=36)]: Done 11248 out of 11248 | elapsed:  3.8min finished\n"
     ]
    }
   ],
   "source": [
    "memento.ht_1d_moments(data, \n",
    "                      treatment=treatment_df,\n",
    "                      covariate=covariates_df,\n",
    "                      num_boot=5000, \n",
    "                      verbose=1,\n",
    "                      num_cpus=36)"
   ]
  },
  {
   "cell_type": "code",
   "execution_count": 17,
   "id": "5cf1167e",
   "metadata": {},
   "outputs": [],
   "source": [
    "result_1d = memento.get_1d_ht_result(data)"
   ]
  },
  {
   "cell_type": "code",
   "execution_count": 18,
   "id": "9e5b8a46",
   "metadata": {},
   "outputs": [
    {
     "data": {
      "text/plain": [
       "<matplotlib.collections.PathCollection at 0x14c74a4bd0d0>"
      ]
     },
     "execution_count": 18,
     "metadata": {},
     "output_type": "execute_result"
    },
    {
     "data": {
      "image/png": "[encoded data removed]",
      "text/plain": [
       "<Figure size 432x288 with 1 Axes>"
      ]
     },
     "metadata": {
      "needs_background": "light"
     },
     "output_type": "display_data"
    }
   ],
   "source": [
    "plt.scatter(result_1d.de_coef, result_1d.dv_coef, s=1)"
   ]
  },
  {
   "cell_type": "code",
   "execution_count": 19,
   "id": "140d9db7",
   "metadata": {},
   "outputs": [
    {
     "data": {
      "text/html": [
       "<div>\n",
       "<style scoped>\n",
       "    .dataframe tbody tr th:only-of-type {\n",
       "        vertical-align: middle;\n",
       "    }\n",
       "\n",
       "    .dataframe tbody tr th {\n",
       "        vertical-align: top;\n",
       "    }\n",
       "\n",
       "    .dataframe thead th {\n",
       "        text-align: right;\n",
       "    }\n",
       "</style>\n",
       "<table border=\"1\" class=\"dataframe\">\n",
       "  <thead>\n",
       "    <tr style=\"text-align: right;\">\n",
       "      <th></th>\n",
       "      <th>gene</th>\n",
       "      <th>tx</th>\n",
       "      <th>de_coef</th>\n",
       "      <th>de_se</th>\n",
       "      <th>de_pval</th>\n",
       "      <th>dv_coef</th>\n",
       "      <th>dv_se</th>\n",
       "      <th>dv_pval</th>\n",
       "    </tr>\n",
       "  </thead>\n",
       "  <tbody>\n",
       "    <tr>\n",
       "      <th>10138</th>\n",
       "      <td>Cdyl2</td>\n",
       "      <td>stim</td>\n",
       "      <td>0.382928</td>\n",
       "      <td>0.044714</td>\n",
       "      <td>0.000006</td>\n",
       "      <td>-0.368822</td>\n",
       "      <td>0.103437</td>\n",
       "      <td>0.003199</td>\n",
       "    </tr>\n",
       "    <tr>\n",
       "      <th>4859</th>\n",
       "      <td>Fem1c</td>\n",
       "      <td>stim</td>\n",
       "      <td>0.668406</td>\n",
       "      <td>0.107216</td>\n",
       "      <td>0.000018</td>\n",
       "      <td>0.225465</td>\n",
       "      <td>0.047421</td>\n",
       "      <td>0.000149</td>\n",
       "    </tr>\n",
       "    <tr>\n",
       "      <th>362</th>\n",
       "      <td>Bcl2</td>\n",
       "      <td>stim</td>\n",
       "      <td>0.542349</td>\n",
       "      <td>0.083252</td>\n",
       "      <td>0.000027</td>\n",
       "      <td>0.156935</td>\n",
       "      <td>0.039130</td>\n",
       "      <td>0.000614</td>\n",
       "    </tr>\n",
       "    <tr>\n",
       "      <th>2681</th>\n",
       "      <td>Shc3</td>\n",
       "      <td>stim</td>\n",
       "      <td>0.399228</td>\n",
       "      <td>0.071905</td>\n",
       "      <td>0.000034</td>\n",
       "      <td>0.002777</td>\n",
       "      <td>0.036218</td>\n",
       "      <td>0.931014</td>\n",
       "    </tr>\n",
       "    <tr>\n",
       "      <th>4836</th>\n",
       "      <td>Arhgap26-1</td>\n",
       "      <td>stim</td>\n",
       "      <td>0.208966</td>\n",
       "      <td>0.034787</td>\n",
       "      <td>0.000046</td>\n",
       "      <td>-0.671236</td>\n",
       "      <td>0.241103</td>\n",
       "      <td>0.013597</td>\n",
       "    </tr>\n",
       "    <tr>\n",
       "      <th>10690</th>\n",
       "      <td>Tmem108</td>\n",
       "      <td>stim</td>\n",
       "      <td>0.333540</td>\n",
       "      <td>0.053907</td>\n",
       "      <td>0.000058</td>\n",
       "      <td>-0.160119</td>\n",
       "      <td>0.054804</td>\n",
       "      <td>0.007399</td>\n",
       "    </tr>\n",
       "    <tr>\n",
       "      <th>6902</th>\n",
       "      <td>Epha7</td>\n",
       "      <td>stim</td>\n",
       "      <td>0.207261</td>\n",
       "      <td>0.033810</td>\n",
       "      <td>0.000072</td>\n",
       "      <td>-0.617123</td>\n",
       "      <td>0.175565</td>\n",
       "      <td>0.002301</td>\n",
       "    </tr>\n",
       "    <tr>\n",
       "      <th>9232</th>\n",
       "      <td>Akap13</td>\n",
       "      <td>stim</td>\n",
       "      <td>0.543101</td>\n",
       "      <td>0.074930</td>\n",
       "      <td>0.000088</td>\n",
       "      <td>0.139220</td>\n",
       "      <td>0.037638</td>\n",
       "      <td>0.001300</td>\n",
       "    </tr>\n",
       "    <tr>\n",
       "      <th>282</th>\n",
       "      <td>Pid1</td>\n",
       "      <td>stim</td>\n",
       "      <td>0.375635</td>\n",
       "      <td>0.056716</td>\n",
       "      <td>0.000109</td>\n",
       "      <td>-0.000294</td>\n",
       "      <td>0.041975</td>\n",
       "      <td>0.995601</td>\n",
       "    </tr>\n",
       "    <tr>\n",
       "      <th>10348</th>\n",
       "      <td>Sorl1</td>\n",
       "      <td>stim</td>\n",
       "      <td>0.303883</td>\n",
       "      <td>0.042593</td>\n",
       "      <td>0.000124</td>\n",
       "      <td>-0.383627</td>\n",
       "      <td>0.119893</td>\n",
       "      <td>0.003599</td>\n",
       "    </tr>\n",
       "    <tr>\n",
       "      <th>507</th>\n",
       "      <td>Cop1</td>\n",
       "      <td>stim</td>\n",
       "      <td>0.198522</td>\n",
       "      <td>0.031879</td>\n",
       "      <td>0.000129</td>\n",
       "      <td>-1.319972</td>\n",
       "      <td>0.407098</td>\n",
       "      <td>0.003399</td>\n",
       "    </tr>\n",
       "    <tr>\n",
       "      <th>2960</th>\n",
       "      <td>Hcn1</td>\n",
       "      <td>stim</td>\n",
       "      <td>0.184366</td>\n",
       "      <td>0.032278</td>\n",
       "      <td>0.000129</td>\n",
       "      <td>-0.527682</td>\n",
       "      <td>0.182401</td>\n",
       "      <td>0.005399</td>\n",
       "    </tr>\n",
       "    <tr>\n",
       "      <th>2559</th>\n",
       "      <td>Lyst</td>\n",
       "      <td>stim</td>\n",
       "      <td>0.151692</td>\n",
       "      <td>0.029907</td>\n",
       "      <td>0.000130</td>\n",
       "      <td>-1.201894</td>\n",
       "      <td>0.650709</td>\n",
       "      <td>0.063787</td>\n",
       "    </tr>\n",
       "    <tr>\n",
       "      <th>512</th>\n",
       "      <td>Gas5</td>\n",
       "      <td>stim</td>\n",
       "      <td>0.586716</td>\n",
       "      <td>0.111771</td>\n",
       "      <td>0.000148</td>\n",
       "      <td>0.106576</td>\n",
       "      <td>0.052023</td>\n",
       "      <td>0.044191</td>\n",
       "    </tr>\n",
       "    <tr>\n",
       "      <th>5323</th>\n",
       "      <td>Sorcs3</td>\n",
       "      <td>stim</td>\n",
       "      <td>0.197748</td>\n",
       "      <td>0.029746</td>\n",
       "      <td>0.000153</td>\n",
       "      <td>-1.523831</td>\n",
       "      <td>0.372578</td>\n",
       "      <td>0.001107</td>\n",
       "    </tr>\n",
       "    <tr>\n",
       "      <th>3314</th>\n",
       "      <td>Slain1</td>\n",
       "      <td>stim</td>\n",
       "      <td>0.324903</td>\n",
       "      <td>0.073714</td>\n",
       "      <td>0.000160</td>\n",
       "      <td>0.131430</td>\n",
       "      <td>0.037151</td>\n",
       "      <td>0.001421</td>\n",
       "    </tr>\n",
       "    <tr>\n",
       "      <th>716</th>\n",
       "      <td>Phactr2</td>\n",
       "      <td>stim</td>\n",
       "      <td>0.677295</td>\n",
       "      <td>0.111408</td>\n",
       "      <td>0.000165</td>\n",
       "      <td>0.236831</td>\n",
       "      <td>0.047543</td>\n",
       "      <td>0.000280</td>\n",
       "    </tr>\n",
       "    <tr>\n",
       "      <th>10294</th>\n",
       "      <td>Dpy19l1</td>\n",
       "      <td>stim</td>\n",
       "      <td>0.204667</td>\n",
       "      <td>0.046861</td>\n",
       "      <td>0.000178</td>\n",
       "      <td>-0.103227</td>\n",
       "      <td>0.065762</td>\n",
       "      <td>0.112777</td>\n",
       "    </tr>\n",
       "    <tr>\n",
       "      <th>663</th>\n",
       "      <td>Syt14</td>\n",
       "      <td>stim</td>\n",
       "      <td>0.156618</td>\n",
       "      <td>0.031451</td>\n",
       "      <td>0.000185</td>\n",
       "      <td>-1.200493</td>\n",
       "      <td>0.715833</td>\n",
       "      <td>0.082983</td>\n",
       "    </tr>\n",
       "    <tr>\n",
       "      <th>2113</th>\n",
       "      <td>2810032G03Rik</td>\n",
       "      <td>stim</td>\n",
       "      <td>0.390806</td>\n",
       "      <td>0.077233</td>\n",
       "      <td>0.000215</td>\n",
       "      <td>0.122961</td>\n",
       "      <td>0.038730</td>\n",
       "      <td>0.002858</td>\n",
       "    </tr>\n",
       "  </tbody>\n",
       "</table>\n",
       "</div>"
      ],
      "text/plain": [
       "                gene    tx   de_coef     de_se   de_pval   dv_coef     dv_se  \\\n",
       "10138          Cdyl2  stim  0.382928  0.044714  0.000006 -0.368822  0.103437   \n",
       "4859           Fem1c  stim  0.668406  0.107216  0.000018  0.225465  0.047421   \n",
       "362             Bcl2  stim  0.542349  0.083252  0.000027  0.156935  0.039130   \n",
       "2681            Shc3  stim  0.399228  0.071905  0.000034  0.002777  0.036218   \n",
       "4836      Arhgap26-1  stim  0.208966  0.034787  0.000046 -0.671236  0.241103   \n",
       "10690        Tmem108  stim  0.333540  0.053907  0.000058 -0.160119  0.054804   \n",
       "6902           Epha7  stim  0.207261  0.033810  0.000072 -0.617123  0.175565   \n",
       "9232          Akap13  stim  0.543101  0.074930  0.000088  0.139220  0.037638   \n",
       "282             Pid1  stim  0.375635  0.056716  0.000109 -0.000294  0.041975   \n",
       "10348          Sorl1  stim  0.303883  0.042593  0.000124 -0.383627  0.119893   \n",
       "507             Cop1  stim  0.198522  0.031879  0.000129 -1.319972  0.407098   \n",
       "2960            Hcn1  stim  0.184366  0.032278  0.000129 -0.527682  0.182401   \n",
       "2559            Lyst  stim  0.151692  0.029907  0.000130 -1.201894  0.650709   \n",
       "512             Gas5  stim  0.586716  0.111771  0.000148  0.106576  0.052023   \n",
       "5323          Sorcs3  stim  0.197748  0.029746  0.000153 -1.523831  0.372578   \n",
       "3314          Slain1  stim  0.324903  0.073714  0.000160  0.131430  0.037151   \n",
       "716          Phactr2  stim  0.677295  0.111408  0.000165  0.236831  0.047543   \n",
       "10294        Dpy19l1  stim  0.204667  0.046861  0.000178 -0.103227  0.065762   \n",
       "663            Syt14  stim  0.156618  0.031451  0.000185 -1.200493  0.715833   \n",
       "2113   2810032G03Rik  stim  0.390806  0.077233  0.000215  0.122961  0.038730   \n",
       "\n",
       "        dv_pval  \n",
       "10138  0.003199  \n",
       "4859   0.000149  \n",
       "362    0.000614  \n",
       "2681   0.931014  \n",
       "4836   0.013597  \n",
       "10690  0.007399  \n",
       "6902   0.002301  \n",
       "9232   0.001300  \n",
       "282    0.995601  \n",
       "10348  0.003599  \n",
       "507    0.003399  \n",
       "2960   0.005399  \n",
       "2559   0.063787  \n",
       "512    0.044191  \n",
       "5323   0.001107  \n",
       "3314   0.001421  \n",
       "716    0.000280  \n",
       "10294  0.112777  \n",
       "663    0.082983  \n",
       "2113   0.002858  "
      ]
     },
     "execution_count": 19,
     "metadata": {},
     "output_type": "execute_result"
    }
   ],
   "source": [
    "result_1d.query('de_coef > 0').sort_values('de_pval').head(20)"
   ]
  },
  {
   "cell_type": "code",
   "execution_count": 26,
   "id": "063e62e0",
   "metadata": {},
   "outputs": [],
   "source": [
    "# Correct pvals\n",
    "_, result_1d[\"de_pval_adj\"], _, _ = multipletests(\n",
    "    result_1d[\"de_pval\"], alpha=0.05, method='fdr_bh'\n",
    ")\n",
    "\n",
    "_, result_1d[\"dv_pval_adj\"], _, _ = multipletests(\n",
    "    result_1d[\"dv_pval\"], alpha=0.05, method='fdr_bh'\n",
    ")"
   ]
  },
  {
   "cell_type": "code",
   "execution_count": 29,
   "id": "cd5a80e8",
   "metadata": {},
   "outputs": [],
   "source": [
    "(result_1d\n",
    " .sort_values(by=[\"de_pval_adj\", \"dv_pval_adj\"])\n",
    " .to_csv(f\"{settings.fig_path}/memento_initial_results_Ket_2h_cluster3.csv\", index=False))\n"
   ]
  },
  {
   "cell_type": "markdown",
   "id": "56e41b56",
   "metadata": {},
   "source": [
    "# Memento Analysis"
   ]
  },
  {
   "cell_type": "code",
   "execution_count": 62,
   "id": "4fc92786",
   "metadata": {},
   "outputs": [],
   "source": [
    "def run_memento(data, numerical_covariates=[], categorical_covariates=[]):\n",
    "    cols = [\"stim\"] + numerical_covariates + categorical_covariates\n",
    "    print(\"Data Shape:\", data.shape)\n",
    "    memento.setup_memento(data, q_column='capture_rate')\n",
    "    memento.create_groups(data, label_columns=cols)\n",
    "    memento.compute_1d_moments(data)\n",
    "    print(\"Data Shape after compute_1d_moments:\", data.shape)\n",
    "    \n",
    "    sample_meta = memento.get_groups(data)\n",
    "    treatment_df = sample_meta[['stim']]\n",
    "    covariates_df = sample_meta.drop('stim', axis=1)\n",
    "    \n",
    "    memento.ht_1d_moments(data, \n",
    "                      treatment=treatment_df,\n",
    "                      covariate=covariates_df,\n",
    "                      num_boot=5000, \n",
    "                      verbose=1,\n",
    "                      num_cpus=36)\n",
    "    result_1d = memento.get_1d_ht_result(data)\n",
    "    \n",
    "    # Correct p-vals\n",
    "    _, result_1d[\"de_pval_adj\"], _, _ = multipletests(\n",
    "    result_1d[\"de_pval\"], alpha=0.05, method='fdr_bh'\n",
    "    )\n",
    "\n",
    "    _, result_1d[\"dv_pval_adj\"], _, _ = multipletests(\n",
    "        result_1d[\"dv_pval\"], alpha=0.05, method='fdr_bh'\n",
    "    )\n",
    "    \n",
    "    return result_1d.sort_values(by=[\"de_pval_adj\", \"dv_pval_adj\"])"
   ]
  },
  {
   "cell_type": "markdown",
   "id": "962bea6b",
   "metadata": {},
   "source": [
    "### Running with time covariate"
   ]
  },
  {
   "cell_type": "code",
   "execution_count": 9,
   "id": "038514de",
   "metadata": {},
   "outputs": [],
   "source": [
    "results = {}"
   ]
  },
  {
   "cell_type": "code",
   "execution_count": null,
   "id": "88591757",
   "metadata": {
    "scrolled": false
   },
   "outputs": [
    {
     "name": "stdout",
     "output_type": "stream",
     "text": [
      "Ket_0 vs ctrl\n",
      "Data Shape: (25742, 24181)\n",
      "Data Shape after compute_1d_moments: (25742, 12256)\n"
     ]
    },
    {
     "name": "stderr",
     "output_type": "stream",
     "text": [
      "[Parallel(n_jobs=36)]: Using backend LokyBackend with 36 concurrent workers.\n",
      "[Parallel(n_jobs=36)]: Done 128 tasks      | elapsed:   26.2s\n",
      "[Parallel(n_jobs=36)]: Done 378 tasks      | elapsed:   47.4s\n",
      "[Parallel(n_jobs=36)]: Done 728 tasks      | elapsed:  1.3min\n",
      "[Parallel(n_jobs=36)]: Done 1178 tasks      | elapsed:  1.9min\n",
      "[Parallel(n_jobs=36)]: Done 1728 tasks      | elapsed:  2.6min\n",
      "[Parallel(n_jobs=36)]: Done 2378 tasks      | elapsed:  3.4min\n",
      "[Parallel(n_jobs=36)]: Done 3128 tasks      | elapsed:  4.3min\n",
      "[Parallel(n_jobs=36)]: Done 3978 tasks      | elapsed:  5.4min\n",
      "[Parallel(n_jobs=36)]: Done 4928 tasks      | elapsed:  6.4min\n",
      "[Parallel(n_jobs=36)]: Done 5978 tasks      | elapsed:  7.7min\n",
      "[Parallel(n_jobs=36)]: Done 7128 tasks      | elapsed:  9.2min\n",
      "[Parallel(n_jobs=36)]: Done 8378 tasks      | elapsed: 10.7min\n",
      "[Parallel(n_jobs=36)]: Done 9728 tasks      | elapsed: 12.6min\n",
      "[Parallel(n_jobs=36)]: Done 11178 tasks      | elapsed: 14.4min\n",
      "[Parallel(n_jobs=36)]: Done 12256 out of 12256 | elapsed: 15.8min finished\n"
     ]
    },
    {
     "name": "stdout",
     "output_type": "stream",
     "text": [
      "Ket_1 vs ctrl\n",
      "Data Shape: (23038, 24181)\n",
      "Data Shape after compute_1d_moments: (23038, 11706)\n"
     ]
    },
    {
     "name": "stderr",
     "output_type": "stream",
     "text": [
      "[Parallel(n_jobs=36)]: Using backend LokyBackend with 36 concurrent workers.\n",
      "[Parallel(n_jobs=36)]: Done 128 tasks      | elapsed:    9.9s\n",
      "[Parallel(n_jobs=36)]: Done 378 tasks      | elapsed:   25.3s\n",
      "[Parallel(n_jobs=36)]: Done 728 tasks      | elapsed:   48.0s\n",
      "[Parallel(n_jobs=36)]: Done 1178 tasks      | elapsed:  1.3min\n",
      "[Parallel(n_jobs=36)]: Done 1728 tasks      | elapsed:  1.9min\n",
      "[Parallel(n_jobs=36)]: Done 2378 tasks      | elapsed:  2.6min\n",
      "[Parallel(n_jobs=36)]: Done 3128 tasks      | elapsed:  3.4min\n",
      "[Parallel(n_jobs=36)]: Done 3978 tasks      | elapsed:  4.2min\n",
      "[Parallel(n_jobs=36)]: Done 4928 tasks      | elapsed:  5.1min\n",
      "[Parallel(n_jobs=36)]: Done 5978 tasks      | elapsed:  6.1min\n",
      "[Parallel(n_jobs=36)]: Done 7128 tasks      | elapsed:  7.3min\n"
     ]
    }
   ],
   "source": [
    "drugs = [\"Ket\", \"Psilo\"]\n",
    "times = adata.uns[\"stage_order\"][1:] # Skip 0 hours (ctrl)\n",
    "clusters = np.sort(adata.obs[\"leiden\"].unique())\n",
    "\n",
    "categorical_covariates = [\"sex\"]\n",
    "numerical_covariates = [\"time\"]\n",
    "\n",
    "for drug, cluster in itertools.product(drugs, clusters):\n",
    "    group = f\"{drug}_{cluster}\"\n",
    "    print(f\"{group} vs ctrl\")\n",
    "    \n",
    "    if group in results:\n",
    "        print(f\"Skipping {group}, already in results\")\n",
    "        continue\n",
    "    \n",
    "    data = adata[(adata.obs[\"leiden\"] == cluster) &\n",
    "            (np.isin(adata.obs[\"drug\"], [drug, \"none\"]))].copy()\n",
    "    data.obs[\"stim\"] = data.obs[\"drug\"].replace({drug: 1, \"none\": 0})\n",
    "    \n",
    "    if data.shape[0] < 100:\n",
    "        results[group] = pd.DataFrame()\n",
    "        print(f\"Skipping {group}, < 100 cells\")\n",
    "        continue\n",
    "\n",
    "    # Make the columns into numbers\n",
    "    for col in categorical_covariates:\n",
    "        data.obs[col] = pd.factorize(data.obs[col])[0].astype(float)  \n",
    "    \n",
    "    cols = [\"stim\"] + categorical_covariates + numerical_covariates\n",
    "    print(\"Data Shape:\", data.shape)\n",
    "    memento.setup_memento(data, q_column='capture_rate')\n",
    "    memento.create_groups(data, label_columns=cols)\n",
    "    \n",
    "    sizes = data.obs.groupby(cols).size()\n",
    "    if ((sizes > 0) & (sizes < 10)).any():\n",
    "        results[group] = pd.DataFrame()\n",
    "        print(f\"Skipping {group}, < 10 cells in some groups\")\n",
    "        continue\n",
    "    \n",
    "    memento.compute_1d_moments(data)\n",
    "    print(\"Data Shape after compute_1d_moments:\", data.shape)\n",
    "    \n",
    "    sample_meta = memento.get_groups(data)\n",
    "    treatment_df = sample_meta[['stim']]\n",
    "    covariates_df = sample_meta.drop('stim', axis=1)\n",
    "    \n",
    "    memento.ht_1d_moments(data, \n",
    "                          treatment=treatment_df,\n",
    "                          covariate=covariates_df,\n",
    "                          num_boot=5000, \n",
    "                          verbose=1,\n",
    "                          num_cpus=36)\n",
    "    \n",
    "    result_1d = memento.get_1d_ht_result(data)\n",
    "    \n",
    "    # Correct p-vals\n",
    "    _, result_1d[\"de_pval_adj\"], _, _ = multipletests(\n",
    "    result_1d[\"de_pval\"], alpha=0.05, method='fdr_bh'\n",
    "    )\n",
    "\n",
    "    _, result_1d[\"dv_pval_adj\"], _, _ = multipletests(\n",
    "        result_1d[\"dv_pval\"], alpha=0.05, method='fdr_bh'\n",
    "    )\n",
    "    \n",
    "    results[group] = result_1d.sort_values(by=[\"de_pval_adj\", \"dv_pval_adj\"])\n"
   ]
  },
  {
   "cell_type": "code",
   "execution_count": null,
   "id": "117111c1",
   "metadata": {},
   "outputs": [],
   "source": [
    "# Write results to Excel\n",
    "for drug in drugs:\n",
    "    with pd.ExcelWriter(f\"{settings.fig_path}/memento_DE_{drug}_time_covariate.xlsx\", engine=\"openpyxl\") as writer:\n",
    "        for cluster in clusters:\n",
    "            results[f\"{drug}_{cluster}\"].to_excel(writer, sheet_name = f\"Cluster {cluster}\")"
   ]
  },
  {
   "cell_type": "code",
   "execution_count": null,
   "id": "1709246f",
   "metadata": {},
   "outputs": [],
   "source": [
    "test = results[\"Psilo_0\"]\n",
    "test[\"log_de_pval\"] = -np.log(test[\"de_pval\"])\n",
    "test[\"log_dv_pval\"] = -np.log(test[\"dv_pval\"])\n",
    "\n",
    "test.head()"
   ]
  },
  {
   "cell_type": "code",
   "execution_count": null,
   "id": "bc705276",
   "metadata": {},
   "outputs": [],
   "source": [
    "sb.scatterplot(data=test, x=\"de_coef\", y=\"log_de_pval\", linewidth=0, s=3)\n",
    "plt.show()\n",
    "sb.scatterplot(data=test, x=\"dv_coef\", y=\"log_dv_pval\")"
   ]
  },
  {
   "cell_type": "markdown",
   "id": "65ecfa2f",
   "metadata": {},
   "source": [
    "### Running on all comparisons (sex covariate)"
   ]
  },
  {
   "cell_type": "code",
   "execution_count": null,
   "id": "56e43b59",
   "metadata": {},
   "outputs": [],
   "source": [
    "results = {}"
   ]
  },
  {
   "cell_type": "code",
   "execution_count": null,
   "id": "bbe4db13",
   "metadata": {
    "scrolled": true
   },
   "outputs": [],
   "source": [
    "drugs = [\"Ket\", \"Psilo\"]\n",
    "times = adata.uns[\"stage_order\"][1:] # Skip 0 hours (ctrl)\n",
    "clusters = np.sort(adata.obs[\"leiden\"].unique())\n",
    "\n",
    "categorical_covariates = [\"sex\"]\n",
    "\n",
    "\n",
    "for time, drug, cluster in itertools.product(times, drugs, clusters):\n",
    "    group = f\"{time}h_{drug}_{cluster}\"\n",
    "    print(f\"{group} vs ctrl\")\n",
    "    \n",
    "    if group in results:\n",
    "        print(f\"Skipping {group}, already in results\")\n",
    "        continue\n",
    "    \n",
    "    data = adata[(adata.obs[\"leiden\"] == cluster) &\n",
    "            (np.isin(adata.obs[\"drug\"], [drug, \"none\"])) &\n",
    "            (np.isin(adata.obs[\"time_str\"], [time, \"0\"]))].copy()\n",
    "    data.obs[\"stim\"] = data.obs[\"drug\"].replace({drug: 1, \"none\": 0})\n",
    "    \n",
    "    if data.shape[0] < 100:\n",
    "        results[group] = pd.DataFrame()\n",
    "        print(f\"Skipping {group}, < 100 cells\")\n",
    "        continue\n",
    "\n",
    "    # Make the columns into numbers\n",
    "    for col in categorical_covariates:\n",
    "        data.obs[col] = pd.factorize(data.obs[col])[0].astype(float)  \n",
    "    \n",
    "    cols = [\"stim\"] + categorical_covariates\n",
    "    print(\"Data Shape:\", data.shape)\n",
    "    memento.setup_memento(data, q_column='capture_rate')\n",
    "    memento.create_groups(data, label_columns=cols)\n",
    "    \n",
    "    if (data.obs.groupby(cols).size() < 10).any():\n",
    "        results[group] = pd.DataFrame()\n",
    "        print(f\"Skipping {group}, < 10 cells in some groups\")\n",
    "        continue\n",
    "    \n",
    "    memento.compute_1d_moments(data)\n",
    "    print(\"Data Shape after compute_1d_moments:\", data.shape)\n",
    "    \n",
    "    sample_meta = memento.get_groups(data)\n",
    "    treatment_df = sample_meta[['stim']]\n",
    "    covariates_df = sample_meta.drop('stim', axis=1)\n",
    "    \n",
    "    memento.ht_1d_moments(data, \n",
    "                          treatment=treatment_df,\n",
    "                          covariate=covariates_df,\n",
    "                          num_boot=5000, \n",
    "                          verbose=1,\n",
    "                          num_cpus=36)\n",
    "    \n",
    "    result_1d = memento.get_1d_ht_result(data)\n",
    "    \n",
    "    # Correct p-vals\n",
    "    _, result_1d[\"de_pval_adj\"], _, _ = multipletests(\n",
    "    result_1d[\"de_pval\"], alpha=0.05, method='fdr_bh'\n",
    "    )\n",
    "\n",
    "    _, result_1d[\"dv_pval_adj\"], _, _ = multipletests(\n",
    "        result_1d[\"dv_pval\"], alpha=0.05, method='fdr_bh'\n",
    "    )\n",
    "    \n",
    "    results[group] = result_1d.sort_values(by=[\"de_pval_adj\", \"dv_pval_adj\"])\n"
   ]
  },
  {
   "cell_type": "code",
   "execution_count": null,
   "id": "cde66c6d",
   "metadata": {},
   "outputs": [],
   "source": [
    "# Write results to Excel\n",
    "for time, drug in itertools.product(times, drugs):\n",
    "    with pd.ExcelWriter(f\"{settings.fig_path}/memento_initial_DE_{drug}_{time}h.xlsx\", engine=\"xlsxwriter\") as writer:\n",
    "        for cluster in clusters:\n",
    "            results[f\"{time}h_{drug}_{cluster}\"].to_excel(writer, sheet_name = f\"Cluster {cluster}\")"
   ]
  },
  {
   "cell_type": "markdown",
   "id": "791c27e7",
   "metadata": {},
   "source": [
    "### Running on all comparisons (no covariates)"
   ]
  },
  {
   "cell_type": "code",
   "execution_count": 9,
   "id": "5d92c4b4",
   "metadata": {},
   "outputs": [],
   "source": [
    "results = {}"
   ]
  },
  {
   "cell_type": "code",
   "execution_count": null,
   "id": "fe210b9c",
   "metadata": {
    "scrolled": false
   },
   "outputs": [
    {
     "name": "stdout",
     "output_type": "stream",
     "text": [
      "1h_Ket_0 vs ctrl\n",
      "Data Shape: (11663, 24181)\n",
      "Data Shape after compute_1d_moments: (11663, 12428)\n"
     ]
    },
    {
     "name": "stderr",
     "output_type": "stream",
     "text": [
      "[Parallel(n_jobs=36)]: Using backend LokyBackend with 36 concurrent workers.\n",
      "[Parallel(n_jobs=36)]: Done 128 tasks      | elapsed:   22.9s\n",
      "[Parallel(n_jobs=36)]: Done 378 tasks      | elapsed:   33.3s\n",
      "[Parallel(n_jobs=36)]: Done 728 tasks      | elapsed:   47.7s\n",
      "[Parallel(n_jobs=36)]: Done 1178 tasks      | elapsed:  1.1min\n",
      "[Parallel(n_jobs=36)]: Done 1728 tasks      | elapsed:  1.5min\n",
      "[Parallel(n_jobs=36)]: Done 2378 tasks      | elapsed:  1.9min\n",
      "[Parallel(n_jobs=36)]: Done 3128 tasks      | elapsed:  2.4min\n",
      "[Parallel(n_jobs=36)]: Done 3978 tasks      | elapsed:  2.9min\n",
      "[Parallel(n_jobs=36)]: Done 4928 tasks      | elapsed:  3.5min\n",
      "[Parallel(n_jobs=36)]: Done 5978 tasks      | elapsed:  4.1min\n",
      "[Parallel(n_jobs=36)]: Done 7128 tasks      | elapsed:  4.9min\n",
      "[Parallel(n_jobs=36)]: Done 8378 tasks      | elapsed:  5.6min\n",
      "[Parallel(n_jobs=36)]: Done 9728 tasks      | elapsed:  6.6min\n",
      "[Parallel(n_jobs=36)]: Done 11178 tasks      | elapsed:  7.5min\n",
      "[Parallel(n_jobs=36)]: Done 12428 out of 12428 | elapsed:  8.3min finished\n"
     ]
    },
    {
     "name": "stdout",
     "output_type": "stream",
     "text": [
      "1h_Ket_1 vs ctrl\n",
      "Data Shape: (9991, 24181)\n",
      "Data Shape after compute_1d_moments: (9991, 11859)\n"
     ]
    },
    {
     "name": "stderr",
     "output_type": "stream",
     "text": [
      "[Parallel(n_jobs=36)]: Using backend LokyBackend with 36 concurrent workers.\n",
      "[Parallel(n_jobs=36)]: Done 175 tasks      | elapsed:    6.8s\n",
      "[Parallel(n_jobs=36)]: Done 450 tasks      | elapsed:   14.5s\n",
      "[Parallel(n_jobs=36)]: Done 800 tasks      | elapsed:   25.2s\n",
      "[Parallel(n_jobs=36)]: Done 1250 tasks      | elapsed:   40.4s\n",
      "[Parallel(n_jobs=36)]: Done 1800 tasks      | elapsed:   56.8s\n",
      "[Parallel(n_jobs=36)]: Done 2450 tasks      | elapsed:  1.3min\n",
      "[Parallel(n_jobs=36)]: Done 3200 tasks      | elapsed:  1.7min\n",
      "[Parallel(n_jobs=36)]: Done 4050 tasks      | elapsed:  2.1min\n",
      "[Parallel(n_jobs=36)]: Done 5000 tasks      | elapsed:  2.5min\n",
      "[Parallel(n_jobs=36)]: Done 6050 tasks      | elapsed:  2.9min\n",
      "[Parallel(n_jobs=36)]: Done 7200 tasks      | elapsed:  3.5min\n",
      "[Parallel(n_jobs=36)]: Done 8450 tasks      | elapsed:  4.2min\n",
      "[Parallel(n_jobs=36)]: Done 9800 tasks      | elapsed:  4.8min\n",
      "[Parallel(n_jobs=36)]: Done 11250 tasks      | elapsed:  5.5min\n",
      "[Parallel(n_jobs=36)]: Done 11859 out of 11859 | elapsed:  5.9min finished\n"
     ]
    },
    {
     "name": "stdout",
     "output_type": "stream",
     "text": [
      "1h_Ket_10 vs ctrl\n",
      "Data Shape: (2497, 24181)\n",
      "Data Shape after compute_1d_moments: (2497, 12130)\n"
     ]
    },
    {
     "name": "stderr",
     "output_type": "stream",
     "text": [
      "[Parallel(n_jobs=36)]: Using backend LokyBackend with 36 concurrent workers.\n",
      "[Parallel(n_jobs=36)]: Done 184 tasks      | elapsed:    1.8s\n",
      "[Parallel(n_jobs=36)]: Done 684 tasks      | elapsed:    5.7s\n",
      "[Parallel(n_jobs=36)]: Done 1384 tasks      | elapsed:   11.0s\n",
      "[Parallel(n_jobs=36)]: Done 2284 tasks      | elapsed:   17.7s\n",
      "[Parallel(n_jobs=36)]: Done 3384 tasks      | elapsed:   26.0s\n",
      "[Parallel(n_jobs=36)]: Done 4684 tasks      | elapsed:   34.4s\n",
      "[Parallel(n_jobs=36)]: Done 6184 tasks      | elapsed:   44.7s\n",
      "[Parallel(n_jobs=36)]: Done 7884 tasks      | elapsed:   57.3s\n",
      "[Parallel(n_jobs=36)]: Done 9784 tasks      | elapsed:  1.2min\n",
      "[Parallel(n_jobs=36)]: Done 11884 tasks      | elapsed:  1.4min\n",
      "[Parallel(n_jobs=36)]: Done 12130 out of 12130 | elapsed:  1.5min finished\n"
     ]
    },
    {
     "name": "stdout",
     "output_type": "stream",
     "text": [
      "1h_Ket_11 vs ctrl\n",
      "Data Shape: (2401, 24181)\n",
      "Data Shape after compute_1d_moments: (2401, 11533)\n"
     ]
    },
    {
     "name": "stderr",
     "output_type": "stream",
     "text": [
      "[Parallel(n_jobs=36)]: Using backend LokyBackend with 36 concurrent workers.\n",
      "[Parallel(n_jobs=36)]: Done 184 tasks      | elapsed:    1.5s\n",
      "[Parallel(n_jobs=36)]: Done 684 tasks      | elapsed:    4.9s\n",
      "[Parallel(n_jobs=36)]: Done 1384 tasks      | elapsed:    9.8s\n",
      "[Parallel(n_jobs=36)]: Done 2284 tasks      | elapsed:   15.5s\n",
      "[Parallel(n_jobs=36)]: Done 3384 tasks      | elapsed:   22.5s\n",
      "[Parallel(n_jobs=36)]: Done 4684 tasks      | elapsed:   30.2s\n",
      "[Parallel(n_jobs=36)]: Done 6184 tasks      | elapsed:   39.8s\n",
      "[Parallel(n_jobs=36)]: Done 7884 tasks      | elapsed:   50.7s\n",
      "[Parallel(n_jobs=36)]: Done 9784 tasks      | elapsed:  1.1min\n",
      "[Parallel(n_jobs=36)]: Done 11533 out of 11533 | elapsed:  1.2min finished\n"
     ]
    },
    {
     "name": "stdout",
     "output_type": "stream",
     "text": [
      "1h_Ket_12 vs ctrl\n",
      "Data Shape: (2136, 24181)\n",
      "Data Shape after compute_1d_moments: (2136, 11651)\n"
     ]
    },
    {
     "name": "stderr",
     "output_type": "stream",
     "text": [
      "[Parallel(n_jobs=36)]: Using backend LokyBackend with 36 concurrent workers.\n",
      "[Parallel(n_jobs=36)]: Done 184 tasks      | elapsed:    1.2s\n",
      "[Parallel(n_jobs=36)]: Done 684 tasks      | elapsed:    4.1s\n",
      "[Parallel(n_jobs=36)]: Done 1384 tasks      | elapsed:    8.2s\n",
      "[Parallel(n_jobs=36)]: Done 2284 tasks      | elapsed:   12.9s\n",
      "[Parallel(n_jobs=36)]: Done 3384 tasks      | elapsed:   18.5s\n",
      "[Parallel(n_jobs=36)]: Done 4684 tasks      | elapsed:   24.6s\n",
      "[Parallel(n_jobs=36)]: Done 6184 tasks      | elapsed:   32.3s\n",
      "[Parallel(n_jobs=36)]: Done 7884 tasks      | elapsed:   40.8s\n",
      "[Parallel(n_jobs=36)]: Done 9784 tasks      | elapsed:   51.2s\n",
      "[Parallel(n_jobs=36)]: Done 11580 out of 11651 | elapsed:  1.0min remaining:    0.4s\n",
      "[Parallel(n_jobs=36)]: Done 11651 out of 11651 | elapsed:  1.0min finished\n"
     ]
    },
    {
     "name": "stdout",
     "output_type": "stream",
     "text": [
      "1h_Ket_13 vs ctrl\n",
      "Data Shape: (2458, 24181)\n",
      "Data Shape after compute_1d_moments: (2458, 9041)\n"
     ]
    },
    {
     "name": "stderr",
     "output_type": "stream",
     "text": [
      "[Parallel(n_jobs=36)]: Using backend LokyBackend with 36 concurrent workers.\n",
      "[Parallel(n_jobs=36)]: Done 186 tasks      | elapsed:    0.9s\n",
      "[Parallel(n_jobs=36)]: Done 684 tasks      | elapsed:    2.8s\n",
      "[Parallel(n_jobs=36)]: Done 1384 tasks      | elapsed:    5.5s\n",
      "[Parallel(n_jobs=36)]: Done 2284 tasks      | elapsed:    8.9s\n",
      "[Parallel(n_jobs=36)]: Done 3384 tasks      | elapsed:   12.8s\n",
      "[Parallel(n_jobs=36)]: Done 4684 tasks      | elapsed:   17.3s\n",
      "[Parallel(n_jobs=36)]: Done 6184 tasks      | elapsed:   23.1s\n",
      "[Parallel(n_jobs=36)]: Done 7884 tasks      | elapsed:   29.9s\n",
      "[Parallel(n_jobs=36)]: Done 8970 out of 9041 | elapsed:   34.1s remaining:    0.3s\n",
      "[Parallel(n_jobs=36)]: Done 9041 out of 9041 | elapsed:   34.9s finished\n"
     ]
    },
    {
     "name": "stdout",
     "output_type": "stream",
     "text": [
      "1h_Ket_14 vs ctrl\n",
      "Data Shape: (1569, 24181)\n",
      "Data Shape after compute_1d_moments: (1569, 11995)\n"
     ]
    },
    {
     "name": "stderr",
     "output_type": "stream",
     "text": [
      "[Parallel(n_jobs=36)]: Using backend LokyBackend with 36 concurrent workers.\n",
      "[Parallel(n_jobs=36)]: Done 184 tasks      | elapsed:    1.2s\n",
      "[Parallel(n_jobs=36)]: Done 684 tasks      | elapsed:    3.6s\n",
      "[Parallel(n_jobs=36)]: Done 1384 tasks      | elapsed:    6.9s\n",
      "[Parallel(n_jobs=36)]: Done 2284 tasks      | elapsed:   11.1s\n",
      "[Parallel(n_jobs=36)]: Done 3384 tasks      | elapsed:   16.3s\n",
      "[Parallel(n_jobs=36)]: Done 4684 tasks      | elapsed:   21.7s\n",
      "[Parallel(n_jobs=36)]: Done 6184 tasks      | elapsed:   28.5s\n",
      "[Parallel(n_jobs=36)]: Done 7884 tasks      | elapsed:   36.4s\n",
      "[Parallel(n_jobs=36)]: Done 9784 tasks      | elapsed:   45.3s\n",
      "[Parallel(n_jobs=36)]: Done 11884 tasks      | elapsed:   54.9s\n",
      "[Parallel(n_jobs=36)]: Done 11924 out of 11995 | elapsed:   55.1s remaining:    0.3s\n",
      "[Parallel(n_jobs=36)]: Done 11995 out of 11995 | elapsed:   55.9s finished\n"
     ]
    },
    {
     "name": "stdout",
     "output_type": "stream",
     "text": [
      "1h_Ket_15 vs ctrl\n",
      "Data Shape: (691, 24181)\n",
      "Data Shape after compute_1d_moments: (691, 11694)\n"
     ]
    },
    {
     "name": "stderr",
     "output_type": "stream",
     "text": [
      "[Parallel(n_jobs=36)]: Using backend LokyBackend with 36 concurrent workers.\n",
      "[Parallel(n_jobs=36)]: Done 185 tasks      | elapsed:    0.7s\n",
      "[Parallel(n_jobs=36)]: Done 684 tasks      | elapsed:    2.0s\n",
      "[Parallel(n_jobs=36)]: Done 1384 tasks      | elapsed:    3.9s\n",
      "[Parallel(n_jobs=36)]: Done 2284 tasks      | elapsed:    6.3s\n",
      "[Parallel(n_jobs=36)]: Done 3384 tasks      | elapsed:    9.2s\n",
      "[Parallel(n_jobs=36)]: Done 4684 tasks      | elapsed:   12.3s\n",
      "[Parallel(n_jobs=36)]: Done 6184 tasks      | elapsed:   16.1s\n",
      "[Parallel(n_jobs=36)]: Done 7884 tasks      | elapsed:   20.4s\n",
      "[Parallel(n_jobs=36)]: Done 9784 tasks      | elapsed:   25.5s\n",
      "[Parallel(n_jobs=36)]: Done 11623 out of 11694 | elapsed:   30.2s remaining:    0.2s\n",
      "[Parallel(n_jobs=36)]: Done 11694 out of 11694 | elapsed:   30.4s finished\n"
     ]
    },
    {
     "name": "stdout",
     "output_type": "stream",
     "text": [
      "1h_Ket_16 vs ctrl\n",
      "Data Shape: (676, 24181)\n",
      "Data Shape after compute_1d_moments: (676, 12466)\n"
     ]
    },
    {
     "name": "stderr",
     "output_type": "stream",
     "text": [
      "[Parallel(n_jobs=36)]: Using backend LokyBackend with 36 concurrent workers.\n",
      "[Parallel(n_jobs=36)]: Done 184 tasks      | elapsed:    0.7s\n",
      "[Parallel(n_jobs=36)]: Done 684 tasks      | elapsed:    2.3s\n",
      "[Parallel(n_jobs=36)]: Done 1384 tasks      | elapsed:    4.7s\n",
      "[Parallel(n_jobs=36)]: Done 2284 tasks      | elapsed:    7.6s\n",
      "[Parallel(n_jobs=36)]: Done 3384 tasks      | elapsed:   11.3s\n",
      "[Parallel(n_jobs=36)]: Done 4684 tasks      | elapsed:   15.4s\n",
      "[Parallel(n_jobs=36)]: Done 6184 tasks      | elapsed:   20.0s\n",
      "[Parallel(n_jobs=36)]: Done 7884 tasks      | elapsed:   25.4s\n",
      "[Parallel(n_jobs=36)]: Done 9784 tasks      | elapsed:   31.5s\n",
      "[Parallel(n_jobs=36)]: Done 11884 tasks      | elapsed:   38.3s\n",
      "[Parallel(n_jobs=36)]: Done 12466 out of 12466 | elapsed:   40.6s finished\n"
     ]
    },
    {
     "name": "stdout",
     "output_type": "stream",
     "text": [
      "1h_Ket_17 vs ctrl\n",
      "Data Shape: (603, 24181)\n",
      "Data Shape after compute_1d_moments: (603, 10608)\n"
     ]
    },
    {
     "name": "stderr",
     "output_type": "stream",
     "text": [
      "[Parallel(n_jobs=36)]: Using backend LokyBackend with 36 concurrent workers.\n",
      "[Parallel(n_jobs=36)]: Done 184 tasks      | elapsed:    0.5s\n",
      "[Parallel(n_jobs=36)]: Done 1152 tasks      | elapsed:    2.3s\n",
      "[Parallel(n_jobs=36)]: Done 2552 tasks      | elapsed:    4.9s\n",
      "[Parallel(n_jobs=36)]: Done 4352 tasks      | elapsed:    8.2s\n",
      "[Parallel(n_jobs=36)]: Done 6552 tasks      | elapsed:   12.1s\n",
      "[Parallel(n_jobs=36)]: Done 9152 tasks      | elapsed:   17.0s\n",
      "[Parallel(n_jobs=36)]: Done 10537 out of 10608 | elapsed:   19.6s remaining:    0.1s\n",
      "[Parallel(n_jobs=36)]: Done 10608 out of 10608 | elapsed:   19.8s finished\n"
     ]
    },
    {
     "name": "stdout",
     "output_type": "stream",
     "text": [
      "1h_Ket_18 vs ctrl\n",
      "Data Shape: (277, 24181)\n",
      "Data Shape after compute_1d_moments: (277, 9957)\n"
     ]
    },
    {
     "name": "stderr",
     "output_type": "stream",
     "text": [
      "[Parallel(n_jobs=36)]: Using backend LokyBackend with 36 concurrent workers.\n",
      "[Parallel(n_jobs=36)]: Done 184 tasks      | elapsed:    0.3s\n",
      "[Parallel(n_jobs=36)]: Done 1152 tasks      | elapsed:    1.7s\n",
      "[Parallel(n_jobs=36)]: Done 2552 tasks      | elapsed:    3.4s\n",
      "[Parallel(n_jobs=36)]: Done 4352 tasks      | elapsed:    5.6s\n",
      "[Parallel(n_jobs=36)]: Done 6552 tasks      | elapsed:    8.3s\n",
      "[Parallel(n_jobs=36)]: Done 9152 tasks      | elapsed:   11.8s\n",
      "[Parallel(n_jobs=36)]: Done 9886 out of 9957 | elapsed:   12.6s remaining:    0.1s\n",
      "[Parallel(n_jobs=36)]: Done 9957 out of 9957 | elapsed:   13.5s finished\n"
     ]
    },
    {
     "name": "stdout",
     "output_type": "stream",
     "text": [
      "1h_Ket_19 vs ctrl\n",
      "Data Shape: (360, 24181)\n",
      "Data Shape after compute_1d_moments: (360, 9623)\n"
     ]
    },
    {
     "name": "stderr",
     "output_type": "stream",
     "text": [
      "[Parallel(n_jobs=36)]: Using backend LokyBackend with 36 concurrent workers.\n",
      "[Parallel(n_jobs=36)]: Done 184 tasks      | elapsed:    0.4s\n",
      "[Parallel(n_jobs=36)]: Done 1152 tasks      | elapsed:    1.9s\n",
      "[Parallel(n_jobs=36)]: Done 2552 tasks      | elapsed:    4.0s\n",
      "[Parallel(n_jobs=36)]: Done 4352 tasks      | elapsed:    6.7s\n",
      "[Parallel(n_jobs=36)]: Done 6552 tasks      | elapsed:   10.2s\n",
      "[Parallel(n_jobs=36)]: Done 9152 tasks      | elapsed:   14.1s\n",
      "[Parallel(n_jobs=36)]: Done 9552 out of 9623 | elapsed:   14.6s remaining:    0.1s\n",
      "[Parallel(n_jobs=36)]: Done 9623 out of 9623 | elapsed:   15.3s finished\n"
     ]
    },
    {
     "name": "stdout",
     "output_type": "stream",
     "text": [
      "1h_Ket_2 vs ctrl\n",
      "Data Shape: (10144, 24181)\n",
      "Data Shape after compute_1d_moments: (10144, 12250)\n"
     ]
    },
    {
     "name": "stderr",
     "output_type": "stream",
     "text": [
      "[Parallel(n_jobs=36)]: Using backend LokyBackend with 36 concurrent workers.\n",
      "[Parallel(n_jobs=36)]: Done 175 tasks      | elapsed:    7.1s\n",
      "[Parallel(n_jobs=36)]: Done 450 tasks      | elapsed:   15.4s\n",
      "[Parallel(n_jobs=36)]: Done 800 tasks      | elapsed:   27.0s\n",
      "[Parallel(n_jobs=36)]: Done 1250 tasks      | elapsed:   43.3s\n",
      "[Parallel(n_jobs=36)]: Done 1800 tasks      | elapsed:  1.0min\n",
      "[Parallel(n_jobs=36)]: Done 2450 tasks      | elapsed:  1.3min\n",
      "[Parallel(n_jobs=36)]: Done 3200 tasks      | elapsed:  1.7min\n",
      "[Parallel(n_jobs=36)]: Done 4050 tasks      | elapsed:  2.2min\n",
      "[Parallel(n_jobs=36)]: Done 5000 tasks      | elapsed:  2.6min\n",
      "[Parallel(n_jobs=36)]: Done 6050 tasks      | elapsed:  3.1min\n",
      "[Parallel(n_jobs=36)]: Done 7200 tasks      | elapsed:  3.7min\n",
      "[Parallel(n_jobs=36)]: Done 8450 tasks      | elapsed:  4.4min\n",
      "[Parallel(n_jobs=36)]: Done 9800 tasks      | elapsed:  5.1min\n",
      "[Parallel(n_jobs=36)]: Done 11250 tasks      | elapsed:  5.9min\n",
      "[Parallel(n_jobs=36)]: Done 12250 out of 12250 | elapsed:  6.4min finished\n"
     ]
    },
    {
     "name": "stdout",
     "output_type": "stream",
     "text": [
      "1h_Ket_20 vs ctrl\n",
      "Data Shape: (109, 24181)\n",
      "Data Shape after compute_1d_moments: (109, 10280)\n"
     ]
    },
    {
     "name": "stderr",
     "output_type": "stream",
     "text": [
      "[Parallel(n_jobs=36)]: Using backend LokyBackend with 36 concurrent workers.\n",
      "[Parallel(n_jobs=36)]: Done 184 tasks      | elapsed:    0.3s\n",
      "[Parallel(n_jobs=36)]: Done 1804 tasks      | elapsed:    2.1s\n",
      "[Parallel(n_jobs=36)]: Done 4600 tasks      | elapsed:    4.8s\n",
      "[Parallel(n_jobs=36)]: Done 8200 tasks      | elapsed:    8.3s\n",
      "[Parallel(n_jobs=36)]: Done 10280 out of 10280 | elapsed:   10.5s finished\n"
     ]
    },
    {
     "name": "stdout",
     "output_type": "stream",
     "text": [
      "1h_Ket_21 vs ctrl\n",
      "Skipping 1h_Ket_21, < 100 cells\n",
      "1h_Ket_3 vs ctrl\n",
      "Data Shape: (6658, 24181)\n",
      "Data Shape after compute_1d_moments: (6658, 12534)\n"
     ]
    },
    {
     "name": "stderr",
     "output_type": "stream",
     "text": [
      "[Parallel(n_jobs=36)]: Using backend LokyBackend with 36 concurrent workers.\n",
      "[Parallel(n_jobs=36)]: Done 184 tasks      | elapsed:    5.3s\n",
      "[Parallel(n_jobs=36)]: Done 486 tasks      | elapsed:   12.0s\n",
      "[Parallel(n_jobs=36)]: Done 836 tasks      | elapsed:   20.2s\n",
      "[Parallel(n_jobs=36)]: Done 1286 tasks      | elapsed:   31.7s\n",
      "[Parallel(n_jobs=36)]: Done 1836 tasks      | elapsed:   44.6s\n",
      "[Parallel(n_jobs=36)]: Done 2486 tasks      | elapsed:  1.0min\n",
      "[Parallel(n_jobs=36)]: Done 3236 tasks      | elapsed:  1.3min\n",
      "[Parallel(n_jobs=36)]: Done 4086 tasks      | elapsed:  1.6min\n",
      "[Parallel(n_jobs=36)]: Done 5036 tasks      | elapsed:  1.9min\n",
      "[Parallel(n_jobs=36)]: Done 6086 tasks      | elapsed:  2.3min\n",
      "[Parallel(n_jobs=36)]: Done 7236 tasks      | elapsed:  2.8min\n",
      "[Parallel(n_jobs=36)]: Done 8486 tasks      | elapsed:  3.3min\n",
      "[Parallel(n_jobs=36)]: Done 9836 tasks      | elapsed:  3.8min\n",
      "[Parallel(n_jobs=36)]: Done 11286 tasks      | elapsed:  4.4min\n",
      "[Parallel(n_jobs=36)]: Done 12534 out of 12534 | elapsed:  4.9min finished\n"
     ]
    },
    {
     "name": "stdout",
     "output_type": "stream",
     "text": [
      "1h_Ket_4 vs ctrl\n",
      "Data Shape: (6832, 24181)\n",
      "Data Shape after compute_1d_moments: (6832, 9022)\n"
     ]
    },
    {
     "name": "stderr",
     "output_type": "stream",
     "text": [
      "[Parallel(n_jobs=36)]: Using backend LokyBackend with 36 concurrent workers.\n",
      "[Parallel(n_jobs=36)]: Done 185 tasks      | elapsed:    2.0s\n",
      "[Parallel(n_jobs=36)]: Done 623 tasks      | elapsed:    6.6s\n",
      "[Parallel(n_jobs=36)]: Done 980 tasks      | elapsed:   10.6s\n",
      "[Parallel(n_jobs=36)]: Done 1430 tasks      | elapsed:   15.3s\n",
      "[Parallel(n_jobs=36)]: Done 1980 tasks      | elapsed:   21.0s\n",
      "[Parallel(n_jobs=36)]: Done 2630 tasks      | elapsed:   27.7s\n",
      "[Parallel(n_jobs=36)]: Done 3380 tasks      | elapsed:   34.9s\n",
      "[Parallel(n_jobs=36)]: Done 4230 tasks      | elapsed:   42.7s\n",
      "[Parallel(n_jobs=36)]: Done 5180 tasks      | elapsed:   52.9s\n",
      "[Parallel(n_jobs=36)]: Done 6230 tasks      | elapsed:  1.1min\n",
      "[Parallel(n_jobs=36)]: Done 7380 tasks      | elapsed:  1.3min\n",
      "[Parallel(n_jobs=36)]: Done 8630 tasks      | elapsed:  1.5min\n",
      "[Parallel(n_jobs=36)]: Done 9022 out of 9022 | elapsed:  1.6min finished\n"
     ]
    },
    {
     "name": "stdout",
     "output_type": "stream",
     "text": [
      "1h_Ket_5 vs ctrl\n",
      "Data Shape: (5174, 24181)\n",
      "Data Shape after compute_1d_moments: (5174, 12369)\n"
     ]
    },
    {
     "name": "stderr",
     "output_type": "stream",
     "text": [
      "[Parallel(n_jobs=36)]: Using backend LokyBackend with 36 concurrent workers.\n",
      "[Parallel(n_jobs=36)]: Done 184 tasks      | elapsed:    4.0s\n",
      "[Parallel(n_jobs=36)]: Done 486 tasks      | elapsed:    9.1s\n",
      "[Parallel(n_jobs=36)]: Done 836 tasks      | elapsed:   15.3s\n",
      "[Parallel(n_jobs=36)]: Done 1286 tasks      | elapsed:   23.9s\n",
      "[Parallel(n_jobs=36)]: Done 1836 tasks      | elapsed:   33.4s\n",
      "[Parallel(n_jobs=36)]: Done 2486 tasks      | elapsed:   44.9s\n",
      "[Parallel(n_jobs=36)]: Done 3236 tasks      | elapsed:   58.4s\n",
      "[Parallel(n_jobs=36)]: Done 4086 tasks      | elapsed:  1.2min\n",
      "[Parallel(n_jobs=36)]: Done 5036 tasks      | elapsed:  1.4min\n",
      "[Parallel(n_jobs=36)]: Done 6086 tasks      | elapsed:  1.7min\n",
      "[Parallel(n_jobs=36)]: Done 7236 tasks      | elapsed:  2.1min\n",
      "[Parallel(n_jobs=36)]: Done 8486 tasks      | elapsed:  2.4min\n",
      "[Parallel(n_jobs=36)]: Done 9836 tasks      | elapsed:  2.9min\n",
      "[Parallel(n_jobs=36)]: Done 11286 tasks      | elapsed:  3.3min\n",
      "[Parallel(n_jobs=36)]: Done 12369 out of 12369 | elapsed:  3.6min finished\n"
     ]
    },
    {
     "name": "stdout",
     "output_type": "stream",
     "text": [
      "1h_Ket_6 vs ctrl\n",
      "Data Shape: (4000, 24181)\n",
      "Data Shape after compute_1d_moments: (4000, 10592)\n"
     ]
    },
    {
     "name": "stderr",
     "output_type": "stream",
     "text": [
      "[Parallel(n_jobs=36)]: Using backend LokyBackend with 36 concurrent workers.\n",
      "[Parallel(n_jobs=36)]: Done 185 tasks      | elapsed:    1.7s\n",
      "[Parallel(n_jobs=36)]: Done 684 tasks      | elapsed:    5.5s\n",
      "[Parallel(n_jobs=36)]: Done 1384 tasks      | elapsed:   10.5s\n",
      "[Parallel(n_jobs=36)]: Done 2284 tasks      | elapsed:   16.5s\n",
      "[Parallel(n_jobs=36)]: Done 3384 tasks      | elapsed:   23.4s\n",
      "[Parallel(n_jobs=36)]: Done 4684 tasks      | elapsed:   31.5s\n",
      "[Parallel(n_jobs=36)]: Done 6184 tasks      | elapsed:   41.5s\n",
      "[Parallel(n_jobs=36)]: Done 7884 tasks      | elapsed:   53.6s\n",
      "[Parallel(n_jobs=36)]: Done 9784 tasks      | elapsed:  1.1min\n",
      "[Parallel(n_jobs=36)]: Done 10592 out of 10592 | elapsed:  1.2min finished\n"
     ]
    },
    {
     "name": "stdout",
     "output_type": "stream",
     "text": [
      "1h_Ket_7 vs ctrl\n",
      "Data Shape: (3499, 24181)\n",
      "Data Shape after compute_1d_moments: (3499, 12553)\n"
     ]
    },
    {
     "name": "stderr",
     "output_type": "stream",
     "text": [
      "[Parallel(n_jobs=36)]: Using backend LokyBackend with 36 concurrent workers.\n",
      "[Parallel(n_jobs=36)]: Done 184 tasks      | elapsed:    3.0s\n",
      "[Parallel(n_jobs=36)]: Done 522 tasks      | elapsed:    7.5s\n",
      "[Parallel(n_jobs=36)]: Done 872 tasks      | elapsed:   12.1s\n",
      "[Parallel(n_jobs=36)]: Done 1322 tasks      | elapsed:   18.5s\n",
      "[Parallel(n_jobs=36)]: Done 1872 tasks      | elapsed:   26.2s\n",
      "[Parallel(n_jobs=36)]: Done 2522 tasks      | elapsed:   34.9s\n",
      "[Parallel(n_jobs=36)]: Done 3272 tasks      | elapsed:   45.6s\n",
      "[Parallel(n_jobs=36)]: Done 4122 tasks      | elapsed:   57.2s\n",
      "[Parallel(n_jobs=36)]: Done 5072 tasks      | elapsed:  1.1min\n",
      "[Parallel(n_jobs=36)]: Done 6122 tasks      | elapsed:  1.4min\n",
      "[Parallel(n_jobs=36)]: Done 7272 tasks      | elapsed:  1.7min\n",
      "[Parallel(n_jobs=36)]: Done 8522 tasks      | elapsed:  1.9min\n",
      "[Parallel(n_jobs=36)]: Done 9872 tasks      | elapsed:  2.2min\n",
      "[Parallel(n_jobs=36)]: Done 11322 tasks      | elapsed:  2.6min\n",
      "[Parallel(n_jobs=36)]: Done 12553 out of 12553 | elapsed:  2.9min finished\n"
     ]
    },
    {
     "name": "stdout",
     "output_type": "stream",
     "text": [
      "1h_Ket_8 vs ctrl\n",
      "Data Shape: (3590, 24181)\n",
      "Data Shape after compute_1d_moments: (3590, 12118)\n"
     ]
    },
    {
     "name": "stderr",
     "output_type": "stream",
     "text": [
      "[Parallel(n_jobs=36)]: Using backend LokyBackend with 36 concurrent workers.\n",
      "[Parallel(n_jobs=36)]: Done 184 tasks      | elapsed:    2.5s\n",
      "[Parallel(n_jobs=36)]: Done 627 tasks      | elapsed:    7.5s\n",
      "[Parallel(n_jobs=36)]: Done 980 tasks      | elapsed:   11.6s\n",
      "[Parallel(n_jobs=36)]: Done 1430 tasks      | elapsed:   17.1s\n",
      "[Parallel(n_jobs=36)]: Done 1980 tasks      | elapsed:   23.4s\n",
      "[Parallel(n_jobs=36)]: Done 2630 tasks      | elapsed:   30.4s\n",
      "[Parallel(n_jobs=36)]: Done 3380 tasks      | elapsed:   39.1s\n",
      "[Parallel(n_jobs=36)]: Done 4230 tasks      | elapsed:   48.1s\n",
      "[Parallel(n_jobs=36)]: Done 5180 tasks      | elapsed:   56.9s\n",
      "[Parallel(n_jobs=36)]: Done 6230 tasks      | elapsed:  1.1min\n",
      "[Parallel(n_jobs=36)]: Done 7380 tasks      | elapsed:  1.4min\n",
      "[Parallel(n_jobs=36)]: Done 8630 tasks      | elapsed:  1.6min\n",
      "[Parallel(n_jobs=36)]: Done 9980 tasks      | elapsed:  1.8min\n",
      "[Parallel(n_jobs=36)]: Done 11430 tasks      | elapsed:  2.1min\n",
      "[Parallel(n_jobs=36)]: Done 12118 out of 12118 | elapsed:  2.2min finished\n"
     ]
    },
    {
     "name": "stdout",
     "output_type": "stream",
     "text": [
      "1h_Ket_9 vs ctrl\n",
      "Data Shape: (2883, 24181)\n",
      "Data Shape after compute_1d_moments: (2883, 10689)\n"
     ]
    },
    {
     "name": "stderr",
     "output_type": "stream",
     "text": [
      "[Parallel(n_jobs=36)]: Using backend LokyBackend with 36 concurrent workers.\n",
      "[Parallel(n_jobs=36)]: Done 184 tasks      | elapsed:    1.4s\n",
      "[Parallel(n_jobs=36)]: Done 684 tasks      | elapsed:    4.2s\n",
      "[Parallel(n_jobs=36)]: Done 1384 tasks      | elapsed:    8.1s\n",
      "[Parallel(n_jobs=36)]: Done 2284 tasks      | elapsed:   12.9s\n",
      "[Parallel(n_jobs=36)]: Done 3384 tasks      | elapsed:   18.3s\n",
      "[Parallel(n_jobs=36)]: Done 4684 tasks      | elapsed:   24.6s\n",
      "[Parallel(n_jobs=36)]: Done 6184 tasks      | elapsed:   32.3s\n",
      "[Parallel(n_jobs=36)]: Done 7884 tasks      | elapsed:   41.1s\n",
      "[Parallel(n_jobs=36)]: Done 9784 tasks      | elapsed:   51.5s\n",
      "[Parallel(n_jobs=36)]: Done 10618 out of 10689 | elapsed:   55.6s remaining:    0.4s\n",
      "[Parallel(n_jobs=36)]: Done 10689 out of 10689 | elapsed:   56.7s finished\n"
     ]
    },
    {
     "name": "stdout",
     "output_type": "stream",
     "text": [
      "1h_Psilo_0 vs ctrl\n",
      "Data Shape: (12950, 24181)\n",
      "Data Shape after compute_1d_moments: (12950, 11910)\n"
     ]
    },
    {
     "name": "stderr",
     "output_type": "stream",
     "text": [
      "[Parallel(n_jobs=36)]: Using backend LokyBackend with 36 concurrent workers.\n",
      "[Parallel(n_jobs=36)]: Done 177 tasks      | elapsed:   10.4s\n",
      "[Parallel(n_jobs=36)]: Done 450 tasks      | elapsed:   22.6s\n",
      "[Parallel(n_jobs=36)]: Done 800 tasks      | elapsed:   39.3s\n",
      "[Parallel(n_jobs=36)]: Done 1250 tasks      | elapsed:  1.0min\n",
      "[Parallel(n_jobs=36)]: Done 1800 tasks      | elapsed:  1.5min\n",
      "[Parallel(n_jobs=36)]: Done 2450 tasks      | elapsed:  1.9min\n",
      "[Parallel(n_jobs=36)]: Done 3200 tasks      | elapsed:  2.5min\n",
      "[Parallel(n_jobs=36)]: Done 4050 tasks      | elapsed:  3.1min\n",
      "[Parallel(n_jobs=36)]: Done 5000 tasks      | elapsed:  3.8min\n",
      "[Parallel(n_jobs=36)]: Done 6050 tasks      | elapsed:  4.5min\n",
      "[Parallel(n_jobs=36)]: Done 7200 tasks      | elapsed:  5.4min\n",
      "[Parallel(n_jobs=36)]: Done 8450 tasks      | elapsed:  6.3min\n",
      "[Parallel(n_jobs=36)]: Done 9800 tasks      | elapsed:  7.4min\n",
      "[Parallel(n_jobs=36)]: Done 11250 tasks      | elapsed:  8.4min\n",
      "[Parallel(n_jobs=36)]: Done 11910 out of 11910 | elapsed:  9.0min finished\n"
     ]
    },
    {
     "name": "stdout",
     "output_type": "stream",
     "text": [
      "1h_Psilo_1 vs ctrl\n",
      "Data Shape: (10326, 24181)\n",
      "Data Shape after compute_1d_moments: (10326, 11319)\n"
     ]
    },
    {
     "name": "stderr",
     "output_type": "stream",
     "text": [
      "[Parallel(n_jobs=36)]: Using backend LokyBackend with 36 concurrent workers.\n",
      "[Parallel(n_jobs=36)]: Done 178 tasks      | elapsed:    7.8s\n",
      "[Parallel(n_jobs=36)]: Done 450 tasks      | elapsed:   16.7s\n",
      "[Parallel(n_jobs=36)]: Done 800 tasks      | elapsed:   28.7s\n",
      "[Parallel(n_jobs=36)]: Done 1250 tasks      | elapsed:   46.4s\n",
      "[Parallel(n_jobs=36)]: Done 1800 tasks      | elapsed:  1.1min\n",
      "[Parallel(n_jobs=36)]: Done 2450 tasks      | elapsed:  1.5min\n",
      "[Parallel(n_jobs=36)]: Done 3200 tasks      | elapsed:  1.9min\n",
      "[Parallel(n_jobs=36)]: Done 4050 tasks      | elapsed:  2.3min\n",
      "[Parallel(n_jobs=36)]: Done 5000 tasks      | elapsed:  2.8min\n",
      "[Parallel(n_jobs=36)]: Done 6050 tasks      | elapsed:  3.4min\n",
      "[Parallel(n_jobs=36)]: Done 7200 tasks      | elapsed:  4.0min\n",
      "[Parallel(n_jobs=36)]: Done 8450 tasks      | elapsed:  4.7min\n",
      "[Parallel(n_jobs=36)]: Done 9800 tasks      | elapsed:  5.5min\n",
      "[Parallel(n_jobs=36)]: Done 11319 out of 11319 | elapsed:  6.4min finished\n"
     ]
    },
    {
     "name": "stdout",
     "output_type": "stream",
     "text": [
      "1h_Psilo_10 vs ctrl\n",
      "Data Shape: (2585, 24181)\n",
      "Data Shape after compute_1d_moments: (2585, 11654)\n"
     ]
    },
    {
     "name": "stderr",
     "output_type": "stream",
     "text": [
      "[Parallel(n_jobs=36)]: Using backend LokyBackend with 36 concurrent workers.\n",
      "[Parallel(n_jobs=36)]: Done 184 tasks      | elapsed:    2.3s\n",
      "[Parallel(n_jobs=36)]: Done 684 tasks      | elapsed:    6.8s\n",
      "[Parallel(n_jobs=36)]: Done 1384 tasks      | elapsed:   13.3s\n",
      "[Parallel(n_jobs=36)]: Done 2284 tasks      | elapsed:   21.4s\n",
      "[Parallel(n_jobs=36)]: Done 3384 tasks      | elapsed:   30.9s\n",
      "[Parallel(n_jobs=36)]: Done 4684 tasks      | elapsed:   40.8s\n",
      "[Parallel(n_jobs=36)]: Done 6184 tasks      | elapsed:   53.4s\n",
      "[Parallel(n_jobs=36)]: Done 7884 tasks      | elapsed:  1.1min\n",
      "[Parallel(n_jobs=36)]: Done 9784 tasks      | elapsed:  1.4min\n",
      "[Parallel(n_jobs=36)]: Done 11583 out of 11654 | elapsed:  1.7min remaining:    0.6s\n",
      "[Parallel(n_jobs=36)]: Done 11654 out of 11654 | elapsed:  1.7min finished\n"
     ]
    },
    {
     "name": "stdout",
     "output_type": "stream",
     "text": [
      "1h_Psilo_11 vs ctrl\n",
      "Data Shape: (2519, 24181)\n",
      "Data Shape after compute_1d_moments: (2519, 11063)\n"
     ]
    },
    {
     "name": "stderr",
     "output_type": "stream",
     "text": [
      "[Parallel(n_jobs=36)]: Using backend LokyBackend with 36 concurrent workers.\n",
      "[Parallel(n_jobs=36)]: Done 128 tasks      | elapsed:    1.5s\n",
      "[Parallel(n_jobs=36)]: Done 378 tasks      | elapsed:    3.5s\n",
      "[Parallel(n_jobs=36)]: Done 728 tasks      | elapsed:    6.6s\n",
      "[Parallel(n_jobs=36)]: Done 1178 tasks      | elapsed:   10.5s\n",
      "[Parallel(n_jobs=36)]: Done 1728 tasks      | elapsed:   14.9s\n",
      "[Parallel(n_jobs=36)]: Done 2378 tasks      | elapsed:   20.1s\n",
      "[Parallel(n_jobs=36)]: Done 3128 tasks      | elapsed:   26.1s\n",
      "[Parallel(n_jobs=36)]: Done 3978 tasks      | elapsed:   32.6s\n",
      "[Parallel(n_jobs=36)]: Done 4928 tasks      | elapsed:   39.1s\n",
      "[Parallel(n_jobs=36)]: Done 5978 tasks      | elapsed:   47.3s\n",
      "[Parallel(n_jobs=36)]: Done 7128 tasks      | elapsed:   56.7s\n",
      "[Parallel(n_jobs=36)]: Done 8378 tasks      | elapsed:  1.1min\n",
      "[Parallel(n_jobs=36)]: Done 9728 tasks      | elapsed:  1.3min\n",
      "[Parallel(n_jobs=36)]: Done 11063 out of 11063 | elapsed:  1.5min finished\n"
     ]
    },
    {
     "name": "stdout",
     "output_type": "stream",
     "text": [
      "1h_Psilo_12 vs ctrl\n",
      "Data Shape: (2196, 24181)\n",
      "Data Shape after compute_1d_moments: (2196, 11188)\n"
     ]
    },
    {
     "name": "stderr",
     "output_type": "stream",
     "text": [
      "[Parallel(n_jobs=36)]: Using backend LokyBackend with 36 concurrent workers.\n",
      "[Parallel(n_jobs=36)]: Done 184 tasks      | elapsed:    1.6s\n",
      "[Parallel(n_jobs=36)]: Done 684 tasks      | elapsed:    4.9s\n",
      "[Parallel(n_jobs=36)]: Done 1384 tasks      | elapsed:    9.6s\n",
      "[Parallel(n_jobs=36)]: Done 2284 tasks      | elapsed:   15.0s\n",
      "[Parallel(n_jobs=36)]: Done 3384 tasks      | elapsed:   21.8s\n",
      "[Parallel(n_jobs=36)]: Done 4684 tasks      | elapsed:   29.3s\n",
      "[Parallel(n_jobs=36)]: Done 6184 tasks      | elapsed:   38.3s\n",
      "[Parallel(n_jobs=36)]: Done 7884 tasks      | elapsed:   49.2s\n",
      "[Parallel(n_jobs=36)]: Done 9784 tasks      | elapsed:  1.0min\n",
      "[Parallel(n_jobs=36)]: Done 11188 out of 11188 | elapsed:  1.2min finished\n"
     ]
    },
    {
     "name": "stdout",
     "output_type": "stream",
     "text": [
      "1h_Psilo_13 vs ctrl\n",
      "Data Shape: (1817, 24181)\n",
      "Data Shape after compute_1d_moments: (1817, 5324)\n"
     ]
    },
    {
     "name": "stderr",
     "output_type": "stream",
     "text": [
      "[Parallel(n_jobs=36)]: Using backend LokyBackend with 36 concurrent workers.\n",
      "[Parallel(n_jobs=36)]: Done 184 tasks      | elapsed:    1.1s\n",
      "[Parallel(n_jobs=36)]: Done 684 tasks      | elapsed:    3.5s\n",
      "[Parallel(n_jobs=36)]: Done 1384 tasks      | elapsed:    6.6s\n",
      "[Parallel(n_jobs=36)]: Done 2284 tasks      | elapsed:   10.9s\n",
      "[Parallel(n_jobs=36)]: Done 3384 tasks      | elapsed:   15.7s\n",
      "[Parallel(n_jobs=36)]: Done 4684 tasks      | elapsed:   22.2s\n",
      "[Parallel(n_jobs=36)]: Done 5324 out of 5324 | elapsed:   26.2s finished\n"
     ]
    },
    {
     "name": "stdout",
     "output_type": "stream",
     "text": [
      "1h_Psilo_14 vs ctrl\n",
      "Data Shape: (1623, 24181)\n",
      "Data Shape after compute_1d_moments: (1623, 11430)\n"
     ]
    },
    {
     "name": "stderr",
     "output_type": "stream",
     "text": [
      "[Parallel(n_jobs=36)]: Using backend LokyBackend with 36 concurrent workers.\n",
      "[Parallel(n_jobs=36)]: Done 184 tasks      | elapsed:    1.4s\n",
      "[Parallel(n_jobs=36)]: Done 684 tasks      | elapsed:    4.3s\n",
      "[Parallel(n_jobs=36)]: Done 1384 tasks      | elapsed:    8.1s\n",
      "[Parallel(n_jobs=36)]: Done 2284 tasks      | elapsed:   13.0s\n",
      "[Parallel(n_jobs=36)]: Done 3384 tasks      | elapsed:   19.1s\n",
      "[Parallel(n_jobs=36)]: Done 4684 tasks      | elapsed:   25.5s\n",
      "[Parallel(n_jobs=36)]: Done 6184 tasks      | elapsed:   33.5s\n",
      "[Parallel(n_jobs=36)]: Done 7884 tasks      | elapsed:   42.8s\n",
      "[Parallel(n_jobs=36)]: Done 9784 tasks      | elapsed:   53.6s\n",
      "[Parallel(n_jobs=36)]: Done 11359 out of 11430 | elapsed:  1.0min remaining:    0.4s\n",
      "[Parallel(n_jobs=36)]: Done 11430 out of 11430 | elapsed:  1.1min finished\n"
     ]
    },
    {
     "name": "stdout",
     "output_type": "stream",
     "text": [
      "1h_Psilo_15 vs ctrl\n",
      "Data Shape: (702, 24181)\n",
      "Data Shape after compute_1d_moments: (702, 11419)\n"
     ]
    },
    {
     "name": "stderr",
     "output_type": "stream",
     "text": [
      "[Parallel(n_jobs=36)]: Using backend LokyBackend with 36 concurrent workers.\n",
      "[Parallel(n_jobs=36)]: Done 185 tasks      | elapsed:    0.7s\n",
      "[Parallel(n_jobs=36)]: Done 684 tasks      | elapsed:    2.1s\n",
      "[Parallel(n_jobs=36)]: Done 1384 tasks      | elapsed:    4.2s\n",
      "[Parallel(n_jobs=36)]: Done 2284 tasks      | elapsed:    6.7s\n",
      "[Parallel(n_jobs=36)]: Done 3384 tasks      | elapsed:    9.8s\n",
      "[Parallel(n_jobs=36)]: Done 4684 tasks      | elapsed:   13.1s\n",
      "[Parallel(n_jobs=36)]: Done 6184 tasks      | elapsed:   17.3s\n",
      "[Parallel(n_jobs=36)]: Done 7884 tasks      | elapsed:   22.0s\n",
      "[Parallel(n_jobs=36)]: Done 9784 tasks      | elapsed:   27.3s\n",
      "[Parallel(n_jobs=36)]: Done 11348 out of 11419 | elapsed:   31.6s remaining:    0.2s\n",
      "[Parallel(n_jobs=36)]: Done 11419 out of 11419 | elapsed:   32.2s finished\n"
     ]
    },
    {
     "name": "stdout",
     "output_type": "stream",
     "text": [
      "1h_Psilo_16 vs ctrl\n",
      "Data Shape: (683, 24181)\n",
      "Data Shape after compute_1d_moments: (683, 12263)\n"
     ]
    },
    {
     "name": "stderr",
     "output_type": "stream",
     "text": [
      "[Parallel(n_jobs=36)]: Using backend LokyBackend with 36 concurrent workers.\n",
      "[Parallel(n_jobs=36)]: Done 184 tasks      | elapsed:    0.8s\n",
      "[Parallel(n_jobs=36)]: Done 684 tasks      | elapsed:    2.4s\n",
      "[Parallel(n_jobs=36)]: Done 1384 tasks      | elapsed:    4.9s\n",
      "[Parallel(n_jobs=36)]: Done 2284 tasks      | elapsed:    7.8s\n",
      "[Parallel(n_jobs=36)]: Done 3384 tasks      | elapsed:   11.6s\n",
      "[Parallel(n_jobs=36)]: Done 4684 tasks      | elapsed:   16.0s\n",
      "[Parallel(n_jobs=36)]: Done 6184 tasks      | elapsed:   20.8s\n",
      "[Parallel(n_jobs=36)]: Done 7884 tasks      | elapsed:   26.5s\n",
      "[Parallel(n_jobs=36)]: Done 9784 tasks      | elapsed:   32.9s\n",
      "[Parallel(n_jobs=36)]: Done 11884 tasks      | elapsed:   40.0s\n",
      "[Parallel(n_jobs=36)]: Done 12192 out of 12263 | elapsed:   41.0s remaining:    0.2s\n",
      "[Parallel(n_jobs=36)]: Done 12263 out of 12263 | elapsed:   41.5s finished\n"
     ]
    },
    {
     "name": "stdout",
     "output_type": "stream",
     "text": [
      "1h_Psilo_17 vs ctrl\n",
      "Data Shape: (738, 24181)\n",
      "Data Shape after compute_1d_moments: (738, 10002)\n"
     ]
    },
    {
     "name": "stderr",
     "output_type": "stream",
     "text": [
      "[Parallel(n_jobs=36)]: Using backend LokyBackend with 36 concurrent workers.\n",
      "[Parallel(n_jobs=36)]: Done 184 tasks      | elapsed:    0.5s\n",
      "[Parallel(n_jobs=36)]: Done 684 tasks      | elapsed:    1.7s\n",
      "[Parallel(n_jobs=36)]: Done 1384 tasks      | elapsed:    3.4s\n",
      "[Parallel(n_jobs=36)]: Done 2284 tasks      | elapsed:    5.4s\n",
      "[Parallel(n_jobs=36)]: Done 3384 tasks      | elapsed:    7.8s\n",
      "[Parallel(n_jobs=36)]: Done 4684 tasks      | elapsed:   10.4s\n",
      "[Parallel(n_jobs=36)]: Done 6184 tasks      | elapsed:   13.7s\n",
      "[Parallel(n_jobs=36)]: Done 7884 tasks      | elapsed:   17.7s\n",
      "[Parallel(n_jobs=36)]: Done 9784 tasks      | elapsed:   21.8s\n",
      "[Parallel(n_jobs=36)]: Done 9931 out of 10002 | elapsed:   22.0s remaining:    0.2s\n",
      "[Parallel(n_jobs=36)]: Done 10002 out of 10002 | elapsed:   22.4s finished\n"
     ]
    },
    {
     "name": "stdout",
     "output_type": "stream",
     "text": [
      "1h_Psilo_18 vs ctrl\n",
      "Data Shape: (237, 24181)\n",
      "Data Shape after compute_1d_moments: (237, 8080)\n"
     ]
    },
    {
     "name": "stderr",
     "output_type": "stream",
     "text": [
      "[Parallel(n_jobs=36)]: Using backend LokyBackend with 36 concurrent workers.\n",
      "[Parallel(n_jobs=36)]: Done 185 tasks      | elapsed:    0.3s\n",
      "[Parallel(n_jobs=36)]: Done 1800 tasks      | elapsed:    2.6s\n",
      "[Parallel(n_jobs=36)]: Done 4600 tasks      | elapsed:    6.2s\n",
      "[Parallel(n_jobs=36)]: Done 8080 out of 8080 | elapsed:   11.0s finished\n"
     ]
    },
    {
     "name": "stdout",
     "output_type": "stream",
     "text": [
      "1h_Psilo_19 vs ctrl\n",
      "Data Shape: (307, 24181)\n",
      "Data Shape after compute_1d_moments: (307, 8572)\n"
     ]
    },
    {
     "name": "stderr",
     "output_type": "stream",
     "text": [
      "[Parallel(n_jobs=36)]: Using backend LokyBackend with 36 concurrent workers.\n",
      "[Parallel(n_jobs=36)]: Done 184 tasks      | elapsed:    0.6s\n",
      "[Parallel(n_jobs=36)]: Done 1152 tasks      | elapsed:    2.3s\n",
      "[Parallel(n_jobs=36)]: Done 2552 tasks      | elapsed:    4.7s\n",
      "[Parallel(n_jobs=36)]: Done 4352 tasks      | elapsed:    7.6s\n",
      "[Parallel(n_jobs=36)]: Done 6552 tasks      | elapsed:   11.3s\n",
      "[Parallel(n_jobs=36)]: Done 8572 out of 8572 | elapsed:   15.4s finished\n"
     ]
    },
    {
     "name": "stdout",
     "output_type": "stream",
     "text": [
      "1h_Psilo_2 vs ctrl\n",
      "Data Shape: (10151, 24181)\n",
      "Data Shape after compute_1d_moments: (10151, 11602)\n"
     ]
    },
    {
     "name": "stderr",
     "output_type": "stream",
     "text": [
      "[Parallel(n_jobs=36)]: Using backend LokyBackend with 36 concurrent workers.\n",
      "[Parallel(n_jobs=36)]: Done 179 tasks      | elapsed:    7.9s\n",
      "[Parallel(n_jobs=36)]: Done 450 tasks      | elapsed:   16.7s\n",
      "[Parallel(n_jobs=36)]: Done 800 tasks      | elapsed:   28.9s\n",
      "[Parallel(n_jobs=36)]: Done 1250 tasks      | elapsed:   46.7s\n",
      "[Parallel(n_jobs=36)]: Done 1800 tasks      | elapsed:  1.1min\n",
      "[Parallel(n_jobs=36)]: Done 2450 tasks      | elapsed:  1.5min\n",
      "[Parallel(n_jobs=36)]: Done 3200 tasks      | elapsed:  1.9min\n",
      "[Parallel(n_jobs=36)]: Done 4050 tasks      | elapsed:  2.4min\n",
      "[Parallel(n_jobs=36)]: Done 5000 tasks      | elapsed:  2.8min\n",
      "[Parallel(n_jobs=36)]: Done 6050 tasks      | elapsed:  3.4min\n",
      "[Parallel(n_jobs=36)]: Done 7200 tasks      | elapsed:  4.1min\n",
      "[Parallel(n_jobs=36)]: Done 8450 tasks      | elapsed:  4.8min\n",
      "[Parallel(n_jobs=36)]: Done 9800 tasks      | elapsed:  5.6min\n",
      "[Parallel(n_jobs=36)]: Done 11250 tasks      | elapsed:  6.4min\n",
      "[Parallel(n_jobs=36)]: Done 11602 out of 11602 | elapsed:  6.6min finished\n"
     ]
    },
    {
     "name": "stdout",
     "output_type": "stream",
     "text": [
      "1h_Psilo_20 vs ctrl\n",
      "Data Shape: (123, 24181)\n",
      "Data Shape after compute_1d_moments: (123, 10298)\n"
     ]
    },
    {
     "name": "stderr",
     "output_type": "stream",
     "text": [
      "[Parallel(n_jobs=36)]: Using backend LokyBackend with 36 concurrent workers.\n",
      "[Parallel(n_jobs=36)]: Done 184 tasks      | elapsed:    0.4s\n",
      "[Parallel(n_jobs=36)]: Done 1152 tasks      | elapsed:    1.6s\n",
      "[Parallel(n_jobs=36)]: Done 2552 tasks      | elapsed:    3.3s\n",
      "[Parallel(n_jobs=36)]: Done 4352 tasks      | elapsed:    5.5s\n",
      "[Parallel(n_jobs=36)]: Done 6552 tasks      | elapsed:    7.9s\n",
      "[Parallel(n_jobs=36)]: Done 9152 tasks      | elapsed:   10.9s\n",
      "[Parallel(n_jobs=36)]: Done 10298 out of 10298 | elapsed:   12.9s finished\n"
     ]
    },
    {
     "name": "stdout",
     "output_type": "stream",
     "text": [
      "1h_Psilo_21 vs ctrl\n",
      "Skipping 1h_Psilo_21, < 100 cells\n",
      "1h_Psilo_3 vs ctrl\n",
      "Data Shape: (6785, 24181)\n",
      "Data Shape after compute_1d_moments: (6785, 12201)\n"
     ]
    },
    {
     "name": "stderr",
     "output_type": "stream",
     "text": [
      "[Parallel(n_jobs=36)]: Using backend LokyBackend with 36 concurrent workers.\n",
      "[Parallel(n_jobs=36)]: Done 184 tasks      | elapsed:    6.1s\n",
      "[Parallel(n_jobs=36)]: Done 486 tasks      | elapsed:   13.6s\n",
      "[Parallel(n_jobs=36)]: Done 836 tasks      | elapsed:   22.3s\n",
      "[Parallel(n_jobs=36)]: Done 1286 tasks      | elapsed:   34.9s\n",
      "[Parallel(n_jobs=36)]: Done 1836 tasks      | elapsed:   48.8s\n",
      "[Parallel(n_jobs=36)]: Done 2486 tasks      | elapsed:  1.1min\n",
      "[Parallel(n_jobs=36)]: Done 3236 tasks      | elapsed:  1.4min\n",
      "[Parallel(n_jobs=36)]: Done 4086 tasks      | elapsed:  1.8min\n",
      "[Parallel(n_jobs=36)]: Done 5036 tasks      | elapsed:  2.1min\n",
      "[Parallel(n_jobs=36)]: Done 6086 tasks      | elapsed:  2.5min\n",
      "[Parallel(n_jobs=36)]: Done 7236 tasks      | elapsed:  3.0min\n",
      "[Parallel(n_jobs=36)]: Done 8486 tasks      | elapsed:  3.6min\n",
      "[Parallel(n_jobs=36)]: Done 9836 tasks      | elapsed:  4.1min\n",
      "[Parallel(n_jobs=36)]: Done 11286 tasks      | elapsed:  4.8min\n",
      "[Parallel(n_jobs=36)]: Done 12201 out of 12201 | elapsed:  5.2min finished\n"
     ]
    },
    {
     "name": "stdout",
     "output_type": "stream",
     "text": [
      "1h_Psilo_4 vs ctrl\n",
      "Data Shape: (5332, 24181)\n",
      "Data Shape after compute_1d_moments: (5332, 8718)\n"
     ]
    },
    {
     "name": "stderr",
     "output_type": "stream",
     "text": [
      "[Parallel(n_jobs=36)]: Using backend LokyBackend with 36 concurrent workers.\n",
      "[Parallel(n_jobs=36)]: Done 185 tasks      | elapsed:    1.8s\n",
      "[Parallel(n_jobs=36)]: Done 684 tasks      | elapsed:    6.3s\n",
      "[Parallel(n_jobs=36)]: Done 1196 tasks      | elapsed:   10.7s\n",
      "[Parallel(n_jobs=36)]: Done 1646 tasks      | elapsed:   14.8s\n",
      "[Parallel(n_jobs=36)]: Done 2196 tasks      | elapsed:   19.3s\n",
      "[Parallel(n_jobs=36)]: Done 2846 tasks      | elapsed:   24.7s\n",
      "[Parallel(n_jobs=36)]: Done 3596 tasks      | elapsed:   30.8s\n",
      "[Parallel(n_jobs=36)]: Done 4446 tasks      | elapsed:   37.7s\n",
      "[Parallel(n_jobs=36)]: Done 5396 tasks      | elapsed:   45.8s\n",
      "[Parallel(n_jobs=36)]: Done 6446 tasks      | elapsed:   55.5s\n",
      "[Parallel(n_jobs=36)]: Done 7596 tasks      | elapsed:  1.1min\n",
      "[Parallel(n_jobs=36)]: Done 8718 out of 8718 | elapsed:  1.3min finished\n"
     ]
    },
    {
     "name": "stdout",
     "output_type": "stream",
     "text": [
      "1h_Psilo_5 vs ctrl\n",
      "Data Shape: (5745, 24181)\n",
      "Data Shape after compute_1d_moments: (5745, 12023)\n"
     ]
    },
    {
     "name": "stderr",
     "output_type": "stream",
     "text": [
      "[Parallel(n_jobs=36)]: Using backend LokyBackend with 36 concurrent workers.\n",
      "[Parallel(n_jobs=36)]: Done 184 tasks      | elapsed:    5.2s\n",
      "[Parallel(n_jobs=36)]: Done 486 tasks      | elapsed:   11.2s\n",
      "[Parallel(n_jobs=36)]: Done 836 tasks      | elapsed:   18.6s\n",
      "[Parallel(n_jobs=36)]: Done 1286 tasks      | elapsed:   29.1s\n",
      "[Parallel(n_jobs=36)]: Done 1836 tasks      | elapsed:   40.5s\n",
      "[Parallel(n_jobs=36)]: Done 2486 tasks      | elapsed:   53.8s\n",
      "[Parallel(n_jobs=36)]: Done 3236 tasks      | elapsed:  1.2min\n",
      "[Parallel(n_jobs=36)]: Done 4086 tasks      | elapsed:  1.5min\n",
      "[Parallel(n_jobs=36)]: Done 5036 tasks      | elapsed:  1.7min\n",
      "[Parallel(n_jobs=36)]: Done 6086 tasks      | elapsed:  2.1min\n",
      "[Parallel(n_jobs=36)]: Done 7236 tasks      | elapsed:  2.5min\n",
      "[Parallel(n_jobs=36)]: Done 8486 tasks      | elapsed:  2.9min\n",
      "[Parallel(n_jobs=36)]: Done 9836 tasks      | elapsed:  3.4min\n",
      "[Parallel(n_jobs=36)]: Done 11286 tasks      | elapsed:  3.9min\n",
      "[Parallel(n_jobs=36)]: Done 12023 out of 12023 | elapsed:  4.2min finished\n"
     ]
    },
    {
     "name": "stdout",
     "output_type": "stream",
     "text": [
      "1h_Psilo_6 vs ctrl\n",
      "Data Shape: (4089, 24181)\n",
      "Data Shape after compute_1d_moments: (4089, 9831)\n"
     ]
    },
    {
     "name": "stderr",
     "output_type": "stream",
     "text": [
      "[Parallel(n_jobs=36)]: Using backend LokyBackend with 36 concurrent workers.\n",
      "[Parallel(n_jobs=36)]: Done 184 tasks      | elapsed:    2.0s\n",
      "[Parallel(n_jobs=36)]: Done 684 tasks      | elapsed:    6.6s\n",
      "[Parallel(n_jobs=36)]: Done 1384 tasks      | elapsed:   12.2s\n",
      "[Parallel(n_jobs=36)]: Done 2284 tasks      | elapsed:   19.7s\n",
      "[Parallel(n_jobs=36)]: Done 3384 tasks      | elapsed:   28.3s\n",
      "[Parallel(n_jobs=36)]: Done 4684 tasks      | elapsed:   37.8s\n",
      "[Parallel(n_jobs=36)]: Done 6184 tasks      | elapsed:   50.0s\n",
      "[Parallel(n_jobs=36)]: Done 7722 tasks      | elapsed:  1.1min\n",
      "[Parallel(n_jobs=36)]: Done 8672 tasks      | elapsed:  1.2min\n",
      "[Parallel(n_jobs=36)]: Done 9722 tasks      | elapsed:  1.3min\n",
      "[Parallel(n_jobs=36)]: Done 9831 out of 9831 | elapsed:  1.4min finished\n"
     ]
    },
    {
     "name": "stdout",
     "output_type": "stream",
     "text": [
      "1h_Psilo_7 vs ctrl\n",
      "Data Shape: (3727, 24181)\n",
      "Data Shape after compute_1d_moments: (3727, 12458)\n"
     ]
    },
    {
     "name": "stderr",
     "output_type": "stream",
     "text": [
      "[Parallel(n_jobs=36)]: Using backend LokyBackend with 36 concurrent workers.\n",
      "[Parallel(n_jobs=36)]: Done 184 tasks      | elapsed:    3.6s\n",
      "[Parallel(n_jobs=36)]: Done 486 tasks      | elapsed:    8.1s\n",
      "[Parallel(n_jobs=36)]: Done 836 tasks      | elapsed:   13.4s\n",
      "[Parallel(n_jobs=36)]: Done 1286 tasks      | elapsed:   20.7s\n",
      "[Parallel(n_jobs=36)]: Done 1836 tasks      | elapsed:   29.1s\n",
      "[Parallel(n_jobs=36)]: Done 2486 tasks      | elapsed:   38.7s\n",
      "[Parallel(n_jobs=36)]: Done 3236 tasks      | elapsed:   50.4s\n",
      "[Parallel(n_jobs=36)]: Done 4086 tasks      | elapsed:  1.1min\n",
      "[Parallel(n_jobs=36)]: Done 5036 tasks      | elapsed:  1.3min\n",
      "[Parallel(n_jobs=36)]: Done 6086 tasks      | elapsed:  1.5min\n",
      "[Parallel(n_jobs=36)]: Done 7236 tasks      | elapsed:  1.8min\n",
      "[Parallel(n_jobs=36)]: Done 8486 tasks      | elapsed:  2.1min\n",
      "[Parallel(n_jobs=36)]: Done 9836 tasks      | elapsed:  2.5min\n",
      "[Parallel(n_jobs=36)]: Done 11286 tasks      | elapsed:  2.8min\n",
      "[Parallel(n_jobs=36)]: Done 12458 out of 12458 | elapsed:  3.1min finished\n"
     ]
    },
    {
     "name": "stdout",
     "output_type": "stream",
     "text": [
      "1h_Psilo_8 vs ctrl\n",
      "Data Shape: (3674, 24181)\n",
      "Data Shape after compute_1d_moments: (3674, 11601)\n"
     ]
    },
    {
     "name": "stderr",
     "output_type": "stream",
     "text": [
      "[Parallel(n_jobs=36)]: Using backend LokyBackend with 36 concurrent workers.\n",
      "[Parallel(n_jobs=36)]: Done 184 tasks      | elapsed:    3.1s\n",
      "[Parallel(n_jobs=36)]: Done 522 tasks      | elapsed:    7.6s\n",
      "[Parallel(n_jobs=36)]: Done 872 tasks      | elapsed:   11.9s\n",
      "[Parallel(n_jobs=36)]: Done 1322 tasks      | elapsed:   18.7s\n",
      "[Parallel(n_jobs=36)]: Done 1872 tasks      | elapsed:   26.2s\n",
      "[Parallel(n_jobs=36)]: Done 2522 tasks      | elapsed:   34.9s\n",
      "[Parallel(n_jobs=36)]: Done 3272 tasks      | elapsed:   45.2s\n",
      "[Parallel(n_jobs=36)]: Done 4122 tasks      | elapsed:   55.8s\n",
      "[Parallel(n_jobs=36)]: Done 5072 tasks      | elapsed:  1.1min\n",
      "[Parallel(n_jobs=36)]: Done 6122 tasks      | elapsed:  1.3min\n",
      "[Parallel(n_jobs=36)]: Done 7272 tasks      | elapsed:  1.6min\n",
      "[Parallel(n_jobs=36)]: Done 8522 tasks      | elapsed:  1.9min\n",
      "[Parallel(n_jobs=36)]: Done 9872 tasks      | elapsed:  2.2min\n",
      "[Parallel(n_jobs=36)]: Done 11322 tasks      | elapsed:  2.5min\n",
      "[Parallel(n_jobs=36)]: Done 11601 out of 11601 | elapsed:  2.6min finished\n"
     ]
    },
    {
     "name": "stdout",
     "output_type": "stream",
     "text": [
      "1h_Psilo_9 vs ctrl\n",
      "Data Shape: (2873, 24181)\n",
      "Data Shape after compute_1d_moments: (2873, 9904)\n"
     ]
    },
    {
     "name": "stderr",
     "output_type": "stream",
     "text": [
      "[Parallel(n_jobs=36)]: Using backend LokyBackend with 36 concurrent workers.\n",
      "[Parallel(n_jobs=36)]: Done 186 tasks      | elapsed:    1.5s\n",
      "[Parallel(n_jobs=36)]: Done 684 tasks      | elapsed:    4.9s\n",
      "[Parallel(n_jobs=36)]: Done 1384 tasks      | elapsed:    9.5s\n",
      "[Parallel(n_jobs=36)]: Done 2284 tasks      | elapsed:   15.3s\n",
      "[Parallel(n_jobs=36)]: Done 3384 tasks      | elapsed:   21.9s\n",
      "[Parallel(n_jobs=36)]: Done 4684 tasks      | elapsed:   28.9s\n",
      "[Parallel(n_jobs=36)]: Done 6184 tasks      | elapsed:   38.1s\n",
      "[Parallel(n_jobs=36)]: Done 7884 tasks      | elapsed:   49.9s\n",
      "[Parallel(n_jobs=36)]: Done 9784 tasks      | elapsed:  1.0min\n",
      "[Parallel(n_jobs=36)]: Done 9904 out of 9904 | elapsed:  1.0min finished\n"
     ]
    },
    {
     "name": "stdout",
     "output_type": "stream",
     "text": [
      "2h_Ket_0 vs ctrl\n",
      "Data Shape: (12715, 24181)\n",
      "Data Shape after compute_1d_moments: (12715, 12451)\n"
     ]
    },
    {
     "name": "stderr",
     "output_type": "stream",
     "text": [
      "[Parallel(n_jobs=36)]: Using backend LokyBackend with 36 concurrent workers.\n",
      "[Parallel(n_jobs=36)]: Done 177 tasks      | elapsed:    9.0s\n",
      "[Parallel(n_jobs=36)]: Done 450 tasks      | elapsed:   20.1s\n",
      "[Parallel(n_jobs=36)]: Done 800 tasks      | elapsed:   35.5s\n",
      "[Parallel(n_jobs=36)]: Done 1250 tasks      | elapsed:   56.0s\n",
      "[Parallel(n_jobs=36)]: Done 1800 tasks      | elapsed:  1.3min\n",
      "[Parallel(n_jobs=36)]: Done 2450 tasks      | elapsed:  1.8min\n",
      "[Parallel(n_jobs=36)]: Done 3200 tasks      | elapsed:  2.3min\n",
      "[Parallel(n_jobs=36)]: Done 4050 tasks      | elapsed:  2.9min\n",
      "[Parallel(n_jobs=36)]: Done 5000 tasks      | elapsed:  3.4min\n",
      "[Parallel(n_jobs=36)]: Done 6050 tasks      | elapsed:  4.1min\n",
      "[Parallel(n_jobs=36)]: Done 7200 tasks      | elapsed:  4.9min\n",
      "[Parallel(n_jobs=36)]: Done 8450 tasks      | elapsed:  5.8min\n",
      "[Parallel(n_jobs=36)]: Done 9800 tasks      | elapsed:  6.8min\n",
      "[Parallel(n_jobs=36)]: Done 11250 tasks      | elapsed:  7.8min\n",
      "[Parallel(n_jobs=36)]: Done 12451 out of 12451 | elapsed:  8.7min finished\n"
     ]
    },
    {
     "name": "stdout",
     "output_type": "stream",
     "text": [
      "2h_Ket_1 vs ctrl\n",
      "Data Shape: (11567, 24181)\n",
      "Data Shape after compute_1d_moments: (11567, 11911)\n"
     ]
    },
    {
     "name": "stderr",
     "output_type": "stream",
     "text": [
      "[Parallel(n_jobs=36)]: Using backend LokyBackend with 36 concurrent workers.\n",
      "[Parallel(n_jobs=36)]: Done 177 tasks      | elapsed:    7.6s\n",
      "[Parallel(n_jobs=36)]: Done 450 tasks      | elapsed:   16.7s\n",
      "[Parallel(n_jobs=36)]: Done 800 tasks      | elapsed:   29.0s\n",
      "[Parallel(n_jobs=36)]: Done 1250 tasks      | elapsed:   46.8s\n",
      "[Parallel(n_jobs=36)]: Done 1800 tasks      | elapsed:  1.1min\n",
      "[Parallel(n_jobs=36)]: Done 2450 tasks      | elapsed:  1.5min\n",
      "[Parallel(n_jobs=36)]: Done 3200 tasks      | elapsed:  1.9min\n",
      "[Parallel(n_jobs=36)]: Done 4050 tasks      | elapsed:  2.4min\n",
      "[Parallel(n_jobs=36)]: Done 5000 tasks      | elapsed:  2.9min\n",
      "[Parallel(n_jobs=36)]: Done 6050 tasks      | elapsed:  3.4min\n",
      "[Parallel(n_jobs=36)]: Done 7200 tasks      | elapsed:  4.1min\n",
      "[Parallel(n_jobs=36)]: Done 8450 tasks      | elapsed:  4.8min\n",
      "[Parallel(n_jobs=36)]: Done 9800 tasks      | elapsed:  5.6min\n",
      "[Parallel(n_jobs=36)]: Done 11250 tasks      | elapsed:  6.4min\n",
      "[Parallel(n_jobs=36)]: Done 11911 out of 11911 | elapsed:  6.8min finished\n"
     ]
    },
    {
     "name": "stdout",
     "output_type": "stream",
     "text": [
      "2h_Ket_10 vs ctrl\n",
      "Data Shape: (2763, 24181)\n",
      "Data Shape after compute_1d_moments: (2763, 12150)\n"
     ]
    },
    {
     "name": "stderr",
     "output_type": "stream",
     "text": [
      "[Parallel(n_jobs=36)]: Using backend LokyBackend with 36 concurrent workers.\n",
      "[Parallel(n_jobs=36)]: Done 184 tasks      | elapsed:    1.9s\n",
      "[Parallel(n_jobs=36)]: Done 684 tasks      | elapsed:    6.0s\n",
      "[Parallel(n_jobs=36)]: Done 1384 tasks      | elapsed:   11.8s\n",
      "[Parallel(n_jobs=36)]: Done 2284 tasks      | elapsed:   18.7s\n",
      "[Parallel(n_jobs=36)]: Done 3384 tasks      | elapsed:   27.4s\n",
      "[Parallel(n_jobs=36)]: Done 4684 tasks      | elapsed:   36.2s\n",
      "[Parallel(n_jobs=36)]: Done 6184 tasks      | elapsed:   47.3s\n",
      "[Parallel(n_jobs=36)]: Done 7884 tasks      | elapsed:  1.0min\n",
      "[Parallel(n_jobs=36)]: Done 9784 tasks      | elapsed:  1.3min\n",
      "[Parallel(n_jobs=36)]: Done 11884 tasks      | elapsed:  1.5min\n",
      "[Parallel(n_jobs=36)]: Done 12079 out of 12150 | elapsed:  1.6min remaining:    0.5s\n",
      "[Parallel(n_jobs=36)]: Done 12150 out of 12150 | elapsed:  1.6min finished\n"
     ]
    },
    {
     "name": "stdout",
     "output_type": "stream",
     "text": [
      "2h_Ket_11 vs ctrl\n",
      "Data Shape: (2693, 24181)\n",
      "Data Shape after compute_1d_moments: (2693, 11571)\n"
     ]
    },
    {
     "name": "stderr",
     "output_type": "stream",
     "text": [
      "[Parallel(n_jobs=36)]: Using backend LokyBackend with 36 concurrent workers.\n",
      "[Parallel(n_jobs=36)]: Done 184 tasks      | elapsed:    1.6s\n",
      "[Parallel(n_jobs=36)]: Done 684 tasks      | elapsed:    5.3s\n",
      "[Parallel(n_jobs=36)]: Done 1384 tasks      | elapsed:   10.5s\n",
      "[Parallel(n_jobs=36)]: Done 2284 tasks      | elapsed:   16.7s\n",
      "[Parallel(n_jobs=36)]: Done 3384 tasks      | elapsed:   24.4s\n",
      "[Parallel(n_jobs=36)]: Done 4684 tasks      | elapsed:   32.6s\n",
      "[Parallel(n_jobs=36)]: Done 6184 tasks      | elapsed:   42.6s\n",
      "[Parallel(n_jobs=36)]: Done 7884 tasks      | elapsed:   54.3s\n",
      "[Parallel(n_jobs=36)]: Done 9784 tasks      | elapsed:  1.1min\n",
      "[Parallel(n_jobs=36)]: Done 11571 out of 11571 | elapsed:  1.4min finished\n"
     ]
    },
    {
     "name": "stdout",
     "output_type": "stream",
     "text": [
      "2h_Ket_12 vs ctrl\n",
      "Data Shape: (2277, 24181)\n",
      "Data Shape after compute_1d_moments: (2277, 11607)\n"
     ]
    },
    {
     "name": "stderr",
     "output_type": "stream",
     "text": [
      "[Parallel(n_jobs=36)]: Using backend LokyBackend with 36 concurrent workers.\n",
      "[Parallel(n_jobs=36)]: Done 184 tasks      | elapsed:    1.3s\n",
      "[Parallel(n_jobs=36)]: Done 684 tasks      | elapsed:    4.2s\n",
      "[Parallel(n_jobs=36)]: Done 1384 tasks      | elapsed:    8.3s\n",
      "[Parallel(n_jobs=36)]: Done 2284 tasks      | elapsed:   13.1s\n",
      "[Parallel(n_jobs=36)]: Done 3384 tasks      | elapsed:   18.9s\n",
      "[Parallel(n_jobs=36)]: Done 4684 tasks      | elapsed:   25.4s\n",
      "[Parallel(n_jobs=36)]: Done 6184 tasks      | elapsed:   33.2s\n",
      "[Parallel(n_jobs=36)]: Done 7884 tasks      | elapsed:   42.4s\n",
      "[Parallel(n_jobs=36)]: Done 9784 tasks      | elapsed:   53.3s\n",
      "[Parallel(n_jobs=36)]: Done 11536 out of 11607 | elapsed:  1.0min remaining:    0.4s\n",
      "[Parallel(n_jobs=36)]: Done 11607 out of 11607 | elapsed:  1.1min finished\n"
     ]
    },
    {
     "name": "stdout",
     "output_type": "stream",
     "text": [
      "2h_Ket_13 vs ctrl\n",
      "Data Shape: (2394, 24181)\n",
      "Data Shape after compute_1d_moments: (2394, 9045)\n"
     ]
    },
    {
     "name": "stderr",
     "output_type": "stream",
     "text": [
      "[Parallel(n_jobs=36)]: Using backend LokyBackend with 36 concurrent workers.\n",
      "[Parallel(n_jobs=36)]: Done 186 tasks      | elapsed:    0.9s\n",
      "[Parallel(n_jobs=36)]: Done 684 tasks      | elapsed:    2.9s\n",
      "[Parallel(n_jobs=36)]: Done 1384 tasks      | elapsed:    5.7s\n",
      "[Parallel(n_jobs=36)]: Done 2284 tasks      | elapsed:    9.2s\n",
      "[Parallel(n_jobs=36)]: Done 3384 tasks      | elapsed:   13.1s\n",
      "[Parallel(n_jobs=36)]: Done 4684 tasks      | elapsed:   17.8s\n",
      "[Parallel(n_jobs=36)]: Done 6184 tasks      | elapsed:   23.4s\n",
      "[Parallel(n_jobs=36)]: Done 7884 tasks      | elapsed:   30.3s\n",
      "[Parallel(n_jobs=36)]: Done 9045 out of 9045 | elapsed:   35.2s finished\n"
     ]
    },
    {
     "name": "stdout",
     "output_type": "stream",
     "text": [
      "2h_Ket_14 vs ctrl\n",
      "Data Shape: (1694, 24181)\n",
      "Data Shape after compute_1d_moments: (1694, 11899)\n"
     ]
    },
    {
     "name": "stderr",
     "output_type": "stream",
     "text": [
      "[Parallel(n_jobs=36)]: Using backend LokyBackend with 36 concurrent workers.\n",
      "[Parallel(n_jobs=36)]: Done 184 tasks      | elapsed:    1.2s\n",
      "[Parallel(n_jobs=36)]: Done 684 tasks      | elapsed:    3.7s\n",
      "[Parallel(n_jobs=36)]: Done 1384 tasks      | elapsed:    7.2s\n",
      "[Parallel(n_jobs=36)]: Done 2284 tasks      | elapsed:   11.4s\n",
      "[Parallel(n_jobs=36)]: Done 3384 tasks      | elapsed:   16.7s\n",
      "[Parallel(n_jobs=36)]: Done 4684 tasks      | elapsed:   22.4s\n",
      "[Parallel(n_jobs=36)]: Done 6184 tasks      | elapsed:   29.3s\n",
      "[Parallel(n_jobs=36)]: Done 7884 tasks      | elapsed:   37.6s\n",
      "[Parallel(n_jobs=36)]: Done 9784 tasks      | elapsed:   46.8s\n",
      "[Parallel(n_jobs=36)]: Done 11899 out of 11899 | elapsed:   57.7s finished\n"
     ]
    },
    {
     "name": "stdout",
     "output_type": "stream",
     "text": [
      "2h_Ket_15 vs ctrl\n",
      "Data Shape: (882, 24181)\n",
      "Data Shape after compute_1d_moments: (882, 11972)\n"
     ]
    },
    {
     "name": "stderr",
     "output_type": "stream",
     "text": [
      "[Parallel(n_jobs=36)]: Using backend LokyBackend with 36 concurrent workers.\n",
      "[Parallel(n_jobs=36)]: Done 184 tasks      | elapsed:    1.0s\n",
      "[Parallel(n_jobs=36)]: Done 684 tasks      | elapsed:    2.6s\n",
      "[Parallel(n_jobs=36)]: Done 1384 tasks      | elapsed:    4.9s\n",
      "[Parallel(n_jobs=36)]: Done 2284 tasks      | elapsed:    7.8s\n",
      "[Parallel(n_jobs=36)]: Done 3384 tasks      | elapsed:   11.2s\n",
      "[Parallel(n_jobs=36)]: Done 4684 tasks      | elapsed:   15.0s\n",
      "[Parallel(n_jobs=36)]: Done 6184 tasks      | elapsed:   19.5s\n",
      "[Parallel(n_jobs=36)]: Done 7884 tasks      | elapsed:   25.1s\n",
      "[Parallel(n_jobs=36)]: Done 9784 tasks      | elapsed:   31.2s\n",
      "[Parallel(n_jobs=36)]: Done 11972 out of 11972 | elapsed:   38.3s finished\n"
     ]
    },
    {
     "name": "stdout",
     "output_type": "stream",
     "text": [
      "2h_Ket_16 vs ctrl\n",
      "Data Shape: (537, 24181)\n",
      "Data Shape after compute_1d_moments: (537, 11931)\n"
     ]
    },
    {
     "name": "stderr",
     "output_type": "stream",
     "text": [
      "[Parallel(n_jobs=36)]: Using backend LokyBackend with 36 concurrent workers.\n",
      "[Parallel(n_jobs=36)]: Done 184 tasks      | elapsed:    0.4s\n",
      "[Parallel(n_jobs=36)]: Done 1152 tasks      | elapsed:    2.4s\n",
      "[Parallel(n_jobs=36)]: Done 2552 tasks      | elapsed:    5.1s\n",
      "[Parallel(n_jobs=36)]: Done 4352 tasks      | elapsed:    8.5s\n",
      "[Parallel(n_jobs=36)]: Done 6552 tasks      | elapsed:   12.4s\n",
      "[Parallel(n_jobs=36)]: Done 9152 tasks      | elapsed:   17.5s\n",
      "[Parallel(n_jobs=36)]: Done 11860 out of 11931 | elapsed:   22.6s remaining:    0.1s\n",
      "[Parallel(n_jobs=36)]: Done 11931 out of 11931 | elapsed:   23.0s finished\n"
     ]
    },
    {
     "name": "stdout",
     "output_type": "stream",
     "text": [
      "2h_Ket_17 vs ctrl\n",
      "Data Shape: (724, 24181)\n",
      "Data Shape after compute_1d_moments: (724, 10441)\n"
     ]
    },
    {
     "name": "stderr",
     "output_type": "stream",
     "text": [
      "[Parallel(n_jobs=36)]: Using backend LokyBackend with 36 concurrent workers.\n",
      "[Parallel(n_jobs=36)]: Done 184 tasks      | elapsed:    0.5s\n",
      "[Parallel(n_jobs=36)]: Done 1152 tasks      | elapsed:    2.7s\n",
      "[Parallel(n_jobs=36)]: Done 2552 tasks      | elapsed:    5.7s\n",
      "[Parallel(n_jobs=36)]: Done 4352 tasks      | elapsed:    9.4s\n",
      "[Parallel(n_jobs=36)]: Done 6552 tasks      | elapsed:   13.9s\n",
      "[Parallel(n_jobs=36)]: Done 9152 tasks      | elapsed:   19.3s\n",
      "[Parallel(n_jobs=36)]: Done 10441 out of 10441 | elapsed:   22.3s finished\n"
     ]
    },
    {
     "name": "stdout",
     "output_type": "stream",
     "text": [
      "2h_Ket_18 vs ctrl\n",
      "Data Shape: (255, 24181)\n",
      "Data Shape after compute_1d_moments: (255, 9285)\n"
     ]
    },
    {
     "name": "stderr",
     "output_type": "stream",
     "text": [
      "[Parallel(n_jobs=36)]: Using backend LokyBackend with 36 concurrent workers.\n",
      "[Parallel(n_jobs=36)]: Done 184 tasks      | elapsed:    0.3s\n",
      "[Parallel(n_jobs=36)]: Done 1152 tasks      | elapsed:    1.7s\n",
      "[Parallel(n_jobs=36)]: Done 2552 tasks      | elapsed:    3.5s\n",
      "[Parallel(n_jobs=36)]: Done 4352 tasks      | elapsed:    5.7s\n",
      "[Parallel(n_jobs=36)]: Done 6552 tasks      | elapsed:    8.4s\n",
      "[Parallel(n_jobs=36)]: Done 9104 tasks      | elapsed:   11.8s\n",
      "[Parallel(n_jobs=36)]: Done 9214 out of 9285 | elapsed:   11.9s remaining:    0.1s\n",
      "[Parallel(n_jobs=36)]: Done 9285 out of 9285 | elapsed:   12.1s finished\n"
     ]
    },
    {
     "name": "stdout",
     "output_type": "stream",
     "text": [
      "2h_Ket_19 vs ctrl\n",
      "Data Shape: (363, 24181)\n",
      "Data Shape after compute_1d_moments: (363, 9577)\n"
     ]
    },
    {
     "name": "stderr",
     "output_type": "stream",
     "text": [
      "[Parallel(n_jobs=36)]: Using backend LokyBackend with 36 concurrent workers.\n",
      "[Parallel(n_jobs=36)]: Done 184 tasks      | elapsed:    0.4s\n",
      "[Parallel(n_jobs=36)]: Done 1152 tasks      | elapsed:    2.1s\n",
      "[Parallel(n_jobs=36)]: Done 2552 tasks      | elapsed:    4.3s\n",
      "[Parallel(n_jobs=36)]: Done 4352 tasks      | elapsed:    7.0s\n",
      "[Parallel(n_jobs=36)]: Done 6552 tasks      | elapsed:   10.6s\n",
      "[Parallel(n_jobs=36)]: Done 9152 tasks      | elapsed:   14.7s\n",
      "[Parallel(n_jobs=36)]: Done 9577 out of 9577 | elapsed:   15.5s finished\n"
     ]
    },
    {
     "name": "stdout",
     "output_type": "stream",
     "text": [
      "2h_Ket_2 vs ctrl\n",
      "Data Shape: (10186, 24181)\n",
      "Data Shape after compute_1d_moments: (10186, 12291)\n"
     ]
    },
    {
     "name": "stderr",
     "output_type": "stream",
     "text": [
      "[Parallel(n_jobs=36)]: Using backend LokyBackend with 36 concurrent workers.\n",
      "[Parallel(n_jobs=36)]: Done 177 tasks      | elapsed:    7.1s\n",
      "[Parallel(n_jobs=36)]: Done 450 tasks      | elapsed:   15.3s\n",
      "[Parallel(n_jobs=36)]: Done 800 tasks      | elapsed:   26.8s\n",
      "[Parallel(n_jobs=36)]: Done 1250 tasks      | elapsed:   42.7s\n",
      "[Parallel(n_jobs=36)]: Done 1800 tasks      | elapsed:   59.4s\n",
      "[Parallel(n_jobs=36)]: Done 2450 tasks      | elapsed:  1.3min\n",
      "[Parallel(n_jobs=36)]: Done 3200 tasks      | elapsed:  1.7min\n",
      "[Parallel(n_jobs=36)]: Done 4050 tasks      | elapsed:  2.2min\n",
      "[Parallel(n_jobs=36)]: Done 5000 tasks      | elapsed:  2.6min\n",
      "[Parallel(n_jobs=36)]: Done 6050 tasks      | elapsed:  3.1min\n",
      "[Parallel(n_jobs=36)]: Done 7200 tasks      | elapsed:  3.7min\n",
      "[Parallel(n_jobs=36)]: Done 8450 tasks      | elapsed:  4.4min\n",
      "[Parallel(n_jobs=36)]: Done 9800 tasks      | elapsed:  5.1min\n",
      "[Parallel(n_jobs=36)]: Done 11250 tasks      | elapsed:  5.8min\n",
      "[Parallel(n_jobs=36)]: Done 12291 out of 12291 | elapsed:  6.4min finished\n"
     ]
    },
    {
     "name": "stdout",
     "output_type": "stream",
     "text": [
      "2h_Ket_20 vs ctrl\n",
      "Data Shape: (126, 24181)\n",
      "Data Shape after compute_1d_moments: (126, 10750)\n"
     ]
    },
    {
     "name": "stderr",
     "output_type": "stream",
     "text": [
      "[Parallel(n_jobs=36)]: Using backend LokyBackend with 36 concurrent workers.\n",
      "[Parallel(n_jobs=36)]: Done 184 tasks      | elapsed:    0.3s\n",
      "[Parallel(n_jobs=36)]: Done 1800 tasks      | elapsed:    2.1s\n",
      "[Parallel(n_jobs=36)]: Done 4600 tasks      | elapsed:    5.0s\n",
      "[Parallel(n_jobs=36)]: Done 8200 tasks      | elapsed:    8.9s\n",
      "[Parallel(n_jobs=36)]: Done 10679 out of 10750 | elapsed:   11.3s remaining:    0.1s\n",
      "[Parallel(n_jobs=36)]: Done 10750 out of 10750 | elapsed:   11.5s finished\n"
     ]
    },
    {
     "name": "stdout",
     "output_type": "stream",
     "text": [
      "2h_Ket_21 vs ctrl\n",
      "Skipping 2h_Ket_21, < 100 cells\n",
      "2h_Ket_3 vs ctrl\n",
      "Data Shape: (7219, 24181)\n",
      "Data Shape after compute_1d_moments: (7219, 12650)\n"
     ]
    },
    {
     "name": "stderr",
     "output_type": "stream",
     "text": [
      "[Parallel(n_jobs=36)]: Using backend LokyBackend with 36 concurrent workers.\n",
      "[Parallel(n_jobs=36)]: Done 184 tasks      | elapsed:    5.9s\n",
      "[Parallel(n_jobs=36)]: Done 486 tasks      | elapsed:   13.3s\n",
      "[Parallel(n_jobs=36)]: Done 836 tasks      | elapsed:   22.2s\n",
      "[Parallel(n_jobs=36)]: Done 1286 tasks      | elapsed:   34.4s\n",
      "[Parallel(n_jobs=36)]: Done 1836 tasks      | elapsed:   48.2s\n",
      "[Parallel(n_jobs=36)]: Done 2486 tasks      | elapsed:  1.1min\n",
      "[Parallel(n_jobs=36)]: Done 3236 tasks      | elapsed:  1.4min\n",
      "[Parallel(n_jobs=36)]: Done 4086 tasks      | elapsed:  1.7min\n",
      "[Parallel(n_jobs=36)]: Done 5036 tasks      | elapsed:  2.1min\n",
      "[Parallel(n_jobs=36)]: Done 6086 tasks      | elapsed:  2.5min\n",
      "[Parallel(n_jobs=36)]: Done 7236 tasks      | elapsed:  3.0min\n",
      "[Parallel(n_jobs=36)]: Done 8486 tasks      | elapsed:  3.5min\n",
      "[Parallel(n_jobs=36)]: Done 9836 tasks      | elapsed:  4.1min\n",
      "[Parallel(n_jobs=36)]: Done 11286 tasks      | elapsed:  4.7min\n",
      "[Parallel(n_jobs=36)]: Done 12650 out of 12650 | elapsed:  5.3min finished\n"
     ]
    },
    {
     "name": "stdout",
     "output_type": "stream",
     "text": [
      "2h_Ket_4 vs ctrl\n",
      "Data Shape: (6818, 24181)\n",
      "Data Shape after compute_1d_moments: (6818, 9253)\n"
     ]
    },
    {
     "name": "stderr",
     "output_type": "stream",
     "text": [
      "[Parallel(n_jobs=36)]: Using backend LokyBackend with 36 concurrent workers.\n",
      "[Parallel(n_jobs=36)]: Done 185 tasks      | elapsed:    2.0s\n",
      "[Parallel(n_jobs=36)]: Done 653 tasks      | elapsed:    7.1s\n",
      "[Parallel(n_jobs=36)]: Done 1016 tasks      | elapsed:   11.3s\n",
      "[Parallel(n_jobs=36)]: Done 1466 tasks      | elapsed:   16.1s\n",
      "[Parallel(n_jobs=36)]: Done 2016 tasks      | elapsed:   21.6s\n",
      "[Parallel(n_jobs=36)]: Done 2666 tasks      | elapsed:   28.2s\n",
      "[Parallel(n_jobs=36)]: Done 3416 tasks      | elapsed:   35.5s\n",
      "[Parallel(n_jobs=36)]: Done 4266 tasks      | elapsed:   43.0s\n",
      "[Parallel(n_jobs=36)]: Done 5216 tasks      | elapsed:   53.0s\n",
      "[Parallel(n_jobs=36)]: Done 6266 tasks      | elapsed:  1.1min\n",
      "[Parallel(n_jobs=36)]: Done 7416 tasks      | elapsed:  1.3min\n",
      "[Parallel(n_jobs=36)]: Done 8666 tasks      | elapsed:  1.5min\n",
      "[Parallel(n_jobs=36)]: Done 9253 out of 9253 | elapsed:  1.6min finished\n"
     ]
    },
    {
     "name": "stdout",
     "output_type": "stream",
     "text": [
      "2h_Ket_5 vs ctrl\n",
      "Data Shape: (6064, 24181)\n",
      "Data Shape after compute_1d_moments: (6064, 12514)\n"
     ]
    },
    {
     "name": "stderr",
     "output_type": "stream",
     "text": [
      "[Parallel(n_jobs=36)]: Using backend LokyBackend with 36 concurrent workers.\n",
      "[Parallel(n_jobs=36)]: Done 184 tasks      | elapsed:    4.9s\n",
      "[Parallel(n_jobs=36)]: Done 486 tasks      | elapsed:   10.5s\n",
      "[Parallel(n_jobs=36)]: Done 836 tasks      | elapsed:   17.8s\n",
      "[Parallel(n_jobs=36)]: Done 1286 tasks      | elapsed:   27.8s\n",
      "[Parallel(n_jobs=36)]: Done 1836 tasks      | elapsed:   38.5s\n",
      "[Parallel(n_jobs=36)]: Done 2486 tasks      | elapsed:   51.3s\n",
      "[Parallel(n_jobs=36)]: Done 3236 tasks      | elapsed:  1.1min\n",
      "[Parallel(n_jobs=36)]: Done 4086 tasks      | elapsed:  1.4min\n",
      "[Parallel(n_jobs=36)]: Done 5036 tasks      | elapsed:  1.6min\n",
      "[Parallel(n_jobs=36)]: Done 6086 tasks      | elapsed:  2.0min\n",
      "[Parallel(n_jobs=36)]: Done 7236 tasks      | elapsed:  2.4min\n",
      "[Parallel(n_jobs=36)]: Done 8486 tasks      | elapsed:  2.8min\n",
      "[Parallel(n_jobs=36)]: Done 9836 tasks      | elapsed:  3.3min\n",
      "[Parallel(n_jobs=36)]: Done 11286 tasks      | elapsed:  3.7min\n",
      "[Parallel(n_jobs=36)]: Done 12514 out of 12514 | elapsed:  4.1min finished\n"
     ]
    },
    {
     "name": "stdout",
     "output_type": "stream",
     "text": [
      "2h_Ket_6 vs ctrl\n",
      "Data Shape: (4171, 24181)\n",
      "Data Shape after compute_1d_moments: (4171, 10569)\n"
     ]
    },
    {
     "name": "stderr",
     "output_type": "stream",
     "text": [
      "[Parallel(n_jobs=36)]: Using backend LokyBackend with 36 concurrent workers.\n",
      "[Parallel(n_jobs=36)]: Done 185 tasks      | elapsed:    1.7s\n",
      "[Parallel(n_jobs=36)]: Done 684 tasks      | elapsed:    5.6s\n",
      "[Parallel(n_jobs=36)]: Done 1266 tasks      | elapsed:    9.7s\n",
      "[Parallel(n_jobs=36)]: Done 1718 tasks      | elapsed:   12.7s\n",
      "[Parallel(n_jobs=36)]: Done 2268 tasks      | elapsed:   16.4s\n",
      "[Parallel(n_jobs=36)]: Done 2918 tasks      | elapsed:   20.9s\n",
      "[Parallel(n_jobs=36)]: Done 3668 tasks      | elapsed:   25.9s\n",
      "[Parallel(n_jobs=36)]: Done 4518 tasks      | elapsed:   31.2s\n",
      "[Parallel(n_jobs=36)]: Done 5468 tasks      | elapsed:   37.1s\n",
      "[Parallel(n_jobs=36)]: Done 6518 tasks      | elapsed:   44.7s\n",
      "[Parallel(n_jobs=36)]: Done 7668 tasks      | elapsed:   53.1s\n",
      "[Parallel(n_jobs=36)]: Done 8918 tasks      | elapsed:  1.0min\n",
      "[Parallel(n_jobs=36)]: Done 10268 tasks      | elapsed:  1.2min\n",
      "[Parallel(n_jobs=36)]: Done 10569 out of 10569 | elapsed:  1.3min finished\n"
     ]
    },
    {
     "name": "stdout",
     "output_type": "stream",
     "text": [
      "2h_Ket_7 vs ctrl\n",
      "Data Shape: (4133, 24181)\n",
      "Data Shape after compute_1d_moments: (4133, 12801)\n"
     ]
    },
    {
     "name": "stderr",
     "output_type": "stream",
     "text": [
      "[Parallel(n_jobs=36)]: Using backend LokyBackend with 36 concurrent workers.\n",
      "[Parallel(n_jobs=36)]: Done 184 tasks      | elapsed:    3.6s\n",
      "[Parallel(n_jobs=36)]: Done 486 tasks      | elapsed:    8.5s\n",
      "[Parallel(n_jobs=36)]: Done 836 tasks      | elapsed:   14.1s\n",
      "[Parallel(n_jobs=36)]: Done 1286 tasks      | elapsed:   21.4s\n",
      "[Parallel(n_jobs=36)]: Done 1836 tasks      | elapsed:   30.3s\n",
      "[Parallel(n_jobs=36)]: Done 2486 tasks      | elapsed:   40.4s\n",
      "[Parallel(n_jobs=36)]: Done 3236 tasks      | elapsed:   52.3s\n",
      "[Parallel(n_jobs=36)]: Done 4086 tasks      | elapsed:  1.1min\n",
      "[Parallel(n_jobs=36)]: Done 5036 tasks      | elapsed:  1.3min\n",
      "[Parallel(n_jobs=36)]: Done 6086 tasks      | elapsed:  1.6min\n",
      "[Parallel(n_jobs=36)]: Done 7236 tasks      | elapsed:  1.9min\n",
      "[Parallel(n_jobs=36)]: Done 8486 tasks      | elapsed:  2.2min\n",
      "[Parallel(n_jobs=36)]: Done 9836 tasks      | elapsed:  2.6min\n",
      "[Parallel(n_jobs=36)]: Done 11286 tasks      | elapsed:  3.0min\n",
      "[Parallel(n_jobs=36)]: Done 12801 out of 12801 | elapsed:  3.4min finished\n"
     ]
    },
    {
     "name": "stdout",
     "output_type": "stream",
     "text": [
      "2h_Ket_8 vs ctrl\n",
      "Data Shape: (3900, 24181)\n",
      "Data Shape after compute_1d_moments: (3900, 12093)\n"
     ]
    },
    {
     "name": "stderr",
     "output_type": "stream",
     "text": [
      "[Parallel(n_jobs=36)]: Using backend LokyBackend with 36 concurrent workers.\n",
      "[Parallel(n_jobs=36)]: Done 184 tasks      | elapsed:    2.7s\n",
      "[Parallel(n_jobs=36)]: Done 558 tasks      | elapsed:    7.3s\n",
      "[Parallel(n_jobs=36)]: Done 908 tasks      | elapsed:   11.2s\n",
      "[Parallel(n_jobs=36)]: Done 1358 tasks      | elapsed:   17.4s\n",
      "[Parallel(n_jobs=36)]: Done 1908 tasks      | elapsed:   24.2s\n",
      "[Parallel(n_jobs=36)]: Done 2558 tasks      | elapsed:   31.7s\n",
      "[Parallel(n_jobs=36)]: Done 3308 tasks      | elapsed:   40.8s\n",
      "[Parallel(n_jobs=36)]: Done 4158 tasks      | elapsed:   50.6s\n",
      "[Parallel(n_jobs=36)]: Done 5108 tasks      | elapsed:  1.0min\n",
      "[Parallel(n_jobs=36)]: Done 6158 tasks      | elapsed:  1.2min\n",
      "[Parallel(n_jobs=36)]: Done 7308 tasks      | elapsed:  1.4min\n",
      "[Parallel(n_jobs=36)]: Done 8558 tasks      | elapsed:  1.7min\n",
      "[Parallel(n_jobs=36)]: Done 9908 tasks      | elapsed:  2.0min\n",
      "[Parallel(n_jobs=36)]: Done 11358 tasks      | elapsed:  2.2min\n",
      "[Parallel(n_jobs=36)]: Done 12093 out of 12093 | elapsed:  2.4min finished\n"
     ]
    },
    {
     "name": "stdout",
     "output_type": "stream",
     "text": [
      "2h_Ket_9 vs ctrl\n",
      "Data Shape: (3136, 24181)\n",
      "Data Shape after compute_1d_moments: (3136, 10534)\n"
     ]
    },
    {
     "name": "stderr",
     "output_type": "stream",
     "text": [
      "[Parallel(n_jobs=36)]: Using backend LokyBackend with 36 concurrent workers.\n",
      "[Parallel(n_jobs=36)]: Done 185 tasks      | elapsed:    1.4s\n",
      "[Parallel(n_jobs=36)]: Done 684 tasks      | elapsed:    4.4s\n",
      "[Parallel(n_jobs=36)]: Done 1384 tasks      | elapsed:    8.4s\n",
      "[Parallel(n_jobs=36)]: Done 2284 tasks      | elapsed:   13.6s\n",
      "[Parallel(n_jobs=36)]: Done 3384 tasks      | elapsed:   19.4s\n",
      "[Parallel(n_jobs=36)]: Done 4684 tasks      | elapsed:   25.9s\n",
      "[Parallel(n_jobs=36)]: Done 6184 tasks      | elapsed:   34.1s\n",
      "[Parallel(n_jobs=36)]: Done 7884 tasks      | elapsed:   43.4s\n",
      "[Parallel(n_jobs=36)]: Done 9784 tasks      | elapsed:   54.0s\n",
      "[Parallel(n_jobs=36)]: Done 10463 out of 10534 | elapsed:   57.5s remaining:    0.4s\n",
      "[Parallel(n_jobs=36)]: Done 10534 out of 10534 | elapsed:   58.7s finished\n"
     ]
    },
    {
     "name": "stdout",
     "output_type": "stream",
     "text": [
      "2h_Psilo_0 vs ctrl\n",
      "Data Shape: (11036, 24181)\n",
      "Data Shape after compute_1d_moments: (11036, 12524)\n"
     ]
    },
    {
     "name": "stderr",
     "output_type": "stream",
     "text": [
      "[Parallel(n_jobs=36)]: Using backend LokyBackend with 36 concurrent workers.\n",
      "[Parallel(n_jobs=36)]: Done 177 tasks      | elapsed:    8.5s\n",
      "[Parallel(n_jobs=36)]: Done 450 tasks      | elapsed:   18.0s\n",
      "[Parallel(n_jobs=36)]: Done 800 tasks      | elapsed:   31.0s\n",
      "[Parallel(n_jobs=36)]: Done 1250 tasks      | elapsed:   48.7s\n",
      "[Parallel(n_jobs=36)]: Done 1800 tasks      | elapsed:  1.2min\n",
      "[Parallel(n_jobs=36)]: Done 2450 tasks      | elapsed:  1.6min\n",
      "[Parallel(n_jobs=36)]: Done 3200 tasks      | elapsed:  2.0min\n",
      "[Parallel(n_jobs=36)]: Done 4050 tasks      | elapsed:  2.5min\n",
      "[Parallel(n_jobs=36)]: Done 5000 tasks      | elapsed:  3.0min\n",
      "[Parallel(n_jobs=36)]: Done 6050 tasks      | elapsed:  3.6min\n",
      "[Parallel(n_jobs=36)]: Done 7200 tasks      | elapsed:  4.3min\n",
      "[Parallel(n_jobs=36)]: Done 8450 tasks      | elapsed:  5.0min\n",
      "[Parallel(n_jobs=36)]: Done 9800 tasks      | elapsed:  5.9min\n",
      "[Parallel(n_jobs=36)]: Done 11250 tasks      | elapsed:  6.8min\n",
      "[Parallel(n_jobs=36)]: Done 12524 out of 12524 | elapsed:  7.5min finished\n"
     ]
    },
    {
     "name": "stdout",
     "output_type": "stream",
     "text": [
      "2h_Psilo_1 vs ctrl\n",
      "Data Shape: (9776, 24181)\n",
      "Data Shape after compute_1d_moments: (9776, 11991)\n"
     ]
    },
    {
     "name": "stderr",
     "output_type": "stream",
     "text": [
      "[Parallel(n_jobs=36)]: Using backend LokyBackend with 36 concurrent workers.\n",
      "[Parallel(n_jobs=36)]: Done 176 tasks      | elapsed:    6.5s\n",
      "[Parallel(n_jobs=36)]: Done 450 tasks      | elapsed:   14.4s\n",
      "[Parallel(n_jobs=36)]: Done 800 tasks      | elapsed:   24.9s\n",
      "[Parallel(n_jobs=36)]: Done 1250 tasks      | elapsed:   39.8s\n",
      "[Parallel(n_jobs=36)]: Done 1800 tasks      | elapsed:   55.5s\n",
      "[Parallel(n_jobs=36)]: Done 2450 tasks      | elapsed:  1.2min\n",
      "[Parallel(n_jobs=36)]: Done 3200 tasks      | elapsed:  1.6min\n",
      "[Parallel(n_jobs=36)]: Done 4050 tasks      | elapsed:  2.0min\n",
      "[Parallel(n_jobs=36)]: Done 5000 tasks      | elapsed:  2.4min\n",
      "[Parallel(n_jobs=36)]: Done 6050 tasks      | elapsed:  2.9min\n",
      "[Parallel(n_jobs=36)]: Done 7200 tasks      | elapsed:  3.4min\n",
      "[Parallel(n_jobs=36)]: Done 8450 tasks      | elapsed:  4.0min\n",
      "[Parallel(n_jobs=36)]: Done 9800 tasks      | elapsed:  4.7min\n",
      "[Parallel(n_jobs=36)]: Done 11250 tasks      | elapsed:  5.4min\n",
      "[Parallel(n_jobs=36)]: Done 11991 out of 11991 | elapsed:  5.8min finished\n"
     ]
    },
    {
     "name": "stdout",
     "output_type": "stream",
     "text": [
      "2h_Psilo_10 vs ctrl\n",
      "Data Shape: (2476, 24181)\n",
      "Data Shape after compute_1d_moments: (2476, 12230)\n"
     ]
    },
    {
     "name": "stderr",
     "output_type": "stream",
     "text": [
      "[Parallel(n_jobs=36)]: Using backend LokyBackend with 36 concurrent workers.\n",
      "[Parallel(n_jobs=36)]: Done 184 tasks      | elapsed:    1.7s\n",
      "[Parallel(n_jobs=36)]: Done 684 tasks      | elapsed:    5.4s\n",
      "[Parallel(n_jobs=36)]: Done 1384 tasks      | elapsed:   10.5s\n",
      "[Parallel(n_jobs=36)]: Done 2284 tasks      | elapsed:   16.9s\n",
      "[Parallel(n_jobs=36)]: Done 3384 tasks      | elapsed:   24.5s\n",
      "[Parallel(n_jobs=36)]: Done 4684 tasks      | elapsed:   32.5s\n",
      "[Parallel(n_jobs=36)]: Done 6184 tasks      | elapsed:   42.4s\n",
      "[Parallel(n_jobs=36)]: Done 7884 tasks      | elapsed:   54.5s\n",
      "[Parallel(n_jobs=36)]: Done 9784 tasks      | elapsed:  1.1min\n",
      "[Parallel(n_jobs=36)]: Done 11884 tasks      | elapsed:  1.4min\n",
      "[Parallel(n_jobs=36)]: Done 12159 out of 12230 | elapsed:  1.4min remaining:    0.5s\n",
      "[Parallel(n_jobs=36)]: Done 12230 out of 12230 | elapsed:  1.4min finished\n"
     ]
    },
    {
     "name": "stdout",
     "output_type": "stream",
     "text": [
      "2h_Psilo_11 vs ctrl\n",
      "Data Shape: (2417, 24181)\n",
      "Data Shape after compute_1d_moments: (2417, 11665)\n"
     ]
    },
    {
     "name": "stderr",
     "output_type": "stream",
     "text": [
      "[Parallel(n_jobs=36)]: Using backend LokyBackend with 36 concurrent workers.\n",
      "[Parallel(n_jobs=36)]: Done 184 tasks      | elapsed:    1.5s\n",
      "[Parallel(n_jobs=36)]: Done 684 tasks      | elapsed:    5.0s\n",
      "[Parallel(n_jobs=36)]: Done 1384 tasks      | elapsed:    9.9s\n",
      "[Parallel(n_jobs=36)]: Done 2284 tasks      | elapsed:   15.6s\n",
      "[Parallel(n_jobs=36)]: Done 3384 tasks      | elapsed:   22.6s\n",
      "[Parallel(n_jobs=36)]: Done 4684 tasks      | elapsed:   30.1s\n",
      "[Parallel(n_jobs=36)]: Done 6184 tasks      | elapsed:   39.5s\n",
      "[Parallel(n_jobs=36)]: Done 7884 tasks      | elapsed:   50.2s\n",
      "[Parallel(n_jobs=36)]: Done 9784 tasks      | elapsed:  1.0min\n",
      "[Parallel(n_jobs=36)]: Done 11594 out of 11665 | elapsed:  1.2min remaining:    0.5s\n",
      "[Parallel(n_jobs=36)]: Done 11665 out of 11665 | elapsed:  1.3min finished\n"
     ]
    },
    {
     "name": "stdout",
     "output_type": "stream",
     "text": [
      "2h_Psilo_12 vs ctrl\n",
      "Data Shape: (2084, 24181)\n",
      "Data Shape after compute_1d_moments: (2084, 11729)\n"
     ]
    },
    {
     "name": "stderr",
     "output_type": "stream",
     "text": [
      "[Parallel(n_jobs=36)]: Using backend LokyBackend with 36 concurrent workers.\n",
      "[Parallel(n_jobs=36)]: Done 184 tasks      | elapsed:    1.2s\n",
      "[Parallel(n_jobs=36)]: Done 684 tasks      | elapsed:    4.1s\n",
      "[Parallel(n_jobs=36)]: Done 1384 tasks      | elapsed:    8.0s\n",
      "[Parallel(n_jobs=36)]: Done 2284 tasks      | elapsed:   12.4s\n",
      "[Parallel(n_jobs=36)]: Done 3384 tasks      | elapsed:   18.0s\n",
      "[Parallel(n_jobs=36)]: Done 4684 tasks      | elapsed:   23.9s\n",
      "[Parallel(n_jobs=36)]: Done 6184 tasks      | elapsed:   31.2s\n",
      "[Parallel(n_jobs=36)]: Done 7884 tasks      | elapsed:   39.8s\n",
      "[Parallel(n_jobs=36)]: Done 9784 tasks      | elapsed:   49.7s\n",
      "[Parallel(n_jobs=36)]: Done 11658 out of 11729 | elapsed:   59.1s remaining:    0.4s\n",
      "[Parallel(n_jobs=36)]: Done 11729 out of 11729 | elapsed:  1.0min finished\n"
     ]
    },
    {
     "name": "stdout",
     "output_type": "stream",
     "text": [
      "2h_Psilo_13 vs ctrl\n",
      "Data Shape: (2556, 24181)\n",
      "Data Shape after compute_1d_moments: (2556, 9246)\n"
     ]
    },
    {
     "name": "stderr",
     "output_type": "stream",
     "text": [
      "[Parallel(n_jobs=36)]: Using backend LokyBackend with 36 concurrent workers.\n",
      "[Parallel(n_jobs=36)]: Done 187 tasks      | elapsed:    0.9s\n",
      "[Parallel(n_jobs=36)]: Done 684 tasks      | elapsed:    2.9s\n",
      "[Parallel(n_jobs=36)]: Done 1384 tasks      | elapsed:    5.7s\n",
      "[Parallel(n_jobs=36)]: Done 2284 tasks      | elapsed:    9.3s\n",
      "[Parallel(n_jobs=36)]: Done 3384 tasks      | elapsed:   13.6s\n",
      "[Parallel(n_jobs=36)]: Done 4684 tasks      | elapsed:   18.2s\n",
      "[Parallel(n_jobs=36)]: Done 6184 tasks      | elapsed:   24.1s\n",
      "[Parallel(n_jobs=36)]: Done 7884 tasks      | elapsed:   31.5s\n",
      "[Parallel(n_jobs=36)]: Done 9175 out of 9246 | elapsed:   36.4s remaining:    0.3s\n",
      "[Parallel(n_jobs=36)]: Done 9246 out of 9246 | elapsed:   37.1s finished\n"
     ]
    },
    {
     "name": "stdout",
     "output_type": "stream",
     "text": [
      "2h_Psilo_14 vs ctrl\n",
      "Data Shape: (1589, 24181)\n",
      "Data Shape after compute_1d_moments: (1589, 12010)\n"
     ]
    },
    {
     "name": "stderr",
     "output_type": "stream",
     "text": [
      "[Parallel(n_jobs=36)]: Using backend LokyBackend with 36 concurrent workers.\n",
      "[Parallel(n_jobs=36)]: Done 185 tasks      | elapsed:    1.2s\n",
      "[Parallel(n_jobs=36)]: Done 684 tasks      | elapsed:    3.6s\n",
      "[Parallel(n_jobs=36)]: Done 1384 tasks      | elapsed:    6.8s\n",
      "[Parallel(n_jobs=36)]: Done 2284 tasks      | elapsed:   10.7s\n",
      "[Parallel(n_jobs=36)]: Done 3384 tasks      | elapsed:   15.7s\n",
      "[Parallel(n_jobs=36)]: Done 4684 tasks      | elapsed:   21.1s\n",
      "[Parallel(n_jobs=36)]: Done 6184 tasks      | elapsed:   27.5s\n",
      "[Parallel(n_jobs=36)]: Done 7884 tasks      | elapsed:   35.2s\n",
      "[Parallel(n_jobs=36)]: Done 9784 tasks      | elapsed:   43.9s\n",
      "[Parallel(n_jobs=36)]: Done 11884 tasks      | elapsed:   53.5s\n",
      "[Parallel(n_jobs=36)]: Done 12010 out of 12010 | elapsed:   54.7s finished\n"
     ]
    },
    {
     "name": "stdout",
     "output_type": "stream",
     "text": [
      "2h_Psilo_15 vs ctrl\n",
      "Data Shape: (720, 24181)\n",
      "Data Shape after compute_1d_moments: (720, 11800)\n"
     ]
    },
    {
     "name": "stderr",
     "output_type": "stream",
     "text": [
      "[Parallel(n_jobs=36)]: Using backend LokyBackend with 36 concurrent workers.\n",
      "[Parallel(n_jobs=36)]: Done 184 tasks      | elapsed:    0.7s\n",
      "[Parallel(n_jobs=36)]: Done 684 tasks      | elapsed:    2.0s\n",
      "[Parallel(n_jobs=36)]: Done 1384 tasks      | elapsed:    4.0s\n",
      "[Parallel(n_jobs=36)]: Done 2284 tasks      | elapsed:    6.4s\n",
      "[Parallel(n_jobs=36)]: Done 3384 tasks      | elapsed:    9.4s\n",
      "[Parallel(n_jobs=36)]: Done 4684 tasks      | elapsed:   12.7s\n",
      "[Parallel(n_jobs=36)]: Done 6184 tasks      | elapsed:   16.8s\n",
      "[Parallel(n_jobs=36)]: Done 7884 tasks      | elapsed:   21.4s\n",
      "[Parallel(n_jobs=36)]: Done 9784 tasks      | elapsed:   26.6s\n",
      "[Parallel(n_jobs=36)]: Done 11729 out of 11800 | elapsed:   31.8s remaining:    0.2s\n",
      "[Parallel(n_jobs=36)]: Done 11800 out of 11800 | elapsed:   32.4s finished\n"
     ]
    },
    {
     "name": "stdout",
     "output_type": "stream",
     "text": [
      "2h_Psilo_16 vs ctrl\n",
      "Data Shape: (487, 24181)\n",
      "Data Shape after compute_1d_moments: (487, 11514)\n"
     ]
    },
    {
     "name": "stderr",
     "output_type": "stream",
     "text": [
      "[Parallel(n_jobs=36)]: Using backend LokyBackend with 36 concurrent workers.\n",
      "[Parallel(n_jobs=36)]: Done 184 tasks      | elapsed:    0.4s\n",
      "[Parallel(n_jobs=36)]: Done 1152 tasks      | elapsed:    2.1s\n",
      "[Parallel(n_jobs=36)]: Done 2552 tasks      | elapsed:    4.4s\n",
      "[Parallel(n_jobs=36)]: Done 4352 tasks      | elapsed:    7.3s\n",
      "[Parallel(n_jobs=36)]: Done 6552 tasks      | elapsed:   11.1s\n",
      "[Parallel(n_jobs=36)]: Done 9152 tasks      | elapsed:   15.4s\n",
      "[Parallel(n_jobs=36)]: Done 11443 out of 11514 | elapsed:   19.1s remaining:    0.1s\n",
      "[Parallel(n_jobs=36)]: Done 11514 out of 11514 | elapsed:   20.2s finished\n"
     ]
    },
    {
     "name": "stdout",
     "output_type": "stream",
     "text": [
      "2h_Psilo_17 vs ctrl\n",
      "Data Shape: (690, 24181)\n",
      "Data Shape after compute_1d_moments: (690, 10799)\n"
     ]
    },
    {
     "name": "stderr",
     "output_type": "stream",
     "text": [
      "[Parallel(n_jobs=36)]: Using backend LokyBackend with 36 concurrent workers.\n",
      "[Parallel(n_jobs=36)]: Done 184 tasks      | elapsed:    0.5s\n",
      "[Parallel(n_jobs=36)]: Done 1152 tasks      | elapsed:    2.6s\n",
      "[Parallel(n_jobs=36)]: Done 2552 tasks      | elapsed:    5.6s\n",
      "[Parallel(n_jobs=36)]: Done 4352 tasks      | elapsed:    9.1s\n",
      "[Parallel(n_jobs=36)]: Done 6552 tasks      | elapsed:   13.3s\n",
      "[Parallel(n_jobs=36)]: Done 9152 tasks      | elapsed:   18.7s\n",
      "[Parallel(n_jobs=36)]: Done 10799 out of 10799 | elapsed:   22.2s finished\n"
     ]
    },
    {
     "name": "stdout",
     "output_type": "stream",
     "text": [
      "2h_Psilo_18 vs ctrl\n",
      "Data Shape: (274, 24181)\n",
      "Data Shape after compute_1d_moments: (274, 10019)\n"
     ]
    },
    {
     "name": "stderr",
     "output_type": "stream",
     "text": [
      "[Parallel(n_jobs=36)]: Using backend LokyBackend with 36 concurrent workers.\n",
      "[Parallel(n_jobs=36)]: Done 184 tasks      | elapsed:    0.3s\n",
      "[Parallel(n_jobs=36)]: Done 1152 tasks      | elapsed:    1.7s\n",
      "[Parallel(n_jobs=36)]: Done 2552 tasks      | elapsed:    3.5s\n",
      "[Parallel(n_jobs=36)]: Done 4352 tasks      | elapsed:    5.9s\n",
      "[Parallel(n_jobs=36)]: Done 6552 tasks      | elapsed:    9.0s\n",
      "[Parallel(n_jobs=36)]: Done 9152 tasks      | elapsed:   12.5s\n",
      "[Parallel(n_jobs=36)]: Done 10019 out of 10019 | elapsed:   14.1s finished\n"
     ]
    },
    {
     "name": "stdout",
     "output_type": "stream",
     "text": [
      "2h_Psilo_19 vs ctrl\n",
      "Data Shape: (359, 24181)\n",
      "Data Shape after compute_1d_moments: (359, 9869)\n"
     ]
    },
    {
     "name": "stderr",
     "output_type": "stream",
     "text": [
      "[Parallel(n_jobs=36)]: Using backend LokyBackend with 36 concurrent workers.\n",
      "[Parallel(n_jobs=36)]: Done 184 tasks      | elapsed:    0.4s\n",
      "[Parallel(n_jobs=36)]: Done 1152 tasks      | elapsed:    2.0s\n",
      "[Parallel(n_jobs=36)]: Done 2552 tasks      | elapsed:    4.1s\n",
      "[Parallel(n_jobs=36)]: Done 4352 tasks      | elapsed:    6.9s\n",
      "[Parallel(n_jobs=36)]: Done 6552 tasks      | elapsed:   10.3s\n",
      "[Parallel(n_jobs=36)]: Done 9152 tasks      | elapsed:   14.3s\n",
      "[Parallel(n_jobs=36)]: Done 9869 out of 9869 | elapsed:   15.6s finished\n"
     ]
    },
    {
     "name": "stdout",
     "output_type": "stream",
     "text": [
      "2h_Psilo_2 vs ctrl\n",
      "Data Shape: (9367, 24181)\n",
      "Data Shape after compute_1d_moments: (9367, 12350)\n"
     ]
    },
    {
     "name": "stderr",
     "output_type": "stream",
     "text": [
      "[Parallel(n_jobs=36)]: Using backend LokyBackend with 36 concurrent workers.\n",
      "[Parallel(n_jobs=36)]: Done 179 tasks      | elapsed:    6.8s\n",
      "[Parallel(n_jobs=36)]: Done 450 tasks      | elapsed:   14.1s\n",
      "[Parallel(n_jobs=36)]: Done 800 tasks      | elapsed:   24.5s\n",
      "[Parallel(n_jobs=36)]: Done 1250 tasks      | elapsed:   39.2s\n",
      "[Parallel(n_jobs=36)]: Done 1800 tasks      | elapsed:   54.7s\n",
      "[Parallel(n_jobs=36)]: Done 2450 tasks      | elapsed:  1.2min\n",
      "[Parallel(n_jobs=36)]: Done 3200 tasks      | elapsed:  1.6min\n",
      "[Parallel(n_jobs=36)]: Done 4050 tasks      | elapsed:  2.0min\n",
      "[Parallel(n_jobs=36)]: Done 5000 tasks      | elapsed:  2.4min\n",
      "[Parallel(n_jobs=36)]: Done 6050 tasks      | elapsed:  2.8min\n",
      "[Parallel(n_jobs=36)]: Done 7200 tasks      | elapsed:  3.4min\n",
      "[Parallel(n_jobs=36)]: Done 8450 tasks      | elapsed:  4.0min\n",
      "[Parallel(n_jobs=36)]: Done 9800 tasks      | elapsed:  4.7min\n",
      "[Parallel(n_jobs=36)]: Done 11250 tasks      | elapsed:  5.3min\n",
      "[Parallel(n_jobs=36)]: Done 12350 out of 12350 | elapsed:  5.9min finished\n"
     ]
    },
    {
     "name": "stdout",
     "output_type": "stream",
     "text": [
      "2h_Psilo_20 vs ctrl\n",
      "Data Shape: (110, 24181)\n",
      "Data Shape after compute_1d_moments: (110, 10235)\n"
     ]
    },
    {
     "name": "stderr",
     "output_type": "stream",
     "text": [
      "[Parallel(n_jobs=36)]: Using backend LokyBackend with 36 concurrent workers.\n",
      "[Parallel(n_jobs=36)]: Done 184 tasks      | elapsed:    0.2s\n",
      "[Parallel(n_jobs=36)]: Done 1800 tasks      | elapsed:    2.1s\n",
      "[Parallel(n_jobs=36)]: Done 4600 tasks      | elapsed:    4.9s\n",
      "[Parallel(n_jobs=36)]: Done 8200 tasks      | elapsed:    8.8s\n",
      "[Parallel(n_jobs=36)]: Done 10164 out of 10235 | elapsed:   10.7s remaining:    0.1s\n",
      "[Parallel(n_jobs=36)]: Done 10235 out of 10235 | elapsed:   11.1s finished\n"
     ]
    },
    {
     "name": "stdout",
     "output_type": "stream",
     "text": [
      "2h_Psilo_21 vs ctrl\n",
      "Skipping 2h_Psilo_21, < 100 cells\n",
      "2h_Psilo_3 vs ctrl\n",
      "Data Shape: (6127, 24181)\n",
      "Data Shape after compute_1d_moments: (6127, 12632)\n"
     ]
    },
    {
     "name": "stderr",
     "output_type": "stream",
     "text": [
      "[Parallel(n_jobs=36)]: Using backend LokyBackend with 36 concurrent workers.\n",
      "[Parallel(n_jobs=36)]: Done 184 tasks      | elapsed:    5.0s\n",
      "[Parallel(n_jobs=36)]: Done 486 tasks      | elapsed:   11.0s\n",
      "[Parallel(n_jobs=36)]: Done 836 tasks      | elapsed:   18.5s\n",
      "[Parallel(n_jobs=36)]: Done 1286 tasks      | elapsed:   28.6s\n",
      "[Parallel(n_jobs=36)]: Done 1836 tasks      | elapsed:   40.3s\n",
      "[Parallel(n_jobs=36)]: Done 2486 tasks      | elapsed:   54.2s\n",
      "[Parallel(n_jobs=36)]: Done 3236 tasks      | elapsed:  1.2min\n",
      "[Parallel(n_jobs=36)]: Done 4086 tasks      | elapsed:  1.5min\n",
      "[Parallel(n_jobs=36)]: Done 5036 tasks      | elapsed:  1.7min\n",
      "[Parallel(n_jobs=36)]: Done 6086 tasks      | elapsed:  2.1min\n",
      "[Parallel(n_jobs=36)]: Done 7236 tasks      | elapsed:  2.5min\n",
      "[Parallel(n_jobs=36)]: Done 8486 tasks      | elapsed:  3.0min\n",
      "[Parallel(n_jobs=36)]: Done 9836 tasks      | elapsed:  3.5min\n",
      "[Parallel(n_jobs=36)]: Done 11286 tasks      | elapsed:  3.9min\n",
      "[Parallel(n_jobs=36)]: Done 12632 out of 12632 | elapsed:  4.4min finished\n"
     ]
    },
    {
     "name": "stdout",
     "output_type": "stream",
     "text": [
      "2h_Psilo_4 vs ctrl\n",
      "Data Shape: (6708, 24181)\n",
      "Data Shape after compute_1d_moments: (6708, 9312)\n"
     ]
    },
    {
     "name": "stderr",
     "output_type": "stream",
     "text": [
      "[Parallel(n_jobs=36)]: Using backend LokyBackend with 36 concurrent workers.\n",
      "[Parallel(n_jobs=36)]: Done 186 tasks      | elapsed:    1.8s\n",
      "[Parallel(n_jobs=36)]: Done 626 tasks      | elapsed:    6.6s\n",
      "[Parallel(n_jobs=36)]: Done 980 tasks      | elapsed:   10.8s\n",
      "[Parallel(n_jobs=36)]: Done 1430 tasks      | elapsed:   15.1s\n",
      "[Parallel(n_jobs=36)]: Done 1980 tasks      | elapsed:   20.6s\n",
      "[Parallel(n_jobs=36)]: Done 2630 tasks      | elapsed:   27.0s\n",
      "[Parallel(n_jobs=36)]: Done 3380 tasks      | elapsed:   34.0s\n",
      "[Parallel(n_jobs=36)]: Done 4230 tasks      | elapsed:   41.6s\n",
      "[Parallel(n_jobs=36)]: Done 5180 tasks      | elapsed:   51.0s\n",
      "[Parallel(n_jobs=36)]: Done 6230 tasks      | elapsed:  1.0min\n",
      "[Parallel(n_jobs=36)]: Done 7380 tasks      | elapsed:  1.2min\n",
      "[Parallel(n_jobs=36)]: Done 8630 tasks      | elapsed:  1.4min\n",
      "[Parallel(n_jobs=36)]: Done 9312 out of 9312 | elapsed:  1.6min finished\n"
     ]
    },
    {
     "name": "stdout",
     "output_type": "stream",
     "text": [
      "2h_Psilo_5 vs ctrl\n",
      "Data Shape: (4947, 24181)\n",
      "Data Shape after compute_1d_moments: (4947, 12501)\n"
     ]
    },
    {
     "name": "stderr",
     "output_type": "stream",
     "text": [
      "[Parallel(n_jobs=36)]: Using backend LokyBackend with 36 concurrent workers.\n",
      "[Parallel(n_jobs=36)]: Done 184 tasks      | elapsed:    3.8s\n",
      "[Parallel(n_jobs=36)]: Done 486 tasks      | elapsed:    8.6s\n",
      "[Parallel(n_jobs=36)]: Done 836 tasks      | elapsed:   14.3s\n",
      "[Parallel(n_jobs=36)]: Done 1286 tasks      | elapsed:   22.3s\n",
      "[Parallel(n_jobs=36)]: Done 1836 tasks      | elapsed:   31.1s\n",
      "[Parallel(n_jobs=36)]: Done 2486 tasks      | elapsed:   41.5s\n",
      "[Parallel(n_jobs=36)]: Done 3236 tasks      | elapsed:   53.6s\n",
      "[Parallel(n_jobs=36)]: Done 4086 tasks      | elapsed:  1.1min\n",
      "[Parallel(n_jobs=36)]: Done 5036 tasks      | elapsed:  1.3min\n",
      "[Parallel(n_jobs=36)]: Done 6086 tasks      | elapsed:  1.6min\n",
      "[Parallel(n_jobs=36)]: Done 7236 tasks      | elapsed:  1.9min\n",
      "[Parallel(n_jobs=36)]: Done 8486 tasks      | elapsed:  2.3min\n",
      "[Parallel(n_jobs=36)]: Done 9836 tasks      | elapsed:  2.6min\n",
      "[Parallel(n_jobs=36)]: Done 11286 tasks      | elapsed:  3.0min\n",
      "[Parallel(n_jobs=36)]: Done 12501 out of 12501 | elapsed:  3.3min finished\n"
     ]
    },
    {
     "name": "stdout",
     "output_type": "stream",
     "text": [
      "2h_Psilo_6 vs ctrl\n",
      "Data Shape: (3903, 24181)\n",
      "Data Shape after compute_1d_moments: (3903, 10677)\n"
     ]
    },
    {
     "name": "stderr",
     "output_type": "stream",
     "text": [
      "[Parallel(n_jobs=36)]: Using backend LokyBackend with 36 concurrent workers.\n",
      "[Parallel(n_jobs=36)]: Done 185 tasks      | elapsed:    1.6s\n",
      "[Parallel(n_jobs=36)]: Done 684 tasks      | elapsed:    5.3s\n",
      "[Parallel(n_jobs=36)]: Done 1384 tasks      | elapsed:   10.2s\n",
      "[Parallel(n_jobs=36)]: Done 2284 tasks      | elapsed:   15.9s\n",
      "[Parallel(n_jobs=36)]: Done 3384 tasks      | elapsed:   22.5s\n",
      "[Parallel(n_jobs=36)]: Done 4684 tasks      | elapsed:   30.5s\n",
      "[Parallel(n_jobs=36)]: Done 6184 tasks      | elapsed:   40.1s\n",
      "[Parallel(n_jobs=36)]: Done 7884 tasks      | elapsed:   51.6s\n",
      "[Parallel(n_jobs=36)]: Done 9784 tasks      | elapsed:  1.1min\n",
      "[Parallel(n_jobs=36)]: Done 10606 out of 10677 | elapsed:  1.2min remaining:    0.5s\n",
      "[Parallel(n_jobs=36)]: Done 10677 out of 10677 | elapsed:  1.2min finished\n"
     ]
    },
    {
     "name": "stdout",
     "output_type": "stream",
     "text": [
      "2h_Psilo_7 vs ctrl\n",
      "Data Shape: (3539, 24181)\n",
      "Data Shape after compute_1d_moments: (3539, 12861)\n"
     ]
    },
    {
     "name": "stderr",
     "output_type": "stream",
     "text": [
      "[Parallel(n_jobs=36)]: Using backend LokyBackend with 36 concurrent workers.\n",
      "[Parallel(n_jobs=36)]: Done 184 tasks      | elapsed:    2.9s\n",
      "[Parallel(n_jobs=36)]: Done 522 tasks      | elapsed:    7.4s\n",
      "[Parallel(n_jobs=36)]: Done 872 tasks      | elapsed:   11.7s\n",
      "[Parallel(n_jobs=36)]: Done 1322 tasks      | elapsed:   18.1s\n",
      "[Parallel(n_jobs=36)]: Done 1872 tasks      | elapsed:   25.5s\n",
      "[Parallel(n_jobs=36)]: Done 2522 tasks      | elapsed:   33.9s\n",
      "[Parallel(n_jobs=36)]: Done 3272 tasks      | elapsed:   44.1s\n",
      "[Parallel(n_jobs=36)]: Done 4122 tasks      | elapsed:   55.1s\n",
      "[Parallel(n_jobs=36)]: Done 5072 tasks      | elapsed:  1.1min\n",
      "[Parallel(n_jobs=36)]: Done 6122 tasks      | elapsed:  1.3min\n",
      "[Parallel(n_jobs=36)]: Done 7272 tasks      | elapsed:  1.6min\n",
      "[Parallel(n_jobs=36)]: Done 8522 tasks      | elapsed:  1.8min\n",
      "[Parallel(n_jobs=36)]: Done 9872 tasks      | elapsed:  2.1min\n",
      "[Parallel(n_jobs=36)]: Done 11322 tasks      | elapsed:  2.5min\n",
      "[Parallel(n_jobs=36)]: Done 12861 out of 12861 | elapsed:  2.8min finished\n"
     ]
    },
    {
     "name": "stdout",
     "output_type": "stream",
     "text": [
      "2h_Psilo_8 vs ctrl\n",
      "Data Shape: (3521, 24181)\n",
      "Data Shape after compute_1d_moments: (3521, 12200)\n"
     ]
    },
    {
     "name": "stderr",
     "output_type": "stream",
     "text": [
      "[Parallel(n_jobs=36)]: Using backend LokyBackend with 36 concurrent workers.\n",
      "[Parallel(n_jobs=36)]: Done 184 tasks      | elapsed:    2.4s\n",
      "[Parallel(n_jobs=36)]: Done 684 tasks      | elapsed:    8.0s\n",
      "[Parallel(n_jobs=36)]: Done 1088 tasks      | elapsed:   12.5s\n",
      "[Parallel(n_jobs=36)]: Done 1538 tasks      | elapsed:   17.4s\n",
      "[Parallel(n_jobs=36)]: Done 2088 tasks      | elapsed:   23.2s\n",
      "[Parallel(n_jobs=36)]: Done 2738 tasks      | elapsed:   30.1s\n",
      "[Parallel(n_jobs=36)]: Done 3488 tasks      | elapsed:   38.0s\n",
      "[Parallel(n_jobs=36)]: Done 4338 tasks      | elapsed:   46.5s\n",
      "[Parallel(n_jobs=36)]: Done 5288 tasks      | elapsed:   54.7s\n",
      "[Parallel(n_jobs=36)]: Done 6338 tasks      | elapsed:  1.1min\n",
      "[Parallel(n_jobs=36)]: Done 7488 tasks      | elapsed:  1.3min\n",
      "[Parallel(n_jobs=36)]: Done 8738 tasks      | elapsed:  1.5min\n",
      "[Parallel(n_jobs=36)]: Done 10088 tasks      | elapsed:  1.7min\n",
      "[Parallel(n_jobs=36)]: Done 11538 tasks      | elapsed:  2.0min\n",
      "[Parallel(n_jobs=36)]: Done 12200 out of 12200 | elapsed:  2.1min finished\n"
     ]
    },
    {
     "name": "stdout",
     "output_type": "stream",
     "text": [
      "2h_Psilo_9 vs ctrl\n",
      "Data Shape: (2866, 24181)\n",
      "Data Shape after compute_1d_moments: (2866, 10770)\n"
     ]
    },
    {
     "name": "stderr",
     "output_type": "stream",
     "text": [
      "[Parallel(n_jobs=36)]: Using backend LokyBackend with 36 concurrent workers.\n",
      "[Parallel(n_jobs=36)]: Done 184 tasks      | elapsed:    1.3s\n",
      "[Parallel(n_jobs=36)]: Done 684 tasks      | elapsed:    4.2s\n",
      "[Parallel(n_jobs=36)]: Done 1384 tasks      | elapsed:    8.0s\n",
      "[Parallel(n_jobs=36)]: Done 2284 tasks      | elapsed:   12.8s\n",
      "[Parallel(n_jobs=36)]: Done 3384 tasks      | elapsed:   18.0s\n",
      "[Parallel(n_jobs=36)]: Done 4684 tasks      | elapsed:   24.2s\n",
      "[Parallel(n_jobs=36)]: Done 6184 tasks      | elapsed:   31.8s\n",
      "[Parallel(n_jobs=36)]: Done 7884 tasks      | elapsed:   40.3s\n",
      "[Parallel(n_jobs=36)]: Done 9784 tasks      | elapsed:   50.3s\n",
      "[Parallel(n_jobs=36)]: Done 10770 out of 10770 | elapsed:   55.7s finished\n"
     ]
    },
    {
     "name": "stdout",
     "output_type": "stream",
     "text": [
      "4h_Ket_0 vs ctrl\n",
      "Data Shape: (12563, 24181)\n",
      "Data Shape after compute_1d_moments: (12563, 12504)\n"
     ]
    },
    {
     "name": "stderr",
     "output_type": "stream",
     "text": [
      "[Parallel(n_jobs=36)]: Using backend LokyBackend with 36 concurrent workers.\n",
      "[Parallel(n_jobs=36)]: Done 178 tasks      | elapsed:    9.5s\n",
      "[Parallel(n_jobs=36)]: Done 450 tasks      | elapsed:   20.7s\n",
      "[Parallel(n_jobs=36)]: Done 800 tasks      | elapsed:   36.4s\n",
      "[Parallel(n_jobs=36)]: Done 1250 tasks      | elapsed:   57.6s\n",
      "[Parallel(n_jobs=36)]: Done 1800 tasks      | elapsed:  1.4min\n",
      "[Parallel(n_jobs=36)]: Done 2450 tasks      | elapsed:  1.8min\n",
      "[Parallel(n_jobs=36)]: Done 3200 tasks      | elapsed:  2.3min\n",
      "[Parallel(n_jobs=36)]: Done 4050 tasks      | elapsed:  2.9min\n",
      "[Parallel(n_jobs=36)]: Done 5000 tasks      | elapsed:  3.5min\n",
      "[Parallel(n_jobs=36)]: Done 6050 tasks      | elapsed:  4.2min\n",
      "[Parallel(n_jobs=36)]: Done 7200 tasks      | elapsed:  5.0min\n",
      "[Parallel(n_jobs=36)]: Done 8450 tasks      | elapsed:  5.9min\n",
      "[Parallel(n_jobs=36)]: Done 9800 tasks      | elapsed:  6.9min\n",
      "[Parallel(n_jobs=36)]: Done 11250 tasks      | elapsed:  7.8min\n",
      "[Parallel(n_jobs=36)]: Done 12504 out of 12504 | elapsed:  8.8min finished\n"
     ]
    },
    {
     "name": "stdout",
     "output_type": "stream",
     "text": [
      "4h_Ket_1 vs ctrl\n",
      "Data Shape: (10822, 24181)\n",
      "Data Shape after compute_1d_moments: (10822, 11956)\n"
     ]
    },
    {
     "name": "stderr",
     "output_type": "stream",
     "text": [
      "[Parallel(n_jobs=36)]: Using backend LokyBackend with 36 concurrent workers.\n",
      "[Parallel(n_jobs=36)]: Done 175 tasks      | elapsed:    7.5s\n",
      "[Parallel(n_jobs=36)]: Done 450 tasks      | elapsed:   16.4s\n",
      "[Parallel(n_jobs=36)]: Done 800 tasks      | elapsed:   28.5s\n",
      "[Parallel(n_jobs=36)]: Done 1250 tasks      | elapsed:   45.7s\n",
      "[Parallel(n_jobs=36)]: Done 1800 tasks      | elapsed:  1.1min\n",
      "[Parallel(n_jobs=36)]: Done 2450 tasks      | elapsed:  1.4min\n",
      "[Parallel(n_jobs=36)]: Done 3200 tasks      | elapsed:  1.8min\n",
      "[Parallel(n_jobs=36)]: Done 4050 tasks      | elapsed:  2.3min\n",
      "[Parallel(n_jobs=36)]: Done 5000 tasks      | elapsed:  2.8min\n",
      "[Parallel(n_jobs=36)]: Done 6050 tasks      | elapsed:  3.3min\n",
      "[Parallel(n_jobs=36)]: Done 7200 tasks      | elapsed:  3.9min\n",
      "[Parallel(n_jobs=36)]: Done 8450 tasks      | elapsed:  4.6min\n",
      "[Parallel(n_jobs=36)]: Done 9800 tasks      | elapsed:  5.4min\n",
      "[Parallel(n_jobs=36)]: Done 11250 tasks      | elapsed:  6.2min\n",
      "[Parallel(n_jobs=36)]: Done 11956 out of 11956 | elapsed:  6.6min finished\n"
     ]
    },
    {
     "name": "stdout",
     "output_type": "stream",
     "text": [
      "4h_Ket_10 vs ctrl\n",
      "Data Shape: (2735, 24181)\n",
      "Data Shape after compute_1d_moments: (2735, 12194)\n"
     ]
    },
    {
     "name": "stderr",
     "output_type": "stream",
     "text": [
      "[Parallel(n_jobs=36)]: Using backend LokyBackend with 36 concurrent workers.\n",
      "[Parallel(n_jobs=36)]: Done 184 tasks      | elapsed:    1.9s\n",
      "[Parallel(n_jobs=36)]: Done 684 tasks      | elapsed:    6.1s\n",
      "[Parallel(n_jobs=36)]: Done 1335 tasks      | elapsed:   11.7s\n",
      "[Parallel(n_jobs=36)]: Done 1790 tasks      | elapsed:   15.3s\n",
      "[Parallel(n_jobs=36)]: Done 2340 tasks      | elapsed:   20.0s\n",
      "[Parallel(n_jobs=36)]: Done 2990 tasks      | elapsed:   25.1s\n",
      "[Parallel(n_jobs=36)]: Done 3740 tasks      | elapsed:   30.8s\n",
      "[Parallel(n_jobs=36)]: Done 4590 tasks      | elapsed:   37.0s\n",
      "[Parallel(n_jobs=36)]: Done 5540 tasks      | elapsed:   44.0s\n",
      "[Parallel(n_jobs=36)]: Done 6590 tasks      | elapsed:   52.2s\n",
      "[Parallel(n_jobs=36)]: Done 7740 tasks      | elapsed:  1.0min\n",
      "[Parallel(n_jobs=36)]: Done 8990 tasks      | elapsed:  1.2min\n",
      "[Parallel(n_jobs=36)]: Done 10340 tasks      | elapsed:  1.4min\n",
      "[Parallel(n_jobs=36)]: Done 11790 tasks      | elapsed:  1.6min\n",
      "[Parallel(n_jobs=36)]: Done 12194 out of 12194 | elapsed:  1.6min finished\n"
     ]
    },
    {
     "name": "stdout",
     "output_type": "stream",
     "text": [
      "4h_Ket_11 vs ctrl\n",
      "Data Shape: (2691, 24181)\n",
      "Data Shape after compute_1d_moments: (2691, 11631)\n"
     ]
    },
    {
     "name": "stderr",
     "output_type": "stream",
     "text": [
      "[Parallel(n_jobs=36)]: Using backend LokyBackend with 36 concurrent workers.\n",
      "[Parallel(n_jobs=36)]: Done 184 tasks      | elapsed:    1.7s\n",
      "[Parallel(n_jobs=36)]: Done 684 tasks      | elapsed:    5.4s\n",
      "[Parallel(n_jobs=36)]: Done 1384 tasks      | elapsed:   10.7s\n",
      "[Parallel(n_jobs=36)]: Done 2284 tasks      | elapsed:   17.1s\n",
      "[Parallel(n_jobs=36)]: Done 3384 tasks      | elapsed:   24.8s\n",
      "[Parallel(n_jobs=36)]: Done 4684 tasks      | elapsed:   33.1s\n",
      "[Parallel(n_jobs=36)]: Done 6184 tasks      | elapsed:   43.4s\n",
      "[Parallel(n_jobs=36)]: Done 7884 tasks      | elapsed:   55.4s\n",
      "[Parallel(n_jobs=36)]: Done 9784 tasks      | elapsed:  1.2min\n",
      "[Parallel(n_jobs=36)]: Done 11560 out of 11631 | elapsed:  1.4min remaining:    0.5s\n",
      "[Parallel(n_jobs=36)]: Done 11631 out of 11631 | elapsed:  1.4min finished\n"
     ]
    },
    {
     "name": "stdout",
     "output_type": "stream",
     "text": [
      "4h_Ket_12 vs ctrl\n",
      "Data Shape: (2340, 24181)\n",
      "Data Shape after compute_1d_moments: (2340, 11615)\n"
     ]
    },
    {
     "name": "stderr",
     "output_type": "stream",
     "text": [
      "[Parallel(n_jobs=36)]: Using backend LokyBackend with 36 concurrent workers.\n",
      "[Parallel(n_jobs=36)]: Done 184 tasks      | elapsed:    1.4s\n",
      "[Parallel(n_jobs=36)]: Done 684 tasks      | elapsed:    4.5s\n",
      "[Parallel(n_jobs=36)]: Done 1384 tasks      | elapsed:    8.9s\n",
      "[Parallel(n_jobs=36)]: Done 2284 tasks      | elapsed:   13.9s\n",
      "[Parallel(n_jobs=36)]: Done 3384 tasks      | elapsed:   20.1s\n",
      "[Parallel(n_jobs=36)]: Done 4684 tasks      | elapsed:   26.9s\n",
      "[Parallel(n_jobs=36)]: Done 6184 tasks      | elapsed:   35.3s\n",
      "[Parallel(n_jobs=36)]: Done 7884 tasks      | elapsed:   44.8s\n",
      "[Parallel(n_jobs=36)]: Done 9784 tasks      | elapsed:   56.3s\n",
      "[Parallel(n_jobs=36)]: Done 11544 out of 11615 | elapsed:  1.1min remaining:    0.4s\n",
      "[Parallel(n_jobs=36)]: Done 11615 out of 11615 | elapsed:  1.1min finished\n"
     ]
    },
    {
     "name": "stdout",
     "output_type": "stream",
     "text": [
      "4h_Ket_13 vs ctrl\n",
      "Data Shape: (2121, 24181)\n",
      "Data Shape after compute_1d_moments: (2121, 8769)\n"
     ]
    },
    {
     "name": "stderr",
     "output_type": "stream",
     "text": [
      "[Parallel(n_jobs=36)]: Using backend LokyBackend with 36 concurrent workers.\n",
      "[Parallel(n_jobs=36)]: Done 186 tasks      | elapsed:    0.8s\n",
      "[Parallel(n_jobs=36)]: Done 684 tasks      | elapsed:    2.6s\n",
      "[Parallel(n_jobs=36)]: Done 1384 tasks      | elapsed:    5.2s\n",
      "[Parallel(n_jobs=36)]: Done 2284 tasks      | elapsed:    8.3s\n",
      "[Parallel(n_jobs=36)]: Done 3384 tasks      | elapsed:   11.9s\n",
      "[Parallel(n_jobs=36)]: Done 4684 tasks      | elapsed:   16.4s\n",
      "[Parallel(n_jobs=36)]: Done 6184 tasks      | elapsed:   21.7s\n",
      "[Parallel(n_jobs=36)]: Done 7884 tasks      | elapsed:   28.1s\n",
      "[Parallel(n_jobs=36)]: Done 8698 out of 8769 | elapsed:   31.0s remaining:    0.3s\n",
      "[Parallel(n_jobs=36)]: Done 8769 out of 8769 | elapsed:   32.1s finished\n"
     ]
    },
    {
     "name": "stdout",
     "output_type": "stream",
     "text": [
      "4h_Ket_14 vs ctrl\n",
      "Data Shape: (1696, 24181)\n",
      "Data Shape after compute_1d_moments: (1696, 11950)\n"
     ]
    },
    {
     "name": "stderr",
     "output_type": "stream",
     "text": [
      "[Parallel(n_jobs=36)]: Using backend LokyBackend with 36 concurrent workers.\n",
      "[Parallel(n_jobs=36)]: Done 184 tasks      | elapsed:    1.3s\n",
      "[Parallel(n_jobs=36)]: Done 684 tasks      | elapsed:    4.0s\n",
      "[Parallel(n_jobs=36)]: Done 1384 tasks      | elapsed:    7.7s\n",
      "[Parallel(n_jobs=36)]: Done 2284 tasks      | elapsed:   12.2s\n",
      "[Parallel(n_jobs=36)]: Done 3384 tasks      | elapsed:   18.1s\n",
      "[Parallel(n_jobs=36)]: Done 4684 tasks      | elapsed:   24.0s\n",
      "[Parallel(n_jobs=36)]: Done 6184 tasks      | elapsed:   31.2s\n",
      "[Parallel(n_jobs=36)]: Done 7884 tasks      | elapsed:   39.9s\n",
      "[Parallel(n_jobs=36)]: Done 9784 tasks      | elapsed:   49.8s\n",
      "[Parallel(n_jobs=36)]: Done 11879 out of 11950 | elapsed:  1.0min remaining:    0.4s\n",
      "[Parallel(n_jobs=36)]: Done 11950 out of 11950 | elapsed:  1.0min finished\n"
     ]
    },
    {
     "name": "stdout",
     "output_type": "stream",
     "text": [
      "4h_Ket_15 vs ctrl\n",
      "Data Shape: (813, 24181)\n",
      "Data Shape after compute_1d_moments: (813, 11918)\n"
     ]
    },
    {
     "name": "stderr",
     "output_type": "stream",
     "text": [
      "[Parallel(n_jobs=36)]: Using backend LokyBackend with 36 concurrent workers.\n",
      "[Parallel(n_jobs=36)]: Done 184 tasks      | elapsed:    0.8s\n",
      "[Parallel(n_jobs=36)]: Done 684 tasks      | elapsed:    2.3s\n",
      "[Parallel(n_jobs=36)]: Done 1384 tasks      | elapsed:    4.4s\n",
      "[Parallel(n_jobs=36)]: Done 2284 tasks      | elapsed:    7.1s\n",
      "[Parallel(n_jobs=36)]: Done 3384 tasks      | elapsed:   10.4s\n",
      "[Parallel(n_jobs=36)]: Done 4684 tasks      | elapsed:   13.9s\n",
      "[Parallel(n_jobs=36)]: Done 6184 tasks      | elapsed:   18.4s\n",
      "[Parallel(n_jobs=36)]: Done 7884 tasks      | elapsed:   23.3s\n",
      "[Parallel(n_jobs=36)]: Done 9784 tasks      | elapsed:   29.0s\n",
      "[Parallel(n_jobs=36)]: Done 11847 out of 11918 | elapsed:   35.1s remaining:    0.2s\n",
      "[Parallel(n_jobs=36)]: Done 11918 out of 11918 | elapsed:   35.5s finished\n"
     ]
    },
    {
     "name": "stdout",
     "output_type": "stream",
     "text": [
      "4h_Ket_16 vs ctrl\n",
      "Data Shape: (477, 24181)\n",
      "Data Shape after compute_1d_moments: (477, 12132)\n"
     ]
    },
    {
     "name": "stderr",
     "output_type": "stream",
     "text": [
      "[Parallel(n_jobs=36)]: Using backend LokyBackend with 36 concurrent workers.\n",
      "[Parallel(n_jobs=36)]: Done 184 tasks      | elapsed:    0.5s\n",
      "[Parallel(n_jobs=36)]: Done 1152 tasks      | elapsed:    2.4s\n",
      "[Parallel(n_jobs=36)]: Done 2552 tasks      | elapsed:    5.0s\n",
      "[Parallel(n_jobs=36)]: Done 4352 tasks      | elapsed:    8.4s\n",
      "[Parallel(n_jobs=36)]: Done 6552 tasks      | elapsed:   12.5s\n",
      "[Parallel(n_jobs=36)]: Done 9152 tasks      | elapsed:   17.4s\n",
      "[Parallel(n_jobs=36)]: Done 12029 tasks      | elapsed:   22.9s\n",
      "[Parallel(n_jobs=36)]: Done 12132 out of 12132 | elapsed:   23.3s finished\n"
     ]
    },
    {
     "name": "stdout",
     "output_type": "stream",
     "text": [
      "4h_Ket_17 vs ctrl\n",
      "Data Shape: (778, 24181)\n",
      "Data Shape after compute_1d_moments: (778, 10532)\n"
     ]
    },
    {
     "name": "stderr",
     "output_type": "stream",
     "text": [
      "[Parallel(n_jobs=36)]: Using backend LokyBackend with 36 concurrent workers.\n",
      "[Parallel(n_jobs=36)]: Done 184 tasks      | elapsed:    0.5s\n",
      "[Parallel(n_jobs=36)]: Done 1152 tasks      | elapsed:    2.7s\n",
      "[Parallel(n_jobs=36)]: Done 2552 tasks      | elapsed:    5.9s\n",
      "[Parallel(n_jobs=36)]: Done 4352 tasks      | elapsed:    9.5s\n",
      "[Parallel(n_jobs=36)]: Done 6552 tasks      | elapsed:   14.0s\n",
      "[Parallel(n_jobs=36)]: Done 9152 tasks      | elapsed:   19.6s\n",
      "[Parallel(n_jobs=36)]: Done 10461 out of 10532 | elapsed:   22.3s remaining:    0.2s\n",
      "[Parallel(n_jobs=36)]: Done 10532 out of 10532 | elapsed:   22.7s finished\n"
     ]
    },
    {
     "name": "stdout",
     "output_type": "stream",
     "text": [
      "4h_Ket_18 vs ctrl\n",
      "Data Shape: (290, 24181)\n",
      "Data Shape after compute_1d_moments: (290, 9904)\n"
     ]
    },
    {
     "name": "stderr",
     "output_type": "stream",
     "text": [
      "[Parallel(n_jobs=36)]: Using backend LokyBackend with 36 concurrent workers.\n",
      "[Parallel(n_jobs=36)]: Done 185 tasks      | elapsed:    0.4s\n",
      "[Parallel(n_jobs=36)]: Done 1152 tasks      | elapsed:    1.8s\n",
      "[Parallel(n_jobs=36)]: Done 2552 tasks      | elapsed:    3.7s\n",
      "[Parallel(n_jobs=36)]: Done 4352 tasks      | elapsed:    6.1s\n",
      "[Parallel(n_jobs=36)]: Done 6552 tasks      | elapsed:    9.3s\n",
      "[Parallel(n_jobs=36)]: Done 9152 tasks      | elapsed:   12.9s\n",
      "[Parallel(n_jobs=36)]: Done 9833 out of 9904 | elapsed:   13.8s remaining:    0.1s\n",
      "[Parallel(n_jobs=36)]: Done 9904 out of 9904 | elapsed:   14.1s finished\n"
     ]
    },
    {
     "name": "stdout",
     "output_type": "stream",
     "text": [
      "4h_Ket_19 vs ctrl\n",
      "Data Shape: (361, 24181)\n",
      "Data Shape after compute_1d_moments: (361, 9542)\n"
     ]
    },
    {
     "name": "stderr",
     "output_type": "stream",
     "text": [
      "[Parallel(n_jobs=36)]: Using backend LokyBackend with 36 concurrent workers.\n",
      "[Parallel(n_jobs=36)]: Done 184 tasks      | elapsed:    0.4s\n",
      "[Parallel(n_jobs=36)]: Done 1152 tasks      | elapsed:    2.0s\n",
      "[Parallel(n_jobs=36)]: Done 2552 tasks      | elapsed:    4.2s\n",
      "[Parallel(n_jobs=36)]: Done 4352 tasks      | elapsed:    7.0s\n",
      "[Parallel(n_jobs=36)]: Done 6552 tasks      | elapsed:   10.5s\n",
      "[Parallel(n_jobs=36)]: Done 9152 tasks      | elapsed:   14.5s\n",
      "[Parallel(n_jobs=36)]: Done 9542 out of 9542 | elapsed:   15.3s finished\n"
     ]
    },
    {
     "name": "stdout",
     "output_type": "stream",
     "text": [
      "4h_Ket_2 vs ctrl\n",
      "Data Shape: (10400, 24181)\n",
      "Data Shape after compute_1d_moments: (10400, 12349)\n"
     ]
    },
    {
     "name": "stderr",
     "output_type": "stream",
     "text": [
      "[Parallel(n_jobs=36)]: Using backend LokyBackend with 36 concurrent workers.\n",
      "[Parallel(n_jobs=36)]: Done 178 tasks      | elapsed:    7.6s\n",
      "[Parallel(n_jobs=36)]: Done 450 tasks      | elapsed:   16.2s\n",
      "[Parallel(n_jobs=36)]: Done 800 tasks      | elapsed:   28.1s\n",
      "[Parallel(n_jobs=36)]: Done 1250 tasks      | elapsed:   44.8s\n",
      "[Parallel(n_jobs=36)]: Done 1800 tasks      | elapsed:  1.0min\n",
      "[Parallel(n_jobs=36)]: Done 2450 tasks      | elapsed:  1.4min\n",
      "[Parallel(n_jobs=36)]: Done 3200 tasks      | elapsed:  1.8min\n",
      "[Parallel(n_jobs=36)]: Done 4050 tasks      | elapsed:  2.3min\n",
      "[Parallel(n_jobs=36)]: Done 5000 tasks      | elapsed:  2.7min\n",
      "[Parallel(n_jobs=36)]: Done 6050 tasks      | elapsed:  3.2min\n",
      "[Parallel(n_jobs=36)]: Done 7200 tasks      | elapsed:  3.9min\n",
      "[Parallel(n_jobs=36)]: Done 8450 tasks      | elapsed:  4.6min\n",
      "[Parallel(n_jobs=36)]: Done 9800 tasks      | elapsed:  5.3min\n",
      "[Parallel(n_jobs=36)]: Done 11250 tasks      | elapsed:  6.1min\n",
      "[Parallel(n_jobs=36)]: Done 12349 out of 12349 | elapsed:  6.7min finished\n"
     ]
    },
    {
     "name": "stdout",
     "output_type": "stream",
     "text": [
      "4h_Ket_20 vs ctrl\n",
      "Data Shape: (118, 24181)\n",
      "Data Shape after compute_1d_moments: (118, 10253)\n"
     ]
    },
    {
     "name": "stderr",
     "output_type": "stream",
     "text": [
      "[Parallel(n_jobs=36)]: Using backend LokyBackend with 36 concurrent workers.\n",
      "[Parallel(n_jobs=36)]: Done 184 tasks      | elapsed:    0.3s\n",
      "[Parallel(n_jobs=36)]: Done 1152 tasks      | elapsed:    1.5s\n",
      "[Parallel(n_jobs=36)]: Done 2552 tasks      | elapsed:    3.0s\n",
      "[Parallel(n_jobs=36)]: Done 4352 tasks      | elapsed:    5.0s\n",
      "[Parallel(n_jobs=36)]: Done 6552 tasks      | elapsed:    7.5s\n",
      "[Parallel(n_jobs=36)]: Done 9152 tasks      | elapsed:   10.4s\n",
      "[Parallel(n_jobs=36)]: Done 10182 out of 10253 | elapsed:   11.5s remaining:    0.1s\n",
      "[Parallel(n_jobs=36)]: Done 10253 out of 10253 | elapsed:   12.6s finished\n"
     ]
    },
    {
     "name": "stdout",
     "output_type": "stream",
     "text": [
      "4h_Ket_21 vs ctrl\n",
      "Skipping 4h_Ket_21, < 100 cells\n",
      "4h_Ket_3 vs ctrl\n",
      "Data Shape: (6962, 24181)\n",
      "Data Shape after compute_1d_moments: (6962, 12788)\n"
     ]
    },
    {
     "name": "stderr",
     "output_type": "stream",
     "text": [
      "[Parallel(n_jobs=36)]: Using backend LokyBackend with 36 concurrent workers.\n",
      "[Parallel(n_jobs=36)]: Done 184 tasks      | elapsed:    5.7s\n",
      "[Parallel(n_jobs=36)]: Done 486 tasks      | elapsed:   12.8s\n",
      "[Parallel(n_jobs=36)]: Done 836 tasks      | elapsed:   21.7s\n",
      "[Parallel(n_jobs=36)]: Done 1286 tasks      | elapsed:   33.3s\n",
      "[Parallel(n_jobs=36)]: Done 1836 tasks      | elapsed:   46.6s\n",
      "[Parallel(n_jobs=36)]: Done 2486 tasks      | elapsed:  1.0min\n",
      "[Parallel(n_jobs=36)]: Done 3236 tasks      | elapsed:  1.3min\n",
      "[Parallel(n_jobs=36)]: Done 4086 tasks      | elapsed:  1.7min\n",
      "[Parallel(n_jobs=36)]: Done 5036 tasks      | elapsed:  2.0min\n",
      "[Parallel(n_jobs=36)]: Done 6086 tasks      | elapsed:  2.4min\n",
      "[Parallel(n_jobs=36)]: Done 7236 tasks      | elapsed:  2.9min\n",
      "[Parallel(n_jobs=36)]: Done 8486 tasks      | elapsed:  3.4min\n",
      "[Parallel(n_jobs=36)]: Done 9836 tasks      | elapsed:  3.9min\n",
      "[Parallel(n_jobs=36)]: Done 11286 tasks      | elapsed:  4.5min\n",
      "[Parallel(n_jobs=36)]: Done 12788 out of 12788 | elapsed:  5.1min finished\n"
     ]
    },
    {
     "name": "stdout",
     "output_type": "stream",
     "text": [
      "4h_Ket_4 vs ctrl\n",
      "Data Shape: (6684, 24181)\n",
      "Data Shape after compute_1d_moments: (6684, 9141)\n"
     ]
    },
    {
     "name": "stderr",
     "output_type": "stream",
     "text": [
      "[Parallel(n_jobs=36)]: Using backend LokyBackend with 36 concurrent workers.\n",
      "[Parallel(n_jobs=36)]: Done 186 tasks      | elapsed:    2.0s\n",
      "[Parallel(n_jobs=36)]: Done 590 tasks      | elapsed:    6.5s\n",
      "[Parallel(n_jobs=36)]: Done 944 tasks      | elapsed:   10.6s\n",
      "[Parallel(n_jobs=36)]: Done 1394 tasks      | elapsed:   15.3s\n",
      "[Parallel(n_jobs=36)]: Done 1944 tasks      | elapsed:   21.0s\n",
      "[Parallel(n_jobs=36)]: Done 2594 tasks      | elapsed:   27.6s\n",
      "[Parallel(n_jobs=36)]: Done 3344 tasks      | elapsed:   34.7s\n",
      "[Parallel(n_jobs=36)]: Done 4194 tasks      | elapsed:   42.4s\n",
      "[Parallel(n_jobs=36)]: Done 5144 tasks      | elapsed:   52.1s\n",
      "[Parallel(n_jobs=36)]: Done 6194 tasks      | elapsed:  1.0min\n",
      "[Parallel(n_jobs=36)]: Done 7344 tasks      | elapsed:  1.3min\n",
      "[Parallel(n_jobs=36)]: Done 8594 tasks      | elapsed:  1.5min\n",
      "[Parallel(n_jobs=36)]: Done 9141 out of 9141 | elapsed:  1.6min finished\n"
     ]
    },
    {
     "name": "stdout",
     "output_type": "stream",
     "text": [
      "4h_Ket_5 vs ctrl\n",
      "Data Shape: (5737, 24181)\n",
      "Data Shape after compute_1d_moments: (5737, 12540)\n"
     ]
    },
    {
     "name": "stderr",
     "output_type": "stream",
     "text": [
      "[Parallel(n_jobs=36)]: Using backend LokyBackend with 36 concurrent workers.\n",
      "[Parallel(n_jobs=36)]: Done 184 tasks      | elapsed:    4.7s\n",
      "[Parallel(n_jobs=36)]: Done 486 tasks      | elapsed:   10.3s\n",
      "[Parallel(n_jobs=36)]: Done 836 tasks      | elapsed:   17.3s\n",
      "[Parallel(n_jobs=36)]: Done 1286 tasks      | elapsed:   27.2s\n",
      "[Parallel(n_jobs=36)]: Done 1836 tasks      | elapsed:   37.5s\n",
      "[Parallel(n_jobs=36)]: Done 2486 tasks      | elapsed:   49.9s\n",
      "[Parallel(n_jobs=36)]: Done 3236 tasks      | elapsed:  1.1min\n",
      "[Parallel(n_jobs=36)]: Done 4086 tasks      | elapsed:  1.3min\n",
      "[Parallel(n_jobs=36)]: Done 5036 tasks      | elapsed:  1.6min\n",
      "[Parallel(n_jobs=36)]: Done 6086 tasks      | elapsed:  1.9min\n",
      "[Parallel(n_jobs=36)]: Done 7236 tasks      | elapsed:  2.3min\n",
      "[Parallel(n_jobs=36)]: Done 8486 tasks      | elapsed:  2.7min\n",
      "[Parallel(n_jobs=36)]: Done 9836 tasks      | elapsed:  3.1min\n",
      "[Parallel(n_jobs=36)]: Done 11286 tasks      | elapsed:  3.6min\n",
      "[Parallel(n_jobs=36)]: Done 12540 out of 12540 | elapsed:  4.0min finished\n"
     ]
    },
    {
     "name": "stdout",
     "output_type": "stream",
     "text": [
      "4h_Ket_6 vs ctrl\n",
      "Data Shape: (4650, 24181)\n",
      "Data Shape after compute_1d_moments: (4650, 10472)\n"
     ]
    },
    {
     "name": "stderr",
     "output_type": "stream",
     "text": [
      "[Parallel(n_jobs=36)]: Using backend LokyBackend with 36 concurrent workers.\n",
      "[Parallel(n_jobs=36)]: Done 185 tasks      | elapsed:    1.9s\n",
      "[Parallel(n_jobs=36)]: Done 684 tasks      | elapsed:    6.3s\n",
      "[Parallel(n_jobs=36)]: Done 1384 tasks      | elapsed:   11.9s\n",
      "[Parallel(n_jobs=36)]: Done 2284 tasks      | elapsed:   18.8s\n",
      "[Parallel(n_jobs=36)]: Done 3384 tasks      | elapsed:   26.8s\n",
      "[Parallel(n_jobs=36)]: Done 4684 tasks      | elapsed:   36.2s\n",
      "[Parallel(n_jobs=36)]: Done 6184 tasks      | elapsed:   47.6s\n",
      "[Parallel(n_jobs=36)]: Done 7826 tasks      | elapsed:  1.0min\n",
      "[Parallel(n_jobs=36)]: Done 8780 tasks      | elapsed:  1.2min\n",
      "[Parallel(n_jobs=36)]: Done 9830 tasks      | elapsed:  1.3min\n",
      "[Parallel(n_jobs=36)]: Done 10472 out of 10472 | elapsed:  1.4min finished\n"
     ]
    },
    {
     "name": "stdout",
     "output_type": "stream",
     "text": [
      "4h_Ket_7 vs ctrl\n",
      "Data Shape: (3974, 24181)\n",
      "Data Shape after compute_1d_moments: (3974, 12996)\n"
     ]
    },
    {
     "name": "stderr",
     "output_type": "stream",
     "text": [
      "[Parallel(n_jobs=36)]: Using backend LokyBackend with 36 concurrent workers.\n",
      "[Parallel(n_jobs=36)]: Done 184 tasks      | elapsed:    3.5s\n",
      "[Parallel(n_jobs=36)]: Done 486 tasks      | elapsed:    8.2s\n",
      "[Parallel(n_jobs=36)]: Done 836 tasks      | elapsed:   13.6s\n",
      "[Parallel(n_jobs=36)]: Done 1286 tasks      | elapsed:   20.8s\n",
      "[Parallel(n_jobs=36)]: Done 1836 tasks      | elapsed:   29.9s\n",
      "[Parallel(n_jobs=36)]: Done 2486 tasks      | elapsed:   39.7s\n",
      "[Parallel(n_jobs=36)]: Done 3236 tasks      | elapsed:   51.3s\n",
      "[Parallel(n_jobs=36)]: Done 4086 tasks      | elapsed:  1.1min\n",
      "[Parallel(n_jobs=36)]: Done 5036 tasks      | elapsed:  1.3min\n",
      "[Parallel(n_jobs=36)]: Done 6086 tasks      | elapsed:  1.6min\n",
      "[Parallel(n_jobs=36)]: Done 7236 tasks      | elapsed:  1.9min\n",
      "[Parallel(n_jobs=36)]: Done 8486 tasks      | elapsed:  2.2min\n",
      "[Parallel(n_jobs=36)]: Done 9836 tasks      | elapsed:  2.5min\n",
      "[Parallel(n_jobs=36)]: Done 11286 tasks      | elapsed:  2.9min\n",
      "[Parallel(n_jobs=36)]: Done 12836 tasks      | elapsed:  3.3min\n",
      "[Parallel(n_jobs=36)]: Done 12996 out of 12996 | elapsed:  3.4min finished\n"
     ]
    },
    {
     "name": "stdout",
     "output_type": "stream",
     "text": [
      "4h_Ket_8 vs ctrl\n",
      "Data Shape: (3828, 24181)\n",
      "Data Shape after compute_1d_moments: (3828, 12148)\n"
     ]
    },
    {
     "name": "stderr",
     "output_type": "stream",
     "text": [
      "[Parallel(n_jobs=36)]: Using backend LokyBackend with 36 concurrent workers.\n",
      "[Parallel(n_jobs=36)]: Done 184 tasks      | elapsed:    2.8s\n",
      "[Parallel(n_jobs=36)]: Done 522 tasks      | elapsed:    7.1s\n",
      "[Parallel(n_jobs=36)]: Done 872 tasks      | elapsed:   11.3s\n",
      "[Parallel(n_jobs=36)]: Done 1322 tasks      | elapsed:   17.6s\n",
      "[Parallel(n_jobs=36)]: Done 1872 tasks      | elapsed:   24.8s\n",
      "[Parallel(n_jobs=36)]: Done 2522 tasks      | elapsed:   32.7s\n",
      "[Parallel(n_jobs=36)]: Done 3272 tasks      | elapsed:   42.1s\n",
      "[Parallel(n_jobs=36)]: Done 4122 tasks      | elapsed:   52.4s\n",
      "[Parallel(n_jobs=36)]: Done 5072 tasks      | elapsed:  1.0min\n",
      "[Parallel(n_jobs=36)]: Done 6122 tasks      | elapsed:  1.2min\n",
      "[Parallel(n_jobs=36)]: Done 7272 tasks      | elapsed:  1.5min\n",
      "[Parallel(n_jobs=36)]: Done 8522 tasks      | elapsed:  1.7min\n",
      "[Parallel(n_jobs=36)]: Done 9872 tasks      | elapsed:  2.0min\n",
      "[Parallel(n_jobs=36)]: Done 11322 tasks      | elapsed:  2.3min\n",
      "[Parallel(n_jobs=36)]: Done 12148 out of 12148 | elapsed:  2.5min finished\n"
     ]
    },
    {
     "name": "stdout",
     "output_type": "stream",
     "text": [
      "4h_Ket_9 vs ctrl\n",
      "Data Shape: (3285, 24181)\n",
      "Data Shape after compute_1d_moments: (3285, 10521)\n"
     ]
    },
    {
     "name": "stderr",
     "output_type": "stream",
     "text": [
      "[Parallel(n_jobs=36)]: Using backend LokyBackend with 36 concurrent workers.\n",
      "[Parallel(n_jobs=36)]: Done 186 tasks      | elapsed:    1.5s\n",
      "[Parallel(n_jobs=36)]: Done 684 tasks      | elapsed:    4.9s\n",
      "[Parallel(n_jobs=36)]: Done 1384 tasks      | elapsed:    9.2s\n",
      "[Parallel(n_jobs=36)]: Done 2284 tasks      | elapsed:   14.8s\n",
      "[Parallel(n_jobs=36)]: Done 3384 tasks      | elapsed:   20.9s\n",
      "[Parallel(n_jobs=36)]: Done 4684 tasks      | elapsed:   27.7s\n",
      "[Parallel(n_jobs=36)]: Done 6184 tasks      | elapsed:   36.5s\n",
      "[Parallel(n_jobs=36)]: Done 7884 tasks      | elapsed:   46.7s\n",
      "[Parallel(n_jobs=36)]: Done 9784 tasks      | elapsed:   57.9s\n",
      "[Parallel(n_jobs=36)]: Done 10450 out of 10521 | elapsed:  1.0min remaining:    0.4s\n",
      "[Parallel(n_jobs=36)]: Done 10521 out of 10521 | elapsed:  1.1min finished\n"
     ]
    },
    {
     "name": "stdout",
     "output_type": "stream",
     "text": [
      "4h_Psilo_0 vs ctrl\n",
      "Data Shape: (12195, 24181)\n",
      "Data Shape after compute_1d_moments: (12195, 12608)\n"
     ]
    },
    {
     "name": "stderr",
     "output_type": "stream",
     "text": [
      "[Parallel(n_jobs=36)]: Using backend LokyBackend with 36 concurrent workers.\n",
      "[Parallel(n_jobs=36)]: Done 177 tasks      | elapsed:    8.7s\n",
      "[Parallel(n_jobs=36)]: Done 450 tasks      | elapsed:   19.6s\n",
      "[Parallel(n_jobs=36)]: Done 800 tasks      | elapsed:   34.2s\n",
      "[Parallel(n_jobs=36)]: Done 1250 tasks      | elapsed:   54.3s\n",
      "[Parallel(n_jobs=36)]: Done 1800 tasks      | elapsed:  1.3min\n",
      "[Parallel(n_jobs=36)]: Done 2450 tasks      | elapsed:  1.7min\n",
      "[Parallel(n_jobs=36)]: Done 3200 tasks      | elapsed:  2.2min\n",
      "[Parallel(n_jobs=36)]: Done 4050 tasks      | elapsed:  2.8min\n",
      "[Parallel(n_jobs=36)]: Done 5000 tasks      | elapsed:  3.3min\n",
      "[Parallel(n_jobs=36)]: Done 6050 tasks      | elapsed:  4.0min\n",
      "[Parallel(n_jobs=36)]: Done 7200 tasks      | elapsed:  4.7min\n",
      "[Parallel(n_jobs=36)]: Done 8450 tasks      | elapsed:  5.5min\n",
      "[Parallel(n_jobs=36)]: Done 9800 tasks      | elapsed:  6.5min\n",
      "[Parallel(n_jobs=36)]: Done 11250 tasks      | elapsed:  7.4min\n",
      "[Parallel(n_jobs=36)]: Done 12608 out of 12608 | elapsed:  8.4min finished\n"
     ]
    },
    {
     "name": "stdout",
     "output_type": "stream",
     "text": [
      "4h_Psilo_1 vs ctrl\n",
      "Data Shape: (10372, 24181)\n",
      "Data Shape after compute_1d_moments: (10372, 11994)\n"
     ]
    },
    {
     "name": "stderr",
     "output_type": "stream",
     "text": [
      "[Parallel(n_jobs=36)]: Using backend LokyBackend with 36 concurrent workers.\n",
      "[Parallel(n_jobs=36)]: Done 176 tasks      | elapsed:    7.0s\n",
      "[Parallel(n_jobs=36)]: Done 450 tasks      | elapsed:   15.1s\n",
      "[Parallel(n_jobs=36)]: Done 800 tasks      | elapsed:   26.1s\n",
      "[Parallel(n_jobs=36)]: Done 1250 tasks      | elapsed:   41.8s\n",
      "[Parallel(n_jobs=36)]: Done 1800 tasks      | elapsed:   58.5s\n",
      "[Parallel(n_jobs=36)]: Done 2450 tasks      | elapsed:  1.3min\n",
      "[Parallel(n_jobs=36)]: Done 3200 tasks      | elapsed:  1.7min\n",
      "[Parallel(n_jobs=36)]: Done 4050 tasks      | elapsed:  2.1min\n",
      "[Parallel(n_jobs=36)]: Done 5000 tasks      | elapsed:  2.5min\n",
      "[Parallel(n_jobs=36)]: Done 6050 tasks      | elapsed:  3.0min\n",
      "[Parallel(n_jobs=36)]: Done 7200 tasks      | elapsed:  3.6min\n",
      "[Parallel(n_jobs=36)]: Done 8450 tasks      | elapsed:  4.3min\n",
      "[Parallel(n_jobs=36)]: Done 9800 tasks      | elapsed:  5.0min\n",
      "[Parallel(n_jobs=36)]: Done 11250 tasks      | elapsed:  5.7min\n",
      "[Parallel(n_jobs=36)]: Done 11994 out of 11994 | elapsed:  6.1min finished\n"
     ]
    },
    {
     "name": "stdout",
     "output_type": "stream",
     "text": [
      "4h_Psilo_10 vs ctrl\n",
      "Data Shape: (2748, 24181)\n",
      "Data Shape after compute_1d_moments: (2748, 12249)\n"
     ]
    },
    {
     "name": "stderr",
     "output_type": "stream",
     "text": [
      "[Parallel(n_jobs=36)]: Using backend LokyBackend with 36 concurrent workers.\n",
      "[Parallel(n_jobs=36)]: Done 184 tasks      | elapsed:    1.9s\n",
      "[Parallel(n_jobs=36)]: Done 684 tasks      | elapsed:    5.9s\n",
      "[Parallel(n_jobs=36)]: Done 1384 tasks      | elapsed:   11.5s\n",
      "[Parallel(n_jobs=36)]: Done 2284 tasks      | elapsed:   18.4s\n",
      "[Parallel(n_jobs=36)]: Done 3384 tasks      | elapsed:   26.8s\n",
      "[Parallel(n_jobs=36)]: Done 4684 tasks      | elapsed:   35.5s\n",
      "[Parallel(n_jobs=36)]: Done 6184 tasks      | elapsed:   46.2s\n",
      "[Parallel(n_jobs=36)]: Done 7884 tasks      | elapsed:   59.6s\n",
      "[Parallel(n_jobs=36)]: Done 9784 tasks      | elapsed:  1.2min\n",
      "[Parallel(n_jobs=36)]: Done 11884 tasks      | elapsed:  1.5min\n",
      "[Parallel(n_jobs=36)]: Done 12178 out of 12249 | elapsed:  1.5min remaining:    0.5s\n",
      "[Parallel(n_jobs=36)]: Done 12249 out of 12249 | elapsed:  1.6min finished\n"
     ]
    },
    {
     "name": "stdout",
     "output_type": "stream",
     "text": [
      "4h_Psilo_11 vs ctrl\n",
      "Data Shape: (2600, 24181)\n",
      "Data Shape after compute_1d_moments: (2600, 11628)\n"
     ]
    },
    {
     "name": "stderr",
     "output_type": "stream",
     "text": [
      "[Parallel(n_jobs=36)]: Using backend LokyBackend with 36 concurrent workers.\n",
      "[Parallel(n_jobs=36)]: Done 184 tasks      | elapsed:    1.5s\n",
      "[Parallel(n_jobs=36)]: Done 684 tasks      | elapsed:    5.2s\n",
      "[Parallel(n_jobs=36)]: Done 1384 tasks      | elapsed:   10.4s\n",
      "[Parallel(n_jobs=36)]: Done 2284 tasks      | elapsed:   16.4s\n",
      "[Parallel(n_jobs=36)]: Done 3384 tasks      | elapsed:   23.9s\n",
      "[Parallel(n_jobs=36)]: Done 4684 tasks      | elapsed:   31.9s\n",
      "[Parallel(n_jobs=36)]: Done 6184 tasks      | elapsed:   41.8s\n",
      "[Parallel(n_jobs=36)]: Done 7884 tasks      | elapsed:   53.1s\n",
      "[Parallel(n_jobs=36)]: Done 9784 tasks      | elapsed:  1.1min\n",
      "[Parallel(n_jobs=36)]: Done 11557 out of 11628 | elapsed:  1.3min remaining:    0.5s\n",
      "[Parallel(n_jobs=36)]: Done 11628 out of 11628 | elapsed:  1.3min finished\n"
     ]
    },
    {
     "name": "stdout",
     "output_type": "stream",
     "text": [
      "4h_Psilo_12 vs ctrl\n",
      "Data Shape: (2348, 24181)\n",
      "Data Shape after compute_1d_moments: (2348, 11742)\n"
     ]
    },
    {
     "name": "stderr",
     "output_type": "stream",
     "text": [
      "[Parallel(n_jobs=36)]: Using backend LokyBackend with 36 concurrent workers.\n",
      "[Parallel(n_jobs=36)]: Done 184 tasks      | elapsed:    1.3s\n",
      "[Parallel(n_jobs=36)]: Done 684 tasks      | elapsed:    4.3s\n",
      "[Parallel(n_jobs=36)]: Done 1384 tasks      | elapsed:    8.4s\n",
      "[Parallel(n_jobs=36)]: Done 2284 tasks      | elapsed:   13.2s\n",
      "[Parallel(n_jobs=36)]: Done 3384 tasks      | elapsed:   19.1s\n",
      "[Parallel(n_jobs=36)]: Done 4684 tasks      | elapsed:   25.4s\n",
      "[Parallel(n_jobs=36)]: Done 6184 tasks      | elapsed:   33.2s\n",
      "[Parallel(n_jobs=36)]: Done 7884 tasks      | elapsed:   42.3s\n",
      "[Parallel(n_jobs=36)]: Done 9784 tasks      | elapsed:   53.0s\n",
      "[Parallel(n_jobs=36)]: Done 11742 out of 11742 | elapsed:  1.1min finished\n"
     ]
    },
    {
     "name": "stdout",
     "output_type": "stream",
     "text": [
      "4h_Psilo_13 vs ctrl\n",
      "Data Shape: (2490, 24181)\n",
      "Data Shape after compute_1d_moments: (2490, 8968)\n"
     ]
    },
    {
     "name": "stderr",
     "output_type": "stream",
     "text": [
      "[Parallel(n_jobs=36)]: Using backend LokyBackend with 36 concurrent workers.\n",
      "[Parallel(n_jobs=36)]: Done 186 tasks      | elapsed:    0.9s\n",
      "[Parallel(n_jobs=36)]: Done 684 tasks      | elapsed:    2.7s\n",
      "[Parallel(n_jobs=36)]: Done 1384 tasks      | elapsed:    5.6s\n",
      "[Parallel(n_jobs=36)]: Done 2284 tasks      | elapsed:    8.9s\n",
      "[Parallel(n_jobs=36)]: Done 3384 tasks      | elapsed:   12.8s\n",
      "[Parallel(n_jobs=36)]: Done 4684 tasks      | elapsed:   17.4s\n",
      "[Parallel(n_jobs=36)]: Done 6184 tasks      | elapsed:   22.8s\n",
      "[Parallel(n_jobs=36)]: Done 7884 tasks      | elapsed:   29.7s\n",
      "[Parallel(n_jobs=36)]: Done 8897 out of 8968 | elapsed:   33.5s remaining:    0.3s\n",
      "[Parallel(n_jobs=36)]: Done 8968 out of 8968 | elapsed:   34.2s finished\n"
     ]
    },
    {
     "name": "stdout",
     "output_type": "stream",
     "text": [
      "4h_Psilo_14 vs ctrl\n",
      "Data Shape: (1755, 24181)\n",
      "Data Shape after compute_1d_moments: (1755, 12031)\n"
     ]
    },
    {
     "name": "stderr",
     "output_type": "stream",
     "text": [
      "[Parallel(n_jobs=36)]: Using backend LokyBackend with 36 concurrent workers.\n",
      "[Parallel(n_jobs=36)]: Done 184 tasks      | elapsed:    1.2s\n",
      "[Parallel(n_jobs=36)]: Done 684 tasks      | elapsed:    3.8s\n",
      "[Parallel(n_jobs=36)]: Done 1384 tasks      | elapsed:    7.4s\n",
      "[Parallel(n_jobs=36)]: Done 2284 tasks      | elapsed:   11.6s\n",
      "[Parallel(n_jobs=36)]: Done 3384 tasks      | elapsed:   17.1s\n",
      "[Parallel(n_jobs=36)]: Done 4684 tasks      | elapsed:   22.6s\n",
      "[Parallel(n_jobs=36)]: Done 6184 tasks      | elapsed:   29.6s\n",
      "[Parallel(n_jobs=36)]: Done 7884 tasks      | elapsed:   37.8s\n",
      "[Parallel(n_jobs=36)]: Done 9784 tasks      | elapsed:   47.5s\n",
      "[Parallel(n_jobs=36)]: Done 11884 tasks      | elapsed:   57.5s\n",
      "[Parallel(n_jobs=36)]: Done 11960 out of 12031 | elapsed:   58.0s remaining:    0.3s\n",
      "[Parallel(n_jobs=36)]: Done 12031 out of 12031 | elapsed:   59.0s finished\n"
     ]
    },
    {
     "name": "stdout",
     "output_type": "stream",
     "text": [
      "4h_Psilo_15 vs ctrl\n",
      "Data Shape: (730, 24181)\n",
      "Data Shape after compute_1d_moments: (730, 11742)\n"
     ]
    },
    {
     "name": "stderr",
     "output_type": "stream",
     "text": [
      "[Parallel(n_jobs=36)]: Using backend LokyBackend with 36 concurrent workers.\n",
      "[Parallel(n_jobs=36)]: Done 184 tasks      | elapsed:    0.7s\n",
      "[Parallel(n_jobs=36)]: Done 684 tasks      | elapsed:    2.1s\n",
      "[Parallel(n_jobs=36)]: Done 1384 tasks      | elapsed:    4.0s\n",
      "[Parallel(n_jobs=36)]: Done 2284 tasks      | elapsed:    6.4s\n",
      "[Parallel(n_jobs=36)]: Done 3384 tasks      | elapsed:    9.5s\n",
      "[Parallel(n_jobs=36)]: Done 4684 tasks      | elapsed:   12.8s\n",
      "[Parallel(n_jobs=36)]: Done 6184 tasks      | elapsed:   16.8s\n",
      "[Parallel(n_jobs=36)]: Done 7884 tasks      | elapsed:   21.3s\n",
      "[Parallel(n_jobs=36)]: Done 9784 tasks      | elapsed:   26.4s\n",
      "[Parallel(n_jobs=36)]: Done 11742 out of 11742 | elapsed:   32.1s finished\n"
     ]
    },
    {
     "name": "stdout",
     "output_type": "stream",
     "text": [
      "4h_Psilo_16 vs ctrl\n",
      "Data Shape: (523, 24181)\n",
      "Data Shape after compute_1d_moments: (523, 11026)\n"
     ]
    },
    {
     "name": "stderr",
     "output_type": "stream",
     "text": [
      "[Parallel(n_jobs=36)]: Using backend LokyBackend with 36 concurrent workers.\n",
      "[Parallel(n_jobs=36)]: Done 185 tasks      | elapsed:    0.5s\n",
      "[Parallel(n_jobs=36)]: Done 1152 tasks      | elapsed:    2.4s\n",
      "[Parallel(n_jobs=36)]: Done 2552 tasks      | elapsed:    4.8s\n",
      "[Parallel(n_jobs=36)]: Done 4352 tasks      | elapsed:    8.0s\n",
      "[Parallel(n_jobs=36)]: Done 6552 tasks      | elapsed:   12.1s\n",
      "[Parallel(n_jobs=36)]: Done 9152 tasks      | elapsed:   16.8s\n",
      "[Parallel(n_jobs=36)]: Done 10955 out of 11026 | elapsed:   20.0s remaining:    0.1s\n",
      "[Parallel(n_jobs=36)]: Done 11026 out of 11026 | elapsed:   20.5s finished\n"
     ]
    },
    {
     "name": "stdout",
     "output_type": "stream",
     "text": [
      "4h_Psilo_17 vs ctrl\n",
      "Data Shape: (746, 24181)\n",
      "Data Shape after compute_1d_moments: (746, 10508)\n"
     ]
    },
    {
     "name": "stderr",
     "output_type": "stream",
     "text": [
      "[Parallel(n_jobs=36)]: Using backend LokyBackend with 36 concurrent workers.\n",
      "[Parallel(n_jobs=36)]: Done 184 tasks      | elapsed:    0.5s\n",
      "[Parallel(n_jobs=36)]: Done 1152 tasks      | elapsed:    2.7s\n",
      "[Parallel(n_jobs=36)]: Done 2552 tasks      | elapsed:    5.8s\n",
      "[Parallel(n_jobs=36)]: Done 4352 tasks      | elapsed:    9.8s\n",
      "[Parallel(n_jobs=36)]: Done 6552 tasks      | elapsed:   14.4s\n",
      "[Parallel(n_jobs=36)]: Done 9152 tasks      | elapsed:   20.0s\n",
      "[Parallel(n_jobs=36)]: Done 10437 out of 10508 | elapsed:   22.6s remaining:    0.2s\n",
      "[Parallel(n_jobs=36)]: Done 10508 out of 10508 | elapsed:   23.0s finished\n"
     ]
    },
    {
     "name": "stdout",
     "output_type": "stream",
     "text": [
      "4h_Psilo_18 vs ctrl\n",
      "Data Shape: (417, 24181)\n",
      "Data Shape after compute_1d_moments: (417, 10197)\n"
     ]
    },
    {
     "name": "stderr",
     "output_type": "stream",
     "text": [
      "[Parallel(n_jobs=36)]: Using backend LokyBackend with 36 concurrent workers.\n",
      "[Parallel(n_jobs=36)]: Done 184 tasks      | elapsed:    0.4s\n",
      "[Parallel(n_jobs=36)]: Done 1152 tasks      | elapsed:    1.9s\n",
      "[Parallel(n_jobs=36)]: Done 2552 tasks      | elapsed:    4.0s\n",
      "[Parallel(n_jobs=36)]: Done 4352 tasks      | elapsed:    6.7s\n",
      "[Parallel(n_jobs=36)]: Done 6552 tasks      | elapsed:   10.2s\n",
      "[Parallel(n_jobs=36)]: Done 9152 tasks      | elapsed:   14.2s\n",
      "[Parallel(n_jobs=36)]: Done 10197 out of 10197 | elapsed:   16.1s finished\n"
     ]
    },
    {
     "name": "stdout",
     "output_type": "stream",
     "text": [
      "4h_Psilo_19 vs ctrl\n",
      "Data Shape: (316, 24181)\n",
      "Data Shape after compute_1d_moments: (316, 9449)\n"
     ]
    },
    {
     "name": "stderr",
     "output_type": "stream",
     "text": [
      "[Parallel(n_jobs=36)]: Using backend LokyBackend with 36 concurrent workers.\n",
      "[Parallel(n_jobs=36)]: Done 185 tasks      | elapsed:    0.4s\n",
      "[Parallel(n_jobs=36)]: Done 1152 tasks      | elapsed:    2.0s\n",
      "[Parallel(n_jobs=36)]: Done 2552 tasks      | elapsed:    4.3s\n",
      "[Parallel(n_jobs=36)]: Done 4352 tasks      | elapsed:    7.1s\n",
      "[Parallel(n_jobs=36)]: Done 6552 tasks      | elapsed:   10.5s\n",
      "[Parallel(n_jobs=36)]: Done 9152 tasks      | elapsed:   14.5s\n",
      "[Parallel(n_jobs=36)]: Done 9449 out of 9449 | elapsed:   15.1s finished\n"
     ]
    },
    {
     "name": "stdout",
     "output_type": "stream",
     "text": [
      "4h_Psilo_2 vs ctrl\n",
      "Data Shape: (9868, 24181)\n",
      "Data Shape after compute_1d_moments: (9868, 12428)\n"
     ]
    },
    {
     "name": "stderr",
     "output_type": "stream",
     "text": [
      "[Parallel(n_jobs=36)]: Using backend LokyBackend with 36 concurrent workers.\n",
      "[Parallel(n_jobs=36)]: Done 178 tasks      | elapsed:    6.9s\n",
      "[Parallel(n_jobs=36)]: Done 450 tasks      | elapsed:   15.3s\n",
      "[Parallel(n_jobs=36)]: Done 800 tasks      | elapsed:   26.4s\n",
      "[Parallel(n_jobs=36)]: Done 1250 tasks      | elapsed:   41.6s\n",
      "[Parallel(n_jobs=36)]: Done 1800 tasks      | elapsed:   58.4s\n",
      "[Parallel(n_jobs=36)]: Done 2450 tasks      | elapsed:  1.3min\n",
      "[Parallel(n_jobs=36)]: Done 3200 tasks      | elapsed:  1.7min\n",
      "[Parallel(n_jobs=36)]: Done 4050 tasks      | elapsed:  2.1min\n",
      "[Parallel(n_jobs=36)]: Done 5000 tasks      | elapsed:  2.5min\n",
      "[Parallel(n_jobs=36)]: Done 6050 tasks      | elapsed:  3.0min\n",
      "[Parallel(n_jobs=36)]: Done 7200 tasks      | elapsed:  3.6min\n",
      "[Parallel(n_jobs=36)]: Done 8450 tasks      | elapsed:  4.2min\n",
      "[Parallel(n_jobs=36)]: Done 9800 tasks      | elapsed:  5.0min\n",
      "[Parallel(n_jobs=36)]: Done 11250 tasks      | elapsed:  5.7min\n",
      "[Parallel(n_jobs=36)]: Done 12428 out of 12428 | elapsed:  6.3min finished\n"
     ]
    },
    {
     "name": "stdout",
     "output_type": "stream",
     "text": [
      "4h_Psilo_20 vs ctrl\n",
      "Data Shape: (128, 24181)\n",
      "Data Shape after compute_1d_moments: (128, 10873)\n"
     ]
    },
    {
     "name": "stderr",
     "output_type": "stream",
     "text": [
      "[Parallel(n_jobs=36)]: Using backend LokyBackend with 36 concurrent workers.\n",
      "[Parallel(n_jobs=36)]: Done 184 tasks      | elapsed:    0.3s\n",
      "[Parallel(n_jobs=36)]: Done 1152 tasks      | elapsed:    1.5s\n",
      "[Parallel(n_jobs=36)]: Done 2552 tasks      | elapsed:    3.1s\n",
      "[Parallel(n_jobs=36)]: Done 4352 tasks      | elapsed:    5.3s\n",
      "[Parallel(n_jobs=36)]: Done 6552 tasks      | elapsed:    7.8s\n",
      "[Parallel(n_jobs=36)]: Done 9152 tasks      | elapsed:   10.8s\n",
      "[Parallel(n_jobs=36)]: Done 10873 out of 10873 | elapsed:   12.9s finished\n"
     ]
    },
    {
     "name": "stdout",
     "output_type": "stream",
     "text": [
      "4h_Psilo_21 vs ctrl\n",
      "Skipping 4h_Psilo_21, < 100 cells\n",
      "4h_Psilo_3 vs ctrl\n",
      "Data Shape: (6772, 24181)\n",
      "Data Shape after compute_1d_moments: (6772, 12782)\n"
     ]
    },
    {
     "name": "stderr",
     "output_type": "stream",
     "text": [
      "[Parallel(n_jobs=36)]: Using backend LokyBackend with 36 concurrent workers.\n",
      "[Parallel(n_jobs=36)]: Done 184 tasks      | elapsed:    5.4s\n",
      "[Parallel(n_jobs=36)]: Done 486 tasks      | elapsed:   12.4s\n",
      "[Parallel(n_jobs=36)]: Done 836 tasks      | elapsed:   21.1s\n",
      "[Parallel(n_jobs=36)]: Done 1286 tasks      | elapsed:   32.4s\n",
      "[Parallel(n_jobs=36)]: Done 1836 tasks      | elapsed:   46.0s\n",
      "[Parallel(n_jobs=36)]: Done 2486 tasks      | elapsed:  1.0min\n",
      "[Parallel(n_jobs=36)]: Done 3236 tasks      | elapsed:  1.3min\n",
      "[Parallel(n_jobs=36)]: Done 4086 tasks      | elapsed:  1.7min\n",
      "[Parallel(n_jobs=36)]: Done 5036 tasks      | elapsed:  2.0min\n",
      "[Parallel(n_jobs=36)]: Done 6086 tasks      | elapsed:  2.4min\n",
      "[Parallel(n_jobs=36)]: Done 7236 tasks      | elapsed:  2.9min\n",
      "[Parallel(n_jobs=36)]: Done 8486 tasks      | elapsed:  3.4min\n",
      "[Parallel(n_jobs=36)]: Done 9836 tasks      | elapsed:  3.9min\n",
      "[Parallel(n_jobs=36)]: Done 11286 tasks      | elapsed:  4.5min\n",
      "[Parallel(n_jobs=36)]: Done 12782 out of 12782 | elapsed:  5.1min finished\n"
     ]
    },
    {
     "name": "stdout",
     "output_type": "stream",
     "text": [
      "4h_Psilo_4 vs ctrl\n",
      "Data Shape: (6491, 24181)\n",
      "Data Shape after compute_1d_moments: (6491, 9169)\n"
     ]
    },
    {
     "name": "stderr",
     "output_type": "stream",
     "text": [
      "[Parallel(n_jobs=36)]: Using backend LokyBackend with 36 concurrent workers.\n",
      "[Parallel(n_jobs=36)]: Done 185 tasks      | elapsed:    2.1s\n",
      "[Parallel(n_jobs=36)]: Done 651 tasks      | elapsed:    6.7s\n",
      "[Parallel(n_jobs=36)]: Done 1016 tasks      | elapsed:   10.6s\n",
      "[Parallel(n_jobs=36)]: Done 1466 tasks      | elapsed:   15.1s\n",
      "[Parallel(n_jobs=36)]: Done 2016 tasks      | elapsed:   20.4s\n",
      "[Parallel(n_jobs=36)]: Done 2666 tasks      | elapsed:   26.4s\n",
      "[Parallel(n_jobs=36)]: Done 3416 tasks      | elapsed:   33.2s\n",
      "[Parallel(n_jobs=36)]: Done 4266 tasks      | elapsed:   40.2s\n",
      "[Parallel(n_jobs=36)]: Done 5216 tasks      | elapsed:   49.9s\n",
      "[Parallel(n_jobs=36)]: Done 6266 tasks      | elapsed:  1.0min\n",
      "[Parallel(n_jobs=36)]: Done 7416 tasks      | elapsed:  1.2min\n",
      "[Parallel(n_jobs=36)]: Done 8666 tasks      | elapsed:  1.4min\n",
      "[Parallel(n_jobs=36)]: Done 9169 out of 9169 | elapsed:  1.5min finished\n"
     ]
    },
    {
     "name": "stdout",
     "output_type": "stream",
     "text": [
      "4h_Psilo_5 vs ctrl\n",
      "Data Shape: (5531, 24181)\n",
      "Data Shape after compute_1d_moments: (5531, 12588)\n"
     ]
    },
    {
     "name": "stderr",
     "output_type": "stream",
     "text": [
      "[Parallel(n_jobs=36)]: Using backend LokyBackend with 36 concurrent workers.\n",
      "[Parallel(n_jobs=36)]: Done 184 tasks      | elapsed:    4.4s\n",
      "[Parallel(n_jobs=36)]: Done 486 tasks      | elapsed:    9.5s\n",
      "[Parallel(n_jobs=36)]: Done 836 tasks      | elapsed:   16.0s\n",
      "[Parallel(n_jobs=36)]: Done 1286 tasks      | elapsed:   24.9s\n",
      "[Parallel(n_jobs=36)]: Done 1836 tasks      | elapsed:   35.0s\n",
      "[Parallel(n_jobs=36)]: Done 2486 tasks      | elapsed:   46.6s\n",
      "[Parallel(n_jobs=36)]: Done 3236 tasks      | elapsed:   60.0s\n",
      "[Parallel(n_jobs=36)]: Done 4086 tasks      | elapsed:  1.3min\n",
      "[Parallel(n_jobs=36)]: Done 5036 tasks      | elapsed:  1.5min\n",
      "[Parallel(n_jobs=36)]: Done 6086 tasks      | elapsed:  1.8min\n",
      "[Parallel(n_jobs=36)]: Done 7236 tasks      | elapsed:  2.2min\n",
      "[Parallel(n_jobs=36)]: Done 8486 tasks      | elapsed:  2.5min\n",
      "[Parallel(n_jobs=36)]: Done 9836 tasks      | elapsed:  2.9min\n",
      "[Parallel(n_jobs=36)]: Done 11286 tasks      | elapsed:  3.4min\n",
      "[Parallel(n_jobs=36)]: Done 12588 out of 12588 | elapsed:  3.8min finished\n"
     ]
    },
    {
     "name": "stdout",
     "output_type": "stream",
     "text": [
      "4h_Psilo_6 vs ctrl\n",
      "Data Shape: (5201, 24181)\n",
      "Data Shape after compute_1d_moments: (5201, 10657)\n"
     ]
    },
    {
     "name": "stderr",
     "output_type": "stream",
     "text": [
      "[Parallel(n_jobs=36)]: Using backend LokyBackend with 36 concurrent workers.\n",
      "[Parallel(n_jobs=36)]: Done 186 tasks      | elapsed:    2.0s\n",
      "[Parallel(n_jobs=36)]: Done 684 tasks      | elapsed:    6.7s\n",
      "[Parallel(n_jobs=36)]: Done 1088 tasks      | elapsed:   10.2s\n",
      "[Parallel(n_jobs=36)]: Done 1538 tasks      | elapsed:   13.5s\n",
      "[Parallel(n_jobs=36)]: Done 2088 tasks      | elapsed:   18.1s\n",
      "[Parallel(n_jobs=36)]: Done 2738 tasks      | elapsed:   23.3s\n",
      "[Parallel(n_jobs=36)]: Done 3488 tasks      | elapsed:   29.0s\n",
      "[Parallel(n_jobs=36)]: Done 4338 tasks      | elapsed:   35.4s\n",
      "[Parallel(n_jobs=36)]: Done 5288 tasks      | elapsed:   42.9s\n",
      "[Parallel(n_jobs=36)]: Done 6338 tasks      | elapsed:   51.9s\n",
      "[Parallel(n_jobs=36)]: Done 7488 tasks      | elapsed:  1.0min\n",
      "[Parallel(n_jobs=36)]: Done 8738 tasks      | elapsed:  1.2min\n",
      "[Parallel(n_jobs=36)]: Done 10088 tasks      | elapsed:  1.4min\n",
      "[Parallel(n_jobs=36)]: Done 10657 out of 10657 | elapsed:  1.5min finished\n"
     ]
    },
    {
     "name": "stdout",
     "output_type": "stream",
     "text": [
      "4h_Psilo_7 vs ctrl\n",
      "Data Shape: (3953, 24181)\n",
      "Data Shape after compute_1d_moments: (3953, 12913)\n"
     ]
    },
    {
     "name": "stderr",
     "output_type": "stream",
     "text": [
      "[Parallel(n_jobs=36)]: Using backend LokyBackend with 36 concurrent workers.\n",
      "[Parallel(n_jobs=36)]: Done 184 tasks      | elapsed:    3.4s\n",
      "[Parallel(n_jobs=36)]: Done 522 tasks      | elapsed:    8.4s\n",
      "[Parallel(n_jobs=36)]: Done 872 tasks      | elapsed:   13.5s\n",
      "[Parallel(n_jobs=36)]: Done 1322 tasks      | elapsed:   20.6s\n",
      "[Parallel(n_jobs=36)]: Done 1872 tasks      | elapsed:   29.2s\n",
      "[Parallel(n_jobs=36)]: Done 2522 tasks      | elapsed:   38.7s\n",
      "[Parallel(n_jobs=36)]: Done 3272 tasks      | elapsed:   50.0s\n",
      "[Parallel(n_jobs=36)]: Done 4122 tasks      | elapsed:  1.0min\n",
      "[Parallel(n_jobs=36)]: Done 5072 tasks      | elapsed:  1.2min\n",
      "[Parallel(n_jobs=36)]: Done 6122 tasks      | elapsed:  1.5min\n",
      "[Parallel(n_jobs=36)]: Done 7272 tasks      | elapsed:  1.8min\n",
      "[Parallel(n_jobs=36)]: Done 8522 tasks      | elapsed:  2.1min\n",
      "[Parallel(n_jobs=36)]: Done 9872 tasks      | elapsed:  2.5min\n",
      "[Parallel(n_jobs=36)]: Done 11322 tasks      | elapsed:  2.8min\n",
      "[Parallel(n_jobs=36)]: Done 12913 out of 12913 | elapsed:  3.2min finished\n"
     ]
    },
    {
     "name": "stdout",
     "output_type": "stream",
     "text": [
      "4h_Psilo_8 vs ctrl\n",
      "Data Shape: (3791, 24181)\n",
      "Data Shape after compute_1d_moments: (3791, 12197)\n"
     ]
    },
    {
     "name": "stderr",
     "output_type": "stream",
     "text": [
      "[Parallel(n_jobs=36)]: Using backend LokyBackend with 36 concurrent workers.\n",
      "[Parallel(n_jobs=36)]: Done 184 tasks      | elapsed:    2.5s\n",
      "[Parallel(n_jobs=36)]: Done 626 tasks      | elapsed:    7.7s\n",
      "[Parallel(n_jobs=36)]: Done 980 tasks      | elapsed:   11.7s\n",
      "[Parallel(n_jobs=36)]: Done 1430 tasks      | elapsed:   17.4s\n",
      "[Parallel(n_jobs=36)]: Done 1980 tasks      | elapsed:   23.7s\n",
      "[Parallel(n_jobs=36)]: Done 2630 tasks      | elapsed:   30.9s\n",
      "[Parallel(n_jobs=36)]: Done 3380 tasks      | elapsed:   39.3s\n",
      "[Parallel(n_jobs=36)]: Done 4230 tasks      | elapsed:   48.7s\n",
      "[Parallel(n_jobs=36)]: Done 5180 tasks      | elapsed:   58.1s\n",
      "[Parallel(n_jobs=36)]: Done 6230 tasks      | elapsed:  1.2min\n",
      "[Parallel(n_jobs=36)]: Done 7380 tasks      | elapsed:  1.4min\n",
      "[Parallel(n_jobs=36)]: Done 8630 tasks      | elapsed:  1.6min\n",
      "[Parallel(n_jobs=36)]: Done 9980 tasks      | elapsed:  1.9min\n",
      "[Parallel(n_jobs=36)]: Done 11430 tasks      | elapsed:  2.1min\n",
      "[Parallel(n_jobs=36)]: Done 12197 out of 12197 | elapsed:  2.3min finished\n"
     ]
    },
    {
     "name": "stdout",
     "output_type": "stream",
     "text": [
      "4h_Psilo_9 vs ctrl\n",
      "Data Shape: (3424, 24181)\n",
      "Data Shape after compute_1d_moments: (3424, 10589)\n"
     ]
    },
    {
     "name": "stderr",
     "output_type": "stream",
     "text": [
      "[Parallel(n_jobs=36)]: Using backend LokyBackend with 36 concurrent workers.\n",
      "[Parallel(n_jobs=36)]: Done 186 tasks      | elapsed:    1.5s\n",
      "[Parallel(n_jobs=36)]: Done 684 tasks      | elapsed:    4.7s\n",
      "[Parallel(n_jobs=36)]: Done 1384 tasks      | elapsed:    8.9s\n",
      "[Parallel(n_jobs=36)]: Done 2284 tasks      | elapsed:   14.4s\n",
      "[Parallel(n_jobs=36)]: Done 3384 tasks      | elapsed:   20.5s\n",
      "[Parallel(n_jobs=36)]: Done 4684 tasks      | elapsed:   27.5s\n",
      "[Parallel(n_jobs=36)]: Done 6184 tasks      | elapsed:   36.0s\n",
      "[Parallel(n_jobs=36)]: Done 7884 tasks      | elapsed:   45.9s\n",
      "[Parallel(n_jobs=36)]: Done 9784 tasks      | elapsed:   57.3s\n",
      "[Parallel(n_jobs=36)]: Done 10518 out of 10589 | elapsed:  1.0min remaining:    0.4s\n",
      "[Parallel(n_jobs=36)]: Done 10589 out of 10589 | elapsed:  1.0min finished\n"
     ]
    },
    {
     "name": "stdout",
     "output_type": "stream",
     "text": [
      "24h_Ket_0 vs ctrl\n",
      "Data Shape: (11846, 24181)\n",
      "Data Shape after compute_1d_moments: (11846, 12602)\n"
     ]
    },
    {
     "name": "stderr",
     "output_type": "stream",
     "text": [
      "[Parallel(n_jobs=36)]: Using backend LokyBackend with 36 concurrent workers.\n",
      "[Parallel(n_jobs=36)]: Done 177 tasks      | elapsed:    8.2s\n",
      "[Parallel(n_jobs=36)]: Done 450 tasks      | elapsed:   18.5s\n",
      "[Parallel(n_jobs=36)]: Done 800 tasks      | elapsed:   32.1s\n",
      "[Parallel(n_jobs=36)]: Done 1250 tasks      | elapsed:   51.1s\n",
      "[Parallel(n_jobs=36)]: Done 1800 tasks      | elapsed:  1.2min\n",
      "[Parallel(n_jobs=36)]: Done 2450 tasks      | elapsed:  1.6min\n",
      "[Parallel(n_jobs=36)]: Done 3200 tasks      | elapsed:  2.1min\n",
      "[Parallel(n_jobs=36)]: Done 4050 tasks      | elapsed:  2.6min\n",
      "[Parallel(n_jobs=36)]: Done 5000 tasks      | elapsed:  3.1min\n",
      "[Parallel(n_jobs=36)]: Done 6050 tasks      | elapsed:  3.8min\n",
      "[Parallel(n_jobs=36)]: Done 7200 tasks      | elapsed:  4.5min\n",
      "[Parallel(n_jobs=36)]: Done 8450 tasks      | elapsed:  5.2min\n",
      "[Parallel(n_jobs=36)]: Done 9800 tasks      | elapsed:  6.1min\n",
      "[Parallel(n_jobs=36)]: Done 11250 tasks      | elapsed:  7.0min\n",
      "[Parallel(n_jobs=36)]: Done 12602 out of 12602 | elapsed:  7.9min finished\n"
     ]
    },
    {
     "name": "stdout",
     "output_type": "stream",
     "text": [
      "24h_Ket_1 vs ctrl\n",
      "Data Shape: (10138, 24181)\n",
      "Data Shape after compute_1d_moments: (10138, 11966)\n"
     ]
    },
    {
     "name": "stderr",
     "output_type": "stream",
     "text": [
      "[Parallel(n_jobs=36)]: Using backend LokyBackend with 36 concurrent workers.\n",
      "[Parallel(n_jobs=36)]: Done 174 tasks      | elapsed:    6.6s\n",
      "[Parallel(n_jobs=36)]: Done 450 tasks      | elapsed:   14.4s\n",
      "[Parallel(n_jobs=36)]: Done 800 tasks      | elapsed:   24.9s\n",
      "[Parallel(n_jobs=36)]: Done 1250 tasks      | elapsed:   40.1s\n",
      "[Parallel(n_jobs=36)]: Done 1800 tasks      | elapsed:   56.0s\n",
      "[Parallel(n_jobs=36)]: Done 2450 tasks      | elapsed:  1.3min\n",
      "[Parallel(n_jobs=36)]: Done 3200 tasks      | elapsed:  1.6min\n",
      "[Parallel(n_jobs=36)]: Done 4050 tasks      | elapsed:  2.0min\n",
      "[Parallel(n_jobs=36)]: Done 5000 tasks      | elapsed:  2.4min\n",
      "[Parallel(n_jobs=36)]: Done 6050 tasks      | elapsed:  2.9min\n",
      "[Parallel(n_jobs=36)]: Done 7200 tasks      | elapsed:  3.5min\n",
      "[Parallel(n_jobs=36)]: Done 8450 tasks      | elapsed:  4.1min\n",
      "[Parallel(n_jobs=36)]: Done 9800 tasks      | elapsed:  4.8min\n",
      "[Parallel(n_jobs=36)]: Done 11250 tasks      | elapsed:  5.4min\n",
      "[Parallel(n_jobs=36)]: Done 11966 out of 11966 | elapsed:  5.8min finished\n"
     ]
    },
    {
     "name": "stdout",
     "output_type": "stream",
     "text": [
      "24h_Ket_10 vs ctrl\n",
      "Data Shape: (2501, 24181)\n",
      "Data Shape after compute_1d_moments: (2501, 12187)\n"
     ]
    },
    {
     "name": "stderr",
     "output_type": "stream",
     "text": [
      "[Parallel(n_jobs=36)]: Using backend LokyBackend with 36 concurrent workers.\n",
      "[Parallel(n_jobs=36)]: Done 184 tasks      | elapsed:    1.7s\n",
      "[Parallel(n_jobs=36)]: Done 684 tasks      | elapsed:    5.4s\n",
      "[Parallel(n_jobs=36)]: Done 1384 tasks      | elapsed:   10.5s\n",
      "[Parallel(n_jobs=36)]: Done 2284 tasks      | elapsed:   16.9s\n",
      "[Parallel(n_jobs=36)]: Done 3384 tasks      | elapsed:   24.6s\n",
      "[Parallel(n_jobs=36)]: Done 4684 tasks      | elapsed:   32.4s\n",
      "[Parallel(n_jobs=36)]: Done 6184 tasks      | elapsed:   42.1s\n",
      "[Parallel(n_jobs=36)]: Done 7884 tasks      | elapsed:   54.1s\n",
      "[Parallel(n_jobs=36)]: Done 9784 tasks      | elapsed:  1.1min\n",
      "[Parallel(n_jobs=36)]: Done 11884 tasks      | elapsed:  1.4min\n",
      "[Parallel(n_jobs=36)]: Done 12187 out of 12187 | elapsed:  1.4min finished\n"
     ]
    },
    {
     "name": "stdout",
     "output_type": "stream",
     "text": [
      "24h_Ket_11 vs ctrl\n",
      "Data Shape: (2479, 24181)\n",
      "Data Shape after compute_1d_moments: (2479, 11589)\n"
     ]
    },
    {
     "name": "stderr",
     "output_type": "stream",
     "text": [
      "[Parallel(n_jobs=36)]: Using backend LokyBackend with 36 concurrent workers.\n",
      "[Parallel(n_jobs=36)]: Done 184 tasks      | elapsed:    1.5s\n",
      "[Parallel(n_jobs=36)]: Done 684 tasks      | elapsed:    4.9s\n",
      "[Parallel(n_jobs=36)]: Done 1384 tasks      | elapsed:    9.8s\n",
      "[Parallel(n_jobs=36)]: Done 2284 tasks      | elapsed:   15.5s\n",
      "[Parallel(n_jobs=36)]: Done 3384 tasks      | elapsed:   22.5s\n",
      "[Parallel(n_jobs=36)]: Done 4684 tasks      | elapsed:   30.0s\n",
      "[Parallel(n_jobs=36)]: Done 6184 tasks      | elapsed:   39.3s\n",
      "[Parallel(n_jobs=36)]: Done 7884 tasks      | elapsed:   50.1s\n",
      "[Parallel(n_jobs=36)]: Done 9784 tasks      | elapsed:  1.0min\n",
      "[Parallel(n_jobs=36)]: Done 11518 out of 11589 | elapsed:  1.2min remaining:    0.5s\n",
      "[Parallel(n_jobs=36)]: Done 11589 out of 11589 | elapsed:  1.2min finished\n"
     ]
    },
    {
     "name": "stdout",
     "output_type": "stream",
     "text": [
      "24h_Ket_12 vs ctrl\n",
      "Data Shape: (2151, 24181)\n",
      "Data Shape after compute_1d_moments: (2151, 11634)\n"
     ]
    },
    {
     "name": "stderr",
     "output_type": "stream",
     "text": [
      "[Parallel(n_jobs=36)]: Using backend LokyBackend with 36 concurrent workers.\n",
      "[Parallel(n_jobs=36)]: Done 184 tasks      | elapsed:    1.2s\n",
      "[Parallel(n_jobs=36)]: Done 684 tasks      | elapsed:    4.0s\n",
      "[Parallel(n_jobs=36)]: Done 1384 tasks      | elapsed:    7.8s\n",
      "[Parallel(n_jobs=36)]: Done 2284 tasks      | elapsed:   12.3s\n",
      "[Parallel(n_jobs=36)]: Done 3384 tasks      | elapsed:   17.9s\n",
      "[Parallel(n_jobs=36)]: Done 4684 tasks      | elapsed:   23.9s\n",
      "[Parallel(n_jobs=36)]: Done 6184 tasks      | elapsed:   31.2s\n",
      "[Parallel(n_jobs=36)]: Done 7884 tasks      | elapsed:   39.8s\n",
      "[Parallel(n_jobs=36)]: Done 9784 tasks      | elapsed:   50.0s\n",
      "[Parallel(n_jobs=36)]: Done 11563 out of 11634 | elapsed:   59.0s remaining:    0.4s\n",
      "[Parallel(n_jobs=36)]: Done 11634 out of 11634 | elapsed:  1.0min finished\n"
     ]
    },
    {
     "name": "stdout",
     "output_type": "stream",
     "text": [
      "24h_Ket_13 vs ctrl\n",
      "Data Shape: (2158, 24181)\n",
      "Data Shape after compute_1d_moments: (2158, 8901)\n"
     ]
    },
    {
     "name": "stderr",
     "output_type": "stream",
     "text": [
      "[Parallel(n_jobs=36)]: Using backend LokyBackend with 36 concurrent workers.\n",
      "[Parallel(n_jobs=36)]: Done 186 tasks      | elapsed:    0.8s\n",
      "[Parallel(n_jobs=36)]: Done 684 tasks      | elapsed:    2.6s\n",
      "[Parallel(n_jobs=36)]: Done 1384 tasks      | elapsed:    5.1s\n",
      "[Parallel(n_jobs=36)]: Done 2284 tasks      | elapsed:    8.1s\n",
      "[Parallel(n_jobs=36)]: Done 3384 tasks      | elapsed:   11.7s\n",
      "[Parallel(n_jobs=36)]: Done 4684 tasks      | elapsed:   15.9s\n",
      "[Parallel(n_jobs=36)]: Done 6184 tasks      | elapsed:   21.2s\n",
      "[Parallel(n_jobs=36)]: Done 7884 tasks      | elapsed:   27.4s\n",
      "[Parallel(n_jobs=36)]: Done 8830 out of 8901 | elapsed:   30.6s remaining:    0.2s\n",
      "[Parallel(n_jobs=36)]: Done 8901 out of 8901 | elapsed:   31.4s finished\n"
     ]
    },
    {
     "name": "stdout",
     "output_type": "stream",
     "text": [
      "24h_Ket_14 vs ctrl\n",
      "Data Shape: (1659, 24181)\n",
      "Data Shape after compute_1d_moments: (1659, 12005)\n"
     ]
    },
    {
     "name": "stderr",
     "output_type": "stream",
     "text": [
      "[Parallel(n_jobs=36)]: Using backend LokyBackend with 36 concurrent workers.\n",
      "[Parallel(n_jobs=36)]: Done 184 tasks      | elapsed:    1.1s\n",
      "[Parallel(n_jobs=36)]: Done 684 tasks      | elapsed:    3.7s\n",
      "[Parallel(n_jobs=36)]: Done 1384 tasks      | elapsed:    7.1s\n",
      "[Parallel(n_jobs=36)]: Done 2284 tasks      | elapsed:   11.1s\n",
      "[Parallel(n_jobs=36)]: Done 3384 tasks      | elapsed:   16.3s\n",
      "[Parallel(n_jobs=36)]: Done 4684 tasks      | elapsed:   21.7s\n",
      "[Parallel(n_jobs=36)]: Done 6184 tasks      | elapsed:   28.3s\n",
      "[Parallel(n_jobs=36)]: Done 7884 tasks      | elapsed:   36.3s\n",
      "[Parallel(n_jobs=36)]: Done 9784 tasks      | elapsed:   45.6s\n",
      "[Parallel(n_jobs=36)]: Done 11884 tasks      | elapsed:   55.2s\n",
      "[Parallel(n_jobs=36)]: Done 11934 out of 12005 | elapsed:   55.4s remaining:    0.3s\n",
      "[Parallel(n_jobs=36)]: Done 12005 out of 12005 | elapsed:   56.3s finished\n"
     ]
    },
    {
     "name": "stdout",
     "output_type": "stream",
     "text": [
      "24h_Ket_15 vs ctrl\n",
      "Data Shape: (755, 24181)\n",
      "Data Shape after compute_1d_moments: (755, 11934)\n"
     ]
    },
    {
     "name": "stderr",
     "output_type": "stream",
     "text": [
      "[Parallel(n_jobs=36)]: Using backend LokyBackend with 36 concurrent workers.\n",
      "[Parallel(n_jobs=36)]: Done 184 tasks      | elapsed:    0.7s\n",
      "[Parallel(n_jobs=36)]: Done 684 tasks      | elapsed:    2.1s\n",
      "[Parallel(n_jobs=36)]: Done 1384 tasks      | elapsed:    4.1s\n",
      "[Parallel(n_jobs=36)]: Done 2284 tasks      | elapsed:    6.7s\n",
      "[Parallel(n_jobs=36)]: Done 3384 tasks      | elapsed:    9.8s\n",
      "[Parallel(n_jobs=36)]: Done 4684 tasks      | elapsed:   13.0s\n",
      "[Parallel(n_jobs=36)]: Done 6184 tasks      | elapsed:   17.1s\n",
      "[Parallel(n_jobs=36)]: Done 7884 tasks      | elapsed:   21.8s\n",
      "[Parallel(n_jobs=36)]: Done 9784 tasks      | elapsed:   27.3s\n",
      "[Parallel(n_jobs=36)]: Done 11934 out of 11934 | elapsed:   33.2s finished\n"
     ]
    },
    {
     "name": "stdout",
     "output_type": "stream",
     "text": [
      "24h_Ket_16 vs ctrl\n",
      "Data Shape: (501, 24181)\n",
      "Data Shape after compute_1d_moments: (501, 11684)\n"
     ]
    },
    {
     "name": "stderr",
     "output_type": "stream",
     "text": [
      "[Parallel(n_jobs=36)]: Using backend LokyBackend with 36 concurrent workers.\n",
      "[Parallel(n_jobs=36)]: Done 184 tasks      | elapsed:    0.4s\n",
      "[Parallel(n_jobs=36)]: Done 1152 tasks      | elapsed:    2.2s\n",
      "[Parallel(n_jobs=36)]: Done 2552 tasks      | elapsed:    4.5s\n",
      "[Parallel(n_jobs=36)]: Done 4352 tasks      | elapsed:    7.6s\n",
      "[Parallel(n_jobs=36)]: Done 6552 tasks      | elapsed:   11.3s\n",
      "[Parallel(n_jobs=36)]: Done 9152 tasks      | elapsed:   15.6s\n",
      "[Parallel(n_jobs=36)]: Done 11684 out of 11684 | elapsed:   20.1s finished\n"
     ]
    },
    {
     "name": "stdout",
     "output_type": "stream",
     "text": [
      "24h_Ket_17 vs ctrl\n",
      "Data Shape: (681, 24181)\n",
      "Data Shape after compute_1d_moments: (681, 10496)\n"
     ]
    },
    {
     "name": "stderr",
     "output_type": "stream",
     "text": [
      "[Parallel(n_jobs=36)]: Using backend LokyBackend with 36 concurrent workers.\n",
      "[Parallel(n_jobs=36)]: Done 184 tasks      | elapsed:    0.5s\n",
      "[Parallel(n_jobs=36)]: Done 1152 tasks      | elapsed:    2.6s\n",
      "[Parallel(n_jobs=36)]: Done 2552 tasks      | elapsed:    5.5s\n",
      "[Parallel(n_jobs=36)]: Done 4352 tasks      | elapsed:    9.1s\n",
      "[Parallel(n_jobs=36)]: Done 6552 tasks      | elapsed:   13.4s\n",
      "[Parallel(n_jobs=36)]: Done 9152 tasks      | elapsed:   18.7s\n",
      "[Parallel(n_jobs=36)]: Done 10425 out of 10496 | elapsed:   21.2s remaining:    0.1s\n",
      "[Parallel(n_jobs=36)]: Done 10496 out of 10496 | elapsed:   21.5s finished\n"
     ]
    },
    {
     "name": "stdout",
     "output_type": "stream",
     "text": [
      "24h_Ket_18 vs ctrl\n",
      "Data Shape: (320, 24181)\n",
      "Data Shape after compute_1d_moments: (320, 9633)\n"
     ]
    },
    {
     "name": "stderr",
     "output_type": "stream",
     "text": [
      "[Parallel(n_jobs=36)]: Using backend LokyBackend with 36 concurrent workers.\n",
      "[Parallel(n_jobs=36)]: Done 184 tasks      | elapsed:    0.3s\n",
      "[Parallel(n_jobs=36)]: Done 1152 tasks      | elapsed:    1.7s\n",
      "[Parallel(n_jobs=36)]: Done 2552 tasks      | elapsed:    3.6s\n",
      "[Parallel(n_jobs=36)]: Done 4352 tasks      | elapsed:    6.0s\n",
      "[Parallel(n_jobs=36)]: Done 6552 tasks      | elapsed:    8.9s\n",
      "[Parallel(n_jobs=36)]: Done 9152 tasks      | elapsed:   12.7s\n",
      "[Parallel(n_jobs=36)]: Done 9633 out of 9633 | elapsed:   13.4s finished\n"
     ]
    },
    {
     "name": "stdout",
     "output_type": "stream",
     "text": [
      "24h_Ket_19 vs ctrl\n",
      "Data Shape: (294, 24181)\n",
      "Data Shape after compute_1d_moments: (294, 8900)\n"
     ]
    },
    {
     "name": "stderr",
     "output_type": "stream",
     "text": [
      "[Parallel(n_jobs=36)]: Using backend LokyBackend with 36 concurrent workers.\n",
      "[Parallel(n_jobs=36)]: Done 184 tasks      | elapsed:    0.3s\n",
      "[Parallel(n_jobs=36)]: Done 1152 tasks      | elapsed:    1.8s\n",
      "[Parallel(n_jobs=36)]: Done 2552 tasks      | elapsed:    3.8s\n",
      "[Parallel(n_jobs=36)]: Done 4352 tasks      | elapsed:    6.2s\n",
      "[Parallel(n_jobs=36)]: Done 6552 tasks      | elapsed:    9.4s\n",
      "[Parallel(n_jobs=36)]: Done 8900 out of 8900 | elapsed:   12.8s finished\n"
     ]
    },
    {
     "name": "stdout",
     "output_type": "stream",
     "text": [
      "24h_Ket_2 vs ctrl\n",
      "Data Shape: (10212, 24181)\n",
      "Data Shape after compute_1d_moments: (10212, 12411)\n"
     ]
    },
    {
     "name": "stderr",
     "output_type": "stream",
     "text": [
      "[Parallel(n_jobs=36)]: Using backend LokyBackend with 36 concurrent workers.\n",
      "[Parallel(n_jobs=36)]: Done 177 tasks      | elapsed:    7.1s\n",
      "[Parallel(n_jobs=36)]: Done 450 tasks      | elapsed:   15.1s\n",
      "[Parallel(n_jobs=36)]: Done 800 tasks      | elapsed:   26.3s\n",
      "[Parallel(n_jobs=36)]: Done 1250 tasks      | elapsed:   41.7s\n",
      "[Parallel(n_jobs=36)]: Done 1800 tasks      | elapsed:   58.3s\n",
      "[Parallel(n_jobs=36)]: Done 2450 tasks      | elapsed:  1.3min\n",
      "[Parallel(n_jobs=36)]: Done 3200 tasks      | elapsed:  1.7min\n",
      "[Parallel(n_jobs=36)]: Done 4050 tasks      | elapsed:  2.1min\n",
      "[Parallel(n_jobs=36)]: Done 5000 tasks      | elapsed:  2.5min\n",
      "[Parallel(n_jobs=36)]: Done 6050 tasks      | elapsed:  3.0min\n",
      "[Parallel(n_jobs=36)]: Done 7200 tasks      | elapsed:  3.6min\n",
      "[Parallel(n_jobs=36)]: Done 8450 tasks      | elapsed:  4.3min\n",
      "[Parallel(n_jobs=36)]: Done 9800 tasks      | elapsed:  5.0min\n",
      "[Parallel(n_jobs=36)]: Done 11250 tasks      | elapsed:  5.7min\n",
      "[Parallel(n_jobs=36)]: Done 12411 out of 12411 | elapsed:  6.3min finished\n"
     ]
    },
    {
     "name": "stdout",
     "output_type": "stream",
     "text": [
      "24h_Ket_20 vs ctrl\n",
      "Data Shape: (109, 24181)\n",
      "Data Shape after compute_1d_moments: (109, 9938)\n"
     ]
    },
    {
     "name": "stderr",
     "output_type": "stream",
     "text": [
      "[Parallel(n_jobs=36)]: Using backend LokyBackend with 36 concurrent workers.\n",
      "[Parallel(n_jobs=36)]: Done 184 tasks      | elapsed:    0.4s\n",
      "[Parallel(n_jobs=36)]: Done 1152 tasks      | elapsed:    1.3s\n",
      "[Parallel(n_jobs=36)]: Done 2552 tasks      | elapsed:    2.8s\n",
      "[Parallel(n_jobs=36)]: Done 4352 tasks      | elapsed:    4.5s\n",
      "[Parallel(n_jobs=36)]: Done 6552 tasks      | elapsed:    6.6s\n",
      "[Parallel(n_jobs=36)]: Done 9152 tasks      | elapsed:    9.3s\n",
      "[Parallel(n_jobs=36)]: Done 9867 out of 9938 | elapsed:   10.0s remaining:    0.1s\n",
      "[Parallel(n_jobs=36)]: Done 9938 out of 9938 | elapsed:   10.2s finished\n"
     ]
    },
    {
     "name": "stdout",
     "output_type": "stream",
     "text": [
      "24h_Ket_21 vs ctrl\n",
      "Skipping 24h_Ket_21, < 100 cells\n",
      "24h_Ket_3 vs ctrl\n",
      "Data Shape: (6524, 24181)\n",
      "Data Shape after compute_1d_moments: (6524, 12809)\n"
     ]
    },
    {
     "name": "stderr",
     "output_type": "stream",
     "text": [
      "[Parallel(n_jobs=36)]: Using backend LokyBackend with 36 concurrent workers.\n",
      "[Parallel(n_jobs=36)]: Done 184 tasks      | elapsed:    5.2s\n",
      "[Parallel(n_jobs=36)]: Done 486 tasks      | elapsed:   11.6s\n",
      "[Parallel(n_jobs=36)]: Done 836 tasks      | elapsed:   19.5s\n",
      "[Parallel(n_jobs=36)]: Done 1286 tasks      | elapsed:   29.9s\n",
      "[Parallel(n_jobs=36)]: Done 1836 tasks      | elapsed:   42.1s\n",
      "[Parallel(n_jobs=36)]: Done 2486 tasks      | elapsed:   56.3s\n",
      "[Parallel(n_jobs=36)]: Done 3236 tasks      | elapsed:  1.2min\n",
      "[Parallel(n_jobs=36)]: Done 4086 tasks      | elapsed:  1.5min\n",
      "[Parallel(n_jobs=36)]: Done 5036 tasks      | elapsed:  1.8min\n",
      "[Parallel(n_jobs=36)]: Done 6086 tasks      | elapsed:  2.2min\n",
      "[Parallel(n_jobs=36)]: Done 7236 tasks      | elapsed:  2.6min\n",
      "[Parallel(n_jobs=36)]: Done 8486 tasks      | elapsed:  3.0min\n",
      "[Parallel(n_jobs=36)]: Done 9836 tasks      | elapsed:  3.5min\n",
      "[Parallel(n_jobs=36)]: Done 11286 tasks      | elapsed:  4.1min\n",
      "[Parallel(n_jobs=36)]: Done 12809 out of 12809 | elapsed:  4.6min finished\n"
     ]
    },
    {
     "name": "stdout",
     "output_type": "stream",
     "text": [
      "24h_Ket_4 vs ctrl\n",
      "Data Shape: (6213, 24181)\n",
      "Data Shape after compute_1d_moments: (6213, 9062)\n"
     ]
    },
    {
     "name": "stderr",
     "output_type": "stream",
     "text": [
      "[Parallel(n_jobs=36)]: Using backend LokyBackend with 36 concurrent workers.\n",
      "[Parallel(n_jobs=36)]: Done 186 tasks      | elapsed:    1.9s\n",
      "[Parallel(n_jobs=36)]: Done 684 tasks      | elapsed:    6.6s\n",
      "[Parallel(n_jobs=36)]: Done 1160 tasks      | elapsed:   11.3s\n",
      "[Parallel(n_jobs=36)]: Done 1610 tasks      | elapsed:   15.7s\n",
      "[Parallel(n_jobs=36)]: Done 2160 tasks      | elapsed:   20.8s\n",
      "[Parallel(n_jobs=36)]: Done 2810 tasks      | elapsed:   26.3s\n",
      "[Parallel(n_jobs=36)]: Done 3560 tasks      | elapsed:   32.5s\n",
      "[Parallel(n_jobs=36)]: Done 4410 tasks      | elapsed:   39.7s\n",
      "[Parallel(n_jobs=36)]: Done 5360 tasks      | elapsed:   48.9s\n",
      "[Parallel(n_jobs=36)]: Done 6410 tasks      | elapsed:   59.2s\n",
      "[Parallel(n_jobs=36)]: Done 7560 tasks      | elapsed:  1.2min\n",
      "[Parallel(n_jobs=36)]: Done 8810 tasks      | elapsed:  1.4min\n",
      "[Parallel(n_jobs=36)]: Done 9062 out of 9062 | elapsed:  1.4min finished\n"
     ]
    },
    {
     "name": "stdout",
     "output_type": "stream",
     "text": [
      "24h_Ket_5 vs ctrl\n",
      "Data Shape: (5328, 24181)\n",
      "Data Shape after compute_1d_moments: (5328, 12614)\n"
     ]
    },
    {
     "name": "stderr",
     "output_type": "stream",
     "text": [
      "[Parallel(n_jobs=36)]: Using backend LokyBackend with 36 concurrent workers.\n",
      "[Parallel(n_jobs=36)]: Done 184 tasks      | elapsed:    4.1s\n",
      "[Parallel(n_jobs=36)]: Done 486 tasks      | elapsed:    8.9s\n",
      "[Parallel(n_jobs=36)]: Done 836 tasks      | elapsed:   15.2s\n",
      "[Parallel(n_jobs=36)]: Done 1286 tasks      | elapsed:   23.6s\n",
      "[Parallel(n_jobs=36)]: Done 1836 tasks      | elapsed:   32.8s\n",
      "[Parallel(n_jobs=36)]: Done 2486 tasks      | elapsed:   43.8s\n",
      "[Parallel(n_jobs=36)]: Done 3236 tasks      | elapsed:   56.1s\n",
      "[Parallel(n_jobs=36)]: Done 4086 tasks      | elapsed:  1.2min\n",
      "[Parallel(n_jobs=36)]: Done 5036 tasks      | elapsed:  1.4min\n",
      "[Parallel(n_jobs=36)]: Done 6086 tasks      | elapsed:  1.7min\n",
      "[Parallel(n_jobs=36)]: Done 7236 tasks      | elapsed:  2.0min\n",
      "[Parallel(n_jobs=36)]: Done 8486 tasks      | elapsed:  2.3min\n",
      "[Parallel(n_jobs=36)]: Done 9836 tasks      | elapsed:  2.7min\n",
      "[Parallel(n_jobs=36)]: Done 11286 tasks      | elapsed:  3.1min\n",
      "[Parallel(n_jobs=36)]: Done 12614 out of 12614 | elapsed:  3.5min finished\n"
     ]
    },
    {
     "name": "stdout",
     "output_type": "stream",
     "text": [
      "24h_Ket_6 vs ctrl\n",
      "Data Shape: (4101, 24181)\n",
      "Data Shape after compute_1d_moments: (4101, 10548)\n"
     ]
    },
    {
     "name": "stderr",
     "output_type": "stream",
     "text": [
      "[Parallel(n_jobs=36)]: Using backend LokyBackend with 36 concurrent workers.\n",
      "[Parallel(n_jobs=36)]: Done 185 tasks      | elapsed:    1.6s\n",
      "[Parallel(n_jobs=36)]: Done 684 tasks      | elapsed:    5.3s\n",
      "[Parallel(n_jobs=36)]: Done 1384 tasks      | elapsed:   10.0s\n",
      "[Parallel(n_jobs=36)]: Done 2284 tasks      | elapsed:   15.8s\n",
      "[Parallel(n_jobs=36)]: Done 3384 tasks      | elapsed:   22.4s\n",
      "[Parallel(n_jobs=36)]: Done 4684 tasks      | elapsed:   30.2s\n",
      "[Parallel(n_jobs=36)]: Done 6184 tasks      | elapsed:   40.2s\n",
      "[Parallel(n_jobs=36)]: Done 7884 tasks      | elapsed:   51.7s\n",
      "[Parallel(n_jobs=36)]: Done 9784 tasks      | elapsed:  1.1min\n",
      "[Parallel(n_jobs=36)]: Done 10477 out of 10548 | elapsed:  1.2min remaining:    0.5s\n",
      "[Parallel(n_jobs=36)]: Done 10548 out of 10548 | elapsed:  1.2min finished\n"
     ]
    },
    {
     "name": "stdout",
     "output_type": "stream",
     "text": [
      "24h_Ket_7 vs ctrl\n",
      "Data Shape: (3672, 24181)\n",
      "Data Shape after compute_1d_moments: (3672, 12903)\n"
     ]
    },
    {
     "name": "stderr",
     "output_type": "stream",
     "text": [
      "[Parallel(n_jobs=36)]: Using backend LokyBackend with 36 concurrent workers.\n",
      "[Parallel(n_jobs=36)]: Done 184 tasks      | elapsed:    3.0s\n",
      "[Parallel(n_jobs=36)]: Done 522 tasks      | elapsed:    7.5s\n",
      "[Parallel(n_jobs=36)]: Done 872 tasks      | elapsed:   12.1s\n",
      "[Parallel(n_jobs=36)]: Done 1322 tasks      | elapsed:   18.3s\n",
      "[Parallel(n_jobs=36)]: Done 1872 tasks      | elapsed:   26.0s\n",
      "[Parallel(n_jobs=36)]: Done 2522 tasks      | elapsed:   34.5s\n",
      "[Parallel(n_jobs=36)]: Done 3272 tasks      | elapsed:   44.7s\n",
      "[Parallel(n_jobs=36)]: Done 4122 tasks      | elapsed:   56.1s\n",
      "[Parallel(n_jobs=36)]: Done 5072 tasks      | elapsed:  1.1min\n",
      "[Parallel(n_jobs=36)]: Done 6122 tasks      | elapsed:  1.3min\n",
      "[Parallel(n_jobs=36)]: Done 7272 tasks      | elapsed:  1.6min\n",
      "[Parallel(n_jobs=36)]: Done 8522 tasks      | elapsed:  1.9min\n",
      "[Parallel(n_jobs=36)]: Done 9872 tasks      | elapsed:  2.2min\n",
      "[Parallel(n_jobs=36)]: Done 11322 tasks      | elapsed:  2.5min\n",
      "[Parallel(n_jobs=36)]: Done 12903 out of 12903 | elapsed:  2.9min finished\n"
     ]
    },
    {
     "name": "stdout",
     "output_type": "stream",
     "text": [
      "24h_Ket_8 vs ctrl\n",
      "Data Shape: (3571, 24181)\n",
      "Data Shape after compute_1d_moments: (3571, 12110)\n"
     ]
    },
    {
     "name": "stderr",
     "output_type": "stream",
     "text": [
      "[Parallel(n_jobs=36)]: Using backend LokyBackend with 36 concurrent workers.\n",
      "[Parallel(n_jobs=36)]: Done 184 tasks      | elapsed:    2.5s\n",
      "[Parallel(n_jobs=36)]: Done 627 tasks      | elapsed:    7.3s\n",
      "[Parallel(n_jobs=36)]: Done 980 tasks      | elapsed:   11.1s\n",
      "[Parallel(n_jobs=36)]: Done 1430 tasks      | elapsed:   16.3s\n",
      "[Parallel(n_jobs=36)]: Done 1980 tasks      | elapsed:   22.3s\n",
      "[Parallel(n_jobs=36)]: Done 2630 tasks      | elapsed:   29.2s\n",
      "[Parallel(n_jobs=36)]: Done 3380 tasks      | elapsed:   37.3s\n",
      "[Parallel(n_jobs=36)]: Done 4230 tasks      | elapsed:   46.0s\n",
      "[Parallel(n_jobs=36)]: Done 5180 tasks      | elapsed:   54.4s\n",
      "[Parallel(n_jobs=36)]: Done 6230 tasks      | elapsed:  1.1min\n",
      "[Parallel(n_jobs=36)]: Done 7380 tasks      | elapsed:  1.3min\n",
      "[Parallel(n_jobs=36)]: Done 8630 tasks      | elapsed:  1.5min\n",
      "[Parallel(n_jobs=36)]: Done 9980 tasks      | elapsed:  1.7min\n",
      "[Parallel(n_jobs=36)]: Done 11430 tasks      | elapsed:  2.0min\n",
      "[Parallel(n_jobs=36)]: Done 12110 out of 12110 | elapsed:  2.1min finished\n"
     ]
    },
    {
     "name": "stdout",
     "output_type": "stream",
     "text": [
      "24h_Ket_9 vs ctrl\n",
      "Data Shape: (2942, 24181)\n",
      "Data Shape after compute_1d_moments: (2942, 10512)\n"
     ]
    },
    {
     "name": "stderr",
     "output_type": "stream",
     "text": [
      "[Parallel(n_jobs=36)]: Using backend LokyBackend with 36 concurrent workers.\n",
      "[Parallel(n_jobs=36)]: Done 185 tasks      | elapsed:    1.3s\n",
      "[Parallel(n_jobs=36)]: Done 684 tasks      | elapsed:    4.1s\n",
      "[Parallel(n_jobs=36)]: Done 1384 tasks      | elapsed:    7.9s\n",
      "[Parallel(n_jobs=36)]: Done 2284 tasks      | elapsed:   12.7s\n",
      "[Parallel(n_jobs=36)]: Done 3384 tasks      | elapsed:   18.0s\n",
      "[Parallel(n_jobs=36)]: Done 4684 tasks      | elapsed:   24.1s\n",
      "[Parallel(n_jobs=36)]: Done 6184 tasks      | elapsed:   31.5s\n",
      "[Parallel(n_jobs=36)]: Done 7884 tasks      | elapsed:   40.2s\n",
      "[Parallel(n_jobs=36)]: Done 9784 tasks      | elapsed:   50.0s\n",
      "[Parallel(n_jobs=36)]: Done 10512 out of 10512 | elapsed:   54.3s finished\n"
     ]
    },
    {
     "name": "stdout",
     "output_type": "stream",
     "text": [
      "24h_Psilo_0 vs ctrl\n",
      "Data Shape: (11657, 24181)\n",
      "Data Shape after compute_1d_moments: (11657, 12528)\n"
     ]
    },
    {
     "name": "stderr",
     "output_type": "stream",
     "text": [
      "[Parallel(n_jobs=36)]: Using backend LokyBackend with 36 concurrent workers.\n",
      "[Parallel(n_jobs=36)]: Done 176 tasks      | elapsed:    7.7s\n",
      "[Parallel(n_jobs=36)]: Done 450 tasks      | elapsed:   18.1s\n",
      "[Parallel(n_jobs=36)]: Done 800 tasks      | elapsed:   31.9s\n",
      "[Parallel(n_jobs=36)]: Done 1250 tasks      | elapsed:   50.7s\n",
      "[Parallel(n_jobs=36)]: Done 1800 tasks      | elapsed:  1.2min\n",
      "[Parallel(n_jobs=36)]: Done 2450 tasks      | elapsed:  1.6min\n",
      "[Parallel(n_jobs=36)]: Done 3200 tasks      | elapsed:  2.1min\n",
      "[Parallel(n_jobs=36)]: Done 4050 tasks      | elapsed:  2.6min\n",
      "[Parallel(n_jobs=36)]: Done 5000 tasks      | elapsed:  3.1min\n",
      "[Parallel(n_jobs=36)]: Done 6050 tasks      | elapsed:  3.7min\n",
      "[Parallel(n_jobs=36)]: Done 7200 tasks      | elapsed:  4.5min\n",
      "[Parallel(n_jobs=36)]: Done 8450 tasks      | elapsed:  5.2min\n",
      "[Parallel(n_jobs=36)]: Done 9800 tasks      | elapsed:  6.1min\n",
      "[Parallel(n_jobs=36)]: Done 11250 tasks      | elapsed:  7.0min\n",
      "[Parallel(n_jobs=36)]: Done 12528 out of 12528 | elapsed:  7.8min finished\n"
     ]
    },
    {
     "name": "stdout",
     "output_type": "stream",
     "text": [
      "24h_Psilo_1 vs ctrl\n",
      "Data Shape: (10795, 24181)\n",
      "Data Shape after compute_1d_moments: (10795, 11995)\n"
     ]
    },
    {
     "name": "stderr",
     "output_type": "stream",
     "text": [
      "[Parallel(n_jobs=36)]: Using backend LokyBackend with 36 concurrent workers.\n",
      "[Parallel(n_jobs=36)]: Done 176 tasks      | elapsed:    7.3s\n",
      "[Parallel(n_jobs=36)]: Done 450 tasks      | elapsed:   15.8s\n",
      "[Parallel(n_jobs=36)]: Done 800 tasks      | elapsed:   27.4s\n",
      "[Parallel(n_jobs=36)]: Done 1250 tasks      | elapsed:   44.2s\n",
      "[Parallel(n_jobs=36)]: Done 1800 tasks      | elapsed:  1.0min\n",
      "[Parallel(n_jobs=36)]: Done 2450 tasks      | elapsed:  1.4min\n",
      "[Parallel(n_jobs=36)]: Done 3200 tasks      | elapsed:  1.8min\n",
      "[Parallel(n_jobs=36)]: Done 4050 tasks      | elapsed:  2.2min\n",
      "[Parallel(n_jobs=36)]: Done 5000 tasks      | elapsed:  2.7min\n",
      "[Parallel(n_jobs=36)]: Done 6050 tasks      | elapsed:  3.2min\n",
      "[Parallel(n_jobs=36)]: Done 7200 tasks      | elapsed:  3.8min\n",
      "[Parallel(n_jobs=36)]: Done 8450 tasks      | elapsed:  4.5min\n",
      "[Parallel(n_jobs=36)]: Done 9800 tasks      | elapsed:  5.2min\n",
      "[Parallel(n_jobs=36)]: Done 11250 tasks      | elapsed:  6.0min\n",
      "[Parallel(n_jobs=36)]: Done 11995 out of 11995 | elapsed:  6.4min finished\n"
     ]
    },
    {
     "name": "stdout",
     "output_type": "stream",
     "text": [
      "24h_Psilo_10 vs ctrl\n",
      "Data Shape: (2583, 24181)\n",
      "Data Shape after compute_1d_moments: (2583, 12229)\n"
     ]
    },
    {
     "name": "stderr",
     "output_type": "stream",
     "text": [
      "[Parallel(n_jobs=36)]: Using backend LokyBackend with 36 concurrent workers.\n",
      "[Parallel(n_jobs=36)]: Done 184 tasks      | elapsed:    1.8s\n",
      "[Parallel(n_jobs=36)]: Done 684 tasks      | elapsed:    5.6s\n",
      "[Parallel(n_jobs=36)]: Done 1384 tasks      | elapsed:   11.1s\n",
      "[Parallel(n_jobs=36)]: Done 2284 tasks      | elapsed:   17.6s\n",
      "[Parallel(n_jobs=36)]: Done 3384 tasks      | elapsed:   25.6s\n",
      "[Parallel(n_jobs=36)]: Done 4684 tasks      | elapsed:   33.9s\n",
      "[Parallel(n_jobs=36)]: Done 6184 tasks      | elapsed:   44.0s\n",
      "[Parallel(n_jobs=36)]: Done 7884 tasks      | elapsed:   56.6s\n",
      "[Parallel(n_jobs=36)]: Done 9784 tasks      | elapsed:  1.2min\n",
      "[Parallel(n_jobs=36)]: Done 11884 tasks      | elapsed:  1.4min\n",
      "[Parallel(n_jobs=36)]: Done 12158 out of 12229 | elapsed:  1.5min remaining:    0.5s\n",
      "[Parallel(n_jobs=36)]: Done 12229 out of 12229 | elapsed:  1.5min finished\n"
     ]
    },
    {
     "name": "stdout",
     "output_type": "stream",
     "text": [
      "24h_Psilo_11 vs ctrl\n",
      "Data Shape: (2530, 24181)\n",
      "Data Shape after compute_1d_moments: (2530, 11642)\n"
     ]
    },
    {
     "name": "stderr",
     "output_type": "stream",
     "text": [
      "[Parallel(n_jobs=36)]: Using backend LokyBackend with 36 concurrent workers.\n",
      "[Parallel(n_jobs=36)]: Done 184 tasks      | elapsed:    1.6s\n",
      "[Parallel(n_jobs=36)]: Done 684 tasks      | elapsed:    5.1s\n",
      "[Parallel(n_jobs=36)]: Done 1384 tasks      | elapsed:   10.1s\n",
      "[Parallel(n_jobs=36)]: Done 2284 tasks      | elapsed:   16.0s\n",
      "[Parallel(n_jobs=36)]: Done 3384 tasks      | elapsed:   23.3s\n",
      "[Parallel(n_jobs=36)]: Done 4684 tasks      | elapsed:   31.0s\n",
      "[Parallel(n_jobs=36)]: Done 6184 tasks      | elapsed:   40.6s\n",
      "[Parallel(n_jobs=36)]: Done 7884 tasks      | elapsed:   51.9s\n",
      "[Parallel(n_jobs=36)]: Done 9784 tasks      | elapsed:  1.1min\n",
      "[Parallel(n_jobs=36)]: Done 11571 out of 11642 | elapsed:  1.3min remaining:    0.5s\n",
      "[Parallel(n_jobs=36)]: Done 11642 out of 11642 | elapsed:  1.3min finished\n"
     ]
    },
    {
     "name": "stdout",
     "output_type": "stream",
     "text": [
      "24h_Psilo_12 vs ctrl\n",
      "Data Shape: (2130, 24181)\n",
      "Data Shape after compute_1d_moments: (2130, 11673)\n"
     ]
    },
    {
     "name": "stderr",
     "output_type": "stream",
     "text": [
      "[Parallel(n_jobs=36)]: Using backend LokyBackend with 36 concurrent workers.\n",
      "[Parallel(n_jobs=36)]: Done 184 tasks      | elapsed:    1.2s\n",
      "[Parallel(n_jobs=36)]: Done 684 tasks      | elapsed:    4.0s\n",
      "[Parallel(n_jobs=36)]: Done 1384 tasks      | elapsed:    7.9s\n",
      "[Parallel(n_jobs=36)]: Done 2284 tasks      | elapsed:   12.4s\n",
      "[Parallel(n_jobs=36)]: Done 3384 tasks      | elapsed:   17.9s\n",
      "[Parallel(n_jobs=36)]: Done 4684 tasks      | elapsed:   23.9s\n",
      "[Parallel(n_jobs=36)]: Done 6184 tasks      | elapsed:   31.3s\n",
      "[Parallel(n_jobs=36)]: Done 7884 tasks      | elapsed:   39.7s\n",
      "[Parallel(n_jobs=36)]: Done 9784 tasks      | elapsed:   49.9s\n",
      "[Parallel(n_jobs=36)]: Done 11602 out of 11673 | elapsed:   59.0s remaining:    0.4s\n",
      "[Parallel(n_jobs=36)]: Done 11673 out of 11673 | elapsed:   59.9s finished\n"
     ]
    },
    {
     "name": "stdout",
     "output_type": "stream",
     "text": [
      "24h_Psilo_13 vs ctrl\n",
      "Data Shape: (2705, 24181)\n",
      "Data Shape after compute_1d_moments: (2705, 9292)\n"
     ]
    },
    {
     "name": "stderr",
     "output_type": "stream",
     "text": [
      "[Parallel(n_jobs=36)]: Using backend LokyBackend with 36 concurrent workers.\n",
      "[Parallel(n_jobs=36)]: Done 186 tasks      | elapsed:    0.9s\n",
      "[Parallel(n_jobs=36)]: Done 684 tasks      | elapsed:    3.0s\n",
      "[Parallel(n_jobs=36)]: Done 1384 tasks      | elapsed:    6.0s\n",
      "[Parallel(n_jobs=36)]: Done 2284 tasks      | elapsed:    9.6s\n",
      "[Parallel(n_jobs=36)]: Done 3384 tasks      | elapsed:   13.9s\n",
      "[Parallel(n_jobs=36)]: Done 4684 tasks      | elapsed:   18.7s\n",
      "[Parallel(n_jobs=36)]: Done 6184 tasks      | elapsed:   25.0s\n",
      "[Parallel(n_jobs=36)]: Done 7884 tasks      | elapsed:   32.7s\n",
      "[Parallel(n_jobs=36)]: Done 9292 out of 9292 | elapsed:   39.3s finished\n"
     ]
    },
    {
     "name": "stdout",
     "output_type": "stream",
     "text": [
      "24h_Psilo_14 vs ctrl\n",
      "Data Shape: (1596, 24181)\n",
      "Data Shape after compute_1d_moments: (1596, 11986)\n"
     ]
    },
    {
     "name": "stderr",
     "output_type": "stream",
     "text": [
      "[Parallel(n_jobs=36)]: Using backend LokyBackend with 36 concurrent workers.\n",
      "[Parallel(n_jobs=36)]: Done 184 tasks      | elapsed:    1.2s\n",
      "[Parallel(n_jobs=36)]: Done 684 tasks      | elapsed:    3.6s\n",
      "[Parallel(n_jobs=36)]: Done 1384 tasks      | elapsed:    7.0s\n",
      "[Parallel(n_jobs=36)]: Done 2284 tasks      | elapsed:   11.0s\n",
      "[Parallel(n_jobs=36)]: Done 3384 tasks      | elapsed:   16.1s\n",
      "[Parallel(n_jobs=36)]: Done 4684 tasks      | elapsed:   21.5s\n",
      "[Parallel(n_jobs=36)]: Done 6184 tasks      | elapsed:   28.3s\n",
      "[Parallel(n_jobs=36)]: Done 7884 tasks      | elapsed:   36.3s\n",
      "[Parallel(n_jobs=36)]: Done 9784 tasks      | elapsed:   45.2s\n",
      "[Parallel(n_jobs=36)]: Done 11915 out of 11986 | elapsed:   55.0s remaining:    0.3s\n",
      "[Parallel(n_jobs=36)]: Done 11986 out of 11986 | elapsed:   56.0s finished\n"
     ]
    },
    {
     "name": "stdout",
     "output_type": "stream",
     "text": [
      "24h_Psilo_15 vs ctrl\n",
      "Data Shape: (772, 24181)\n",
      "Data Shape after compute_1d_moments: (772, 11946)\n"
     ]
    },
    {
     "name": "stderr",
     "output_type": "stream",
     "text": [
      "[Parallel(n_jobs=36)]: Using backend LokyBackend with 36 concurrent workers.\n",
      "[Parallel(n_jobs=36)]: Done 184 tasks      | elapsed:    0.7s\n",
      "[Parallel(n_jobs=36)]: Done 684 tasks      | elapsed:    2.1s\n",
      "[Parallel(n_jobs=36)]: Done 1384 tasks      | elapsed:    4.1s\n",
      "[Parallel(n_jobs=36)]: Done 2284 tasks      | elapsed:    6.6s\n",
      "[Parallel(n_jobs=36)]: Done 3384 tasks      | elapsed:    9.7s\n",
      "[Parallel(n_jobs=36)]: Done 4684 tasks      | elapsed:   13.1s\n",
      "[Parallel(n_jobs=36)]: Done 6184 tasks      | elapsed:   17.3s\n",
      "[Parallel(n_jobs=36)]: Done 7884 tasks      | elapsed:   22.0s\n",
      "[Parallel(n_jobs=36)]: Done 9784 tasks      | elapsed:   27.3s\n",
      "[Parallel(n_jobs=36)]: Done 11875 out of 11946 | elapsed:   33.1s remaining:    0.2s\n",
      "[Parallel(n_jobs=36)]: Done 11946 out of 11946 | elapsed:   33.4s finished\n"
     ]
    },
    {
     "name": "stdout",
     "output_type": "stream",
     "text": [
      "24h_Psilo_16 vs ctrl\n",
      "Data Shape: (845, 24181)\n",
      "Data Shape after compute_1d_moments: (845, 12560)\n"
     ]
    },
    {
     "name": "stderr",
     "output_type": "stream",
     "text": [
      "[Parallel(n_jobs=36)]: Using backend LokyBackend with 36 concurrent workers.\n",
      "[Parallel(n_jobs=36)]: Done 184 tasks      | elapsed:    1.0s\n",
      "[Parallel(n_jobs=36)]: Done 684 tasks      | elapsed:    3.1s\n",
      "[Parallel(n_jobs=36)]: Done 1384 tasks      | elapsed:    6.0s\n",
      "[Parallel(n_jobs=36)]: Done 2284 tasks      | elapsed:    9.7s\n",
      "[Parallel(n_jobs=36)]: Done 3384 tasks      | elapsed:   14.2s\n",
      "[Parallel(n_jobs=36)]: Done 4684 tasks      | elapsed:   19.8s\n",
      "[Parallel(n_jobs=36)]: Done 6184 tasks      | elapsed:   25.8s\n",
      "[Parallel(n_jobs=36)]: Done 7884 tasks      | elapsed:   33.0s\n",
      "[Parallel(n_jobs=36)]: Done 9784 tasks      | elapsed:   40.7s\n",
      "[Parallel(n_jobs=36)]: Done 11884 tasks      | elapsed:   49.8s\n",
      "[Parallel(n_jobs=36)]: Done 12560 out of 12560 | elapsed:   53.0s finished\n"
     ]
    },
    {
     "name": "stdout",
     "output_type": "stream",
     "text": [
      "24h_Psilo_17 vs ctrl\n",
      "Data Shape: (700, 24181)\n",
      "Data Shape after compute_1d_moments: (700, 10635)\n"
     ]
    },
    {
     "name": "stderr",
     "output_type": "stream",
     "text": [
      "[Parallel(n_jobs=36)]: Using backend LokyBackend with 36 concurrent workers.\n",
      "[Parallel(n_jobs=36)]: Done 184 tasks      | elapsed:    0.5s\n",
      "[Parallel(n_jobs=36)]: Done 1152 tasks      | elapsed:    2.8s\n",
      "[Parallel(n_jobs=36)]: Done 2552 tasks      | elapsed:    5.7s\n",
      "[Parallel(n_jobs=36)]: Done 4352 tasks      | elapsed:    9.3s\n",
      "[Parallel(n_jobs=36)]: Done 6552 tasks      | elapsed:   13.8s\n",
      "[Parallel(n_jobs=36)]: Done 9152 tasks      | elapsed:   19.4s\n",
      "[Parallel(n_jobs=36)]: Done 10635 out of 10635 | elapsed:   22.6s finished\n"
     ]
    },
    {
     "name": "stdout",
     "output_type": "stream",
     "text": [
      "24h_Psilo_18 vs ctrl\n",
      "Data Shape: (284, 24181)\n",
      "Data Shape after compute_1d_moments: (284, 10083)\n"
     ]
    },
    {
     "name": "stderr",
     "output_type": "stream",
     "text": [
      "[Parallel(n_jobs=36)]: Using backend LokyBackend with 36 concurrent workers.\n",
      "[Parallel(n_jobs=36)]: Done 184 tasks      | elapsed:    0.3s\n",
      "[Parallel(n_jobs=36)]: Done 1152 tasks      | elapsed:    1.6s\n",
      "[Parallel(n_jobs=36)]: Done 2552 tasks      | elapsed:    3.3s\n",
      "[Parallel(n_jobs=36)]: Done 4352 tasks      | elapsed:    5.6s\n",
      "[Parallel(n_jobs=36)]: Done 6552 tasks      | elapsed:    8.6s\n",
      "[Parallel(n_jobs=36)]: Done 9152 tasks      | elapsed:   11.9s\n",
      "[Parallel(n_jobs=36)]: Done 10012 out of 10083 | elapsed:   12.9s remaining:    0.1s\n",
      "[Parallel(n_jobs=36)]: Done 10083 out of 10083 | elapsed:   14.1s finished\n"
     ]
    },
    {
     "name": "stdout",
     "output_type": "stream",
     "text": [
      "24h_Psilo_19 vs ctrl\n",
      "Data Shape: (311, 24181)\n",
      "Data Shape after compute_1d_moments: (311, 9704)\n"
     ]
    },
    {
     "name": "stderr",
     "output_type": "stream",
     "text": [
      "[Parallel(n_jobs=36)]: Using backend LokyBackend with 36 concurrent workers.\n",
      "[Parallel(n_jobs=36)]: Done 185 tasks      | elapsed:    0.4s\n",
      "[Parallel(n_jobs=36)]: Done 1152 tasks      | elapsed:    2.0s\n",
      "[Parallel(n_jobs=36)]: Done 2552 tasks      | elapsed:    4.3s\n",
      "[Parallel(n_jobs=36)]: Done 4352 tasks      | elapsed:    6.9s\n",
      "[Parallel(n_jobs=36)]: Done 6552 tasks      | elapsed:   10.3s\n",
      "[Parallel(n_jobs=36)]: Done 9152 tasks      | elapsed:   14.5s\n",
      "[Parallel(n_jobs=36)]: Done 9704 out of 9704 | elapsed:   15.5s finished\n"
     ]
    },
    {
     "name": "stdout",
     "output_type": "stream",
     "text": [
      "24h_Psilo_2 vs ctrl\n",
      "Data Shape: (10006, 24181)\n",
      "Data Shape after compute_1d_moments: (10006, 12370)\n"
     ]
    },
    {
     "name": "stderr",
     "output_type": "stream",
     "text": [
      "[Parallel(n_jobs=36)]: Using backend LokyBackend with 36 concurrent workers.\n",
      "[Parallel(n_jobs=36)]: Done 176 tasks      | elapsed:    7.0s\n",
      "[Parallel(n_jobs=36)]: Done 450 tasks      | elapsed:   14.9s\n",
      "[Parallel(n_jobs=36)]: Done 800 tasks      | elapsed:   26.1s\n",
      "[Parallel(n_jobs=36)]: Done 1250 tasks      | elapsed:   41.6s\n",
      "[Parallel(n_jobs=36)]: Done 1800 tasks      | elapsed:   57.8s\n",
      "[Parallel(n_jobs=36)]: Done 2450 tasks      | elapsed:  1.3min\n",
      "[Parallel(n_jobs=36)]: Done 3200 tasks      | elapsed:  1.7min\n",
      "[Parallel(n_jobs=36)]: Done 4050 tasks      | elapsed:  2.1min\n",
      "[Parallel(n_jobs=36)]: Done 5000 tasks      | elapsed:  2.5min\n",
      "[Parallel(n_jobs=36)]: Done 6050 tasks      | elapsed:  3.0min\n",
      "[Parallel(n_jobs=36)]: Done 7200 tasks      | elapsed:  3.6min\n",
      "[Parallel(n_jobs=36)]: Done 8450 tasks      | elapsed:  4.2min\n",
      "[Parallel(n_jobs=36)]: Done 9800 tasks      | elapsed:  4.9min\n",
      "[Parallel(n_jobs=36)]: Done 11250 tasks      | elapsed:  5.7min\n",
      "[Parallel(n_jobs=36)]: Done 12370 out of 12370 | elapsed:  6.3min finished\n"
     ]
    },
    {
     "name": "stdout",
     "output_type": "stream",
     "text": [
      "24h_Psilo_20 vs ctrl\n",
      "Data Shape: (117, 24181)\n",
      "Data Shape after compute_1d_moments: (117, 10416)\n"
     ]
    },
    {
     "name": "stderr",
     "output_type": "stream",
     "text": [
      "[Parallel(n_jobs=36)]: Using backend LokyBackend with 36 concurrent workers.\n",
      "[Parallel(n_jobs=36)]: Done 184 tasks      | elapsed:    0.3s\n",
      "[Parallel(n_jobs=36)]: Done 1152 tasks      | elapsed:    1.4s\n",
      "[Parallel(n_jobs=36)]: Done 2552 tasks      | elapsed:    2.9s\n",
      "[Parallel(n_jobs=36)]: Done 4352 tasks      | elapsed:    5.0s\n",
      "[Parallel(n_jobs=36)]: Done 6552 tasks      | elapsed:    7.2s\n",
      "[Parallel(n_jobs=36)]: Done 9152 tasks      | elapsed:   10.1s\n",
      "[Parallel(n_jobs=36)]: Done 10345 out of 10416 | elapsed:   11.3s remaining:    0.1s\n",
      "[Parallel(n_jobs=36)]: Done 10416 out of 10416 | elapsed:   11.5s finished\n"
     ]
    },
    {
     "name": "stdout",
     "output_type": "stream",
     "text": [
      "24h_Psilo_21 vs ctrl\n",
      "Skipping 24h_Psilo_21, < 100 cells\n",
      "24h_Psilo_3 vs ctrl\n",
      "Data Shape: (6475, 24181)\n",
      "Data Shape after compute_1d_moments: (6475, 12723)\n"
     ]
    },
    {
     "name": "stderr",
     "output_type": "stream",
     "text": [
      "[Parallel(n_jobs=36)]: Using backend LokyBackend with 36 concurrent workers.\n",
      "[Parallel(n_jobs=36)]: Done 184 tasks      | elapsed:    5.0s\n",
      "[Parallel(n_jobs=36)]: Done 486 tasks      | elapsed:   11.4s\n",
      "[Parallel(n_jobs=36)]: Done 836 tasks      | elapsed:   19.5s\n",
      "[Parallel(n_jobs=36)]: Done 1286 tasks      | elapsed:   30.1s\n",
      "[Parallel(n_jobs=36)]: Done 1836 tasks      | elapsed:   42.2s\n",
      "[Parallel(n_jobs=36)]: Done 2486 tasks      | elapsed:   56.6s\n",
      "[Parallel(n_jobs=36)]: Done 3236 tasks      | elapsed:  1.2min\n",
      "[Parallel(n_jobs=36)]: Done 4086 tasks      | elapsed:  1.5min\n",
      "[Parallel(n_jobs=36)]: Done 5036 tasks      | elapsed:  1.8min\n",
      "[Parallel(n_jobs=36)]: Done 6086 tasks      | elapsed:  2.2min\n",
      "[Parallel(n_jobs=36)]: Done 7236 tasks      | elapsed:  2.6min\n",
      "[Parallel(n_jobs=36)]: Done 8486 tasks      | elapsed:  3.1min\n",
      "[Parallel(n_jobs=36)]: Done 9836 tasks      | elapsed:  3.6min\n",
      "[Parallel(n_jobs=36)]: Done 11286 tasks      | elapsed:  4.1min\n",
      "[Parallel(n_jobs=36)]: Done 12723 out of 12723 | elapsed:  4.6min finished\n"
     ]
    },
    {
     "name": "stdout",
     "output_type": "stream",
     "text": [
      "24h_Psilo_4 vs ctrl\n",
      "Data Shape: (6949, 24181)\n",
      "Data Shape after compute_1d_moments: (6949, 9321)\n"
     ]
    },
    {
     "name": "stderr",
     "output_type": "stream",
     "text": [
      "[Parallel(n_jobs=36)]: Using backend LokyBackend with 36 concurrent workers.\n",
      "[Parallel(n_jobs=36)]: Done 185 tasks      | elapsed:    2.0s\n",
      "[Parallel(n_jobs=36)]: Done 592 tasks      | elapsed:    6.7s\n",
      "[Parallel(n_jobs=36)]: Done 944 tasks      | elapsed:   10.8s\n",
      "[Parallel(n_jobs=36)]: Done 1394 tasks      | elapsed:   15.5s\n",
      "[Parallel(n_jobs=36)]: Done 1944 tasks      | elapsed:   21.1s\n",
      "[Parallel(n_jobs=36)]: Done 2594 tasks      | elapsed:   28.1s\n",
      "[Parallel(n_jobs=36)]: Done 3344 tasks      | elapsed:   35.4s\n",
      "[Parallel(n_jobs=36)]: Done 4194 tasks      | elapsed:   43.4s\n",
      "[Parallel(n_jobs=36)]: Done 5144 tasks      | elapsed:   53.2s\n",
      "[Parallel(n_jobs=36)]: Done 6194 tasks      | elapsed:  1.1min\n",
      "[Parallel(n_jobs=36)]: Done 7344 tasks      | elapsed:  1.3min\n",
      "[Parallel(n_jobs=36)]: Done 8594 tasks      | elapsed:  1.5min\n",
      "[Parallel(n_jobs=36)]: Done 9321 out of 9321 | elapsed:  1.7min finished\n"
     ]
    },
    {
     "name": "stdout",
     "output_type": "stream",
     "text": [
      "24h_Psilo_5 vs ctrl\n",
      "Data Shape: (5452, 24181)\n",
      "Data Shape after compute_1d_moments: (5452, 12531)\n"
     ]
    },
    {
     "name": "stderr",
     "output_type": "stream",
     "text": [
      "[Parallel(n_jobs=36)]: Using backend LokyBackend with 36 concurrent workers.\n",
      "[Parallel(n_jobs=36)]: Done 184 tasks      | elapsed:    4.1s\n",
      "[Parallel(n_jobs=36)]: Done 486 tasks      | elapsed:    9.1s\n",
      "[Parallel(n_jobs=36)]: Done 836 tasks      | elapsed:   15.5s\n",
      "[Parallel(n_jobs=36)]: Done 1286 tasks      | elapsed:   24.4s\n",
      "[Parallel(n_jobs=36)]: Done 1836 tasks      | elapsed:   33.9s\n",
      "[Parallel(n_jobs=36)]: Done 2486 tasks      | elapsed:   45.2s\n",
      "[Parallel(n_jobs=36)]: Done 3236 tasks      | elapsed:   58.1s\n",
      "[Parallel(n_jobs=36)]: Done 4086 tasks      | elapsed:  1.2min\n",
      "[Parallel(n_jobs=36)]: Done 5036 tasks      | elapsed:  1.4min\n",
      "[Parallel(n_jobs=36)]: Done 6086 tasks      | elapsed:  1.7min\n",
      "[Parallel(n_jobs=36)]: Done 7236 tasks      | elapsed:  2.1min\n",
      "[Parallel(n_jobs=36)]: Done 8486 tasks      | elapsed:  2.4min\n",
      "[Parallel(n_jobs=36)]: Done 9836 tasks      | elapsed:  2.9min\n",
      "[Parallel(n_jobs=36)]: Done 11286 tasks      | elapsed:  3.3min\n",
      "[Parallel(n_jobs=36)]: Done 12531 out of 12531 | elapsed:  3.6min finished\n"
     ]
    },
    {
     "name": "stdout",
     "output_type": "stream",
     "text": [
      "24h_Psilo_6 vs ctrl\n",
      "Data Shape: (4277, 24181)\n",
      "Data Shape after compute_1d_moments: (4277, 10751)\n"
     ]
    },
    {
     "name": "stderr",
     "output_type": "stream",
     "text": [
      "[Parallel(n_jobs=36)]: Using backend LokyBackend with 36 concurrent workers.\n",
      "[Parallel(n_jobs=36)]: Done 185 tasks      | elapsed:    1.8s\n",
      "[Parallel(n_jobs=36)]: Done 684 tasks      | elapsed:    5.8s\n",
      "[Parallel(n_jobs=36)]: Done 1384 tasks      | elapsed:   11.1s\n",
      "[Parallel(n_jobs=36)]: Done 2284 tasks      | elapsed:   17.4s\n",
      "[Parallel(n_jobs=36)]: Done 3384 tasks      | elapsed:   24.7s\n",
      "[Parallel(n_jobs=36)]: Done 4684 tasks      | elapsed:   33.5s\n",
      "[Parallel(n_jobs=36)]: Done 6184 tasks      | elapsed:   44.3s\n",
      "[Parallel(n_jobs=36)]: Done 7884 tasks      | elapsed:   57.0s\n",
      "[Parallel(n_jobs=36)]: Done 9212 tasks      | elapsed:  1.1min\n",
      "[Parallel(n_jobs=36)]: Done 10262 tasks      | elapsed:  1.3min\n",
      "[Parallel(n_jobs=36)]: Done 10751 out of 10751 | elapsed:  1.3min finished\n"
     ]
    },
    {
     "name": "stdout",
     "output_type": "stream",
     "text": [
      "24h_Psilo_7 vs ctrl\n",
      "Data Shape: (3590, 24181)\n",
      "Data Shape after compute_1d_moments: (3590, 12754)\n"
     ]
    },
    {
     "name": "stderr",
     "output_type": "stream",
     "text": [
      "[Parallel(n_jobs=36)]: Using backend LokyBackend with 36 concurrent workers.\n",
      "[Parallel(n_jobs=36)]: Done 184 tasks      | elapsed:    3.1s\n",
      "[Parallel(n_jobs=36)]: Done 522 tasks      | elapsed:    7.8s\n",
      "[Parallel(n_jobs=36)]: Done 872 tasks      | elapsed:   12.3s\n",
      "[Parallel(n_jobs=36)]: Done 1322 tasks      | elapsed:   18.8s\n",
      "[Parallel(n_jobs=36)]: Done 1872 tasks      | elapsed:   26.6s\n",
      "[Parallel(n_jobs=36)]: Done 2522 tasks      | elapsed:   35.5s\n",
      "[Parallel(n_jobs=36)]: Done 3272 tasks      | elapsed:   46.0s\n",
      "[Parallel(n_jobs=36)]: Done 4122 tasks      | elapsed:   57.5s\n",
      "[Parallel(n_jobs=36)]: Done 5072 tasks      | elapsed:  1.1min\n",
      "[Parallel(n_jobs=36)]: Done 6122 tasks      | elapsed:  1.4min\n",
      "[Parallel(n_jobs=36)]: Done 7272 tasks      | elapsed:  1.6min\n",
      "[Parallel(n_jobs=36)]: Done 8522 tasks      | elapsed:  1.9min\n",
      "[Parallel(n_jobs=36)]: Done 9872 tasks      | elapsed:  2.2min\n",
      "[Parallel(n_jobs=36)]: Done 11322 tasks      | elapsed:  2.6min\n",
      "[Parallel(n_jobs=36)]: Done 12754 out of 12754 | elapsed:  2.9min finished\n"
     ]
    },
    {
     "name": "stdout",
     "output_type": "stream",
     "text": [
      "24h_Psilo_8 vs ctrl\n",
      "Data Shape: (3674, 24181)\n",
      "Data Shape after compute_1d_moments: (3674, 12117)\n"
     ]
    },
    {
     "name": "stderr",
     "output_type": "stream",
     "text": [
      "[Parallel(n_jobs=36)]: Using backend LokyBackend with 36 concurrent workers.\n",
      "[Parallel(n_jobs=36)]: Done 184 tasks      | elapsed:    2.5s\n",
      "[Parallel(n_jobs=36)]: Done 627 tasks      | elapsed:    7.5s\n",
      "[Parallel(n_jobs=36)]: Done 980 tasks      | elapsed:   11.6s\n",
      "[Parallel(n_jobs=36)]: Done 1430 tasks      | elapsed:   17.0s\n",
      "[Parallel(n_jobs=36)]: Done 1980 tasks      | elapsed:   23.4s\n",
      "[Parallel(n_jobs=36)]: Done 2630 tasks      | elapsed:   30.5s\n",
      "[Parallel(n_jobs=36)]: Done 3380 tasks      | elapsed:   38.9s\n",
      "[Parallel(n_jobs=36)]: Done 4230 tasks      | elapsed:   47.9s\n",
      "[Parallel(n_jobs=36)]: Done 5180 tasks      | elapsed:   56.9s\n",
      "[Parallel(n_jobs=36)]: Done 6230 tasks      | elapsed:  1.1min\n",
      "[Parallel(n_jobs=36)]: Done 7380 tasks      | elapsed:  1.4min\n",
      "[Parallel(n_jobs=36)]: Done 8630 tasks      | elapsed:  1.6min\n",
      "[Parallel(n_jobs=36)]: Done 9980 tasks      | elapsed:  1.8min\n",
      "[Parallel(n_jobs=36)]: Done 11430 tasks      | elapsed:  2.1min\n",
      "[Parallel(n_jobs=36)]: Done 12117 out of 12117 | elapsed:  2.3min finished\n"
     ]
    },
    {
     "name": "stdout",
     "output_type": "stream",
     "text": [
      "24h_Psilo_9 vs ctrl\n",
      "Data Shape: (3075, 24181)\n",
      "Data Shape after compute_1d_moments: (3075, 10698)\n"
     ]
    },
    {
     "name": "stderr",
     "output_type": "stream",
     "text": [
      "[Parallel(n_jobs=36)]: Using backend LokyBackend with 36 concurrent workers.\n",
      "[Parallel(n_jobs=36)]: Done 184 tasks      | elapsed:    1.3s\n",
      "[Parallel(n_jobs=36)]: Done 684 tasks      | elapsed:    4.3s\n",
      "[Parallel(n_jobs=36)]: Done 1384 tasks      | elapsed:    8.3s\n",
      "[Parallel(n_jobs=36)]: Done 2284 tasks      | elapsed:   13.3s\n",
      "[Parallel(n_jobs=36)]: Done 3384 tasks      | elapsed:   18.8s\n",
      "[Parallel(n_jobs=36)]: Done 4684 tasks      | elapsed:   25.3s\n",
      "[Parallel(n_jobs=36)]: Done 6184 tasks      | elapsed:   33.1s\n",
      "[Parallel(n_jobs=36)]: Done 7884 tasks      | elapsed:   42.2s\n",
      "[Parallel(n_jobs=36)]: Done 9784 tasks      | elapsed:   52.7s\n",
      "[Parallel(n_jobs=36)]: Done 10627 out of 10698 | elapsed:   57.1s remaining:    0.4s\n",
      "[Parallel(n_jobs=36)]: Done 10698 out of 10698 | elapsed:   58.2s finished\n"
     ]
    },
    {
     "name": "stdout",
     "output_type": "stream",
     "text": [
      "72h_Ket_0 vs ctrl\n",
      "Data Shape: (10867, 24181)\n",
      "Data Shape after compute_1d_moments: (10867, 12410)\n"
     ]
    },
    {
     "name": "stderr",
     "output_type": "stream",
     "text": [
      "[Parallel(n_jobs=36)]: Using backend LokyBackend with 36 concurrent workers.\n",
      "[Parallel(n_jobs=36)]: Done 177 tasks      | elapsed:    7.7s\n",
      "[Parallel(n_jobs=36)]: Done 450 tasks      | elapsed:   17.5s\n",
      "[Parallel(n_jobs=36)]: Done 800 tasks      | elapsed:   30.7s\n",
      "[Parallel(n_jobs=36)]: Done 1250 tasks      | elapsed:   48.3s\n",
      "[Parallel(n_jobs=36)]: Done 1800 tasks      | elapsed:  1.2min\n",
      "[Parallel(n_jobs=36)]: Done 2450 tasks      | elapsed:  1.6min\n",
      "[Parallel(n_jobs=36)]: Done 3200 tasks      | elapsed:  2.0min\n",
      "[Parallel(n_jobs=36)]: Done 4050 tasks      | elapsed:  2.5min\n",
      "[Parallel(n_jobs=36)]: Done 5000 tasks      | elapsed:  3.0min\n",
      "[Parallel(n_jobs=36)]: Done 6050 tasks      | elapsed:  3.6min\n",
      "[Parallel(n_jobs=36)]: Done 7200 tasks      | elapsed:  4.3min\n",
      "[Parallel(n_jobs=36)]: Done 8450 tasks      | elapsed:  5.1min\n",
      "[Parallel(n_jobs=36)]: Done 9800 tasks      | elapsed:  5.9min\n",
      "[Parallel(n_jobs=36)]: Done 11250 tasks      | elapsed:  6.8min\n",
      "[Parallel(n_jobs=36)]: Done 12410 out of 12410 | elapsed:  7.5min finished\n"
     ]
    },
    {
     "name": "stdout",
     "output_type": "stream",
     "text": [
      "72h_Ket_1 vs ctrl\n",
      "Data Shape: (10056, 24181)\n",
      "Data Shape after compute_1d_moments: (10056, 11856)\n"
     ]
    },
    {
     "name": "stderr",
     "output_type": "stream",
     "text": [
      "[Parallel(n_jobs=36)]: Using backend LokyBackend with 36 concurrent workers.\n",
      "[Parallel(n_jobs=36)]: Done 174 tasks      | elapsed:    6.8s\n",
      "[Parallel(n_jobs=36)]: Done 450 tasks      | elapsed:   14.8s\n",
      "[Parallel(n_jobs=36)]: Done 800 tasks      | elapsed:   25.7s\n",
      "[Parallel(n_jobs=36)]: Done 1250 tasks      | elapsed:   41.0s\n",
      "[Parallel(n_jobs=36)]: Done 1800 tasks      | elapsed:   58.4s\n",
      "[Parallel(n_jobs=36)]: Done 2450 tasks      | elapsed:  1.3min\n",
      "[Parallel(n_jobs=36)]: Done 3200 tasks      | elapsed:  1.7min\n",
      "[Parallel(n_jobs=36)]: Done 4050 tasks      | elapsed:  2.1min\n",
      "[Parallel(n_jobs=36)]: Done 5000 tasks      | elapsed:  2.5min\n",
      "[Parallel(n_jobs=36)]: Done 6050 tasks      | elapsed:  3.0min\n",
      "[Parallel(n_jobs=36)]: Done 7200 tasks      | elapsed:  3.7min\n",
      "[Parallel(n_jobs=36)]: Done 8450 tasks      | elapsed:  4.3min\n",
      "[Parallel(n_jobs=36)]: Done 9800 tasks      | elapsed:  5.0min\n",
      "[Parallel(n_jobs=36)]: Done 11250 tasks      | elapsed:  5.7min\n",
      "[Parallel(n_jobs=36)]: Done 11856 out of 11856 | elapsed:  6.1min finished\n"
     ]
    },
    {
     "name": "stdout",
     "output_type": "stream",
     "text": [
      "72h_Ket_10 vs ctrl\n",
      "Data Shape: (2498, 24181)\n",
      "Data Shape after compute_1d_moments: (2498, 12198)\n"
     ]
    },
    {
     "name": "stderr",
     "output_type": "stream",
     "text": [
      "[Parallel(n_jobs=36)]: Using backend LokyBackend with 36 concurrent workers.\n",
      "[Parallel(n_jobs=36)]: Done 184 tasks      | elapsed:    1.8s\n",
      "[Parallel(n_jobs=36)]: Done 684 tasks      | elapsed:    5.8s\n",
      "[Parallel(n_jobs=36)]: Done 1384 tasks      | elapsed:   11.8s\n",
      "[Parallel(n_jobs=36)]: Done 2284 tasks      | elapsed:   18.7s\n",
      "[Parallel(n_jobs=36)]: Done 3384 tasks      | elapsed:   27.5s\n",
      "[Parallel(n_jobs=36)]: Done 4684 tasks      | elapsed:   36.3s\n",
      "[Parallel(n_jobs=36)]: Done 6184 tasks      | elapsed:   47.2s\n",
      "[Parallel(n_jobs=36)]: Done 7884 tasks      | elapsed:  1.0min\n",
      "[Parallel(n_jobs=36)]: Done 9784 tasks      | elapsed:  1.3min\n",
      "[Parallel(n_jobs=36)]: Done 11884 tasks      | elapsed:  1.5min\n",
      "[Parallel(n_jobs=36)]: Done 12127 out of 12198 | elapsed:  1.6min remaining:    0.5s\n",
      "[Parallel(n_jobs=36)]: Done 12198 out of 12198 | elapsed:  1.6min finished\n"
     ]
    },
    {
     "name": "stdout",
     "output_type": "stream",
     "text": [
      "72h_Ket_11 vs ctrl\n",
      "Data Shape: (2489, 24181)\n",
      "Data Shape after compute_1d_moments: (2489, 11556)\n"
     ]
    },
    {
     "name": "stderr",
     "output_type": "stream",
     "text": [
      "[Parallel(n_jobs=36)]: Using backend LokyBackend with 36 concurrent workers.\n",
      "[Parallel(n_jobs=36)]: Done 184 tasks      | elapsed:    1.6s\n",
      "[Parallel(n_jobs=36)]: Done 684 tasks      | elapsed:    5.4s\n",
      "[Parallel(n_jobs=36)]: Done 1384 tasks      | elapsed:   10.6s\n",
      "[Parallel(n_jobs=36)]: Done 2284 tasks      | elapsed:   16.8s\n",
      "[Parallel(n_jobs=36)]: Done 3384 tasks      | elapsed:   24.3s\n",
      "[Parallel(n_jobs=36)]: Done 4684 tasks      | elapsed:   32.2s\n",
      "[Parallel(n_jobs=36)]: Done 6184 tasks      | elapsed:   42.4s\n",
      "[Parallel(n_jobs=36)]: Done 7884 tasks      | elapsed:   54.3s\n",
      "[Parallel(n_jobs=36)]: Done 9784 tasks      | elapsed:  1.1min\n",
      "[Parallel(n_jobs=36)]: Done 11556 out of 11556 | elapsed:  1.3min finished\n"
     ]
    },
    {
     "name": "stdout",
     "output_type": "stream",
     "text": [
      "72h_Ket_12 vs ctrl\n",
      "Data Shape: (2085, 24181)\n",
      "Data Shape after compute_1d_moments: (2085, 11738)\n"
     ]
    },
    {
     "name": "stderr",
     "output_type": "stream",
     "text": [
      "[Parallel(n_jobs=36)]: Using backend LokyBackend with 36 concurrent workers.\n",
      "[Parallel(n_jobs=36)]: Done 184 tasks      | elapsed:    1.2s\n",
      "[Parallel(n_jobs=36)]: Done 684 tasks      | elapsed:    4.0s\n",
      "[Parallel(n_jobs=36)]: Done 1384 tasks      | elapsed:    8.1s\n",
      "[Parallel(n_jobs=36)]: Done 2284 tasks      | elapsed:   12.9s\n",
      "[Parallel(n_jobs=36)]: Done 3384 tasks      | elapsed:   18.6s\n",
      "[Parallel(n_jobs=36)]: Done 4684 tasks      | elapsed:   24.7s\n",
      "[Parallel(n_jobs=36)]: Done 6184 tasks      | elapsed:   32.3s\n",
      "[Parallel(n_jobs=36)]: Done 7884 tasks      | elapsed:   41.3s\n",
      "[Parallel(n_jobs=36)]: Done 9784 tasks      | elapsed:   51.8s\n",
      "[Parallel(n_jobs=36)]: Done 11738 out of 11738 | elapsed:  1.0min finished\n"
     ]
    },
    {
     "name": "stdout",
     "output_type": "stream",
     "text": [
      "72h_Ket_13 vs ctrl\n",
      "Data Shape: (2610, 24181)\n",
      "Data Shape after compute_1d_moments: (2610, 9118)\n"
     ]
    },
    {
     "name": "stderr",
     "output_type": "stream",
     "text": [
      "[Parallel(n_jobs=36)]: Using backend LokyBackend with 36 concurrent workers.\n",
      "[Parallel(n_jobs=36)]: Done 186 tasks      | elapsed:    0.9s\n",
      "[Parallel(n_jobs=36)]: Done 684 tasks      | elapsed:    3.0s\n",
      "[Parallel(n_jobs=36)]: Done 1384 tasks      | elapsed:    5.9s\n",
      "[Parallel(n_jobs=36)]: Done 2284 tasks      | elapsed:    9.5s\n",
      "[Parallel(n_jobs=36)]: Done 3384 tasks      | elapsed:   13.9s\n",
      "[Parallel(n_jobs=36)]: Done 4684 tasks      | elapsed:   18.6s\n",
      "[Parallel(n_jobs=36)]: Done 6184 tasks      | elapsed:   24.7s\n",
      "[Parallel(n_jobs=36)]: Done 7884 tasks      | elapsed:   32.0s\n",
      "[Parallel(n_jobs=36)]: Done 9047 out of 9118 | elapsed:   36.9s remaining:    0.3s\n",
      "[Parallel(n_jobs=36)]: Done 9118 out of 9118 | elapsed:   38.1s finished\n"
     ]
    },
    {
     "name": "stdout",
     "output_type": "stream",
     "text": [
      "72h_Ket_14 vs ctrl\n",
      "Data Shape: (1564, 24181)\n",
      "Data Shape after compute_1d_moments: (1564, 11922)\n"
     ]
    },
    {
     "name": "stderr",
     "output_type": "stream",
     "text": [
      "[Parallel(n_jobs=36)]: Using backend LokyBackend with 36 concurrent workers.\n",
      "[Parallel(n_jobs=36)]: Done 184 tasks      | elapsed:    1.2s\n",
      "[Parallel(n_jobs=36)]: Done 684 tasks      | elapsed:    3.7s\n",
      "[Parallel(n_jobs=36)]: Done 1384 tasks      | elapsed:    7.1s\n",
      "[Parallel(n_jobs=36)]: Done 2284 tasks      | elapsed:   11.4s\n",
      "[Parallel(n_jobs=36)]: Done 3384 tasks      | elapsed:   16.7s\n",
      "[Parallel(n_jobs=36)]: Done 4684 tasks      | elapsed:   22.1s\n",
      "[Parallel(n_jobs=36)]: Done 6184 tasks      | elapsed:   29.2s\n",
      "[Parallel(n_jobs=36)]: Done 7884 tasks      | elapsed:   37.3s\n",
      "[Parallel(n_jobs=36)]: Done 9784 tasks      | elapsed:   46.6s\n",
      "[Parallel(n_jobs=36)]: Done 11922 out of 11922 | elapsed:   57.0s finished\n"
     ]
    },
    {
     "name": "stdout",
     "output_type": "stream",
     "text": [
      "72h_Ket_15 vs ctrl\n",
      "Data Shape: (694, 24181)\n",
      "Data Shape after compute_1d_moments: (694, 11733)\n"
     ]
    },
    {
     "name": "stderr",
     "output_type": "stream",
     "text": [
      "[Parallel(n_jobs=36)]: Using backend LokyBackend with 36 concurrent workers.\n",
      "[Parallel(n_jobs=36)]: Done 184 tasks      | elapsed:    0.7s\n",
      "[Parallel(n_jobs=36)]: Done 684 tasks      | elapsed:    2.0s\n",
      "[Parallel(n_jobs=36)]: Done 1384 tasks      | elapsed:    3.9s\n",
      "[Parallel(n_jobs=36)]: Done 2284 tasks      | elapsed:    6.3s\n",
      "[Parallel(n_jobs=36)]: Done 3384 tasks      | elapsed:    9.2s\n",
      "[Parallel(n_jobs=36)]: Done 4684 tasks      | elapsed:   12.3s\n",
      "[Parallel(n_jobs=36)]: Done 6184 tasks      | elapsed:   16.5s\n",
      "[Parallel(n_jobs=36)]: Done 7884 tasks      | elapsed:   21.0s\n",
      "[Parallel(n_jobs=36)]: Done 9784 tasks      | elapsed:   26.1s\n",
      "[Parallel(n_jobs=36)]: Done 11733 out of 11733 | elapsed:   31.3s finished\n"
     ]
    },
    {
     "name": "stdout",
     "output_type": "stream",
     "text": [
      "72h_Ket_16 vs ctrl\n",
      "Data Shape: (744, 24181)\n",
      "Data Shape after compute_1d_moments: (744, 12485)\n"
     ]
    },
    {
     "name": "stderr",
     "output_type": "stream",
     "text": [
      "[Parallel(n_jobs=36)]: Using backend LokyBackend with 36 concurrent workers.\n",
      "[Parallel(n_jobs=36)]: Done 187 tasks      | elapsed:    0.8s\n",
      "[Parallel(n_jobs=36)]: Done 684 tasks      | elapsed:    2.3s\n",
      "[Parallel(n_jobs=36)]: Done 1384 tasks      | elapsed:    4.7s\n",
      "[Parallel(n_jobs=36)]: Done 2284 tasks      | elapsed:    7.4s\n",
      "[Parallel(n_jobs=36)]: Done 3384 tasks      | elapsed:   10.8s\n",
      "[Parallel(n_jobs=36)]: Done 4684 tasks      | elapsed:   14.8s\n",
      "[Parallel(n_jobs=36)]: Done 6184 tasks      | elapsed:   19.4s\n",
      "[Parallel(n_jobs=36)]: Done 7884 tasks      | elapsed:   24.6s\n",
      "[Parallel(n_jobs=36)]: Done 9784 tasks      | elapsed:   30.4s\n",
      "[Parallel(n_jobs=36)]: Done 11884 tasks      | elapsed:   37.3s\n",
      "[Parallel(n_jobs=36)]: Done 12414 out of 12485 | elapsed:   38.9s remaining:    0.2s\n",
      "[Parallel(n_jobs=36)]: Done 12485 out of 12485 | elapsed:   39.4s finished\n"
     ]
    },
    {
     "name": "stdout",
     "output_type": "stream",
     "text": [
      "72h_Ket_17 vs ctrl\n",
      "Data Shape: (645, 24181)\n",
      "Data Shape after compute_1d_moments: (645, 10654)\n"
     ]
    },
    {
     "name": "stderr",
     "output_type": "stream",
     "text": [
      "[Parallel(n_jobs=36)]: Using backend LokyBackend with 36 concurrent workers.\n",
      "[Parallel(n_jobs=36)]: Done 184 tasks      | elapsed:    0.5s\n",
      "[Parallel(n_jobs=36)]: Done 1152 tasks      | elapsed:    2.8s\n",
      "[Parallel(n_jobs=36)]: Done 2552 tasks      | elapsed:    5.5s\n",
      "[Parallel(n_jobs=36)]: Done 4352 tasks      | elapsed:    8.8s\n",
      "[Parallel(n_jobs=36)]: Done 6552 tasks      | elapsed:   13.0s\n",
      "[Parallel(n_jobs=36)]: Done 9152 tasks      | elapsed:   18.3s\n",
      "[Parallel(n_jobs=36)]: Done 10583 out of 10654 | elapsed:   20.9s remaining:    0.1s\n",
      "[Parallel(n_jobs=36)]: Done 10654 out of 10654 | elapsed:   21.3s finished\n"
     ]
    },
    {
     "name": "stdout",
     "output_type": "stream",
     "text": [
      "72h_Ket_18 vs ctrl\n",
      "Data Shape: (308, 24181)\n",
      "Data Shape after compute_1d_moments: (308, 9464)\n"
     ]
    },
    {
     "name": "stderr",
     "output_type": "stream",
     "text": [
      "[Parallel(n_jobs=36)]: Using backend LokyBackend with 36 concurrent workers.\n",
      "[Parallel(n_jobs=36)]: Done 184 tasks      | elapsed:    0.3s\n",
      "[Parallel(n_jobs=36)]: Done 1152 tasks      | elapsed:    1.7s\n",
      "[Parallel(n_jobs=36)]: Done 2552 tasks      | elapsed:    3.5s\n",
      "[Parallel(n_jobs=36)]: Done 4352 tasks      | elapsed:    5.7s\n",
      "[Parallel(n_jobs=36)]: Done 6552 tasks      | elapsed:    8.8s\n",
      "[Parallel(n_jobs=36)]: Done 9152 tasks      | elapsed:   12.2s\n",
      "[Parallel(n_jobs=36)]: Done 9393 out of 9464 | elapsed:   12.5s remaining:    0.1s\n",
      "[Parallel(n_jobs=36)]: Done 9464 out of 9464 | elapsed:   12.7s finished\n"
     ]
    },
    {
     "name": "stdout",
     "output_type": "stream",
     "text": [
      "72h_Ket_19 vs ctrl\n",
      "Data Shape: (392, 24181)\n",
      "Data Shape after compute_1d_moments: (392, 10362)\n"
     ]
    },
    {
     "name": "stderr",
     "output_type": "stream",
     "text": [
      "[Parallel(n_jobs=36)]: Using backend LokyBackend with 36 concurrent workers.\n",
      "[Parallel(n_jobs=36)]: Done 184 tasks      | elapsed:    0.4s\n",
      "[Parallel(n_jobs=36)]: Done 1152 tasks      | elapsed:    2.1s\n",
      "[Parallel(n_jobs=36)]: Done 2552 tasks      | elapsed:    4.4s\n",
      "[Parallel(n_jobs=36)]: Done 4352 tasks      | elapsed:    7.4s\n",
      "[Parallel(n_jobs=36)]: Done 6552 tasks      | elapsed:   11.0s\n",
      "[Parallel(n_jobs=36)]: Done 9152 tasks      | elapsed:   15.2s\n",
      "[Parallel(n_jobs=36)]: Done 10362 out of 10362 | elapsed:   17.4s finished\n"
     ]
    },
    {
     "name": "stdout",
     "output_type": "stream",
     "text": [
      "72h_Ket_2 vs ctrl\n",
      "Data Shape: (9825, 24181)\n",
      "Data Shape after compute_1d_moments: (9825, 12290)\n"
     ]
    },
    {
     "name": "stderr",
     "output_type": "stream",
     "text": [
      "[Parallel(n_jobs=36)]: Using backend LokyBackend with 36 concurrent workers.\n",
      "[Parallel(n_jobs=36)]: Done 176 tasks      | elapsed:    6.9s\n",
      "[Parallel(n_jobs=36)]: Done 450 tasks      | elapsed:   14.9s\n",
      "[Parallel(n_jobs=36)]: Done 800 tasks      | elapsed:   26.3s\n",
      "[Parallel(n_jobs=36)]: Done 1250 tasks      | elapsed:   41.8s\n",
      "[Parallel(n_jobs=36)]: Done 1800 tasks      | elapsed:   58.8s\n",
      "[Parallel(n_jobs=36)]: Done 2450 tasks      | elapsed:  1.3min\n",
      "[Parallel(n_jobs=36)]: Done 3200 tasks      | elapsed:  1.7min\n",
      "[Parallel(n_jobs=36)]: Done 4050 tasks      | elapsed:  2.1min\n",
      "[Parallel(n_jobs=36)]: Done 5000 tasks      | elapsed:  2.6min\n",
      "[Parallel(n_jobs=36)]: Done 6050 tasks      | elapsed:  3.1min\n",
      "[Parallel(n_jobs=36)]: Done 7200 tasks      | elapsed:  3.7min\n",
      "[Parallel(n_jobs=36)]: Done 8450 tasks      | elapsed:  4.3min\n",
      "[Parallel(n_jobs=36)]: Done 9800 tasks      | elapsed:  5.0min\n",
      "[Parallel(n_jobs=36)]: Done 11250 tasks      | elapsed:  5.8min\n",
      "[Parallel(n_jobs=36)]: Done 12290 out of 12290 | elapsed:  6.3min finished\n"
     ]
    },
    {
     "name": "stdout",
     "output_type": "stream",
     "text": [
      "72h_Ket_20 vs ctrl\n",
      "Data Shape: (116, 24181)\n",
      "Data Shape after compute_1d_moments: (116, 10594)\n"
     ]
    },
    {
     "name": "stderr",
     "output_type": "stream",
     "text": [
      "[Parallel(n_jobs=36)]: Using backend LokyBackend with 36 concurrent workers.\n",
      "[Parallel(n_jobs=36)]: Done 184 tasks      | elapsed:    0.3s\n",
      "[Parallel(n_jobs=36)]: Done 1800 tasks      | elapsed:    2.1s\n",
      "[Parallel(n_jobs=36)]: Done 4600 tasks      | elapsed:    4.8s\n",
      "[Parallel(n_jobs=36)]: Done 8200 tasks      | elapsed:    8.4s\n",
      "[Parallel(n_jobs=36)]: Done 10594 out of 10594 | elapsed:   10.9s finished\n"
     ]
    },
    {
     "name": "stdout",
     "output_type": "stream",
     "text": [
      "72h_Ket_21 vs ctrl\n",
      "Skipping 72h_Ket_21, < 100 cells\n",
      "72h_Ket_3 vs ctrl\n",
      "Data Shape: (6488, 24181)\n",
      "Data Shape after compute_1d_moments: (6488, 12477)\n"
     ]
    },
    {
     "name": "stderr",
     "output_type": "stream",
     "text": [
      "[Parallel(n_jobs=36)]: Using backend LokyBackend with 36 concurrent workers.\n",
      "[Parallel(n_jobs=36)]: Done 184 tasks      | elapsed:    5.3s\n",
      "[Parallel(n_jobs=36)]: Done 486 tasks      | elapsed:   12.1s\n",
      "[Parallel(n_jobs=36)]: Done 836 tasks      | elapsed:   20.2s\n",
      "[Parallel(n_jobs=36)]: Done 1286 tasks      | elapsed:   31.7s\n",
      "[Parallel(n_jobs=36)]: Done 1836 tasks      | elapsed:   44.3s\n",
      "[Parallel(n_jobs=36)]: Done 2486 tasks      | elapsed:   59.6s\n",
      "[Parallel(n_jobs=36)]: Done 3236 tasks      | elapsed:  1.3min\n",
      "[Parallel(n_jobs=36)]: Done 4086 tasks      | elapsed:  1.6min\n",
      "[Parallel(n_jobs=36)]: Done 5036 tasks      | elapsed:  1.9min\n",
      "[Parallel(n_jobs=36)]: Done 6086 tasks      | elapsed:  2.3min\n",
      "[Parallel(n_jobs=36)]: Done 7236 tasks      | elapsed:  2.8min\n",
      "[Parallel(n_jobs=36)]: Done 8486 tasks      | elapsed:  3.3min\n",
      "[Parallel(n_jobs=36)]: Done 9836 tasks      | elapsed:  3.8min\n",
      "[Parallel(n_jobs=36)]: Done 11286 tasks      | elapsed:  4.4min\n",
      "[Parallel(n_jobs=36)]: Done 12477 out of 12477 | elapsed:  4.9min finished\n"
     ]
    },
    {
     "name": "stdout",
     "output_type": "stream",
     "text": [
      "72h_Ket_4 vs ctrl\n",
      "Data Shape: (7615, 24181)\n",
      "Data Shape after compute_1d_moments: (7615, 9107)\n"
     ]
    },
    {
     "name": "stderr",
     "output_type": "stream",
     "text": [
      "[Parallel(n_jobs=36)]: Using backend LokyBackend with 36 concurrent workers.\n",
      "[Parallel(n_jobs=36)]: Done 185 tasks      | elapsed:    2.2s\n",
      "[Parallel(n_jobs=36)]: Done 591 tasks      | elapsed:    6.9s\n",
      "[Parallel(n_jobs=36)]: Done 944 tasks      | elapsed:   11.5s\n",
      "[Parallel(n_jobs=36)]: Done 1394 tasks      | elapsed:   16.4s\n",
      "[Parallel(n_jobs=36)]: Done 1944 tasks      | elapsed:   22.5s\n",
      "[Parallel(n_jobs=36)]: Done 2594 tasks      | elapsed:   30.0s\n",
      "[Parallel(n_jobs=36)]: Done 3344 tasks      | elapsed:   37.7s\n",
      "[Parallel(n_jobs=36)]: Done 4194 tasks      | elapsed:   46.0s\n",
      "[Parallel(n_jobs=36)]: Done 5144 tasks      | elapsed:   56.9s\n",
      "[Parallel(n_jobs=36)]: Done 6194 tasks      | elapsed:  1.1min\n",
      "[Parallel(n_jobs=36)]: Done 7344 tasks      | elapsed:  1.4min\n",
      "[Parallel(n_jobs=36)]: Done 8594 tasks      | elapsed:  1.6min\n",
      "[Parallel(n_jobs=36)]: Done 9107 out of 9107 | elapsed:  1.7min finished\n"
     ]
    },
    {
     "name": "stdout",
     "output_type": "stream",
     "text": [
      "72h_Ket_5 vs ctrl\n",
      "Data Shape: (5276, 24181)\n",
      "Data Shape after compute_1d_moments: (5276, 12342)\n"
     ]
    },
    {
     "name": "stderr",
     "output_type": "stream",
     "text": [
      "[Parallel(n_jobs=36)]: Using backend LokyBackend with 36 concurrent workers.\n",
      "[Parallel(n_jobs=36)]: Done 184 tasks      | elapsed:    4.0s\n",
      "[Parallel(n_jobs=36)]: Done 486 tasks      | elapsed:    9.5s\n",
      "[Parallel(n_jobs=36)]: Done 836 tasks      | elapsed:   16.1s\n",
      "[Parallel(n_jobs=36)]: Done 1286 tasks      | elapsed:   25.2s\n",
      "[Parallel(n_jobs=36)]: Done 1836 tasks      | elapsed:   35.5s\n",
      "[Parallel(n_jobs=36)]: Done 2486 tasks      | elapsed:   47.5s\n",
      "[Parallel(n_jobs=36)]: Done 3236 tasks      | elapsed:  1.0min\n",
      "[Parallel(n_jobs=36)]: Done 4086 tasks      | elapsed:  1.3min\n",
      "[Parallel(n_jobs=36)]: Done 5036 tasks      | elapsed:  1.5min\n",
      "[Parallel(n_jobs=36)]: Done 6086 tasks      | elapsed:  1.8min\n",
      "[Parallel(n_jobs=36)]: Done 7236 tasks      | elapsed:  2.2min\n",
      "[Parallel(n_jobs=36)]: Done 8486 tasks      | elapsed:  2.6min\n",
      "[Parallel(n_jobs=36)]: Done 9836 tasks      | elapsed:  3.0min\n",
      "[Parallel(n_jobs=36)]: Done 11286 tasks      | elapsed:  3.4min\n",
      "[Parallel(n_jobs=36)]: Done 12342 out of 12342 | elapsed:  3.8min finished\n"
     ]
    },
    {
     "name": "stdout",
     "output_type": "stream",
     "text": [
      "72h_Ket_6 vs ctrl\n",
      "Data Shape: (4255, 24181)\n",
      "Data Shape after compute_1d_moments: (4255, 10771)\n"
     ]
    },
    {
     "name": "stderr",
     "output_type": "stream",
     "text": [
      "[Parallel(n_jobs=36)]: Using backend LokyBackend with 36 concurrent workers.\n",
      "[Parallel(n_jobs=36)]: Done 185 tasks      | elapsed:    1.8s\n",
      "[Parallel(n_jobs=36)]: Done 684 tasks      | elapsed:    5.9s\n",
      "[Parallel(n_jobs=36)]: Done 1384 tasks      | elapsed:   10.9s\n",
      "[Parallel(n_jobs=36)]: Done 2284 tasks      | elapsed:   17.1s\n",
      "[Parallel(n_jobs=36)]: Done 3384 tasks      | elapsed:   24.1s\n",
      "[Parallel(n_jobs=36)]: Done 4684 tasks      | elapsed:   32.9s\n",
      "[Parallel(n_jobs=36)]: Done 6184 tasks      | elapsed:   43.5s\n",
      "[Parallel(n_jobs=36)]: Done 7884 tasks      | elapsed:   55.9s\n",
      "[Parallel(n_jobs=36)]: Done 9784 tasks      | elapsed:  1.2min\n",
      "[Parallel(n_jobs=36)]: Done 10700 out of 10771 | elapsed:  1.3min remaining:    0.5s\n",
      "[Parallel(n_jobs=36)]: Done 10771 out of 10771 | elapsed:  1.3min finished\n"
     ]
    },
    {
     "name": "stdout",
     "output_type": "stream",
     "text": [
      "72h_Ket_7 vs ctrl\n",
      "Data Shape: (3507, 24181)\n",
      "Data Shape after compute_1d_moments: (3507, 12575)\n"
     ]
    },
    {
     "name": "stderr",
     "output_type": "stream",
     "text": [
      "[Parallel(n_jobs=36)]: Using backend LokyBackend with 36 concurrent workers.\n",
      "[Parallel(n_jobs=36)]: Done 184 tasks      | elapsed:    3.1s\n",
      "[Parallel(n_jobs=36)]: Done 522 tasks      | elapsed:    7.5s\n",
      "[Parallel(n_jobs=36)]: Done 872 tasks      | elapsed:   12.2s\n",
      "[Parallel(n_jobs=36)]: Done 1322 tasks      | elapsed:   18.5s\n",
      "[Parallel(n_jobs=36)]: Done 1872 tasks      | elapsed:   26.4s\n",
      "[Parallel(n_jobs=36)]: Done 2522 tasks      | elapsed:   35.1s\n",
      "[Parallel(n_jobs=36)]: Done 3272 tasks      | elapsed:   45.7s\n",
      "[Parallel(n_jobs=36)]: Done 4122 tasks      | elapsed:   57.5s\n",
      "[Parallel(n_jobs=36)]: Done 5072 tasks      | elapsed:  1.1min\n",
      "[Parallel(n_jobs=36)]: Done 6122 tasks      | elapsed:  1.4min\n",
      "[Parallel(n_jobs=36)]: Done 7272 tasks      | elapsed:  1.7min\n",
      "[Parallel(n_jobs=36)]: Done 8522 tasks      | elapsed:  1.9min\n",
      "[Parallel(n_jobs=36)]: Done 9872 tasks      | elapsed:  2.3min\n",
      "[Parallel(n_jobs=36)]: Done 11322 tasks      | elapsed:  2.6min\n",
      "[Parallel(n_jobs=36)]: Done 12575 out of 12575 | elapsed:  2.9min finished\n"
     ]
    },
    {
     "name": "stdout",
     "output_type": "stream",
     "text": [
      "72h_Ket_8 vs ctrl\n",
      "Data Shape: (3547, 24181)\n",
      "Data Shape after compute_1d_moments: (3547, 12102)\n"
     ]
    },
    {
     "name": "stderr",
     "output_type": "stream",
     "text": [
      "[Parallel(n_jobs=36)]: Using backend LokyBackend with 36 concurrent workers.\n",
      "[Parallel(n_jobs=36)]: Done 184 tasks      | elapsed:    2.8s\n",
      "[Parallel(n_jobs=36)]: Done 522 tasks      | elapsed:    6.7s\n",
      "[Parallel(n_jobs=36)]: Done 872 tasks      | elapsed:   10.5s\n",
      "[Parallel(n_jobs=36)]: Done 1322 tasks      | elapsed:   16.4s\n",
      "[Parallel(n_jobs=36)]: Done 1872 tasks      | elapsed:   23.0s\n",
      "[Parallel(n_jobs=36)]: Done 2522 tasks      | elapsed:   30.2s\n",
      "[Parallel(n_jobs=36)]: Done 3272 tasks      | elapsed:   39.1s\n",
      "[Parallel(n_jobs=36)]: Done 4122 tasks      | elapsed:   48.6s\n",
      "[Parallel(n_jobs=36)]: Done 5072 tasks      | elapsed:   58.1s\n",
      "[Parallel(n_jobs=36)]: Done 6122 tasks      | elapsed:  1.2min\n",
      "[Parallel(n_jobs=36)]: Done 7272 tasks      | elapsed:  1.4min\n",
      "[Parallel(n_jobs=36)]: Done 8522 tasks      | elapsed:  1.6min\n",
      "[Parallel(n_jobs=36)]: Done 9872 tasks      | elapsed:  1.9min\n",
      "[Parallel(n_jobs=36)]: Done 11322 tasks      | elapsed:  2.2min\n",
      "[Parallel(n_jobs=36)]: Done 12102 out of 12102 | elapsed:  2.3min finished\n"
     ]
    },
    {
     "name": "stdout",
     "output_type": "stream",
     "text": [
      "72h_Ket_9 vs ctrl\n",
      "Data Shape: (2998, 24181)\n",
      "Data Shape after compute_1d_moments: (2998, 10758)\n"
     ]
    },
    {
     "name": "stderr",
     "output_type": "stream",
     "text": [
      "[Parallel(n_jobs=36)]: Using backend LokyBackend with 36 concurrent workers.\n",
      "[Parallel(n_jobs=36)]: Done 185 tasks      | elapsed:    1.5s\n",
      "[Parallel(n_jobs=36)]: Done 684 tasks      | elapsed:    4.6s\n",
      "[Parallel(n_jobs=36)]: Done 1384 tasks      | elapsed:    8.9s\n",
      "[Parallel(n_jobs=36)]: Done 2284 tasks      | elapsed:   14.0s\n",
      "[Parallel(n_jobs=36)]: Done 3384 tasks      | elapsed:   20.0s\n",
      "[Parallel(n_jobs=36)]: Done 4684 tasks      | elapsed:   26.8s\n",
      "[Parallel(n_jobs=36)]: Done 6184 tasks      | elapsed:   35.0s\n",
      "[Parallel(n_jobs=36)]: Done 7884 tasks      | elapsed:   44.6s\n",
      "[Parallel(n_jobs=36)]: Done 9784 tasks      | elapsed:   55.9s\n",
      "[Parallel(n_jobs=36)]: Done 10687 out of 10758 | elapsed:  1.0min remaining:    0.4s\n",
      "[Parallel(n_jobs=36)]: Done 10758 out of 10758 | elapsed:  1.0min finished\n"
     ]
    },
    {
     "name": "stdout",
     "output_type": "stream",
     "text": [
      "72h_Psilo_0 vs ctrl\n",
      "Data Shape: (13024, 24181)\n",
      "Data Shape after compute_1d_moments: (13024, 12187)\n"
     ]
    },
    {
     "name": "stderr",
     "output_type": "stream",
     "text": [
      "[Parallel(n_jobs=36)]: Using backend LokyBackend with 36 concurrent workers.\n",
      "[Parallel(n_jobs=36)]: Done 177 tasks      | elapsed:   10.0s\n",
      "[Parallel(n_jobs=36)]: Done 450 tasks      | elapsed:   21.3s\n",
      "[Parallel(n_jobs=36)]: Done 800 tasks      | elapsed:   37.9s\n",
      "[Parallel(n_jobs=36)]: Done 1250 tasks      | elapsed:   59.8s\n",
      "[Parallel(n_jobs=36)]: Done 1800 tasks      | elapsed:  1.4min\n",
      "[Parallel(n_jobs=36)]: Done 2450 tasks      | elapsed:  1.9min\n",
      "[Parallel(n_jobs=36)]: Done 3200 tasks      | elapsed:  2.4min\n",
      "[Parallel(n_jobs=36)]: Done 4050 tasks      | elapsed:  3.1min\n",
      "[Parallel(n_jobs=36)]: Done 5000 tasks      | elapsed:  3.7min\n",
      "[Parallel(n_jobs=36)]: Done 6050 tasks      | elapsed:  4.4min\n",
      "[Parallel(n_jobs=36)]: Done 7200 tasks      | elapsed:  5.2min\n",
      "[Parallel(n_jobs=36)]: Done 8450 tasks      | elapsed:  6.2min\n",
      "[Parallel(n_jobs=36)]: Done 9800 tasks      | elapsed:  7.2min\n",
      "[Parallel(n_jobs=36)]: Done 11250 tasks      | elapsed:  8.3min\n",
      "[Parallel(n_jobs=36)]: Done 12187 out of 12187 | elapsed:  9.0min finished\n"
     ]
    },
    {
     "name": "stdout",
     "output_type": "stream",
     "text": [
      "72h_Psilo_1 vs ctrl\n",
      "Data Shape: (11981, 24181)\n",
      "Data Shape after compute_1d_moments: (11981, 11660)\n"
     ]
    },
    {
     "name": "stderr",
     "output_type": "stream",
     "text": [
      "[Parallel(n_jobs=36)]: Using backend LokyBackend with 36 concurrent workers.\n",
      "[Parallel(n_jobs=36)]: Done 177 tasks      | elapsed:    8.3s\n",
      "[Parallel(n_jobs=36)]: Done 450 tasks      | elapsed:   18.4s\n",
      "[Parallel(n_jobs=36)]: Done 800 tasks      | elapsed:   31.6s\n",
      "[Parallel(n_jobs=36)]: Done 1250 tasks      | elapsed:   50.5s\n",
      "[Parallel(n_jobs=36)]: Done 1800 tasks      | elapsed:  1.2min\n",
      "[Parallel(n_jobs=36)]: Done 2450 tasks      | elapsed:  1.6min\n",
      "[Parallel(n_jobs=36)]: Done 3200 tasks      | elapsed:  2.0min\n",
      "[Parallel(n_jobs=36)]: Done 4050 tasks      | elapsed:  2.5min\n",
      "[Parallel(n_jobs=36)]: Done 5000 tasks      | elapsed:  3.0min\n",
      "[Parallel(n_jobs=36)]: Done 6050 tasks      | elapsed:  3.7min\n",
      "[Parallel(n_jobs=36)]: Done 7200 tasks      | elapsed:  4.4min\n",
      "[Parallel(n_jobs=36)]: Done 8450 tasks      | elapsed:  5.2min\n",
      "[Parallel(n_jobs=36)]: Done 9800 tasks      | elapsed:  6.0min\n",
      "[Parallel(n_jobs=36)]: Done 11250 tasks      | elapsed:  6.9min\n",
      "[Parallel(n_jobs=36)]: Done 11660 out of 11660 | elapsed:  7.2min finished\n"
     ]
    },
    {
     "name": "stdout",
     "output_type": "stream",
     "text": [
      "72h_Psilo_10 vs ctrl\n",
      "Data Shape: (2819, 24181)\n",
      "Data Shape after compute_1d_moments: (2819, 12035)\n"
     ]
    },
    {
     "name": "stderr",
     "output_type": "stream",
     "text": [
      "[Parallel(n_jobs=36)]: Using backend LokyBackend with 36 concurrent workers.\n",
      "[Parallel(n_jobs=36)]: Done 184 tasks      | elapsed:    1.9s\n",
      "[Parallel(n_jobs=36)]: Done 684 tasks      | elapsed:    6.4s\n",
      "[Parallel(n_jobs=36)]: Done 1384 tasks      | elapsed:   12.5s\n",
      "[Parallel(n_jobs=36)]: Done 2284 tasks      | elapsed:   20.2s\n",
      "[Parallel(n_jobs=36)]: Done 3384 tasks      | elapsed:   29.3s\n",
      "[Parallel(n_jobs=36)]: Done 4684 tasks      | elapsed:   38.7s\n",
      "[Parallel(n_jobs=36)]: Done 6184 tasks      | elapsed:   50.6s\n",
      "[Parallel(n_jobs=36)]: Done 7884 tasks      | elapsed:  1.1min\n",
      "[Parallel(n_jobs=36)]: Done 9784 tasks      | elapsed:  1.4min\n",
      "[Parallel(n_jobs=36)]: Done 11884 tasks      | elapsed:  1.6min\n",
      "[Parallel(n_jobs=36)]: Done 11964 out of 12035 | elapsed:  1.7min remaining:    0.6s\n",
      "[Parallel(n_jobs=36)]: Done 12035 out of 12035 | elapsed:  1.7min finished\n"
     ]
    },
    {
     "name": "stdout",
     "output_type": "stream",
     "text": [
      "72h_Psilo_11 vs ctrl\n",
      "Data Shape: (2822, 24181)\n",
      "Data Shape after compute_1d_moments: (2822, 11390)\n"
     ]
    },
    {
     "name": "stderr",
     "output_type": "stream",
     "text": [
      "[Parallel(n_jobs=36)]: Using backend LokyBackend with 36 concurrent workers.\n",
      "[Parallel(n_jobs=36)]: Done 184 tasks      | elapsed:    1.8s\n",
      "[Parallel(n_jobs=36)]: Done 684 tasks      | elapsed:    5.8s\n",
      "[Parallel(n_jobs=36)]: Done 1384 tasks      | elapsed:   11.5s\n",
      "[Parallel(n_jobs=36)]: Done 2284 tasks      | elapsed:   18.2s\n",
      "[Parallel(n_jobs=36)]: Done 3384 tasks      | elapsed:   26.5s\n",
      "[Parallel(n_jobs=36)]: Done 4684 tasks      | elapsed:   35.5s\n",
      "[Parallel(n_jobs=36)]: Done 6184 tasks      | elapsed:   46.4s\n",
      "[Parallel(n_jobs=36)]: Done 7884 tasks      | elapsed:   59.3s\n",
      "[Parallel(n_jobs=36)]: Done 9784 tasks      | elapsed:  1.2min\n",
      "[Parallel(n_jobs=36)]: Done 11319 out of 11390 | elapsed:  1.4min remaining:    0.5s\n",
      "[Parallel(n_jobs=36)]: Done 11390 out of 11390 | elapsed:  1.4min finished\n"
     ]
    },
    {
     "name": "stdout",
     "output_type": "stream",
     "text": [
      "72h_Psilo_12 vs ctrl\n",
      "Data Shape: (2318, 24181)\n",
      "Data Shape after compute_1d_moments: (2318, 11458)\n"
     ]
    },
    {
     "name": "stderr",
     "output_type": "stream",
     "text": [
      "[Parallel(n_jobs=36)]: Using backend LokyBackend with 36 concurrent workers.\n",
      "[Parallel(n_jobs=36)]: Done 184 tasks      | elapsed:    1.4s\n",
      "[Parallel(n_jobs=36)]: Done 684 tasks      | elapsed:    4.5s\n",
      "[Parallel(n_jobs=36)]: Done 1384 tasks      | elapsed:    8.8s\n",
      "[Parallel(n_jobs=36)]: Done 2284 tasks      | elapsed:   13.7s\n",
      "[Parallel(n_jobs=36)]: Done 3384 tasks      | elapsed:   19.9s\n",
      "[Parallel(n_jobs=36)]: Done 4684 tasks      | elapsed:   26.7s\n",
      "[Parallel(n_jobs=36)]: Done 6184 tasks      | elapsed:   34.9s\n",
      "[Parallel(n_jobs=36)]: Done 7884 tasks      | elapsed:   44.6s\n",
      "[Parallel(n_jobs=36)]: Done 9784 tasks      | elapsed:   55.8s\n",
      "[Parallel(n_jobs=36)]: Done 11458 out of 11458 | elapsed:  1.1min finished\n"
     ]
    },
    {
     "name": "stdout",
     "output_type": "stream",
     "text": [
      "72h_Psilo_13 vs ctrl\n",
      "Data Shape: (2483, 24181)\n",
      "Data Shape after compute_1d_moments: (2483, 9096)\n"
     ]
    },
    {
     "name": "stderr",
     "output_type": "stream",
     "text": [
      "[Parallel(n_jobs=36)]: Using backend LokyBackend with 36 concurrent workers.\n",
      "[Parallel(n_jobs=36)]: Done 186 tasks      | elapsed:    0.9s\n",
      "[Parallel(n_jobs=36)]: Done 684 tasks      | elapsed:    2.9s\n",
      "[Parallel(n_jobs=36)]: Done 1384 tasks      | elapsed:    5.9s\n",
      "[Parallel(n_jobs=36)]: Done 2284 tasks      | elapsed:    9.6s\n",
      "[Parallel(n_jobs=36)]: Done 3384 tasks      | elapsed:   13.8s\n",
      "[Parallel(n_jobs=36)]: Done 4684 tasks      | elapsed:   18.6s\n",
      "[Parallel(n_jobs=36)]: Done 6184 tasks      | elapsed:   24.7s\n",
      "[Parallel(n_jobs=36)]: Done 7884 tasks      | elapsed:   32.2s\n",
      "[Parallel(n_jobs=36)]: Done 9025 out of 9096 | elapsed:   36.7s remaining:    0.3s\n",
      "[Parallel(n_jobs=36)]: Done 9096 out of 9096 | elapsed:   37.7s finished\n"
     ]
    },
    {
     "name": "stdout",
     "output_type": "stream",
     "text": [
      "72h_Psilo_14 vs ctrl\n",
      "Data Shape: (1778, 24181)\n",
      "Data Shape after compute_1d_moments: (1778, 11751)\n"
     ]
    },
    {
     "name": "stderr",
     "output_type": "stream",
     "text": [
      "[Parallel(n_jobs=36)]: Using backend LokyBackend with 36 concurrent workers.\n",
      "[Parallel(n_jobs=36)]: Done 184 tasks      | elapsed:    1.3s\n",
      "[Parallel(n_jobs=36)]: Done 684 tasks      | elapsed:    4.0s\n",
      "[Parallel(n_jobs=36)]: Done 1384 tasks      | elapsed:    7.7s\n",
      "[Parallel(n_jobs=36)]: Done 2284 tasks      | elapsed:   12.2s\n",
      "[Parallel(n_jobs=36)]: Done 3384 tasks      | elapsed:   17.8s\n",
      "[Parallel(n_jobs=36)]: Done 4684 tasks      | elapsed:   24.0s\n",
      "[Parallel(n_jobs=36)]: Done 6184 tasks      | elapsed:   31.4s\n",
      "[Parallel(n_jobs=36)]: Done 7884 tasks      | elapsed:   39.9s\n",
      "[Parallel(n_jobs=36)]: Done 9784 tasks      | elapsed:   50.0s\n",
      "[Parallel(n_jobs=36)]: Done 11680 out of 11751 | elapsed:   59.8s remaining:    0.4s\n",
      "[Parallel(n_jobs=36)]: Done 11751 out of 11751 | elapsed:  1.0min finished\n"
     ]
    },
    {
     "name": "stdout",
     "output_type": "stream",
     "text": [
      "72h_Psilo_15 vs ctrl\n",
      "Data Shape: (841, 24181)\n",
      "Data Shape after compute_1d_moments: (841, 11715)\n"
     ]
    },
    {
     "name": "stderr",
     "output_type": "stream",
     "text": [
      "[Parallel(n_jobs=36)]: Using backend LokyBackend with 36 concurrent workers.\n",
      "[Parallel(n_jobs=36)]: Done 184 tasks      | elapsed:    0.8s\n",
      "[Parallel(n_jobs=36)]: Done 684 tasks      | elapsed:    2.5s\n",
      "[Parallel(n_jobs=36)]: Done 1384 tasks      | elapsed:    4.9s\n",
      "[Parallel(n_jobs=36)]: Done 2284 tasks      | elapsed:    7.8s\n",
      "[Parallel(n_jobs=36)]: Done 3384 tasks      | elapsed:   11.3s\n",
      "[Parallel(n_jobs=36)]: Done 4684 tasks      | elapsed:   15.1s\n",
      "[Parallel(n_jobs=36)]: Done 6184 tasks      | elapsed:   19.8s\n",
      "[Parallel(n_jobs=36)]: Done 7884 tasks      | elapsed:   25.5s\n",
      "[Parallel(n_jobs=36)]: Done 9784 tasks      | elapsed:   31.5s\n",
      "[Parallel(n_jobs=36)]: Done 11644 out of 11715 | elapsed:   37.3s remaining:    0.2s\n",
      "[Parallel(n_jobs=36)]: Done 11715 out of 11715 | elapsed:   37.7s finished\n"
     ]
    },
    {
     "name": "stdout",
     "output_type": "stream",
     "text": [
      "72h_Psilo_16 vs ctrl\n",
      "Data Shape: (794, 24181)\n",
      "Data Shape after compute_1d_moments: (794, 12488)\n"
     ]
    },
    {
     "name": "stderr",
     "output_type": "stream",
     "text": [
      "[Parallel(n_jobs=36)]: Using backend LokyBackend with 36 concurrent workers.\n",
      "[Parallel(n_jobs=36)]: Done 185 tasks      | elapsed:    0.8s\n",
      "[Parallel(n_jobs=36)]: Done 684 tasks      | elapsed:    2.8s\n",
      "[Parallel(n_jobs=36)]: Done 1384 tasks      | elapsed:    5.5s\n",
      "[Parallel(n_jobs=36)]: Done 2284 tasks      | elapsed:    8.6s\n",
      "[Parallel(n_jobs=36)]: Done 3384 tasks      | elapsed:   12.6s\n",
      "[Parallel(n_jobs=36)]: Done 4684 tasks      | elapsed:   17.2s\n",
      "[Parallel(n_jobs=36)]: Done 6184 tasks      | elapsed:   22.2s\n",
      "[Parallel(n_jobs=36)]: Done 7884 tasks      | elapsed:   28.5s\n",
      "[Parallel(n_jobs=36)]: Done 9784 tasks      | elapsed:   35.4s\n",
      "[Parallel(n_jobs=36)]: Done 11884 tasks      | elapsed:   43.0s\n",
      "[Parallel(n_jobs=36)]: Done 12417 out of 12488 | elapsed:   44.9s remaining:    0.3s\n",
      "[Parallel(n_jobs=36)]: Done 12488 out of 12488 | elapsed:   45.5s finished\n"
     ]
    },
    {
     "name": "stdout",
     "output_type": "stream",
     "text": [
      "72h_Psilo_17 vs ctrl\n",
      "Data Shape: (762, 24181)\n",
      "Data Shape after compute_1d_moments: (762, 10282)\n"
     ]
    },
    {
     "name": "stderr",
     "output_type": "stream",
     "text": [
      "[Parallel(n_jobs=36)]: Using backend LokyBackend with 36 concurrent workers.\n",
      "[Parallel(n_jobs=36)]: Done 184 tasks      | elapsed:    0.5s\n",
      "[Parallel(n_jobs=36)]: Done 684 tasks      | elapsed:    1.8s\n",
      "[Parallel(n_jobs=36)]: Done 1384 tasks      | elapsed:    3.5s\n",
      "[Parallel(n_jobs=36)]: Done 2284 tasks      | elapsed:    5.7s\n",
      "[Parallel(n_jobs=36)]: Done 3384 tasks      | elapsed:    8.2s\n",
      "[Parallel(n_jobs=36)]: Done 4684 tasks      | elapsed:   11.1s\n",
      "[Parallel(n_jobs=36)]: Done 6184 tasks      | elapsed:   14.5s\n",
      "[Parallel(n_jobs=36)]: Done 7884 tasks      | elapsed:   18.7s\n",
      "[Parallel(n_jobs=36)]: Done 9784 tasks      | elapsed:   23.1s\n",
      "[Parallel(n_jobs=36)]: Done 10211 out of 10282 | elapsed:   24.1s remaining:    0.2s\n",
      "[Parallel(n_jobs=36)]: Done 10282 out of 10282 | elapsed:   24.4s finished\n"
     ]
    },
    {
     "name": "stdout",
     "output_type": "stream",
     "text": [
      "72h_Psilo_18 vs ctrl\n",
      "Data Shape: (308, 24181)\n",
      "Data Shape after compute_1d_moments: (308, 9463)\n"
     ]
    },
    {
     "name": "stderr",
     "output_type": "stream",
     "text": [
      "[Parallel(n_jobs=36)]: Using backend LokyBackend with 36 concurrent workers.\n",
      "[Parallel(n_jobs=36)]: Done 184 tasks      | elapsed:    0.3s\n",
      "[Parallel(n_jobs=36)]: Done 1152 tasks      | elapsed:    1.6s\n",
      "[Parallel(n_jobs=36)]: Done 2552 tasks      | elapsed:    3.4s\n",
      "[Parallel(n_jobs=36)]: Done 4352 tasks      | elapsed:    5.7s\n",
      "[Parallel(n_jobs=36)]: Done 6552 tasks      | elapsed:    8.7s\n",
      "[Parallel(n_jobs=36)]: Done 9152 tasks      | elapsed:   12.1s\n",
      "[Parallel(n_jobs=36)]: Done 9392 out of 9463 | elapsed:   12.4s remaining:    0.1s\n",
      "[Parallel(n_jobs=36)]: Done 9463 out of 9463 | elapsed:   12.5s finished\n"
     ]
    },
    {
     "name": "stdout",
     "output_type": "stream",
     "text": [
      "72h_Psilo_19 vs ctrl\n",
      "Data Shape: (386, 24181)\n",
      "Data Shape after compute_1d_moments: (386, 9727)\n"
     ]
    },
    {
     "name": "stderr",
     "output_type": "stream",
     "text": [
      "[Parallel(n_jobs=36)]: Using backend LokyBackend with 36 concurrent workers.\n",
      "[Parallel(n_jobs=36)]: Done 184 tasks      | elapsed:    0.4s\n",
      "[Parallel(n_jobs=36)]: Done 1152 tasks      | elapsed:    2.1s\n",
      "[Parallel(n_jobs=36)]: Done 2552 tasks      | elapsed:    4.4s\n",
      "[Parallel(n_jobs=36)]: Done 4352 tasks      | elapsed:    7.4s\n",
      "[Parallel(n_jobs=36)]: Done 6552 tasks      | elapsed:   10.9s\n",
      "[Parallel(n_jobs=36)]: Done 9152 tasks      | elapsed:   15.2s\n",
      "[Parallel(n_jobs=36)]: Done 9727 out of 9727 | elapsed:   16.3s finished\n"
     ]
    },
    {
     "name": "stdout",
     "output_type": "stream",
     "text": [
      "72h_Psilo_2 vs ctrl\n",
      "Data Shape: (11011, 24181)\n",
      "Data Shape after compute_1d_moments: (11011, 12030)\n"
     ]
    },
    {
     "name": "stderr",
     "output_type": "stream",
     "text": [
      "[Parallel(n_jobs=36)]: Using backend LokyBackend with 36 concurrent workers.\n",
      "[Parallel(n_jobs=36)]: Done 178 tasks      | elapsed:    7.9s\n",
      "[Parallel(n_jobs=36)]: Done 450 tasks      | elapsed:   16.9s\n",
      "[Parallel(n_jobs=36)]: Done 800 tasks      | elapsed:   29.9s\n",
      "[Parallel(n_jobs=36)]: Done 1250 tasks      | elapsed:   47.6s\n",
      "[Parallel(n_jobs=36)]: Done 1800 tasks      | elapsed:  1.1min\n",
      "[Parallel(n_jobs=36)]: Done 2450 tasks      | elapsed:  1.5min\n",
      "[Parallel(n_jobs=36)]: Done 3200 tasks      | elapsed:  1.9min\n",
      "[Parallel(n_jobs=36)]: Done 4050 tasks      | elapsed:  2.4min\n",
      "[Parallel(n_jobs=36)]: Done 5000 tasks      | elapsed:  2.9min\n",
      "[Parallel(n_jobs=36)]: Done 6050 tasks      | elapsed:  3.4min\n",
      "[Parallel(n_jobs=36)]: Done 7200 tasks      | elapsed:  4.1min\n",
      "[Parallel(n_jobs=36)]: Done 8450 tasks      | elapsed:  4.9min\n",
      "[Parallel(n_jobs=36)]: Done 9800 tasks      | elapsed:  5.7min\n",
      "[Parallel(n_jobs=36)]: Done 11250 tasks      | elapsed:  6.5min\n",
      "[Parallel(n_jobs=36)]: Done 12030 out of 12030 | elapsed:  7.0min finished\n"
     ]
    },
    {
     "name": "stdout",
     "output_type": "stream",
     "text": [
      "72h_Psilo_20 vs ctrl\n",
      "Data Shape: (131, 24181)\n",
      "Data Shape after compute_1d_moments: (131, 10886)\n"
     ]
    },
    {
     "name": "stderr",
     "output_type": "stream",
     "text": [
      "[Parallel(n_jobs=36)]: Using backend LokyBackend with 36 concurrent workers.\n",
      "[Parallel(n_jobs=36)]: Done 185 tasks      | elapsed:    0.3s\n",
      "[Parallel(n_jobs=36)]: Done 1152 tasks      | elapsed:    1.3s\n",
      "[Parallel(n_jobs=36)]: Done 2552 tasks      | elapsed:    2.8s\n",
      "[Parallel(n_jobs=36)]: Done 4352 tasks      | elapsed:    4.6s\n",
      "[Parallel(n_jobs=36)]: Done 6552 tasks      | elapsed:    7.0s\n",
      "[Parallel(n_jobs=36)]: Done 9152 tasks      | elapsed:    9.6s\n",
      "[Parallel(n_jobs=36)]: Done 10886 out of 10886 | elapsed:   11.4s finished\n"
     ]
    },
    {
     "name": "stdout",
     "output_type": "stream",
     "text": [
      "72h_Psilo_21 vs ctrl\n",
      "Skipping 72h_Psilo_21, < 100 cells\n",
      "72h_Psilo_3 vs ctrl\n",
      "Data Shape: (7116, 24181)\n",
      "Data Shape after compute_1d_moments: (7116, 12327)\n"
     ]
    },
    {
     "name": "stderr",
     "output_type": "stream",
     "text": [
      "[Parallel(n_jobs=36)]: Using backend LokyBackend with 36 concurrent workers.\n",
      "[Parallel(n_jobs=36)]: Done 184 tasks      | elapsed:    6.1s\n",
      "[Parallel(n_jobs=36)]: Done 486 tasks      | elapsed:   13.9s\n",
      "[Parallel(n_jobs=36)]: Done 836 tasks      | elapsed:   23.0s\n",
      "[Parallel(n_jobs=36)]: Done 1286 tasks      | elapsed:   36.1s\n",
      "[Parallel(n_jobs=36)]: Done 1836 tasks      | elapsed:   50.4s\n",
      "[Parallel(n_jobs=36)]: Done 2486 tasks      | elapsed:  1.1min\n",
      "[Parallel(n_jobs=36)]: Done 3236 tasks      | elapsed:  1.4min\n",
      "[Parallel(n_jobs=36)]: Done 4086 tasks      | elapsed:  1.8min\n",
      "[Parallel(n_jobs=36)]: Done 5036 tasks      | elapsed:  2.2min\n",
      "[Parallel(n_jobs=36)]: Done 6086 tasks      | elapsed:  2.6min\n",
      "[Parallel(n_jobs=36)]: Done 7236 tasks      | elapsed:  3.1min\n",
      "[Parallel(n_jobs=36)]: Done 8486 tasks      | elapsed:  3.6min\n",
      "[Parallel(n_jobs=36)]: Done 9836 tasks      | elapsed:  4.2min\n",
      "[Parallel(n_jobs=36)]: Done 11286 tasks      | elapsed:  4.9min\n",
      "[Parallel(n_jobs=36)]: Done 12327 out of 12327 | elapsed:  5.3min finished\n"
     ]
    },
    {
     "name": "stdout",
     "output_type": "stream",
     "text": [
      "72h_Psilo_4 vs ctrl\n"
     ]
    }
   ],
   "source": [
    "drugs = [\"Ket\", \"Psilo\"]\n",
    "times = adata.uns[\"stage_order\"][1:] # Skip 0 hours (ctrl)\n",
    "clusters = np.sort(adata.obs[\"leiden\"].unique())\n",
    "\n",
    "for time, drug, cluster in itertools.product(times, drugs, clusters):\n",
    "    group = f\"{time}h_{drug}_{cluster}\"\n",
    "    print(f\"{group} vs ctrl\")\n",
    "    \n",
    "    if group in results:\n",
    "        print(f\"Skipping {group}, already in results\")\n",
    "        continue\n",
    "    \n",
    "    data = adata[(adata.obs[\"leiden\"] == cluster) &\n",
    "            (np.isin(adata.obs[\"drug\"], [drug, \"none\"])) &\n",
    "            (np.isin(adata.obs[\"time_str\"], [time, \"0\"]))].copy()\n",
    "    data.obs[\"stim\"] = data.obs[\"drug\"].replace({drug: 1, \"none\": 0})\n",
    "    \n",
    "    if data.shape[0] < 100:\n",
    "        results[group] = pd.DataFrame()\n",
    "        print(f\"Skipping {group}, < 100 cells\")\n",
    "        continue\n",
    "\n",
    "    cols = [\"stim\"]\n",
    "    print(\"Data Shape:\", data.shape)\n",
    "    memento.setup_memento(data, q_column='capture_rate')\n",
    "    memento.create_groups(data, label_columns=cols)\n",
    "    \n",
    "    if (data.obs.groupby(cols).size() < 10).any():\n",
    "        results[group] = pd.DataFrame()\n",
    "        print(f\"Skipping {group}, < 10 cells in some groups\")\n",
    "        continue\n",
    "    \n",
    "    memento.compute_1d_moments(data)\n",
    "    print(\"Data Shape after compute_1d_moments:\", data.shape)\n",
    "    \n",
    "    sample_meta = memento.get_groups(data)\n",
    "    treatment_df = sample_meta[['stim']]\n",
    "    \n",
    "    memento.ht_1d_moments(data, \n",
    "                          treatment=treatment_df,\n",
    "                          num_boot=5000, \n",
    "                          verbose=1,\n",
    "                          num_cpus=36)\n",
    "    \n",
    "    result_1d = memento.get_1d_ht_result(data)\n",
    "    \n",
    "    # Correct p-vals\n",
    "    _, result_1d[\"de_pval_adj\"], _, _ = multipletests(\n",
    "    result_1d[\"de_pval\"], alpha=0.05, method='fdr_bh'\n",
    "    )\n",
    "\n",
    "    _, result_1d[\"dv_pval_adj\"], _, _ = multipletests(\n",
    "        result_1d[\"dv_pval\"], alpha=0.05, method='fdr_bh'\n",
    "    )\n",
    "    \n",
    "    results[group] = result_1d.sort_values(by=[\"de_pval_adj\", \"dv_pval_adj\"])\n"
   ]
  },
  {
   "cell_type": "code",
   "execution_count": null,
   "id": "15a7ef94",
   "metadata": {},
   "outputs": [],
   "source": [
    "# Write results to Excel\n",
    "for time, drug in itertools.product(times, drugs):\n",
    "    with pd.ExcelWriter(f\"{settings.fig_path}/memento_initial_DE_no_cov_{drug}_{time}h.xlsx\", engine=\"xlsxwriter\") as writer:\n",
    "        for cluster in clusters:\n",
    "            results[f\"{time}h_{drug}_{cluster}\"].to_excel(writer, sheet_name = f\"Cluster {cluster}\")"
   ]
  },
  {
   "cell_type": "code",
   "execution_count": null,
   "id": "8bccc1ab",
   "metadata": {},
   "outputs": [],
   "source": []
  }
 ],
 "metadata": {
  "kernelspec": {
   "display_name": "Python 3 (ipykernel)",
   "language": "python",
   "name": "python3"
  },
  "language_info": {
   "codemirror_mode": {
    "name": "ipython",
    "version": 3
   },
   "file_extension": ".py",
   "mimetype": "text/x-python",
   "name": "python",
   "nbconvert_exporter": "python",
   "pygments_lexer": "ipython3",
   "version": "3.9.7"
  }
 },
 "nbformat": 4,
 "nbformat_minor": 5
}
